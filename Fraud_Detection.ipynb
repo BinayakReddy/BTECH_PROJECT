{
  "nbformat": 4,
  "nbformat_minor": 0,
  "metadata": {
    "kernelspec": {
      "display_name": "Python 3",
      "language": "python",
      "name": "python3"
    },
    "language_info": {
      "codemirror_mode": {
        "name": "ipython",
        "version": 3
      },
      "file_extension": ".py",
      "mimetype": "text/x-python",
      "name": "python",
      "nbconvert_exporter": "python",
      "pygments_lexer": "ipython3",
      "version": "3.7.4"
    },
    "toc-autonumbering": true,
    "colab": {
      "name": " Fraud Detection",
      "provenance": [],
      "collapsed_sections": [
        "dqGWhnrKDGNi",
        "EfHFWk7lDGN1",
        "7PABs_8EDGN1",
        "ZKHeX84uDGN1",
        "eO3Fa6pZDGN2",
        "10720hEeDGN2",
        "WM1yZDL0DGN2",
        "0-PGYjtuDGN2",
        "oCgqNaXpDGN3",
        "jcGUqGauDGN3",
        "RZbc0ha2DGN5",
        "-cF1kY3TDGN6",
        "XPAEgYTWDGN7",
        "Msv41FQpDGN7",
        "V_4BPUl4DGN7",
        "j4jOWX-ODGN8",
        "seLm0VmzDGN9",
        "LcSIs79fDGN-",
        "bi6Tk_WFDGN_",
        "gWAkSmRfDGOA",
        "5AETl2ZDDGOA",
        "K0_29rriDGOA",
        "2OUoBuKNDGOA",
        "68lduVJgDGOB",
        "7cCtHyB2DGOB",
        "AHHAGw8-DGOB",
        "OQv3SKtqDGOD",
        "z1u3xY7_DGOE",
        "95a7ZmfNDGOE",
        "2DX-grMoDGOG",
        "e8WL3F2UDGOG",
        "eb4PXucYDGOG",
        "ibNB4AOpDGOG",
        "MV4f3w1iDGOG",
        "gO90Hr4VDGOH",
        "8Dp6EiGBDGOH",
        "ejPoURyyDGOH",
        "LUDaLpsfDGOH",
        "_HMkgD-EDGOI",
        "wDrYwYX6DGOJ",
        "kFr0unpBDGOK",
        "6xeoxzkJDGOK",
        "KZG07BwHDGOK",
        "B6dTqNbcDGOK",
        "cn7yz4qqDGOL",
        "bXII8pQYDGOL",
        "COeioewyDGOM",
        "68qDJmquDGOM",
        "vdyOLVkhDGON",
        "0T47K9NRDGON",
        "rPoqVHRFDGON",
        "PdEAro9YDGON",
        "UUSZRJ9mDGON",
        "8putOcIlDGOO",
        "3sSZ0DtzDGOO",
        "a-ycEu45DGOP",
        "HdUUQsytDGOP",
        "XvK-9Q_EDGOP",
        "NGT8ZwuODGOQ",
        "tbo7UjxpDGOR",
        "CqX9MdlNDGOT",
        "Blm7hdXkDGOU",
        "7YcPfsVFDGOU",
        "beq2srMvDGOU",
        "Pxncxv1gDGOU",
        "uLYZV895DGOU",
        "Stben5vGDGOV",
        "S15aWTnCDGOW",
        "Q1eEEc7yDGOW",
        "QsWVpO92DGOW",
        "tiW9lJZzDGOX",
        "m-SWnrh_DGOX",
        "JzSsmDfmDGOX",
        "6f4lZAawDGOY",
        "5Zrnd3xqDGOY",
        "ePHoW_KmDGOY",
        "wHzHY6FKDGOY",
        "brh8HG8oDGOa",
        "cFs91zrRDGOb",
        "nZ85mTZpDGOc",
        "mGSHt0O7DGOc",
        "JZLlFiWQDGOc",
        "xuHoC8EKDGOc",
        "LEcFhO-oDGOd",
        "p9DJ5E-rDGOe",
        "vXw1jIF7DGOe",
        "IE7BqqOQDGOe",
        "PNEBulaSDGOe",
        "32dxkgyYDGOe",
        "3PfKzDGgDGOf",
        "hnwUJ1stDGOf",
        "eosD0hq9DGOg",
        "0YmNgD3iDGOg",
        "GnFyXabnDGOg",
        "Qzk2AxaUDGOg",
        "sZsBNVjXDGOg",
        "cgJ55LKlDGOh",
        "PMDb-A--DGOh",
        "PdiPo51ADGOh",
        "OeX6i7YIDGOh",
        "zeAU9D8hDGOi",
        "Nmm8mmQODGOi",
        "79s6_pRyDGOj",
        "HMpUIdn0DGOj",
        "HcPRWNl9DGOm",
        "SapzG9TFDGOm",
        "UCnRMJAmDGOm",
        "fjP9u0tWDGOm",
        "FSf5N_sNDGOn",
        "_qEWeoGaDGOn"
      ],
      "toc_visible": true,
      "include_colab_link": true
    }
  },
  "cells": [
    {
      "cell_type": "markdown",
      "metadata": {
        "id": "view-in-github",
        "colab_type": "text"
      },
      "source": [
        "<a href=\"https://colab.research.google.com/github/BinayakReddy/btech_proj/blob/main/Fraud_Detection.ipynb\" target=\"_parent\"><img src=\"https://colab.research.google.com/assets/colab-badge.svg\" alt=\"Open In Colab\"/></a>"
      ]
    },
    {
      "cell_type": "markdown",
      "metadata": {
        "id": "dqGWhnrKDGNi"
      },
      "source": [
        "## **Fraud Detection**\n",
        "\n",
        "A typical organization loses an estimated 5% of its yearly revenue to fraud. In this course, learn to fight fraud by using data. Apply supervised learning algorithms to detect fraudulent behavior based upon past fraud, and use unsupervised learning methods to discover new types of fraud activities. \n",
        "\n",
        "Fraudulent transactions are rare compared to the norm.  As such, learn to properly classify imbalanced datasets.\n",
        "\n",
        "The Project provides technical and theoretical insights and demonstrates how to implement fraud detection models. Finally, get tips and advice from real-life experience to help prevent common mistakes in fraud analytics."
      ]
    },
    {
      "cell_type": "markdown",
      "metadata": {
        "id": "8rjk552YDGNp"
      },
      "source": [
        "**Imports**"
      ]
    },
    {
      "cell_type": "code",
      "metadata": {
        "id": "lxgRn8GrDGNp"
      },
      "source": [
        "import warnings\n",
        "warnings.filterwarnings('ignore')\n",
        "warnings.simplefilter('ignore')"
      ],
      "execution_count": null,
      "outputs": []
    },
    {
      "cell_type": "code",
      "metadata": {
        "id": "zzZxE9t5DGNq",
        "colab": {
          "base_uri": "https://localhost:8080/"
        },
        "outputId": "3d1b5e4a-60ea-4375-a7f3-1233cf97bc4a"
      },
      "source": [
        "import pandas as pd\n",
        "import matplotlib.pyplot as plt\n",
        "from matplotlib.patches import Rectangle\n",
        "import numpy as np\n",
        "from pprint import pprint as pp\n",
        "import csv\n",
        "from pathlib import Path\n",
        "from imblearn.over_sampling import SMOTE\n",
        "from imblearn.pipeline import Pipeline \n",
        "from sklearn.linear_model import LinearRegression, LogisticRegression\n",
        "from sklearn.model_selection import train_test_split, GridSearchCV\n",
        "from sklearn.tree import DecisionTreeClassifier\n",
        "from sklearn.metrics import r2_score, classification_report, confusion_matrix, accuracy_score, roc_auc_score, roc_curve, precision_recall_curve, average_precision_score\n",
        "from sklearn.metrics import homogeneity_score, silhouette_score\n",
        "from sklearn.ensemble import RandomForestClassifier, VotingClassifier\n",
        "from sklearn.preprocessing import MinMaxScaler\n",
        "from sklearn.cluster import MiniBatchKMeans, DBSCAN\n",
        "import seaborn as sns\n",
        "from itertools import product\n",
        "import nltk\n",
        "from nltk.corpus import stopwords\n",
        "from nltk.stem.wordnet import WordNetLemmatizer\n",
        "import string\n",
        "import gensim\n",
        "from gensim import corpora\n",
        "\n",
        "!pip install pyldavis\n",
        "import pyLDAvis.gensim"
      ],
      "execution_count": null,
      "outputs": [
        {
          "output_type": "stream",
          "text": [
            "Collecting pyldavis\n",
            "\u001b[?25l  Downloading https://files.pythonhosted.org/packages/a5/3a/af82e070a8a96e13217c8f362f9a73e82d61ac8fff3a2561946a97f96266/pyLDAvis-2.1.2.tar.gz (1.6MB)\n",
            "\u001b[K     |████████████████████████████████| 1.6MB 5.4MB/s \n",
            "\u001b[?25hRequirement already satisfied: wheel>=0.23.0 in /usr/local/lib/python3.6/dist-packages (from pyldavis) (0.36.2)\n",
            "Requirement already satisfied: numpy>=1.9.2 in /usr/local/lib/python3.6/dist-packages (from pyldavis) (1.19.5)\n",
            "Requirement already satisfied: scipy>=0.18.0 in /usr/local/lib/python3.6/dist-packages (from pyldavis) (1.4.1)\n",
            "Requirement already satisfied: pandas>=0.17.0 in /usr/local/lib/python3.6/dist-packages (from pyldavis) (1.1.5)\n",
            "Requirement already satisfied: joblib>=0.8.4 in /usr/local/lib/python3.6/dist-packages (from pyldavis) (1.0.0)\n",
            "Requirement already satisfied: jinja2>=2.7.2 in /usr/local/lib/python3.6/dist-packages (from pyldavis) (2.11.2)\n",
            "Requirement already satisfied: numexpr in /usr/local/lib/python3.6/dist-packages (from pyldavis) (2.7.2)\n",
            "Requirement already satisfied: pytest in /usr/local/lib/python3.6/dist-packages (from pyldavis) (3.6.4)\n",
            "Requirement already satisfied: future in /usr/local/lib/python3.6/dist-packages (from pyldavis) (0.16.0)\n",
            "Collecting funcy\n",
            "  Downloading https://files.pythonhosted.org/packages/66/89/479de0afbbfb98d1c4b887936808764627300208bb771fcd823403645a36/funcy-1.15-py2.py3-none-any.whl\n",
            "Requirement already satisfied: python-dateutil>=2.7.3 in /usr/local/lib/python3.6/dist-packages (from pandas>=0.17.0->pyldavis) (2.8.1)\n",
            "Requirement already satisfied: pytz>=2017.2 in /usr/local/lib/python3.6/dist-packages (from pandas>=0.17.0->pyldavis) (2018.9)\n",
            "Requirement already satisfied: MarkupSafe>=0.23 in /usr/local/lib/python3.6/dist-packages (from jinja2>=2.7.2->pyldavis) (1.1.1)\n",
            "Requirement already satisfied: six>=1.10.0 in /usr/local/lib/python3.6/dist-packages (from pytest->pyldavis) (1.15.0)\n",
            "Requirement already satisfied: atomicwrites>=1.0 in /usr/local/lib/python3.6/dist-packages (from pytest->pyldavis) (1.4.0)\n",
            "Requirement already satisfied: pluggy<0.8,>=0.5 in /usr/local/lib/python3.6/dist-packages (from pytest->pyldavis) (0.7.1)\n",
            "Requirement already satisfied: attrs>=17.4.0 in /usr/local/lib/python3.6/dist-packages (from pytest->pyldavis) (20.3.0)\n",
            "Requirement already satisfied: more-itertools>=4.0.0 in /usr/local/lib/python3.6/dist-packages (from pytest->pyldavis) (8.6.0)\n",
            "Requirement already satisfied: py>=1.5.0 in /usr/local/lib/python3.6/dist-packages (from pytest->pyldavis) (1.10.0)\n",
            "Requirement already satisfied: setuptools in /usr/local/lib/python3.6/dist-packages (from pytest->pyldavis) (51.1.1)\n",
            "Building wheels for collected packages: pyldavis\n",
            "  Building wheel for pyldavis (setup.py) ... \u001b[?25l\u001b[?25hdone\n",
            "  Created wheel for pyldavis: filename=pyLDAvis-2.1.2-py2.py3-none-any.whl size=97712 sha256=a7b038971d4802b494a338913f726055ee8de2c200ce8b5bc36f7a6a963cc6ec\n",
            "  Stored in directory: /root/.cache/pip/wheels/98/71/24/513a99e58bb6b8465bae4d2d5e9dba8f0bef8179e3051ac414\n",
            "Successfully built pyldavis\n",
            "Installing collected packages: funcy, pyldavis\n",
            "Successfully installed funcy-1.15 pyldavis-2.1.2\n"
          ],
          "name": "stdout"
        }
      ]
    },
    {
      "cell_type": "markdown",
      "metadata": {
        "id": "-9yCQdheDGNr"
      },
      "source": [
        "**Pandas Configuration Options**"
      ]
    },
    {
      "cell_type": "code",
      "metadata": {
        "id": "_XdtbS6PDGNr"
      },
      "source": [
        "pd.set_option('max_columns', 200)\n",
        "pd.set_option('max_rows', 300)\n",
        "pd.set_option('display.expand_frame_repr', True)"
      ],
      "execution_count": null,
      "outputs": []
    },
    {
      "cell_type": "markdown",
      "metadata": {
        "id": "-RA98arXDGNs"
      },
      "source": [
        "**Data File Objects**"
      ]
    },
    {
      "cell_type": "code",
      "metadata": {
        "colab": {
          "base_uri": "https://localhost:8080/"
        },
        "id": "twHTGV6WHds_",
        "outputId": "56c5c4c0-ab09-4aa6-ade6-1a86439e495a"
      },
      "source": [
        "!wget https://assets.datacamp.com/production/repositories/2162/datasets/cc3a36b722c0806e4a7df2634e345975a0724958/chapter_1.zip\n",
        "!wget https://assets.datacamp.com/production/repositories/2162/datasets/4fb6199be9b89626dcd6b36c235cbf60cf4c1631/chapter_2.zip\n",
        "!wget https://assets.datacamp.com/production/repositories/2162/datasets/08cfcd4158b3a758e72e9bd077a9e44fec9f773b/chapter_3.zip\n",
        "!wget https://assets.datacamp.com/production/repositories/2162/datasets/94f2356652dc9ea8f0654b5e9c29645115b6e77f/chapter_4.zip\n",
        "\n",
        "!unzip chapter_1.zip\n",
        "!unzip chapter_2.zip\n",
        "!unzip chapter_3.zip\n",
        "!unzip chapter_4.zip"
      ],
      "execution_count": null,
      "outputs": [
        {
          "output_type": "stream",
          "text": [
            "--2021-01-12 10:01:42--  https://assets.datacamp.com/production/repositories/2162/datasets/cc3a36b722c0806e4a7df2634e345975a0724958/chapter_1.zip\n",
            "Resolving assets.datacamp.com (assets.datacamp.com)... 104.18.17.147, 104.18.16.147\n",
            "Connecting to assets.datacamp.com (assets.datacamp.com)|104.18.17.147|:443... connected.\n",
            "HTTP request sent, awaiting response... 200 OK\n",
            "Length: 3301209 (3.1M) [application/zip]\n",
            "Saving to: ‘chapter_1.zip’\n",
            "\n",
            "chapter_1.zip       100%[===================>]   3.15M  2.17MB/s    in 1.5s    \n",
            "\n",
            "2021-01-12 10:01:44 (2.17 MB/s) - ‘chapter_1.zip’ saved [3301209/3301209]\n",
            "\n",
            "--2021-01-12 10:01:44--  https://assets.datacamp.com/production/repositories/2162/datasets/4fb6199be9b89626dcd6b36c235cbf60cf4c1631/chapter_2.zip\n",
            "Resolving assets.datacamp.com (assets.datacamp.com)... 104.18.17.147, 104.18.16.147\n",
            "Connecting to assets.datacamp.com (assets.datacamp.com)|104.18.17.147|:443... connected.\n",
            "HTTP request sent, awaiting response... 200 OK\n",
            "Length: 1839230 (1.8M) [application/zip]\n",
            "Saving to: ‘chapter_2.zip’\n",
            "\n",
            "chapter_2.zip       100%[===================>]   1.75M  1.52MB/s    in 1.2s    \n",
            "\n",
            "2021-01-12 10:01:46 (1.52 MB/s) - ‘chapter_2.zip’ saved [1839230/1839230]\n",
            "\n",
            "--2021-01-12 10:01:46--  https://assets.datacamp.com/production/repositories/2162/datasets/08cfcd4158b3a758e72e9bd077a9e44fec9f773b/chapter_3.zip\n",
            "Resolving assets.datacamp.com (assets.datacamp.com)... 104.18.17.147, 104.18.16.147\n",
            "Connecting to assets.datacamp.com (assets.datacamp.com)|104.18.17.147|:443... connected.\n",
            "HTTP request sent, awaiting response... 200 OK\n",
            "Length: 300387 (293K) [application/zip]\n",
            "Saving to: ‘chapter_3.zip’\n",
            "\n",
            "chapter_3.zip       100%[===================>] 293.35K   372KB/s    in 0.8s    \n",
            "\n",
            "2021-01-12 10:01:48 (372 KB/s) - ‘chapter_3.zip’ saved [300387/300387]\n",
            "\n",
            "--2021-01-12 10:01:48--  https://assets.datacamp.com/production/repositories/2162/datasets/94f2356652dc9ea8f0654b5e9c29645115b6e77f/chapter_4.zip\n",
            "Resolving assets.datacamp.com (assets.datacamp.com)... 104.18.16.147, 104.18.17.147\n",
            "Connecting to assets.datacamp.com (assets.datacamp.com)|104.18.16.147|:443... connected.\n",
            "HTTP request sent, awaiting response... 200 OK\n",
            "Length: 2825830 (2.7M) [application/zip]\n",
            "Saving to: ‘chapter_4.zip’\n",
            "\n",
            "chapter_4.zip       100%[===================>]   2.69M  1.90MB/s    in 1.4s    \n",
            "\n",
            "2021-01-12 10:01:50 (1.90 MB/s) - ‘chapter_4.zip’ saved [2825830/2825830]\n",
            "\n",
            "Archive:  chapter_1.zip\n",
            "   creating: chapter_1/\n",
            "  inflating: chapter_1/creditcard_sampledata_3.csv  \n",
            "  inflating: chapter_1/creditcard_sampledata.csv  \n",
            "Archive:  chapter_2.zip\n",
            "   creating: chapter_2/\n",
            "  inflating: chapter_2/creditcard_sampledata_2.csv  \n",
            "Archive:  chapter_3.zip\n",
            "   creating: chapter_3/\n",
            "  inflating: chapter_3/x_scawed_full.pickle  \n",
            "  inflating: chapter_3/db_full.pickle  \n",
            "  inflating: chapter_3/banksim.csv   \n",
            "  inflating: chapter_3/x_scaled.pickle  \n",
            "  inflating: chapter_3/banksim_adj.csv  \n",
            "  inflating: chapter_3/labels_full.pickle  \n",
            "  inflating: chapter_3/labels.pickle  \n",
            "Archive:  chapter_4.zip\n",
            "   creating: chapter_4/\n",
            " extracting: chapter_4/cleantext.pickle  \n",
            " extracting: chapter_4/ldamodel.pickle  \n",
            "  inflating: chapter_4/dict.pickle   \n",
            "  inflating: chapter_4/corpus.pickle  \n",
            "  inflating: chapter_4/enron_emails_clean.csv  \n"
          ],
          "name": "stdout"
        }
      ]
    },
    {
      "cell_type": "code",
      "metadata": {
        "id": "ASkWm_Z6DGNs"
      },
      "source": [
        "#data = Path.cwd() / 'data' / 'fraud_detection'\n",
        "data = Path.cwd()\n",
        "\n",
        "ch1 = data / 'chapter_1'\n",
        "cc1_file = ch1 / 'creditcard_sampledata.csv'\n",
        "cc3_file = ch1 / 'creditcard_sampledata_3.csv'\n",
        "\n",
        "ch2 = data / 'chapter_2'\n",
        "cc2_file = ch2 / 'creditcard_sampledata_2.csv'\n",
        "\n",
        "ch3 = data / 'chapter_3'\n",
        "banksim_file = ch3 / 'banksim.csv'\n",
        "banksim_adj_file = ch3 / 'banksim_adj.csv'\n",
        "db_full_file = ch3 / 'db_full.pickle'\n",
        "labels_file = ch3 / 'labels.pickle'\n",
        "labels_full_file = ch3 / 'labels_full.pickle'\n",
        "x_scaled_file = ch3 / 'x_scaled.pickle'\n",
        "x_scaled_full_file = ch3 / 'x_scaled_full.pickle'\n",
        "\n",
        "ch4 = data / 'chapter_4'\n",
        "enron_emails_clean_file = ch4 / 'enron_emails_clean.csv'\n",
        "cleantext_file = ch4 / 'cleantext.pickle'\n",
        "corpus_file = ch4 / 'corpus.pickle'\n",
        "dict_file = ch4 / 'dict.pickle'\n",
        "ldamodel_file = ch4 / 'ldamodel.pickle'"
      ],
      "execution_count": null,
      "outputs": []
    },
    {
      "cell_type": "markdown",
      "metadata": {
        "id": "bQmndRQYDGNt"
      },
      "source": [
        "# Introduction and preparing your data\n",
        "\n",
        "Describe about the typical challenges associated with fraud detection. Describe how to resample data in a smart way, and tackle problems with imbalanced data."
      ]
    },
    {
      "cell_type": "markdown",
      "metadata": {
        "id": "jFvwWKQFDGNt"
      },
      "source": [
        "## Introduction to fraud detection\n",
        "\n",
        "* Types:\n",
        "    * Insurance\n",
        "    * Credit card\n",
        "    * Identity theft\n",
        "    * Money laundering\n",
        "    * Tax evasion\n",
        "    * Healthcare\n",
        "    * Product warranty\n",
        "* e-commerce businesses must continuously assess the legitimacy of client transactions\n",
        "* Detecting fraud is challenging:\n",
        "    * Uncommon; < 0.01% of transactions\n",
        "    * Attempts are made to conceal fraud\n",
        "    * Behavior evolves\n",
        "    * Fraudulent activities perpetrated by networks - organized crime\n",
        "* Fraud detection requires training an algorithm to identify concealed observations from any normal observations\n",
        "* Fraud analytics teams:\n",
        "    * Often use rules based systems, based on manually set thresholds and experience\n",
        "    * Check the news\n",
        "    * Receive external lists of fraudulent accounts and names\n",
        "        * suspicious names or track an external hit list from police to reference check against the client base\n",
        "    * Sometimes use machine learning algorithms to detect fraud or suspicious behavior\n",
        "        * Existing sources can be used as inputs into the ML model\n",
        "        * Verify the veracity of rules based labels"
      ]
    },
    {
      "cell_type": "markdown",
      "metadata": {
        "id": "RN-2tdrmDGNu"
      },
      "source": [
        "### Checking the fraud to non-fraud ratio\n",
        "\n",
        "In this chapter, you will work on `creditcard_sampledata.csv`, a dataset containing credit card transactions data. Fraud occurrences are fortunately an **extreme minority** in these transactions.\n",
        "\n",
        "However, Machine Learning algorithms usually work best when the different classes contained in the dataset are more or less equally present. If there are few cases of fraud, then there's little data to learn how to identify them. This is known as **class imbalance**, and it's one of the main challenges of fraud detection.\n",
        "\n",
        "Let's explore this dataset, and observe this class imbalance problem.\n",
        "\n",
        "**Explanation**\n",
        "\n",
        "* `import pandas as pd`, read the credit card data in and assign it to `df`. This has been done for you.\n",
        "* Use `.info()` to print information about `df`.\n",
        "* Use `.value_counts()` to get the count of fraudulent and non-fraudulent transactions in the `'Class'` column. Assign the result to `occ`.\n",
        "* Get the ratio of fraudulent transactions over the total number of transactions in the dataset."
      ]
    },
    {
      "cell_type": "code",
      "metadata": {
        "id": "UaNRncHIDGNv",
        "colab": {
          "base_uri": "https://localhost:8080/",
          "height": 163
        },
        "outputId": "fa763275-a502-4132-a729-fc53d2896988"
      },
      "source": [
        "df = pd.read_csv(cc3_file)"
      ],
      "execution_count": null,
      "outputs": [
        {
          "output_type": "error",
          "ename": "NameError",
          "evalue": "ignored",
          "traceback": [
            "\u001b[0;31m---------------------------------------------------------------------------\u001b[0m",
            "\u001b[0;31mNameError\u001b[0m                                 Traceback (most recent call last)",
            "\u001b[0;32m<ipython-input-1-b8fa683d8521>\u001b[0m in \u001b[0;36m<module>\u001b[0;34m()\u001b[0m\n\u001b[0;32m----> 1\u001b[0;31m \u001b[0mdf\u001b[0m \u001b[0;34m=\u001b[0m \u001b[0mpd\u001b[0m\u001b[0;34m.\u001b[0m\u001b[0mread_csv\u001b[0m\u001b[0;34m(\u001b[0m\u001b[0mcc3_file\u001b[0m\u001b[0;34m)\u001b[0m\u001b[0;34m\u001b[0m\u001b[0;34m\u001b[0m\u001b[0m\n\u001b[0m",
            "\u001b[0;31mNameError\u001b[0m: name 'pd' is not defined"
          ]
        }
      ]
    },
    {
      "cell_type": "markdown",
      "metadata": {
        "id": "P3Ca7x4xDGNw"
      },
      "source": [
        "#### Explore the features available in your dataframe"
      ]
    },
    {
      "cell_type": "code",
      "metadata": {
        "id": "Q9xO07jXDGNw",
        "colab": {
          "base_uri": "https://localhost:8080/"
        },
        "outputId": "1c24e1de-2d76-4e21-9711-e11ad54f6af1"
      },
      "source": [
        "df.info()"
      ],
      "execution_count": null,
      "outputs": [
        {
          "output_type": "stream",
          "text": [
            "<class 'pandas.core.frame.DataFrame'>\n",
            "RangeIndex: 5050 entries, 0 to 5049\n",
            "Data columns (total 31 columns):\n",
            " #   Column      Non-Null Count  Dtype  \n",
            "---  ------      --------------  -----  \n",
            " 0   Unnamed: 0  5050 non-null   int64  \n",
            " 1   V1          5050 non-null   float64\n",
            " 2   V2          5050 non-null   float64\n",
            " 3   V3          5050 non-null   float64\n",
            " 4   V4          5050 non-null   float64\n",
            " 5   V5          5050 non-null   float64\n",
            " 6   V6          5050 non-null   float64\n",
            " 7   V7          5050 non-null   float64\n",
            " 8   V8          5050 non-null   float64\n",
            " 9   V9          5050 non-null   float64\n",
            " 10  V10         5050 non-null   float64\n",
            " 11  V11         5050 non-null   float64\n",
            " 12  V12         5050 non-null   float64\n",
            " 13  V13         5050 non-null   float64\n",
            " 14  V14         5050 non-null   float64\n",
            " 15  V15         5050 non-null   float64\n",
            " 16  V16         5050 non-null   float64\n",
            " 17  V17         5050 non-null   float64\n",
            " 18  V18         5050 non-null   float64\n",
            " 19  V19         5050 non-null   float64\n",
            " 20  V20         5050 non-null   float64\n",
            " 21  V21         5050 non-null   float64\n",
            " 22  V22         5050 non-null   float64\n",
            " 23  V23         5050 non-null   float64\n",
            " 24  V24         5050 non-null   float64\n",
            " 25  V25         5050 non-null   float64\n",
            " 26  V26         5050 non-null   float64\n",
            " 27  V27         5050 non-null   float64\n",
            " 28  V28         5050 non-null   float64\n",
            " 29  Amount      5050 non-null   float64\n",
            " 30  Class       5050 non-null   int64  \n",
            "dtypes: float64(29), int64(2)\n",
            "memory usage: 1.2 MB\n"
          ],
          "name": "stdout"
        }
      ]
    },
    {
      "cell_type": "code",
      "metadata": {
        "id": "X3EdAfZoDGNw",
        "colab": {
          "base_uri": "https://localhost:8080/",
          "height": 241
        },
        "outputId": "140b69cd-b53f-497d-ea93-99b4b1f7f329"
      },
      "source": [
        "df.head()"
      ],
      "execution_count": null,
      "outputs": [
        {
          "output_type": "execute_result",
          "data": {
            "text/html": [
              "<div>\n",
              "<style scoped>\n",
              "    .dataframe tbody tr th:only-of-type {\n",
              "        vertical-align: middle;\n",
              "    }\n",
              "\n",
              "    .dataframe tbody tr th {\n",
              "        vertical-align: top;\n",
              "    }\n",
              "\n",
              "    .dataframe thead th {\n",
              "        text-align: right;\n",
              "    }\n",
              "</style>\n",
              "<table border=\"1\" class=\"dataframe\">\n",
              "  <thead>\n",
              "    <tr style=\"text-align: right;\">\n",
              "      <th></th>\n",
              "      <th>Unnamed: 0</th>\n",
              "      <th>V1</th>\n",
              "      <th>V2</th>\n",
              "      <th>V3</th>\n",
              "      <th>V4</th>\n",
              "      <th>V5</th>\n",
              "      <th>V6</th>\n",
              "      <th>V7</th>\n",
              "      <th>V8</th>\n",
              "      <th>V9</th>\n",
              "      <th>V10</th>\n",
              "      <th>V11</th>\n",
              "      <th>V12</th>\n",
              "      <th>V13</th>\n",
              "      <th>V14</th>\n",
              "      <th>V15</th>\n",
              "      <th>V16</th>\n",
              "      <th>V17</th>\n",
              "      <th>V18</th>\n",
              "      <th>V19</th>\n",
              "      <th>V20</th>\n",
              "      <th>V21</th>\n",
              "      <th>V22</th>\n",
              "      <th>V23</th>\n",
              "      <th>V24</th>\n",
              "      <th>V25</th>\n",
              "      <th>V26</th>\n",
              "      <th>V27</th>\n",
              "      <th>V28</th>\n",
              "      <th>Amount</th>\n",
              "      <th>Class</th>\n",
              "    </tr>\n",
              "  </thead>\n",
              "  <tbody>\n",
              "    <tr>\n",
              "      <th>0</th>\n",
              "      <td>258647</td>\n",
              "      <td>1.725265</td>\n",
              "      <td>-1.337256</td>\n",
              "      <td>-1.012687</td>\n",
              "      <td>-0.361656</td>\n",
              "      <td>-1.431611</td>\n",
              "      <td>-1.098681</td>\n",
              "      <td>-0.842274</td>\n",
              "      <td>-0.026594</td>\n",
              "      <td>-0.032409</td>\n",
              "      <td>0.215113</td>\n",
              "      <td>1.618952</td>\n",
              "      <td>-0.654046</td>\n",
              "      <td>-1.442665</td>\n",
              "      <td>-1.546538</td>\n",
              "      <td>-0.230008</td>\n",
              "      <td>1.785539</td>\n",
              "      <td>1.419793</td>\n",
              "      <td>0.071666</td>\n",
              "      <td>0.233031</td>\n",
              "      <td>0.275911</td>\n",
              "      <td>0.414524</td>\n",
              "      <td>0.793434</td>\n",
              "      <td>0.028887</td>\n",
              "      <td>0.419421</td>\n",
              "      <td>-0.367529</td>\n",
              "      <td>-0.155634</td>\n",
              "      <td>-0.015768</td>\n",
              "      <td>0.010790</td>\n",
              "      <td>189.00</td>\n",
              "      <td>0</td>\n",
              "    </tr>\n",
              "    <tr>\n",
              "      <th>1</th>\n",
              "      <td>69263</td>\n",
              "      <td>0.683254</td>\n",
              "      <td>-1.681875</td>\n",
              "      <td>0.533349</td>\n",
              "      <td>-0.326064</td>\n",
              "      <td>-1.455603</td>\n",
              "      <td>0.101832</td>\n",
              "      <td>-0.520590</td>\n",
              "      <td>0.114036</td>\n",
              "      <td>-0.601760</td>\n",
              "      <td>0.444011</td>\n",
              "      <td>1.521570</td>\n",
              "      <td>0.499202</td>\n",
              "      <td>-0.127849</td>\n",
              "      <td>-0.237253</td>\n",
              "      <td>-0.752351</td>\n",
              "      <td>0.667190</td>\n",
              "      <td>0.724785</td>\n",
              "      <td>-1.736615</td>\n",
              "      <td>0.702088</td>\n",
              "      <td>0.638186</td>\n",
              "      <td>0.116898</td>\n",
              "      <td>-0.304605</td>\n",
              "      <td>-0.125547</td>\n",
              "      <td>0.244848</td>\n",
              "      <td>0.069163</td>\n",
              "      <td>-0.460712</td>\n",
              "      <td>-0.017068</td>\n",
              "      <td>0.063542</td>\n",
              "      <td>315.17</td>\n",
              "      <td>0</td>\n",
              "    </tr>\n",
              "    <tr>\n",
              "      <th>2</th>\n",
              "      <td>96552</td>\n",
              "      <td>1.067973</td>\n",
              "      <td>-0.656667</td>\n",
              "      <td>1.029738</td>\n",
              "      <td>0.253899</td>\n",
              "      <td>-1.172715</td>\n",
              "      <td>0.073232</td>\n",
              "      <td>-0.745771</td>\n",
              "      <td>0.249803</td>\n",
              "      <td>1.383057</td>\n",
              "      <td>-0.483771</td>\n",
              "      <td>-0.782780</td>\n",
              "      <td>0.005242</td>\n",
              "      <td>-1.273288</td>\n",
              "      <td>-0.269260</td>\n",
              "      <td>0.091287</td>\n",
              "      <td>-0.347973</td>\n",
              "      <td>0.495328</td>\n",
              "      <td>-0.925949</td>\n",
              "      <td>0.099138</td>\n",
              "      <td>-0.083859</td>\n",
              "      <td>-0.189315</td>\n",
              "      <td>-0.426743</td>\n",
              "      <td>0.079539</td>\n",
              "      <td>0.129692</td>\n",
              "      <td>0.002778</td>\n",
              "      <td>0.970498</td>\n",
              "      <td>-0.035056</td>\n",
              "      <td>0.017313</td>\n",
              "      <td>59.98</td>\n",
              "      <td>0</td>\n",
              "    </tr>\n",
              "    <tr>\n",
              "      <th>3</th>\n",
              "      <td>281898</td>\n",
              "      <td>0.119513</td>\n",
              "      <td>0.729275</td>\n",
              "      <td>-1.678879</td>\n",
              "      <td>-1.551408</td>\n",
              "      <td>3.128914</td>\n",
              "      <td>3.210632</td>\n",
              "      <td>0.356276</td>\n",
              "      <td>0.920374</td>\n",
              "      <td>-0.160589</td>\n",
              "      <td>-0.801748</td>\n",
              "      <td>0.137341</td>\n",
              "      <td>-0.156740</td>\n",
              "      <td>-0.429388</td>\n",
              "      <td>-0.752392</td>\n",
              "      <td>0.155272</td>\n",
              "      <td>0.215068</td>\n",
              "      <td>0.352222</td>\n",
              "      <td>-0.376168</td>\n",
              "      <td>-0.398920</td>\n",
              "      <td>0.043715</td>\n",
              "      <td>-0.335825</td>\n",
              "      <td>-0.906171</td>\n",
              "      <td>0.108350</td>\n",
              "      <td>0.593062</td>\n",
              "      <td>-0.424303</td>\n",
              "      <td>0.164201</td>\n",
              "      <td>0.245881</td>\n",
              "      <td>0.071029</td>\n",
              "      <td>0.89</td>\n",
              "      <td>0</td>\n",
              "    </tr>\n",
              "    <tr>\n",
              "      <th>4</th>\n",
              "      <td>86917</td>\n",
              "      <td>1.271253</td>\n",
              "      <td>0.275694</td>\n",
              "      <td>0.159568</td>\n",
              "      <td>1.003096</td>\n",
              "      <td>-0.128535</td>\n",
              "      <td>-0.608730</td>\n",
              "      <td>0.088777</td>\n",
              "      <td>-0.145336</td>\n",
              "      <td>0.156047</td>\n",
              "      <td>0.022707</td>\n",
              "      <td>-0.963306</td>\n",
              "      <td>-0.228074</td>\n",
              "      <td>-0.324933</td>\n",
              "      <td>0.390609</td>\n",
              "      <td>1.065923</td>\n",
              "      <td>0.285930</td>\n",
              "      <td>-0.627072</td>\n",
              "      <td>0.170175</td>\n",
              "      <td>-0.215912</td>\n",
              "      <td>-0.147394</td>\n",
              "      <td>0.031958</td>\n",
              "      <td>0.123503</td>\n",
              "      <td>-0.174528</td>\n",
              "      <td>-0.147535</td>\n",
              "      <td>0.735909</td>\n",
              "      <td>-0.262270</td>\n",
              "      <td>0.015577</td>\n",
              "      <td>0.015955</td>\n",
              "      <td>6.53</td>\n",
              "      <td>0</td>\n",
              "    </tr>\n",
              "  </tbody>\n",
              "</table>\n",
              "</div>"
            ],
            "text/plain": [
              "   Unnamed: 0        V1        V2        V3        V4        V5        V6  \\\n",
              "0      258647  1.725265 -1.337256 -1.012687 -0.361656 -1.431611 -1.098681   \n",
              "1       69263  0.683254 -1.681875  0.533349 -0.326064 -1.455603  0.101832   \n",
              "2       96552  1.067973 -0.656667  1.029738  0.253899 -1.172715  0.073232   \n",
              "3      281898  0.119513  0.729275 -1.678879 -1.551408  3.128914  3.210632   \n",
              "4       86917  1.271253  0.275694  0.159568  1.003096 -0.128535 -0.608730   \n",
              "\n",
              "         V7        V8        V9       V10       V11       V12       V13  \\\n",
              "0 -0.842274 -0.026594 -0.032409  0.215113  1.618952 -0.654046 -1.442665   \n",
              "1 -0.520590  0.114036 -0.601760  0.444011  1.521570  0.499202 -0.127849   \n",
              "2 -0.745771  0.249803  1.383057 -0.483771 -0.782780  0.005242 -1.273288   \n",
              "3  0.356276  0.920374 -0.160589 -0.801748  0.137341 -0.156740 -0.429388   \n",
              "4  0.088777 -0.145336  0.156047  0.022707 -0.963306 -0.228074 -0.324933   \n",
              "\n",
              "        V14       V15       V16       V17       V18       V19       V20  \\\n",
              "0 -1.546538 -0.230008  1.785539  1.419793  0.071666  0.233031  0.275911   \n",
              "1 -0.237253 -0.752351  0.667190  0.724785 -1.736615  0.702088  0.638186   \n",
              "2 -0.269260  0.091287 -0.347973  0.495328 -0.925949  0.099138 -0.083859   \n",
              "3 -0.752392  0.155272  0.215068  0.352222 -0.376168 -0.398920  0.043715   \n",
              "4  0.390609  1.065923  0.285930 -0.627072  0.170175 -0.215912 -0.147394   \n",
              "\n",
              "        V21       V22       V23       V24       V25       V26       V27  \\\n",
              "0  0.414524  0.793434  0.028887  0.419421 -0.367529 -0.155634 -0.015768   \n",
              "1  0.116898 -0.304605 -0.125547  0.244848  0.069163 -0.460712 -0.017068   \n",
              "2 -0.189315 -0.426743  0.079539  0.129692  0.002778  0.970498 -0.035056   \n",
              "3 -0.335825 -0.906171  0.108350  0.593062 -0.424303  0.164201  0.245881   \n",
              "4  0.031958  0.123503 -0.174528 -0.147535  0.735909 -0.262270  0.015577   \n",
              "\n",
              "        V28  Amount  Class  \n",
              "0  0.010790  189.00      0  \n",
              "1  0.063542  315.17      0  \n",
              "2  0.017313   59.98      0  \n",
              "3  0.071029    0.89      0  \n",
              "4  0.015955    6.53      0  "
            ]
          },
          "metadata": {
            "tags": []
          },
          "execution_count": 8
        }
      ]
    },
    {
      "cell_type": "code",
      "metadata": {
        "id": "hL4Q09GBDGNx",
        "colab": {
          "base_uri": "https://localhost:8080/"
        },
        "outputId": "5d2c3cc7-72e0-4a9d-f871-83be9aef3e27"
      },
      "source": [
        "# Count the occurrences of fraud and no fraud and print them\n",
        "occ = df['Class'].value_counts()\n",
        "occ"
      ],
      "execution_count": null,
      "outputs": [
        {
          "output_type": "execute_result",
          "data": {
            "text/plain": [
              "0    5000\n",
              "1      50\n",
              "Name: Class, dtype: int64"
            ]
          },
          "metadata": {
            "tags": []
          },
          "execution_count": 9
        }
      ]
    },
    {
      "cell_type": "code",
      "metadata": {
        "id": "ZhwD3vPyDGNx",
        "colab": {
          "base_uri": "https://localhost:8080/"
        },
        "outputId": "8595b04f-cc47-4044-bc1c-76e89250afa4"
      },
      "source": [
        "# Print the ratio of fraud cases\n",
        "ratio_cases = occ/len(df.index)\n",
        "print(f'Ratio of fraudulent cases: {ratio_cases[1]}\\nRatio of non-fraudulent cases: {ratio_cases[0]}')"
      ],
      "execution_count": null,
      "outputs": [
        {
          "output_type": "stream",
          "text": [
            "Ratio of fraudulent cases: 0.009900990099009901\n",
            "Ratio of non-fraudulent cases: 0.9900990099009901\n"
          ],
          "name": "stdout"
        }
      ]
    },
    {
      "cell_type": "markdown",
      "metadata": {
        "id": "3xiPX6feDGNy"
      },
      "source": [
        "**The ratio of fraudulent transactions is very low. This is a case of class imbalance problem, and we're going to describe how to deal with this in the next code.**"
      ]
    },
    {
      "cell_type": "markdown",
      "metadata": {
        "id": "jQWfoC40DGNy"
      },
      "source": [
        "### Data visualization\n",
        "\n",
        "From the previous exercise we know that the ratio of fraud to non-fraud observations is very low. You can do something about that, for example by **re-sampling** our data, which is explained in the next video.\n",
        "\n",
        "In this exercise, you'll look at the data and **visualize the fraud to non-fraud ratio**. It is always a good starting point in your fraud analysis, to look at your data first, before you make any changes to it.\n",
        "\n",
        "Moreover, when talking to your colleagues, a picture often makes it very clear that we're dealing with heavily imbalanced data. Let's create a plot to visualize the ratio fraud to non-fraud data points on the dataset `df`.\n",
        "\n",
        "The function `prep_data()` is already loaded in your workspace, as well as `matplotlib.pyplot as plt`.\n",
        "\n",
        "**Explanation**\n",
        "\n",
        "* Define the `plot_data(X, y)` function, that will nicely plot the given feature set `X` with labels `y` in a scatter plot. This has been done for you.\n",
        "* Use the function `prep_data()` on your dataset `df` to create feature set `X` and labels `y`.\n",
        "* Run the function `plot_data()` on your newly obtained `X` and `y` to visualize your results."
      ]
    },
    {
      "cell_type": "markdown",
      "metadata": {
        "id": "1bbup63bDGNz"
      },
      "source": [
        "#### def prep_data"
      ]
    },
    {
      "cell_type": "code",
      "metadata": {
        "id": "lG2Lho1EDGNz"
      },
      "source": [
        "def prep_data(df: pd.DataFrame) -> (np.ndarray, np.ndarray):\n",
        "    \"\"\"\n",
        "    Convert the DataFrame into two variable\n",
        "    X: data columns (V1 - V28)\n",
        "    y: lable column\n",
        "    \"\"\"\n",
        "    X = df.iloc[:, 2:30].values\n",
        "    y = df.Class.values\n",
        "    return X, y"
      ],
      "execution_count": null,
      "outputs": []
    },
    {
      "cell_type": "markdown",
      "metadata": {
        "id": "6DbvksQQDGNz"
      },
      "source": [
        "#### def plot_data"
      ]
    },
    {
      "cell_type": "code",
      "metadata": {
        "id": "G1_Bj87BDGNz"
      },
      "source": [
        "# Define a function to create a scatter plot of our data and labels\n",
        "def plot_data(X: np.ndarray, y: np.ndarray):\n",
        "    plt.scatter(X[y == 0, 0], X[y == 0, 1], label=\"Class #0\", alpha=0.5, linewidth=0.15)\n",
        "    plt.scatter(X[y == 1, 0], X[y == 1, 1], label=\"Class #1\", alpha=0.5, linewidth=0.15, c='r')\n",
        "    plt.legend()\n",
        "    return plt.show()"
      ],
      "execution_count": null,
      "outputs": []
    },
    {
      "cell_type": "code",
      "metadata": {
        "id": "--krgKY6DGN0"
      },
      "source": [
        "# Create X and y from the prep_data function \n",
        "X, y = prep_data(df)"
      ],
      "execution_count": null,
      "outputs": []
    },
    {
      "cell_type": "code",
      "metadata": {
        "id": "kO7xXu_VDGN0",
        "colab": {
          "base_uri": "https://localhost:8080/",
          "height": 267
        },
        "outputId": "90c7c39c-f03b-450e-d563-795b11b88b87"
      },
      "source": [
        "# Plot our data by running our plot data function on X and y\n",
        "plot_data(X, y)"
      ],
      "execution_count": null,
      "outputs": [
        {
          "output_type": "display_data",
          "data": {
            "image/png": "[encoded data removed]",
            "text/plain": [
              "<Figure size 432x288 with 1 Axes>"
            ]
          },
          "metadata": {
            "tags": [],
            "needs_background": "light"
          }
        }
      ]
    },
    {
      "cell_type": "markdown",
      "metadata": {
        "id": "Y6exgs-BDGN0"
      },
      "source": [
        "**By visualizing the data, we can immediately see how our fraud cases are scattered over our data, and how few cases we have. A picture often makes the imbalance problem clear. In the next code snippets we'll visually explore how to improve our fraud to non-fraud balance.**"
      ]
    },
    {
      "cell_type": "markdown",
      "metadata": {
        "id": "3u84RdKUDGN0"
      },
      "source": [
        "#### Reproduced using the DataFrame"
      ]
    },
    {
      "cell_type": "code",
      "metadata": {
        "id": "aJSakHrADGN1",
        "colab": {
          "base_uri": "https://localhost:8080/",
          "height": 267
        },
        "outputId": "512dcd17-aa74-4f98-8dea-72fbdd52f4a9"
      },
      "source": [
        "plt.scatter(df.V2[df.Class == 0], df.V3[df.Class == 0], label=\"Class #0\", alpha=0.5, linewidth=0.15)\n",
        "plt.scatter(df.V2[df.Class == 1], df.V3[df.Class == 1], label=\"Class #1\", alpha=0.5, linewidth=0.15, c='r')\n",
        "plt.legend()\n",
        "plt.show()"
      ],
      "execution_count": null,
      "outputs": [
        {
          "output_type": "display_data",
          "data": {
            "image/png": "[encoded data removed]",
            "text/plain": [
              "<Figure size 432x288 with 1 Axes>"
            ]
          },
          "metadata": {
            "tags": [],
            "needs_background": "light"
          }
        }
      ]
    },
    {
      "cell_type": "markdown",
      "metadata": {
        "id": "EfHFWk7lDGN1"
      },
      "source": [
        "## Increase successful detections with data resampling\n",
        "\n",
        "* resampling can help model performance in cases of imbalanced data sets"
      ]
    },
    {
      "cell_type": "markdown",
      "metadata": {
        "id": "7PABs_8EDGN1"
      },
      "source": [
        "#### Undersampling\n",
        "\n",
        "* ![undersampling](https://raw.githubusercontent.com/trenton3983/DataCamp/master/Images/fraud_detection/undersampling.JPG)\n",
        "* Undersampling the majority class (non-fraud cases)\n",
        "    * Straightforward method to adjust imbalanced data\n",
        "    * Take random draws from the non-fraud observations, to match the occurences of fraud observations (as shown in the picture)"
      ]
    },
    {
      "cell_type": "markdown",
      "metadata": {
        "id": "ZKHeX84uDGN1"
      },
      "source": [
        "#### Oversampling\n",
        "\n",
        "* ![oversampling](https://raw.githubusercontent.com/trenton3983/DataCamp/master/Images/fraud_detection/oversampling.JPG)\n",
        "* Oversampling the minority class (fraud cases)\n",
        "    * Take random draws from the fraud cases and copy those observations to increase the amount of fraud samples\n",
        "* Both methods lead to having a balance between fraud and non-fraud cases\n",
        "* Drawbacks\n",
        "    * with random undersampling, a lot of information is thrown away\n",
        "    * with oversampling, the model will be trained on a lot of duplicates"
      ]
    },
    {
      "cell_type": "markdown",
      "metadata": {
        "id": "eO3Fa6pZDGN2"
      },
      "source": [
        "#### Implement resampling methods using Python imblean module\n",
        "\n",
        "* compatible with scikit-learn\n",
        "\n",
        "```python\n",
        "from imblearn.over_sampling import RandomOverSampler\n",
        "\n",
        "method = RandomOverSampler()\n",
        "X_resampled, y_resampled =  method.fit_sample(X, y)\n",
        "\n",
        "compare_plots(X_resampled, y_resampled, X, y)\n",
        "```\n",
        "\n",
        "![oversampling plot](https://raw.githubusercontent.com/trenton3983/DataCamp/master/Images/fraud_detection/oversampling_plot.JPG)\n",
        "* The darker blue points reflect there are more identical data"
      ]
    },
    {
      "cell_type": "markdown",
      "metadata": {
        "id": "10720hEeDGN2"
      },
      "source": [
        "#### SMOTE\n",
        "\n",
        "* ![smote](https://raw.githubusercontent.com/trenton3983/DataCamp/master/Images/fraud_detection/smote.JPG)\n",
        "* Synthetic minority Oversampling Technique (SMOTE)\n",
        "    * [Resampling strategies for Imbalanced Data Sets](https://www.kaggle.com/rafjaa/resampling-strategies-for-imbalanced-datasets)\n",
        "    * Another way of adjusting the imbalance by oversampling minority observations\n",
        "    * SMOTE uses characteristics of nearest neighbors of fraud cases to create new synthetic fraud cases\n",
        "        * avoids duplicating observations"
      ]
    },
    {
      "cell_type": "markdown",
      "metadata": {
        "id": "WM1yZDL0DGN2"
      },
      "source": [
        "#### Determining the best resampling method is situational\n",
        "\n",
        "* Random Undersampling (RUS):\n",
        "    * If there is a lot of data and many minority cases, then undersampling may be computationally more convenient\n",
        "        * In most cases, throwing away data is not desirable\n",
        "* Random Oversampling (ROS):\n",
        "    * Straightforward\n",
        "    * Training the model on many duplicates\n",
        "* SMOTE:\n",
        "    * more sophisticated\n",
        "    * realistic data set\n",
        "    * training on synthetic data\n",
        "    * only works well if the minority case features are similar\n",
        "        * **if fraud is spread through the data and not distinct, using nearest neighbors to create more fraud cases, introduces noise into the data, as the nearest neighbors might not be fraud cases**"
      ]
    },
    {
      "cell_type": "markdown",
      "metadata": {
        "id": "0-PGYjtuDGN2"
      },
      "source": [
        "#### When to use resmapling methods\n",
        "\n",
        "* Use resampling methods on the training set, not on the test set\n",
        "* The goal is to produce a better model by providing balanced data\n",
        "    * The goal is not to predict the synthetic samples\n",
        "* Test data should be free of duplicates and synthetic data\n",
        "* Only test the model on real data\n",
        "    * First, spit the data into train and test sets\n",
        "    \n",
        "```python\n",
        "# Define resampling method and split into train and test\n",
        "method = SMOTE(kind='borderline1')\n",
        "X_train, X_test, y_train, y_test = train_test_split(X, y, train_size=0.8, random_state=0)\n",
        "\n",
        "# Apply resampling to the training data only\n",
        "X_resampled, y_resampled = method.fit_sample(X_train, y_train)\n",
        "\n",
        "# Continue fitting the model and obtain predictions\n",
        "model = LogisticRegression()\n",
        "model.fit(X_resampled, y_resampled)\n",
        "\n",
        "# Get model performance metrics\n",
        "predicted = model.predict(X_test)\n",
        "print(classification_report(y_test, predicted))\n",
        "```"
      ]
    },
    {
      "cell_type": "markdown",
      "metadata": {
        "id": "oCgqNaXpDGN3"
      },
      "source": [
        "### Resampling methods for imbalanced data\n",
        "\n",
        "Which of these methods takes a random subsample of your majority class to account for class \"imbalancedness\"?\n",
        "\n",
        "**Possible Answers**\n",
        "\n",
        "* ~~Random Over Sampling (ROS)~~\n",
        "* **Random Under Sampling (RUS)**\n",
        "* ~~Synthetic Minority Over-sampling Technique (SMOTE)~~\n",
        "* ~~None of the above~~\n",
        "\n",
        "**By using ROS and SMOTE you add more examples to the minority class. RUS adjusts the balance of your data by reducing the majority class.**"
      ]
    },
    {
      "cell_type": "markdown",
      "metadata": {
        "id": "jcGUqGauDGN3"
      },
      "source": [
        "### Applying Synthetic Minority Oversampling Technique (SMOTE)\n",
        "\n",
        "In this exercise, you're going to re-balance our data using the **Synthetic Minority Over-sampling Technique** (SMOTE). Unlike ROS, SMOTE does not create exact copies of observations, but **creates new, synthetic, samples** that are quite similar to the existing observations in the minority class. SMOTE is therefore slightly more sophisticated than just copying observations, so let's apply SMOTE to our credit card data. The dataset `df` is available and the packages you need for SMOTE are imported. In the following exercise, you'll visualize the result and compare it to the original data, such that you can see the effect of applying SMOTE very clearly.\n",
        "\n",
        "**Explanation**\n",
        "\n",
        "* Use the `prep_data` function on `df` to create features `X` and labels `y`.\n",
        "* Define the resampling method as SMOTE of the regular kind, under the variable `method`.\n",
        "* Use `.fit_sample()` on the original `X` and `y` to obtain newly resampled data.\n",
        "* Plot the resampled data using the `plot_data()` function."
      ]
    },
    {
      "cell_type": "code",
      "metadata": {
        "id": "WldevRMjDGN3"
      },
      "source": [
        "# Run the prep_data function\n",
        "X, y = prep_data(df)"
      ],
      "execution_count": null,
      "outputs": []
    },
    {
      "cell_type": "code",
      "metadata": {
        "id": "MOQcRXMnDGN3",
        "colab": {
          "base_uri": "https://localhost:8080/"
        },
        "outputId": "6b7b00ad-3393-46f7-ab78-0b342a63c0b0"
      },
      "source": [
        "print(f'X shape: {X.shape}\\ny shape: {y.shape}')"
      ],
      "execution_count": null,
      "outputs": [
        {
          "output_type": "stream",
          "text": [
            "X shape: (5050, 28)\n",
            "y shape: (5050,)\n"
          ],
          "name": "stdout"
        }
      ]
    },
    {
      "cell_type": "code",
      "metadata": {
        "id": "b8Pt9CDmDGN4"
      },
      "source": [
        "# Define the resampling method\n",
        "method = SMOTE()"
      ],
      "execution_count": null,
      "outputs": []
    },
    {
      "cell_type": "code",
      "metadata": {
        "id": "CoDlHG0uDGN4"
      },
      "source": [
        "# Create the resampled feature set\n",
        "X_resampled, y_resampled = method.fit_sample(X, y)"
      ],
      "execution_count": null,
      "outputs": []
    },
    {
      "cell_type": "code",
      "metadata": {
        "id": "Ng76iMHpDGN4",
        "colab": {
          "base_uri": "https://localhost:8080/"
        },
        "outputId": "aec88519-bd98-45cc-f867-e52cb834792c"
      },
      "source": [
        "# Plot the resampled data\n",
        "plot_data(X_resampled, y_resampled)"
      ],
      "execution_count": null,
      "outputs": [
        {
          "output_type": "display_data",
          "data": {
            "image/png": "[encoded data removed]",
            "text/plain": [
              "<Figure size 432x288 with 1 Axes>"
            ]
          },
          "metadata": {
            "tags": [],
            "needs_background": "light"
          }
        }
      ]
    },
    {
      "cell_type": "markdown",
      "metadata": {
        "id": "pVIR5htoDGN4"
      },
      "source": [
        "**The minority class is now much more prominently visible in our data. To see the results of SMOTE even better, we'll compare it to the original data in the next exercise.**"
      ]
    },
    {
      "cell_type": "markdown",
      "metadata": {
        "id": "RZbc0ha2DGN5"
      },
      "source": [
        "### Compare SMOTE to original data\n",
        "\n",
        "In the last exercise, you saw that using SMOTE suddenly gives us more observations of the minority class. Let's compare those results to our original data, to get a good feeling for what has actually happened. Let's have a look at the value counts again of our old and new data, and let's plot the two scatter plots of the data side by side. You'll use the function compare_plot() for that that, which takes the following arguments: `X`, `y`, `X_resampled`, `y_resampled`, `method=''`. The function plots your original data in a scatter plot, along with the resampled side by side.\n",
        "\n",
        "**Explanation**\n",
        "\n",
        "* Print the value counts of our original labels, `y`. Be mindful that `y` is currently a Numpy array, so in order to use value counts, we'll assign `y` back as a pandas Series object.\n",
        "* Repeat the step and print the value counts on `y_resampled`. This shows you how the balance between the two classes has changed with SMOTE.\n",
        "* Use the `compare_plot()` function called on our original data as well our resampled data to see the scatterplots side by side."
      ]
    },
    {
      "cell_type": "code",
      "metadata": {
        "id": "CfVcl61sDGN5",
        "colab": {
          "base_uri": "https://localhost:8080/"
        },
        "outputId": "d729ee94-a78a-4fdc-e3bb-febeae96a357"
      },
      "source": [
        "pd.value_counts(pd.Series(y))"
      ],
      "execution_count": null,
      "outputs": [
        {
          "output_type": "execute_result",
          "data": {
            "text/plain": [
              "0    5000\n",
              "1      50\n",
              "dtype: int64"
            ]
          },
          "metadata": {
            "tags": []
          },
          "execution_count": 21
        }
      ]
    },
    {
      "cell_type": "code",
      "metadata": {
        "id": "0CyT9Od4DGN5",
        "colab": {
          "base_uri": "https://localhost:8080/"
        },
        "outputId": "1f4e26ee-510e-413a-ba85-4acf3014ba9d"
      },
      "source": [
        "pd.value_counts(pd.Series(y_resampled))"
      ],
      "execution_count": null,
      "outputs": [
        {
          "output_type": "execute_result",
          "data": {
            "text/plain": [
              "1    5000\n",
              "0    5000\n",
              "dtype: int64"
            ]
          },
          "metadata": {
            "tags": []
          },
          "execution_count": 22
        }
      ]
    },
    {
      "cell_type": "markdown",
      "metadata": {
        "id": "-cF1kY3TDGN6"
      },
      "source": [
        "#### def compare_plot"
      ]
    },
    {
      "cell_type": "code",
      "metadata": {
        "id": "34FyqqAdDGN6"
      },
      "source": [
        "def compare_plot(X: np.ndarray, y: np.ndarray, X_resampled: np.ndarray, y_resampled: np.ndarray, method: str):\n",
        "    plt.subplot(1, 2, 1)\n",
        "    plt.scatter(X[y == 0, 0], X[y == 0, 1], label=\"Class #0\", alpha=0.5, linewidth=0.15)\n",
        "    plt.scatter(X[y == 1, 0], X[y == 1, 1], label=\"Class #1\", alpha=0.5, linewidth=0.15, c='r')\n",
        "    plt.title('Original Set')\n",
        "    plt.subplot(1, 2, 2)\n",
        "    plt.scatter(X_resampled[y_resampled == 0, 0], X_resampled[y_resampled == 0, 1], label=\"Class #0\", alpha=0.5, linewidth=0.15)\n",
        "    plt.scatter(X_resampled[y_resampled == 1, 0], X_resampled[y_resampled == 1, 1], label=\"Class #1\", alpha=0.5, linewidth=0.15, c='r')\n",
        "    plt.title(method)\n",
        "    plt.legend()\n",
        "    plt.show()"
      ],
      "execution_count": null,
      "outputs": []
    },
    {
      "cell_type": "code",
      "metadata": {
        "id": "yHBfVfreDGN6",
        "colab": {
          "base_uri": "https://localhost:8080/"
        },
        "outputId": "d0901a80-06e2-4911-bab4-b05c97c35a61"
      },
      "source": [
        "compare_plot(X, y, X_resampled, y_resampled, method='SMOTE')"
      ],
      "execution_count": null,
      "outputs": [
        {
          "output_type": "display_data",
          "data": {
            "image/png": "[encoded data removed]",
            "text/plain": [
              "<Figure size 432x288 with 2 Axes>"
            ]
          },
          "metadata": {
            "tags": [],
            "needs_background": "light"
          }
        }
      ]
    },
    {
      "cell_type": "markdown",
      "metadata": {
        "id": "pVJWG81sDGN6"
      },
      "source": [
        "**It should by now be clear that SMOTE has balanced our data completely, and that the minority class is now equal in size to the majority class. Visualizing the data shows the effect on the data very clearly. The next exercise will demonstrate multiple ways to implement SMOTE and that each method will have a slightly different effect.**"
      ]
    },
    {
      "cell_type": "markdown",
      "metadata": {
        "id": "XPAEgYTWDGN7"
      },
      "source": [
        "## Fraud detection algorithms in action"
      ]
    },
    {
      "cell_type": "markdown",
      "metadata": {
        "id": "Msv41FQpDGN7"
      },
      "source": [
        "#### Rules Based Systems\n",
        "\n",
        "* ![rules based](https://raw.githubusercontent.com/trenton3983/DataCamp/master/Images/fraud_detection/rules_based.JPG)\n",
        "* Might block transactions from risky zip codes\n",
        "* Block transactions from cards used too frequently (e.g. last 30 minutes)\n",
        "* Can catch fraud, but also generates false alarms (false positive)\n",
        "* Limitations:\n",
        "    * Fixed threshold per rule and it's difficult to determine the threshold; they don't adapt over time\n",
        "    * Limited to yes / no outcomes, whereas ML yields a probability\n",
        "        * probability allows for fine-tuning the outcomes (i.e. rate of occurences of false positives and false negatives)\n",
        "    * Fails to capture interaction between features\n",
        "        * Ex. Size of the transaction only matters in combination to the frequency"
      ]
    },
    {
      "cell_type": "markdown",
      "metadata": {
        "id": "V_4BPUl4DGN7"
      },
      "source": [
        "#### ML Based Systems\n",
        "\n",
        "* Adapt to the data, thus can change over time\n",
        "* Uses all the data combined, rather than a threshold per feature\n",
        "* Produces a probability, rather than a binary score\n",
        "* Typically have better performance and can be combined with rules"
      ]
    },
    {
      "cell_type": "code",
      "metadata": {
        "id": "0O3qbFA3DGN7"
      },
      "source": [
        "# Step 1: split the features and labels into train and test data\n",
        "X_train, X_test, y_train, y_test = train_test_split(X, y, test_size=0.2)"
      ],
      "execution_count": null,
      "outputs": []
    },
    {
      "cell_type": "code",
      "metadata": {
        "id": "erKvtWJrDGN7"
      },
      "source": [
        "# Step 2: Define which model to use\n",
        "model = LinearRegression()"
      ],
      "execution_count": null,
      "outputs": []
    },
    {
      "cell_type": "code",
      "metadata": {
        "id": "DFm2AMLwDGN8",
        "colab": {
          "base_uri": "https://localhost:8080/"
        },
        "outputId": "afafb482-83a6-47b4-bfe0-decda1e1bfbd"
      },
      "source": [
        "# Step 3: Fit the model to the training data\n",
        "model.fit(X_train, y_train)"
      ],
      "execution_count": null,
      "outputs": [
        {
          "output_type": "execute_result",
          "data": {
            "text/plain": [
              "LinearRegression(copy_X=True, fit_intercept=True, n_jobs=None, normalize=False)"
            ]
          },
          "metadata": {
            "tags": []
          },
          "execution_count": 27
        }
      ]
    },
    {
      "cell_type": "code",
      "metadata": {
        "id": "oLzu-2o2DGN8"
      },
      "source": [
        "# Step 4: Obtain model predictions from the test data\n",
        "y_predicted = model.predict(X_test)"
      ],
      "execution_count": null,
      "outputs": []
    },
    {
      "cell_type": "code",
      "metadata": {
        "id": "wiFCE-eBDGN8",
        "colab": {
          "base_uri": "https://localhost:8080/"
        },
        "outputId": "d0d4f90a-44db-48c4-8fcd-a18076ed022a"
      },
      "source": [
        "# Step 5: Compare y_test to predictions and obtain performance metrics (r^2 score)\n",
        "r2_score(y_test, y_predicted)"
      ],
      "execution_count": null,
      "outputs": [
        {
          "output_type": "execute_result",
          "data": {
            "text/plain": [
              "0.722120248278732"
            ]
          },
          "metadata": {
            "tags": []
          },
          "execution_count": 29
        }
      ]
    },
    {
      "cell_type": "markdown",
      "metadata": {
        "id": "j4jOWX-ODGN8"
      },
      "source": [
        "### Exploring the traditional method of fraud detection\n",
        "\n",
        "In this exercise you're going to try finding fraud cases in our credit card dataset the *\"old way\"*. First you'll define threshold values using common statistics, to split fraud and non-fraud. Then, use those thresholds on your features to detect fraud. This is common practice within fraud analytics teams.\n",
        "\n",
        "Statistical thresholds are often determined by looking at the **mean** values of observations. Let's start this exercise by checking whether feature **means differ between fraud and non-fraud cases**. Then, you'll use that information to create common sense thresholds. Finally, you'll check how well this performs in fraud detection.\n",
        "\n",
        "`pandas` has already been imported as `pd`.\n",
        "\n",
        "**Explanation**\n",
        "\n",
        "* Use `groupby()` to group `df` on `Class` and obtain the mean of the features.\n",
        "* Create the condition `V1` smaller than -3, and `V3` smaller than -5 as a condition to flag fraud cases.\n",
        "* As a measure of performance, use the `crosstab` function from `pandas` to compare our flagged fraud cases to actual fraud cases."
      ]
    },
    {
      "cell_type": "code",
      "metadata": {
        "id": "kc1nr4AhDGN8"
      },
      "source": [
        "df.drop(['Unnamed: 0'], axis=1, inplace=True)"
      ],
      "execution_count": null,
      "outputs": []
    },
    {
      "cell_type": "code",
      "metadata": {
        "id": "TAvvYXByDGN9",
        "colab": {
          "base_uri": "https://localhost:8080/"
        },
        "outputId": "8d89fc91-c47f-4962-d2d0-b814e4404363"
      },
      "source": [
        "df.groupby('Class').mean()"
      ],
      "execution_count": null,
      "outputs": [
        {
          "output_type": "execute_result",
          "data": {
            "text/html": [
              "<div>\n",
              "<style scoped>\n",
              "    .dataframe tbody tr th:only-of-type {\n",
              "        vertical-align: middle;\n",
              "    }\n",
              "\n",
              "    .dataframe tbody tr th {\n",
              "        vertical-align: top;\n",
              "    }\n",
              "\n",
              "    .dataframe thead th {\n",
              "        text-align: right;\n",
              "    }\n",
              "</style>\n",
              "<table border=\"1\" class=\"dataframe\">\n",
              "  <thead>\n",
              "    <tr style=\"text-align: right;\">\n",
              "      <th></th>\n",
              "      <th>V1</th>\n",
              "      <th>V2</th>\n",
              "      <th>V3</th>\n",
              "      <th>V4</th>\n",
              "      <th>V5</th>\n",
              "      <th>V6</th>\n",
              "      <th>V7</th>\n",
              "      <th>V8</th>\n",
              "      <th>V9</th>\n",
              "      <th>V10</th>\n",
              "      <th>V11</th>\n",
              "      <th>V12</th>\n",
              "      <th>V13</th>\n",
              "      <th>V14</th>\n",
              "      <th>V15</th>\n",
              "      <th>V16</th>\n",
              "      <th>V17</th>\n",
              "      <th>V18</th>\n",
              "      <th>V19</th>\n",
              "      <th>V20</th>\n",
              "      <th>V21</th>\n",
              "      <th>V22</th>\n",
              "      <th>V23</th>\n",
              "      <th>V24</th>\n",
              "      <th>V25</th>\n",
              "      <th>V26</th>\n",
              "      <th>V27</th>\n",
              "      <th>V28</th>\n",
              "      <th>Amount</th>\n",
              "    </tr>\n",
              "    <tr>\n",
              "      <th>Class</th>\n",
              "      <th></th>\n",
              "      <th></th>\n",
              "      <th></th>\n",
              "      <th></th>\n",
              "      <th></th>\n",
              "      <th></th>\n",
              "      <th></th>\n",
              "      <th></th>\n",
              "      <th></th>\n",
              "      <th></th>\n",
              "      <th></th>\n",
              "      <th></th>\n",
              "      <th></th>\n",
              "      <th></th>\n",
              "      <th></th>\n",
              "      <th></th>\n",
              "      <th></th>\n",
              "      <th></th>\n",
              "      <th></th>\n",
              "      <th></th>\n",
              "      <th></th>\n",
              "      <th></th>\n",
              "      <th></th>\n",
              "      <th></th>\n",
              "      <th></th>\n",
              "      <th></th>\n",
              "      <th></th>\n",
              "      <th></th>\n",
              "      <th></th>\n",
              "    </tr>\n",
              "  </thead>\n",
              "  <tbody>\n",
              "    <tr>\n",
              "      <th>0</th>\n",
              "      <td>0.035030</td>\n",
              "      <td>0.011553</td>\n",
              "      <td>0.037444</td>\n",
              "      <td>-0.045760</td>\n",
              "      <td>-0.013825</td>\n",
              "      <td>-0.030885</td>\n",
              "      <td>0.014315</td>\n",
              "      <td>-0.022432</td>\n",
              "      <td>-0.002227</td>\n",
              "      <td>0.001667</td>\n",
              "      <td>-0.004511</td>\n",
              "      <td>0.017434</td>\n",
              "      <td>0.004204</td>\n",
              "      <td>0.006542</td>\n",
              "      <td>-0.026640</td>\n",
              "      <td>0.001190</td>\n",
              "      <td>0.004481</td>\n",
              "      <td>-0.010892</td>\n",
              "      <td>-0.016554</td>\n",
              "      <td>-0.002896</td>\n",
              "      <td>-0.010583</td>\n",
              "      <td>-0.010206</td>\n",
              "      <td>-0.003305</td>\n",
              "      <td>-0.000918</td>\n",
              "      <td>-0.002613</td>\n",
              "      <td>-0.004651</td>\n",
              "      <td>-0.009584</td>\n",
              "      <td>0.002414</td>\n",
              "      <td>85.843714</td>\n",
              "    </tr>\n",
              "    <tr>\n",
              "      <th>1</th>\n",
              "      <td>-4.985211</td>\n",
              "      <td>3.321539</td>\n",
              "      <td>-7.293909</td>\n",
              "      <td>4.827952</td>\n",
              "      <td>-3.326587</td>\n",
              "      <td>-1.591882</td>\n",
              "      <td>-5.776541</td>\n",
              "      <td>1.395058</td>\n",
              "      <td>-2.537728</td>\n",
              "      <td>-5.917934</td>\n",
              "      <td>4.020563</td>\n",
              "      <td>-7.032865</td>\n",
              "      <td>-0.104179</td>\n",
              "      <td>-7.100399</td>\n",
              "      <td>-0.120265</td>\n",
              "      <td>-4.658854</td>\n",
              "      <td>-7.589219</td>\n",
              "      <td>-2.650436</td>\n",
              "      <td>0.894255</td>\n",
              "      <td>0.194580</td>\n",
              "      <td>0.703182</td>\n",
              "      <td>0.069065</td>\n",
              "      <td>-0.088374</td>\n",
              "      <td>-0.029425</td>\n",
              "      <td>-0.073336</td>\n",
              "      <td>-0.023377</td>\n",
              "      <td>0.380072</td>\n",
              "      <td>0.009304</td>\n",
              "      <td>113.469000</td>\n",
              "    </tr>\n",
              "  </tbody>\n",
              "</table>\n",
              "</div>"
            ],
            "text/plain": [
              "             V1        V2        V3        V4        V5        V6        V7  \\\n",
              "Class                                                                         \n",
              "0      0.035030  0.011553  0.037444 -0.045760 -0.013825 -0.030885  0.014315   \n",
              "1     -4.985211  3.321539 -7.293909  4.827952 -3.326587 -1.591882 -5.776541   \n",
              "\n",
              "             V8        V9       V10       V11       V12       V13       V14  \\\n",
              "Class                                                                         \n",
              "0     -0.022432 -0.002227  0.001667 -0.004511  0.017434  0.004204  0.006542   \n",
              "1      1.395058 -2.537728 -5.917934  4.020563 -7.032865 -0.104179 -7.100399   \n",
              "\n",
              "            V15       V16       V17       V18       V19       V20       V21  \\\n",
              "Class                                                                         \n",
              "0     -0.026640  0.001190  0.004481 -0.010892 -0.016554 -0.002896 -0.010583   \n",
              "1     -0.120265 -4.658854 -7.589219 -2.650436  0.894255  0.194580  0.703182   \n",
              "\n",
              "            V22       V23       V24       V25       V26       V27       V28  \\\n",
              "Class                                                                         \n",
              "0     -0.010206 -0.003305 -0.000918 -0.002613 -0.004651 -0.009584  0.002414   \n",
              "1      0.069065 -0.088374 -0.029425 -0.073336 -0.023377  0.380072  0.009304   \n",
              "\n",
              "           Amount  \n",
              "Class              \n",
              "0       85.843714  \n",
              "1      113.469000  "
            ]
          },
          "metadata": {
            "tags": []
          },
          "execution_count": 31
        }
      ]
    },
    {
      "cell_type": "code",
      "metadata": {
        "id": "msN_3WiBDGN9"
      },
      "source": [
        "df['flag_as_fraud'] = np.where(np.logical_and(df.V1 < -3, df.V3 < -5), 1, 0)"
      ],
      "execution_count": null,
      "outputs": []
    },
    {
      "cell_type": "code",
      "metadata": {
        "id": "5F5Hyh5ZDGN9",
        "colab": {
          "base_uri": "https://localhost:8080/"
        },
        "outputId": "5bec792a-a3db-436e-abfd-aa1d87a2e9f6"
      },
      "source": [
        "pd.crosstab(df.Class, df.flag_as_fraud, rownames=['Actual Fraud'], colnames=['Flagged Fraud'])"
      ],
      "execution_count": null,
      "outputs": [
        {
          "output_type": "execute_result",
          "data": {
            "text/html": [
              "<div>\n",
              "<style scoped>\n",
              "    .dataframe tbody tr th:only-of-type {\n",
              "        vertical-align: middle;\n",
              "    }\n",
              "\n",
              "    .dataframe tbody tr th {\n",
              "        vertical-align: top;\n",
              "    }\n",
              "\n",
              "    .dataframe thead th {\n",
              "        text-align: right;\n",
              "    }\n",
              "</style>\n",
              "<table border=\"1\" class=\"dataframe\">\n",
              "  <thead>\n",
              "    <tr style=\"text-align: right;\">\n",
              "      <th>Flagged Fraud</th>\n",
              "      <th>0</th>\n",
              "      <th>1</th>\n",
              "    </tr>\n",
              "    <tr>\n",
              "      <th>Actual Fraud</th>\n",
              "      <th></th>\n",
              "      <th></th>\n",
              "    </tr>\n",
              "  </thead>\n",
              "  <tbody>\n",
              "    <tr>\n",
              "      <th>0</th>\n",
              "      <td>4984</td>\n",
              "      <td>16</td>\n",
              "    </tr>\n",
              "    <tr>\n",
              "      <th>1</th>\n",
              "      <td>28</td>\n",
              "      <td>22</td>\n",
              "    </tr>\n",
              "  </tbody>\n",
              "</table>\n",
              "</div>"
            ],
            "text/plain": [
              "Flagged Fraud     0   1\n",
              "Actual Fraud           \n",
              "0              4984  16\n",
              "1                28  22"
            ]
          },
          "metadata": {
            "tags": []
          },
          "execution_count": 33
        }
      ]
    },
    {
      "cell_type": "markdown",
      "metadata": {
        "id": "RhzsSY34DGN9"
      },
      "source": [
        "**With this rule, 22 out of 50 fraud cases are detected, 28 are not detected, and 16 false positives are identified.**"
      ]
    },
    {
      "cell_type": "markdown",
      "metadata": {
        "id": "seLm0VmzDGN9"
      },
      "source": [
        "### Using ML classification to catch fraud\n",
        "\n",
        "In this exercise you'll see what happens when you use a simple machine learning model on our credit card data instead.\n",
        "\n",
        "Do you think you can beat those results? Remember, you've predicted *22 out of 50* fraud cases, and had *16 false positives*.\n",
        "\n",
        "So with that in mind, let's implement a **Logistic Regression** model. If you have taken the class on supervised learning in Python, you should be familiar with this model. If not, you might want to refresh that at this point. But don't worry, you'll be guided through the structure of the machine learning model.\n",
        "\n",
        "The `X` and `y` variables are available in your workspace.\n",
        "\n",
        "**Explanation**\n",
        "\n",
        "* Split `X` and `y` into training and test data, keeping 30% of the data for testing.\n",
        "* Fit your model to your training data.\n",
        "* Obtain the model predicted labels by running `model.predict` on `X_test`.\n",
        "* Obtain a classification comparing `y_test` with `predicted`, and use the given confusion matrix to check your results."
      ]
    },
    {
      "cell_type": "code",
      "metadata": {
        "id": "9i70xhOsDGN-"
      },
      "source": [
        "# Create the training and testing sets\n",
        "X_train, X_test, y_train, y_test = train_test_split(X, y, test_size=0.3, random_state=0)"
      ],
      "execution_count": null,
      "outputs": []
    },
    {
      "cell_type": "code",
      "metadata": {
        "id": "j4v1uwkVDGN-",
        "colab": {
          "base_uri": "https://localhost:8080/"
        },
        "outputId": "46fea011-50e7-4a28-ef5a-9b9ec4f96a0c"
      },
      "source": [
        "# Fit a logistic regression model to our data\n",
        "model = LogisticRegression(solver='liblinear')\n",
        "model.fit(X_train, y_train)"
      ],
      "execution_count": null,
      "outputs": [
        {
          "output_type": "execute_result",
          "data": {
            "text/plain": [
              "LogisticRegression(C=1.0, class_weight=None, dual=False, fit_intercept=True,\n",
              "                   intercept_scaling=1, l1_ratio=None, max_iter=100,\n",
              "                   multi_class='auto', n_jobs=None, penalty='l2',\n",
              "                   random_state=None, solver='liblinear', tol=0.0001, verbose=0,\n",
              "                   warm_start=False)"
            ]
          },
          "metadata": {
            "tags": []
          },
          "execution_count": 35
        }
      ]
    },
    {
      "cell_type": "code",
      "metadata": {
        "id": "1l8jNkysDGN-"
      },
      "source": [
        "# Obtain model predictions\n",
        "predicted = model.predict(X_test)"
      ],
      "execution_count": null,
      "outputs": []
    },
    {
      "cell_type": "code",
      "metadata": {
        "id": "0S9q631rDGN-",
        "colab": {
          "base_uri": "https://localhost:8080/"
        },
        "outputId": "f5e77c97-8d8d-472a-a7ba-ff8ecbaa3516"
      },
      "source": [
        "# Print the classifcation report and confusion matrix\n",
        "print('Classification report:\\n', classification_report(y_test, predicted))\n",
        "conf_mat = confusion_matrix(y_true=y_test, y_pred=predicted)\n",
        "print('Confusion matrix:\\n', conf_mat)"
      ],
      "execution_count": null,
      "outputs": [
        {
          "output_type": "stream",
          "text": [
            "Classification report:\n",
            "               precision    recall  f1-score   support\n",
            "\n",
            "           0       1.00      1.00      1.00      1505\n",
            "           1       0.89      0.80      0.84        10\n",
            "\n",
            "    accuracy                           1.00      1515\n",
            "   macro avg       0.94      0.90      0.92      1515\n",
            "weighted avg       1.00      1.00      1.00      1515\n",
            "\n",
            "Confusion matrix:\n",
            " [[1504    1]\n",
            " [   2    8]]\n"
          ],
          "name": "stdout"
        }
      ]
    },
    {
      "cell_type": "markdown",
      "metadata": {
        "id": "cAItTF6xDGN-"
      },
      "source": [
        "**Do you think these results are better than the rules based model? We are getting far fewer false positives, so that's an improvement. Also, we're catching a higher percentage of fraud cases, so that is also better than before. Do you understand why we have fewer observations to look at in the confusion matrix? Remember we are using only our test data to calculate the model results on. We're comparing the crosstab on the full dataset from the last exercise, with a confusion matrix of only 30% of the total dataset, so that's where that difference comes from. In the next chapter, we'll dive deeper into understanding these model performance metrics. Let's now explore whether we can improve the prediction results even further with resampling methods.**"
      ]
    },
    {
      "cell_type": "markdown",
      "metadata": {
        "id": "LcSIs79fDGN-"
      },
      "source": [
        "### Logistic regression with SMOTE\n",
        "\n",
        "In this exercise, you're going to take the Logistic Regression model from the previous exercise, and combine that with a **SMOTE resampling method**. We'll show you how to do that efficiently by using a pipeline that combines the resampling method with the model in one go. First, you need to define the pipeline that you're going to use.\n",
        "\n",
        "**Explanation**\n",
        "\n",
        "* Import the `Pipeline` module from `imblearn`, this has been done for you.\n",
        "* Then define what you want to put into the pipeline, assign the `SMOTE` method with `borderline2` to `resampling`, and assign `LogisticRegression()` to the `model`.\n",
        "* Combine two steps in the `Pipeline()` function. You need to state you want to combine `resampling` with the `model` in the respective place in the argument. I show you how to do this."
      ]
    },
    {
      "cell_type": "code",
      "metadata": {
        "id": "jtDLoSaqDGN_"
      },
      "source": [
        "# Define which resampling method and which ML model to use in the pipeline\n",
        "resampling = SMOTE(kind='borderline2')\n",
        "model = LogisticRegression(solver='liblinear')"
      ],
      "execution_count": null,
      "outputs": []
    },
    {
      "cell_type": "code",
      "metadata": {
        "id": "qUmB7YzIDGN_"
      },
      "source": [
        "pipeline = Pipeline([('SMOTE', resampling), ('Logistic Regression', model)])"
      ],
      "execution_count": null,
      "outputs": []
    },
    {
      "cell_type": "markdown",
      "metadata": {
        "id": "bi6Tk_WFDGN_"
      },
      "source": [
        "### Pipelining\n",
        "\n",
        "Now that you have our pipeline defined, aka **combining a logistic regression with a SMOTE method**, let's run it on the data. You can treat the pipeline as if it were a **single machine learning model**. Our data X and y are already defined, and the pipeline is defined in the previous exercise. Are you curious to find out what the model results are? Let's give it a try!\n",
        "\n",
        "**Explanation**\n",
        "\n",
        "* Split the data 'X'and 'y' into the training and test set. Set aside 30% of the data for a test set, and set the `random_state` to zero.\n",
        "* Fit your pipeline onto your training data and obtain the predictions by running the `pipeline.predict()` function on our `X_test` dataset."
      ]
    },
    {
      "cell_type": "code",
      "metadata": {
        "id": "O1C6zx0YDGN_"
      },
      "source": [
        "# Split your data X and y, into a training and a test set and fit the pipeline onto the training data\n",
        "X_train, X_test, y_train, y_test = train_test_split(X, y, test_size=0.3, random_state=0)"
      ],
      "execution_count": null,
      "outputs": []
    },
    {
      "cell_type": "code",
      "metadata": {
        "id": "4NGu0UIhDGN_",
        "colab": {
          "base_uri": "https://localhost:8080/"
        },
        "outputId": "5c3c075a-1bc6-438c-803e-42fc3a85478d"
      },
      "source": [
        "pipeline.fit(X_train, y_train) \n",
        "predicted = pipeline.predict(X_test)"
      ],
      "execution_count": null,
      "outputs": [
        {
          "output_type": "stream",
          "text": [
            "/usr/local/lib/python3.6/dist-packages/imblearn/over_sampling/_smote.py:749: DeprecationWarning: \"kind\" is deprecated in 0.4 and will be removed in 0.6. Use SMOTE, BorderlineSMOTE or SVMSMOTE instead.\n",
            "  'SVMSMOTE instead.', DeprecationWarning)\n"
          ],
          "name": "stderr"
        }
      ]
    },
    {
      "cell_type": "code",
      "metadata": {
        "id": "uxZZXr0BDGN_",
        "colab": {
          "base_uri": "https://localhost:8080/"
        },
        "outputId": "57499380-482f-4362-f68f-31100be050c4"
      },
      "source": [
        "# Obtain the results from the classification report and confusion matrix \n",
        "print('Classifcation report:\\n', classification_report(y_test, predicted))\n",
        "conf_mat = confusion_matrix(y_true=y_test, y_pred=predicted)\n",
        "print('Confusion matrix:\\n', conf_mat)"
      ],
      "execution_count": null,
      "outputs": [
        {
          "output_type": "stream",
          "text": [
            "Classifcation report:\n",
            "               precision    recall  f1-score   support\n",
            "\n",
            "           0       1.00      1.00      1.00      1505\n",
            "           1       0.67      1.00      0.80        10\n",
            "\n",
            "    accuracy                           1.00      1515\n",
            "   macro avg       0.83      1.00      0.90      1515\n",
            "weighted avg       1.00      1.00      1.00      1515\n",
            "\n",
            "Confusion matrix:\n",
            " [[1500    5]\n",
            " [   0   10]]\n"
          ],
          "name": "stdout"
        }
      ]
    },
    {
      "cell_type": "markdown",
      "metadata": {
        "id": "u-l24IrNDGOA"
      },
      "source": [
        "**As you can see, the SMOTE slightly improves our results. We now manage to find all cases of fraud, but we have a slightly higher number of false positives, albeit only 7 cases. Remember, resampling doesn't necessarily lead to better results. When the fraud cases are very spread and scattered over the data, using SMOTE can introduce a bit of bias. Nearest neighbors aren't necessarily also fraud cases, so the synthetic samples might 'confuse' the model slightly. In the next chapters, we'll learn how to also adjust our machine learning models to better detect the minority fraud cases.**"
      ]
    },
    {
      "cell_type": "markdown",
      "metadata": {
        "id": "gWAkSmRfDGOA"
      },
      "source": [
        "# Fraud detection using labeled data\n",
        "\n",
        "Learn how to flag fraudulent transactions with supervised learning. Use classifiers, adjust and compare them to find the most efficient fraud detection model."
      ]
    },
    {
      "cell_type": "markdown",
      "metadata": {
        "id": "5AETl2ZDDGOA"
      },
      "source": [
        "## Review classification methods\n",
        "\n",
        "* Classification:\n",
        "    * The problem of identifying to which class a new observation belongs, on the basis of a training set of data containing observations whose class is known\n",
        "    * Goal: use known fraud cases to train a model to recognize new cases\n",
        "    * Classes are sometimes called targets, labels or categories\n",
        "    * Spam detection in email service providers can be identified as a classification problem\n",
        "        * Binary classification since there are only 2 classes, spam and not spam\n",
        "    * Fraud detection is also a binary classification prpoblem\n",
        "    * Patient diagnosis\n",
        "    * Classification problems normall have categorical output like yes/no, 1/0 or True/False\n",
        "    * Variable to predict: $$y\\in0,1$$\n",
        "        * 0: negative calss ('majority' normal cases)\n",
        "        * 1: positive class ('minority' fraud cases)"
      ]
    },
    {
      "cell_type": "markdown",
      "metadata": {
        "id": "K0_29rriDGOA"
      },
      "source": [
        "#### Logistic Regression\n",
        "\n",
        "* Logistic Regression is one of the most used ML algorithms in binary classification\n",
        "* ![logistic regression](https://raw.githubusercontent.com/trenton3983/DataCamp/master/Images/fraud_detection/logistic_regression.JPG)\n",
        "* Can be adjusted reasonably well to work on imbalanced data...useful for fraud detection"
      ]
    },
    {
      "cell_type": "markdown",
      "metadata": {
        "id": "2OUoBuKNDGOA"
      },
      "source": [
        "#### Neural Network\n",
        "\n",
        "* ![neural network](https://raw.githubusercontent.com/trenton3983/DataCamp/master/Images/fraud_detection/neural_network.JPG)\n",
        "* Can be used as classifiers for fraud detection\n",
        "* Capable of fitting highly non-linear models to the data\n",
        "* More complex to implement than other classifiers - not demonstrated here"
      ]
    },
    {
      "cell_type": "markdown",
      "metadata": {
        "id": "68lduVJgDGOB"
      },
      "source": [
        "#### Decision Trees\n",
        "\n",
        "* ![decision tree](https://raw.githubusercontent.com/trenton3983/DataCamp/master/Images/fraud_detection/decision_tree.JPG)\n",
        "* Commonly used for fraud detection\n",
        "* Transparent results, easily interpreted by analysts\n",
        "* Decision trees are prone to overfit the data"
      ]
    },
    {
      "cell_type": "markdown",
      "metadata": {
        "id": "7cCtHyB2DGOB"
      },
      "source": [
        "#### Random Forests\n",
        "\n",
        "* ![random forest](https://raw.githubusercontent.com/trenton3983/DataCamp/master/Images/fraud_detection/random_forest.JPG)\n",
        "* **Random Forests are a more robust option than a single decision tree**\n",
        "    * Construct a multitude of decision trees when training the model and outputting the class that is the mode or mean predicted class of the individual trees\n",
        "    * A random forest consists of a collection of trees on a random subset of features\n",
        "    * Final predictions are the combined results of those trees\n",
        "    * Random forests can handle complex data and are not prone to overfit\n",
        "    * They are interpretable by looking at feature importance, and can be adjusted to work well on highly imbalanced data\n",
        "    * Their drawback is they're computationally complex\n",
        "    * Very popular for fraud detection\n",
        "    * A Random Forest model will be optimized in the exercises\n",
        "    \n",
        "**Implementation:**\n",
        "\n",
        "```python\n",
        "from sklearn.ensemble import RandomForestClassifier\n",
        "model = RandomForestClassifier()\n",
        "model.fit(X_train, y_train)\n",
        "predicted = model.predict(X_test)\n",
        "print(f'Accuracy Score:\\n{accuracy_score(y_test, predicted)}')\n",
        "```"
      ]
    },
    {
      "cell_type": "markdown",
      "metadata": {
        "id": "AHHAGw8-DGOB"
      },
      "source": [
        "### Natural hit rate\n",
        "\n",
        "In this exercise, you'll again use credit card transaction data. The features and labels are similar to the data in the previous chapter, and the **data is heavily imbalanced**. We've given you features `X` and labels `y` to work with already, which are both numpy arrays.\n",
        "\n",
        "First you need to explore how prevalent fraud is in the dataset, to understand what the **\"natural accuracy\"** is, if we were to predict everything as non-fraud. It's is important to understand which level of \"accuracy\" you need to \"beat\" in order to get a **better prediction than by doing nothing**. In the following exercises, you'll create our first random forest classifier for fraud detection. That will serve as the **\"baseline\"** model that you're going to try to improve in the upcoming exercises.\n",
        "\n",
        "**Explanation**\n",
        "\n",
        "* Count the total number of observations by taking the length of your labels `y`.\n",
        "* Count the non-fraud cases in our data by using list comprehension on `y`; remember `y` is a NumPy array so `.value_counts()` cannot be used in this case.\n",
        "* Calculate the natural accuracy by dividing the non-fraud cases over the total observations.\n",
        "* Print the percentage."
      ]
    },
    {
      "cell_type": "code",
      "metadata": {
        "id": "95wkQaBCDGOB",
        "colab": {
          "base_uri": "https://localhost:8080/"
        },
        "outputId": "10c3b7c5-bdfa-434b-a5a5-771abc3f79d9"
      },
      "source": [
        "df2 = pd.read_csv(cc2_file)\n",
        "df2.head()"
      ],
      "execution_count": null,
      "outputs": [
        {
          "output_type": "execute_result",
          "data": {
            "text/html": [
              "<div>\n",
              "<style scoped>\n",
              "    .dataframe tbody tr th:only-of-type {\n",
              "        vertical-align: middle;\n",
              "    }\n",
              "\n",
              "    .dataframe tbody tr th {\n",
              "        vertical-align: top;\n",
              "    }\n",
              "\n",
              "    .dataframe thead th {\n",
              "        text-align: right;\n",
              "    }\n",
              "</style>\n",
              "<table border=\"1\" class=\"dataframe\">\n",
              "  <thead>\n",
              "    <tr style=\"text-align: right;\">\n",
              "      <th></th>\n",
              "      <th>Unnamed: 0</th>\n",
              "      <th>V1</th>\n",
              "      <th>V2</th>\n",
              "      <th>V3</th>\n",
              "      <th>V4</th>\n",
              "      <th>V5</th>\n",
              "      <th>V6</th>\n",
              "      <th>V7</th>\n",
              "      <th>V8</th>\n",
              "      <th>V9</th>\n",
              "      <th>V10</th>\n",
              "      <th>V11</th>\n",
              "      <th>V12</th>\n",
              "      <th>V13</th>\n",
              "      <th>V14</th>\n",
              "      <th>V15</th>\n",
              "      <th>V16</th>\n",
              "      <th>V17</th>\n",
              "      <th>V18</th>\n",
              "      <th>V19</th>\n",
              "      <th>V20</th>\n",
              "      <th>V21</th>\n",
              "      <th>V22</th>\n",
              "      <th>V23</th>\n",
              "      <th>V24</th>\n",
              "      <th>V25</th>\n",
              "      <th>V26</th>\n",
              "      <th>V27</th>\n",
              "      <th>V28</th>\n",
              "      <th>Amount</th>\n",
              "      <th>Class</th>\n",
              "    </tr>\n",
              "  </thead>\n",
              "  <tbody>\n",
              "    <tr>\n",
              "      <th>0</th>\n",
              "      <td>221547</td>\n",
              "      <td>-1.191668</td>\n",
              "      <td>0.428409</td>\n",
              "      <td>1.640028</td>\n",
              "      <td>-1.848859</td>\n",
              "      <td>-0.870903</td>\n",
              "      <td>-0.204849</td>\n",
              "      <td>-0.385675</td>\n",
              "      <td>0.352793</td>\n",
              "      <td>-1.098301</td>\n",
              "      <td>-0.334597</td>\n",
              "      <td>-0.679089</td>\n",
              "      <td>-0.039671</td>\n",
              "      <td>1.372661</td>\n",
              "      <td>-0.732001</td>\n",
              "      <td>-0.344528</td>\n",
              "      <td>1.024751</td>\n",
              "      <td>0.380209</td>\n",
              "      <td>-1.087349</td>\n",
              "      <td>0.364507</td>\n",
              "      <td>0.051924</td>\n",
              "      <td>0.507173</td>\n",
              "      <td>1.292565</td>\n",
              "      <td>-0.467752</td>\n",
              "      <td>1.244887</td>\n",
              "      <td>0.697707</td>\n",
              "      <td>0.059375</td>\n",
              "      <td>-0.319964</td>\n",
              "      <td>-0.017444</td>\n",
              "      <td>27.44</td>\n",
              "      <td>0</td>\n",
              "    </tr>\n",
              "    <tr>\n",
              "      <th>1</th>\n",
              "      <td>184524</td>\n",
              "      <td>1.966614</td>\n",
              "      <td>-0.450087</td>\n",
              "      <td>-1.228586</td>\n",
              "      <td>0.142873</td>\n",
              "      <td>-0.150627</td>\n",
              "      <td>-0.543590</td>\n",
              "      <td>-0.076217</td>\n",
              "      <td>-0.108390</td>\n",
              "      <td>0.973310</td>\n",
              "      <td>-0.029903</td>\n",
              "      <td>0.279973</td>\n",
              "      <td>0.885685</td>\n",
              "      <td>-0.583912</td>\n",
              "      <td>0.322019</td>\n",
              "      <td>-1.065335</td>\n",
              "      <td>-0.340285</td>\n",
              "      <td>-0.385399</td>\n",
              "      <td>0.216554</td>\n",
              "      <td>0.675646</td>\n",
              "      <td>-0.190851</td>\n",
              "      <td>0.124055</td>\n",
              "      <td>0.564916</td>\n",
              "      <td>-0.039331</td>\n",
              "      <td>-0.283904</td>\n",
              "      <td>0.186400</td>\n",
              "      <td>0.192932</td>\n",
              "      <td>-0.039155</td>\n",
              "      <td>-0.071314</td>\n",
              "      <td>35.95</td>\n",
              "      <td>0</td>\n",
              "    </tr>\n",
              "    <tr>\n",
              "      <th>2</th>\n",
              "      <td>91201</td>\n",
              "      <td>1.528452</td>\n",
              "      <td>-1.296191</td>\n",
              "      <td>-0.890677</td>\n",
              "      <td>-2.504028</td>\n",
              "      <td>0.803202</td>\n",
              "      <td>3.350793</td>\n",
              "      <td>-1.633016</td>\n",
              "      <td>0.815350</td>\n",
              "      <td>-1.884692</td>\n",
              "      <td>1.465259</td>\n",
              "      <td>-0.188235</td>\n",
              "      <td>-0.976779</td>\n",
              "      <td>0.560550</td>\n",
              "      <td>-0.250847</td>\n",
              "      <td>0.936115</td>\n",
              "      <td>0.136409</td>\n",
              "      <td>-0.078251</td>\n",
              "      <td>0.355086</td>\n",
              "      <td>0.127756</td>\n",
              "      <td>-0.163982</td>\n",
              "      <td>-0.412088</td>\n",
              "      <td>-1.017485</td>\n",
              "      <td>0.129566</td>\n",
              "      <td>0.948048</td>\n",
              "      <td>0.287826</td>\n",
              "      <td>-0.396592</td>\n",
              "      <td>0.042997</td>\n",
              "      <td>0.025853</td>\n",
              "      <td>28.40</td>\n",
              "      <td>0</td>\n",
              "    </tr>\n",
              "    <tr>\n",
              "      <th>3</th>\n",
              "      <td>26115</td>\n",
              "      <td>-0.774614</td>\n",
              "      <td>1.100916</td>\n",
              "      <td>0.679080</td>\n",
              "      <td>1.034016</td>\n",
              "      <td>0.168633</td>\n",
              "      <td>0.874582</td>\n",
              "      <td>0.209454</td>\n",
              "      <td>0.770550</td>\n",
              "      <td>-0.558106</td>\n",
              "      <td>-0.165442</td>\n",
              "      <td>0.017562</td>\n",
              "      <td>0.285377</td>\n",
              "      <td>-0.818739</td>\n",
              "      <td>0.637991</td>\n",
              "      <td>-0.370124</td>\n",
              "      <td>-0.605148</td>\n",
              "      <td>0.275686</td>\n",
              "      <td>0.246362</td>\n",
              "      <td>1.331927</td>\n",
              "      <td>0.080978</td>\n",
              "      <td>0.011158</td>\n",
              "      <td>0.146017</td>\n",
              "      <td>-0.130401</td>\n",
              "      <td>-0.848815</td>\n",
              "      <td>0.005698</td>\n",
              "      <td>-0.183295</td>\n",
              "      <td>0.282940</td>\n",
              "      <td>0.123856</td>\n",
              "      <td>43.20</td>\n",
              "      <td>0</td>\n",
              "    </tr>\n",
              "    <tr>\n",
              "      <th>4</th>\n",
              "      <td>201292</td>\n",
              "      <td>-1.075860</td>\n",
              "      <td>1.361160</td>\n",
              "      <td>1.496972</td>\n",
              "      <td>2.242604</td>\n",
              "      <td>1.314751</td>\n",
              "      <td>0.272787</td>\n",
              "      <td>1.005246</td>\n",
              "      <td>0.132932</td>\n",
              "      <td>-1.558317</td>\n",
              "      <td>0.484216</td>\n",
              "      <td>-1.967998</td>\n",
              "      <td>-1.818338</td>\n",
              "      <td>-2.036184</td>\n",
              "      <td>0.346962</td>\n",
              "      <td>-1.161316</td>\n",
              "      <td>1.017093</td>\n",
              "      <td>-0.926787</td>\n",
              "      <td>0.183965</td>\n",
              "      <td>-2.102868</td>\n",
              "      <td>-0.354008</td>\n",
              "      <td>0.254485</td>\n",
              "      <td>0.530692</td>\n",
              "      <td>-0.651119</td>\n",
              "      <td>0.626389</td>\n",
              "      <td>1.040212</td>\n",
              "      <td>0.249501</td>\n",
              "      <td>-0.146745</td>\n",
              "      <td>0.029714</td>\n",
              "      <td>10.59</td>\n",
              "      <td>0</td>\n",
              "    </tr>\n",
              "  </tbody>\n",
              "</table>\n",
              "</div>"
            ],
            "text/plain": [
              "   Unnamed: 0        V1        V2        V3        V4        V5        V6  \\\n",
              "0      221547 -1.191668  0.428409  1.640028 -1.848859 -0.870903 -0.204849   \n",
              "1      184524  1.966614 -0.450087 -1.228586  0.142873 -0.150627 -0.543590   \n",
              "2       91201  1.528452 -1.296191 -0.890677 -2.504028  0.803202  3.350793   \n",
              "3       26115 -0.774614  1.100916  0.679080  1.034016  0.168633  0.874582   \n",
              "4      201292 -1.075860  1.361160  1.496972  2.242604  1.314751  0.272787   \n",
              "\n",
              "         V7        V8        V9       V10       V11       V12       V13  \\\n",
              "0 -0.385675  0.352793 -1.098301 -0.334597 -0.679089 -0.039671  1.372661   \n",
              "1 -0.076217 -0.108390  0.973310 -0.029903  0.279973  0.885685 -0.583912   \n",
              "2 -1.633016  0.815350 -1.884692  1.465259 -0.188235 -0.976779  0.560550   \n",
              "3  0.209454  0.770550 -0.558106 -0.165442  0.017562  0.285377 -0.818739   \n",
              "4  1.005246  0.132932 -1.558317  0.484216 -1.967998 -1.818338 -2.036184   \n",
              "\n",
              "        V14       V15       V16       V17       V18       V19       V20  \\\n",
              "0 -0.732001 -0.344528  1.024751  0.380209 -1.087349  0.364507  0.051924   \n",
              "1  0.322019 -1.065335 -0.340285 -0.385399  0.216554  0.675646 -0.190851   \n",
              "2 -0.250847  0.936115  0.136409 -0.078251  0.355086  0.127756 -0.163982   \n",
              "3  0.637991 -0.370124 -0.605148  0.275686  0.246362  1.331927  0.080978   \n",
              "4  0.346962 -1.161316  1.017093 -0.926787  0.183965 -2.102868 -0.354008   \n",
              "\n",
              "        V21       V22       V23       V24       V25       V26       V27  \\\n",
              "0  0.507173  1.292565 -0.467752  1.244887  0.697707  0.059375 -0.319964   \n",
              "1  0.124055  0.564916 -0.039331 -0.283904  0.186400  0.192932 -0.039155   \n",
              "2 -0.412088 -1.017485  0.129566  0.948048  0.287826 -0.396592  0.042997   \n",
              "3  0.011158  0.146017 -0.130401 -0.848815  0.005698 -0.183295  0.282940   \n",
              "4  0.254485  0.530692 -0.651119  0.626389  1.040212  0.249501 -0.146745   \n",
              "\n",
              "        V28  Amount  Class  \n",
              "0 -0.017444   27.44      0  \n",
              "1 -0.071314   35.95      0  \n",
              "2  0.025853   28.40      0  \n",
              "3  0.123856   43.20      0  \n",
              "4  0.029714   10.59      0  "
            ]
          },
          "metadata": {
            "tags": []
          },
          "execution_count": 43
        }
      ]
    },
    {
      "cell_type": "code",
      "metadata": {
        "id": "LVzjllI2DGOC",
        "colab": {
          "base_uri": "https://localhost:8080/"
        },
        "outputId": "8abf1a0c-647f-4c0e-ea1c-975e3351636d"
      },
      "source": [
        "X, y = prep_data(df2)\n",
        "print(f'X shape: {X.shape}\\ny shape: {y.shape}')"
      ],
      "execution_count": null,
      "outputs": [
        {
          "output_type": "stream",
          "text": [
            "X shape: (7300, 28)\n",
            "y shape: (7300,)\n"
          ],
          "name": "stdout"
        }
      ]
    },
    {
      "cell_type": "code",
      "metadata": {
        "id": "D23dzlKwDGOC",
        "colab": {
          "base_uri": "https://localhost:8080/"
        },
        "outputId": "79782d46-e19b-423b-a743-625e07cda5ea"
      },
      "source": [
        "X[0, :]"
      ],
      "execution_count": null,
      "outputs": [
        {
          "output_type": "execute_result",
          "data": {
            "text/plain": [
              "array([ 4.28408570e-01,  1.64002800e+00, -1.84885886e+00, -8.70902974e-01,\n",
              "       -2.04848888e-01, -3.85675453e-01,  3.52792552e-01, -1.09830131e+00,\n",
              "       -3.34596757e-01, -6.79088729e-01, -3.96709268e-02,  1.37266082e+00,\n",
              "       -7.32000706e-01, -3.44528134e-01,  1.02475103e+00,  3.80208554e-01,\n",
              "       -1.08734881e+00,  3.64507163e-01,  5.19236276e-02,  5.07173439e-01,\n",
              "        1.29256539e+00, -4.67752261e-01,  1.24488683e+00,  6.97706854e-01,\n",
              "        5.93750372e-02, -3.19964326e-01, -1.74444289e-02,  2.74400000e+01])"
            ]
          },
          "metadata": {
            "tags": []
          },
          "execution_count": 45
        }
      ]
    },
    {
      "cell_type": "code",
      "metadata": {
        "id": "Cprurq3LDGOC",
        "colab": {
          "base_uri": "https://localhost:8080/"
        },
        "outputId": "f94df093-191e-4158-f4be-883cc230cb09"
      },
      "source": [
        "df2.Class.value_counts()"
      ],
      "execution_count": null,
      "outputs": [
        {
          "output_type": "execute_result",
          "data": {
            "text/plain": [
              "0    7000\n",
              "1     300\n",
              "Name: Class, dtype: int64"
            ]
          },
          "metadata": {
            "tags": []
          },
          "execution_count": 46
        }
      ]
    },
    {
      "cell_type": "code",
      "metadata": {
        "id": "DYRE2Wh9DGOD",
        "colab": {
          "base_uri": "https://localhost:8080/"
        },
        "outputId": "07a1c497-99db-491d-c82f-1346e97df568"
      },
      "source": [
        "# Count the total number of observations from the length of y\n",
        "total_obs = len(y)\n",
        "total_obs"
      ],
      "execution_count": null,
      "outputs": [
        {
          "output_type": "execute_result",
          "data": {
            "text/plain": [
              "7300"
            ]
          },
          "metadata": {
            "tags": []
          },
          "execution_count": 47
        }
      ]
    },
    {
      "cell_type": "code",
      "metadata": {
        "id": "VeHBZ7ynDGOD",
        "colab": {
          "base_uri": "https://localhost:8080/"
        },
        "outputId": "8c713084-bbe8-4add-ce2b-42d122c3f81b"
      },
      "source": [
        "# Count the total number of non-fraudulent observations \n",
        "non_fraud = [i for i in y if i == 0]\n",
        "count_non_fraud = non_fraud.count(0)\n",
        "count_non_fraud"
      ],
      "execution_count": null,
      "outputs": [
        {
          "output_type": "execute_result",
          "data": {
            "text/plain": [
              "7000"
            ]
          },
          "metadata": {
            "tags": []
          },
          "execution_count": 48
        }
      ]
    },
    {
      "cell_type": "code",
      "metadata": {
        "id": "-0oMaxO6DGOD",
        "colab": {
          "base_uri": "https://localhost:8080/"
        },
        "outputId": "625cf6e4-0fcb-4885-a749-306fa724047a"
      },
      "source": [
        "percentage = count_non_fraud/total_obs * 100\n",
        "print(f'{percentage:0.2f}%')"
      ],
      "execution_count": null,
      "outputs": [
        {
          "output_type": "stream",
          "text": [
            "95.89%\n"
          ],
          "name": "stdout"
        }
      ]
    },
    {
      "cell_type": "markdown",
      "metadata": {
        "id": "1_YdBpvDDGOD"
      },
      "source": [
        "**This tells us that by doing nothing, we would be correct in 95.9% of the cases. So now you understand, that if we get an accuracy of less than this number, our model does not actually add any value in predicting how many cases are correct. Let's see how a random forest does in predicting fraud in our data.**"
      ]
    },
    {
      "cell_type": "markdown",
      "metadata": {
        "id": "OQv3SKtqDGOD"
      },
      "source": [
        "### Random Forest Classifier - part 1\n",
        "\n",
        "Let's now create a first **random forest classifier** for fraud detection. Hopefully you can do better than the baseline accuracy you've just calculated, which was roughly **96%**. This model will serve as the **\"baseline\" model** that you're going to try to improve in the upcoming exercises. Let's start first with **splitting the data into a test and training set**, and **defining the Random Forest model**. The data available are features `X` and labels `y`.\n",
        "\n",
        "**Explanation**\n",
        "\n",
        "* Import the random forest classifier from `sklearn`.\n",
        "* Split your features `X` and labels `y` into a training and test set. Set aside a test set of 30%.\n",
        "* Assign the random forest classifier to `model` and keep `random_state` at 5. We need to set a random state here in order to be able to compare results across different models."
      ]
    },
    {
      "cell_type": "markdown",
      "metadata": {
        "id": "z1u3xY7_DGOE"
      },
      "source": [
        "#### X_train, X_test, y_train, y_test"
      ]
    },
    {
      "cell_type": "code",
      "metadata": {
        "id": "TyP5e4m9DGOE"
      },
      "source": [
        "# Split your data into training and test set\n",
        "X_train, X_test, y_train, y_test = train_test_split(X, y, test_size=0.3, random_state=0)"
      ],
      "execution_count": null,
      "outputs": []
    },
    {
      "cell_type": "code",
      "metadata": {
        "id": "jONxgSFWDGOE"
      },
      "source": [
        "# Define the model as the random forest\n",
        "model = RandomForestClassifier(random_state=5, n_estimators=20)"
      ],
      "execution_count": null,
      "outputs": []
    },
    {
      "cell_type": "markdown",
      "metadata": {
        "id": "95a7ZmfNDGOE"
      },
      "source": [
        "### Random Forest Classifier - part 2\n",
        "\n",
        "Let's see how our Random Forest model performs **without doing anything special to it**. The `model` from the previous exercise is available, and you've already split your data in `X_train, y_train, X_test, y_test`.\n",
        "\n",
        "**Explanation 1/3**\n",
        "\n",
        "* Fit the earlier defined `model` to our training data and obtain predictions by getting the model predictions on `X_test`."
      ]
    },
    {
      "cell_type": "code",
      "metadata": {
        "id": "gfTqjbcXDGOE",
        "colab": {
          "base_uri": "https://localhost:8080/"
        },
        "outputId": "ed3e7ecd-0f63-4781-f1eb-0dcb16624f61"
      },
      "source": [
        "# Fit the model to our training set\n",
        "model.fit(X_train, y_train)"
      ],
      "execution_count": null,
      "outputs": [
        {
          "output_type": "execute_result",
          "data": {
            "text/plain": [
              "RandomForestClassifier(bootstrap=True, ccp_alpha=0.0, class_weight=None,\n",
              "                       criterion='gini', max_depth=None, max_features='auto',\n",
              "                       max_leaf_nodes=None, max_samples=None,\n",
              "                       min_impurity_decrease=0.0, min_impurity_split=None,\n",
              "                       min_samples_leaf=1, min_samples_split=2,\n",
              "                       min_weight_fraction_leaf=0.0, n_estimators=20,\n",
              "                       n_jobs=None, oob_score=False, random_state=5, verbose=0,\n",
              "                       warm_start=False)"
            ]
          },
          "metadata": {
            "tags": []
          },
          "execution_count": 52
        }
      ]
    },
    {
      "cell_type": "code",
      "metadata": {
        "id": "W4oP76dxDGOF"
      },
      "source": [
        "# Obtain predictions from the test data \n",
        "predicted = model.predict(X_test)"
      ],
      "execution_count": null,
      "outputs": []
    },
    {
      "cell_type": "markdown",
      "metadata": {
        "id": "9sTGEI1ADGOF"
      },
      "source": [
        "**Explanation 2/3**\n",
        "\n",
        "* Obtain and print the accuracy score by comparing the actual labels `y_test` with our predicted labels `predicted`."
      ]
    },
    {
      "cell_type": "code",
      "metadata": {
        "id": "_lcAWyjVDGOF",
        "colab": {
          "base_uri": "https://localhost:8080/"
        },
        "outputId": "8e4ffd35-7200-4157-916e-439900e06584"
      },
      "source": [
        "print(f'Accuracy Score:\\n{accuracy_score(y_test, predicted):0.3f}')"
      ],
      "execution_count": null,
      "outputs": [
        {
          "output_type": "stream",
          "text": [
            "Accuracy Score:\n",
            "0.991\n"
          ],
          "name": "stdout"
        }
      ]
    },
    {
      "cell_type": "markdown",
      "metadata": {
        "id": "_z3-LpWEDGOF"
      },
      "source": [
        "**Explanation 3/3**\n",
        "\n",
        "What is a benefit of using Random Forests versus Decision Trees?\n",
        "\n",
        "**Possible Answers**\n",
        "\n",
        "* ~~Random Forests always have a higher accuracy than Decision Trees.~~\n",
        "* **Random Forests do not tend to overfit, whereas Decision Trees do.**\n",
        "* ~~Random Forests are computationally more efficient than Decision Trees.~~\n",
        "* ~~You can obtain \"feature importance\" from Random Forest, which makes it more transparent.~~\n",
        "\n",
        "**Random Forest prevents overfitting most of the time, by creating random subsets of the features and building smaller trees using these subsets. Afterwards, it combines the subtrees of subsamples of features, so it does not tend to overfit to your entire feature set the way \"deep\" Decisions Trees do.**"
      ]
    },
    {
      "cell_type": "markdown",
      "metadata": {
        "id": "2DX-grMoDGOG"
      },
      "source": [
        "## Perfomance evaluation\n",
        "\n",
        "* Performance metrics for fraud detection models\n",
        "* There are other performace metrics that are more informative and reliable than accuracy"
      ]
    },
    {
      "cell_type": "markdown",
      "metadata": {
        "id": "e8WL3F2UDGOG"
      },
      "source": [
        "#### Accuracy\n",
        "\n",
        "![accuracy](https://raw.githubusercontent.com/trenton3983/DataCamp/master/Images/fraud_detection/accuracy.JPG)\n",
        "* Accuracy isn't a reliable performance metric when working with highly imbalanced data (such as fraud detection)\n",
        "* By doing nothing, aka predicting everything is the majority class (right image), a higher accuracy is obtained than by trying to build a predictive model (left image)"
      ]
    },
    {
      "cell_type": "markdown",
      "metadata": {
        "id": "eb4PXucYDGOG"
      },
      "source": [
        "#### Confusion Matrix\n",
        "\n",
        "![advanced confusion matrix](https://raw.githubusercontent.com/trenton3983/DataCamp/master/Images/fraud_detection/confusion_matrix_advanced.JPG)\n",
        "![confusion matrix](https://raw.githubusercontent.com/trenton3983/DataCamp/master/Images/fraud_detection/confusion_matrix.JPG)\n",
        "* [Confusion Matrix](https://en.wikipedia.org/wiki/Confusion_matrix)\n",
        "* False Positives (FP) / False Negatives (FN)\n",
        "    * FN: predicts the person is not pregnant, but actually is\n",
        "        * Cases of fraud not caught by the model\n",
        "    * FP: predicts the person is pregnant, but actually is not\n",
        "        * Cases of 'false alarm'\n",
        "    * the business case determines whether FN or FP cases are more important\n",
        "        * a credit card company might want to catch as much fraud as possible and reduce false negatives, as fraudulent transactions can be incredibly costly\n",
        "            * a false alarm just means a transaction is blocked\n",
        "        * an insurance company can't handle many false alarms, as it means getting a team of investigators involved for each positive prediction\n",
        "        \n",
        "* True Positives / True Negatives are the cases predicted correctly (e.g. fraud / non-fraud)"
      ]
    },
    {
      "cell_type": "markdown",
      "metadata": {
        "id": "ibNB4AOpDGOG"
      },
      "source": [
        "#### Precision Recall\n",
        "\n",
        "* Credit card company wants to optimize for recall\n",
        "* Insurance company wants to optimize for precision\n",
        "* Precision:\n",
        "    * $$Precision=\\frac{\\#\\space True\\space Positives}{\\#\\space True\\space Positives+\\#\\space False\\space Positives}$$\n",
        "    * Fraction of actual fraud cases out of all predicted fraud cases\n",
        "        * true positives relative to the sum of true positives and false positives\n",
        "* Recall:\n",
        "    * $$Recall=\\frac{\\#\\space True\\space Positives}{\\#\\space True\\space Positives+\\#\\space False\\space Negatives}$$\n",
        "    * Fraction of predicted fraud cases out of all actual fraud cases\n",
        "        * true positives relative to the sum of true positives and false negative\n",
        "* Precision and recall are typically inversely related\n",
        "    * As precision increases, recall falls and vice-versa\n",
        "    * ![precision recall inverse relation](https://raw.githubusercontent.com/trenton3983/DataCamp/master/Images/fraud_detection/precision_recall_inverse.JPG)"
      ]
    },
    {
      "cell_type": "markdown",
      "metadata": {
        "id": "MV4f3w1iDGOG"
      },
      "source": [
        "#### F-Score\n",
        "\n",
        "* Weighs both precision and recall into on measure\n",
        "\n",
        "\\begin{align}\n",
        "F-measure = \\frac{2\\times{Precision}\\times{Recall}}{Precision\\times{Recall}} \\\\ \n",
        "\\\\\n",
        "= \\frac{2\\times{TP}}{2\\times{TP}+FP+FN}\n",
        "\\end{align}\n",
        "\n",
        "* is a performance metric that takes into account a balance between Precision and Recall"
      ]
    },
    {
      "cell_type": "markdown",
      "metadata": {
        "id": "gO90Hr4VDGOH"
      },
      "source": [
        "#### Obtaining performance metrics from sklean\n",
        "\n",
        "```python\n",
        "# import the methods\n",
        "from sklearn.metrics import precision_recall_curve, average_precision_score\n",
        "\n",
        "# Calculate average precision and the PR curve\n",
        "average_precision = average_precision_score(y_test, predicted)\n",
        "\n",
        "# Obtain precision and recall\n",
        "precision, recall = precision_recall_curve(y_test, predicted)\n",
        "```"
      ]
    },
    {
      "cell_type": "markdown",
      "metadata": {
        "id": "8Dp6EiGBDGOH"
      },
      "source": [
        "#### Receiver Operating Characteristic (ROC) curve to compare algorithms\n",
        "\n",
        "* Created by plotting the true positive rate against the false positive rate at various threshold settings\n",
        "* ![roc curve](https://raw.githubusercontent.com/trenton3983/DataCamp/master/Images/fraud_detection/roc_curve.JPG)\n",
        "* Useful for comparing performance of different algorithms\n",
        "\n",
        "```python\n",
        "# Obtain model probabilities\n",
        "probs = model.predict_proba(X_test)\n",
        "\n",
        "# Print ROC_AUC score using probabilities\n",
        "print(metrics.roc_auc_score(y_test, probs[:, 1]))\n",
        "```"
      ]
    },
    {
      "cell_type": "markdown",
      "metadata": {
        "id": "ejPoURyyDGOH"
      },
      "source": [
        "#### Confusion matrix and classification report\n",
        "\n",
        "```python\n",
        "from sklearn.metrics import classification_report, confusion_matrix\n",
        "\n",
        "# Obtain predictions\n",
        "predicted = model.predict(X_test)\n",
        "\n",
        "# Print classification report using predictions\n",
        "print(classification_report(y_test, predicted))\n",
        "\n",
        "# Print confusion matrix using predictions\n",
        "print(confusion_matrix(y_test, predicted))\n",
        "```"
      ]
    },
    {
      "cell_type": "markdown",
      "metadata": {
        "id": "LUDaLpsfDGOH"
      },
      "source": [
        "### Performance metrics for the RF model\n",
        "\n",
        "In the previous exercises you obtained an accuracy score for your random forest model. This time, we know **accuracy can be misleading** in the case of fraud detection. With highly imbalanced fraud data, the AUROC curve is a more reliable performance metric, used to compare different classifiers. Moreover, the *classification report* tells you about the precision and recall of your model, whilst the *confusion matrix* actually shows how many fraud cases you can predict correctly. So let's get these performance metrics.\n",
        "\n",
        "You'll continue working on the same random forest model from the previous exercise. Your model, defined as `model = RandomForestClassifier(random_state=5)` has been fitted to your training data already, and `X_train, y_train, X_test, y_test` are available.\n",
        "\n",
        "**Explanation**\n",
        "\n",
        "* Import the classification report, confusion matrix and ROC score from `sklearn.metrics`.\n",
        "* Get the binary predictions from your trained random forest `model`.\n",
        "* Get the predicted probabilities by running the `predict_proba()` function.\n",
        "* Obtain classification report and confusion matrix by comparing `y_test` with `predicted`."
      ]
    },
    {
      "cell_type": "code",
      "metadata": {
        "id": "amTmkCCgDGOH"
      },
      "source": [
        "# Obtain the predictions from our random forest model \n",
        "predicted = model.predict(X_test)"
      ],
      "execution_count": null,
      "outputs": []
    },
    {
      "cell_type": "code",
      "metadata": {
        "id": "x9cPCnkdDGOH"
      },
      "source": [
        "# Predict probabilities\n",
        "probs = model.predict_proba(X_test)"
      ],
      "execution_count": null,
      "outputs": []
    },
    {
      "cell_type": "code",
      "metadata": {
        "id": "pTvERrDsDGOI",
        "colab": {
          "base_uri": "https://localhost:8080/"
        },
        "outputId": "dc6fe843-0bef-4e9b-9139-08d485526045"
      },
      "source": [
        "# Print the ROC curve, classification report and confusion matrix\n",
        "print('ROC Score:')\n",
        "print(roc_auc_score(y_test, probs[:,1]))\n",
        "print('\\nClassification Report:')\n",
        "print(classification_report(y_test, predicted))\n",
        "print('\\nConfusion Matrix:')\n",
        "print(confusion_matrix(y_test, predicted))"
      ],
      "execution_count": null,
      "outputs": [
        {
          "output_type": "stream",
          "text": [
            "ROC Score:\n",
            "0.9419896444670147\n",
            "\n",
            "Classification Report:\n",
            "              precision    recall  f1-score   support\n",
            "\n",
            "           0       0.99      1.00      1.00      2099\n",
            "           1       0.97      0.80      0.88        91\n",
            "\n",
            "    accuracy                           0.99      2190\n",
            "   macro avg       0.98      0.90      0.94      2190\n",
            "weighted avg       0.99      0.99      0.99      2190\n",
            "\n",
            "\n",
            "Confusion Matrix:\n",
            "[[2097    2]\n",
            " [  18   73]]\n"
          ],
          "name": "stdout"
        }
      ]
    },
    {
      "cell_type": "markdown",
      "metadata": {
        "id": "ojmWM8_nDGOI"
      },
      "source": [
        "**You have now obtained more meaningful performance metrics that tell us how well the model performs, given the highly imbalanced data that you're working with. The model predicts 76 cases of fraud, out of which 73 are actual fraud. You have only 3 false positives. This is really good, and as a result you have a very high precision score. You do however, miss 18 cases of actual fraud. Recall is therefore not as good as precision.**"
      ]
    },
    {
      "cell_type": "markdown",
      "metadata": {
        "id": "_HMkgD-EDGOI"
      },
      "source": [
        "### Plotting the Precision vs. Recall Curve\n",
        "\n",
        "You can also plot a **Precision-Recall curve**, to investigate the trade-off between the two in your model. In this curve **Precision and Recall are inversely related**; as Precision increases, Recall falls and vice-versa. A balance between these two needs to be achieved in your model, otherwise you might end up with many false positives, or not enough actual fraud cases caught. To achieve this and to compare performance, the precision-recall curves come in handy.\n",
        "\n",
        "Your Random Forest Classifier is available as `model`, and the predictions as `predicted`. You can simply obtain the average precision score and the PR curve from the sklearn package. The function `plot_pr_curve()` plots the results for you. Let's give it a try.\n",
        "\n",
        "**Explanation 1/3**\n",
        "\n",
        "* Calculate the average precision by running the function on the actual labels `y_test` and your predicted labels `predicted`."
      ]
    },
    {
      "cell_type": "code",
      "metadata": {
        "id": "B8vd26VIDGOI",
        "colab": {
          "base_uri": "https://localhost:8080/"
        },
        "outputId": "ef40c7f7-38f7-4fba-d7ad-1e54e10384d2"
      },
      "source": [
        "# Calculate average precision and the PR curve\n",
        "average_precision = average_precision_score(y_test, predicted)\n",
        "average_precision"
      ],
      "execution_count": null,
      "outputs": [
        {
          "output_type": "execute_result",
          "data": {
            "text/plain": [
              "0.7890250388880526"
            ]
          },
          "metadata": {
            "tags": []
          },
          "execution_count": 58
        }
      ]
    },
    {
      "cell_type": "markdown",
      "metadata": {
        "id": "DhdXvwS3DGOI"
      },
      "source": [
        "**Explanation 2/3**\n",
        "\n",
        "* Run the `precision_recall_curve()` function on the same arguments `y_test` and `predicted` and plot the curve (this last thing has been done for you)."
      ]
    },
    {
      "cell_type": "code",
      "metadata": {
        "id": "CVJ-PeyGDGOJ",
        "colab": {
          "base_uri": "https://localhost:8080/"
        },
        "outputId": "36676e21-239f-4f05-d8c0-40c25a4e3b6b"
      },
      "source": [
        "# Obtain precision and recall \n",
        "precision, recall, _ = precision_recall_curve(y_test, predicted)\n",
        "print(f'Precision: {precision}\\nRecall: {recall}')"
      ],
      "execution_count": null,
      "outputs": [
        {
          "output_type": "stream",
          "text": [
            "Precision: [0.04155251 0.97333333 1.        ]\n",
            "Recall: [1.        0.8021978 0.       ]\n"
          ],
          "name": "stdout"
        }
      ]
    },
    {
      "cell_type": "markdown",
      "metadata": {
        "id": "wDrYwYX6DGOJ"
      },
      "source": [
        "#### def plot_pr_curve"
      ]
    },
    {
      "cell_type": "code",
      "metadata": {
        "id": "HSKn537GDGOJ"
      },
      "source": [
        "def plot_pr_curve(recall, precision, average_precision):\n",
        "    \"\"\"\n",
        "    https://scikit-learn.org/stable/auto_examples/model_selection/plot_precision_recall.html\n",
        "    \"\"\"\n",
        "    from inspect import signature\n",
        "    plt.figure()\n",
        "    step_kwargs = ({'step': 'post'}\n",
        "                   if 'step' in signature(plt.fill_between).parameters\n",
        "                   else {})\n",
        "\n",
        "    plt.step(recall, precision, color='b', alpha=0.2, where='post')\n",
        "    plt.fill_between(recall, precision, alpha=0.2, color='b', **step_kwargs)\n",
        "\n",
        "    plt.xlabel('Recall')\n",
        "    plt.ylabel('Precision')\n",
        "    plt.ylim([0.0, 1.0])\n",
        "    plt.xlim([0.0, 1.0])\n",
        "    plt.title(f'2-class Precision-Recall curve: AP={average_precision:0.2f}')\n",
        "    return plt.show()"
      ],
      "execution_count": null,
      "outputs": []
    },
    {
      "cell_type": "code",
      "metadata": {
        "id": "6mGeAkCiDGOJ",
        "colab": {
          "base_uri": "https://localhost:8080/"
        },
        "outputId": "8bfc11e1-c1d4-4967-b263-669713f67128"
      },
      "source": [
        "# Plot the recall precision tradeoff\n",
        "plot_pr_curve(recall, precision, average_precision)"
      ],
      "execution_count": null,
      "outputs": [
        {
          "output_type": "display_data",
          "data": {
            "image/png": "[encoded data removed]",
            "text/plain": [
              "<Figure size 432x288 with 1 Axes>"
            ]
          },
          "metadata": {
            "tags": [],
            "needs_background": "light"
          }
        }
      ]
    },
    {
      "cell_type": "markdown",
      "metadata": {
        "id": "Wtu88DyaDGOJ"
      },
      "source": [
        "**Explanation 3/3**\n",
        "\n",
        "What's the benefit of the performance metric ROC curve (AUROC) versus Precision and Recall?\n",
        "\n",
        "**Possible Answers**\n",
        "\n",
        "* **The AUROC answers the question: \"How well can this classifier be expected to perform in general, at a variety of different baseline probabilities?\" but precision and recall don't.**\n",
        "* ~~The AUROC answers the question: \"How meaningful is a positive result from my classifier given the baseline probabilities of my problem?\" but precision and recall don't.~~\n",
        "* ~~Precision and Recall are not informative when the data is imbalanced.~~\n",
        "* ~~The AUROC curve allows you to visualize classifier performance and with Precision and Recall you cannot.~~\n",
        "\n",
        "**The ROC curve plots the true positives vs. false positives , for a classifier, as its discrimination threshold is varied. Since, a random method describes a horizontal curve through the unit interval, it has an AUC of 0.5. Minimally, classifiers should perform better than this, and the extent to which they score higher than one another (meaning the area under the ROC curve is larger), they have better expected performance.**"
      ]
    },
    {
      "cell_type": "markdown",
      "metadata": {
        "id": "kFr0unpBDGOK"
      },
      "source": [
        "## Adjusting the algorithm weights\n",
        "\n",
        "* Adjust model parameter to optimize for fraud detection.\n",
        "* When training a model, try different options and settings to get the best recall-precision trade-off\n",
        "* sklearn has two simple options to tweak the model for heavily imbalanced data\n",
        "    * `class_weight`:\n",
        "        * `balanced` mode: `model = RandomForestClassifier(class_weight='balanced')`\n",
        "            * uses the values of y to automatically adjust weights inversely proportional to class frequencies in the the input data\n",
        "            * this option is available for other classifiers\n",
        "                * `model = LogisticRegression(class_weight='balanced')`\n",
        "                * `model = SVC(kernel='linear', class_weight='balanced', probability=True)`\n",
        "        * `balanced_subsample` mode: `model = RandomForestClassifier(class_weight='balanced_subsample')`\n",
        "            * is the same as the `balanced` option, except weights are calculated again at each iteration of growing a tree in a the random forest\n",
        "            * this option is only applicable for the Random Forest model\n",
        "        * manual input\n",
        "            * adjust weights to any ratio, not just value counts relative to sample\n",
        "            * `class_weight={0:1,1:4}`\n",
        "            * this is a good option to slightly upsample the minority class"
      ]
    },
    {
      "cell_type": "markdown",
      "metadata": {
        "id": "6xeoxzkJDGOK"
      },
      "source": [
        "#### Hyperparameter tuning\n",
        "\n",
        "* Random Forest takes many other options to optimize the model\n",
        "\n",
        "```python\n",
        "model = RandomForestClassifier(n_estimators=10, \n",
        "                               criterion=’gini’, \n",
        "                               max_depth=None, \n",
        "                               min_samples_split=2, \n",
        "                               min_samples_leaf=1, \n",
        "                               max_features=’auto’, \n",
        "                               n_jobs=-1, class_weight=None)\n",
        "```\n",
        "\n",
        "* the shape and size of the trees in a random forest are adjusted with **leaf size** and **tree depth**\n",
        "* `n_estimators`: one of the most important setting is the number of trees in the forest\n",
        "* `max_features`: the number of features considered for splitting at each leaf node\n",
        "* `criterion`: change the way the data is split at each node (default is `gini` coefficient)"
      ]
    },
    {
      "cell_type": "markdown",
      "metadata": {
        "id": "KZG07BwHDGOK"
      },
      "source": [
        "#### GridSearchCV for hyperparameter tuning\n",
        "\n",
        "* [sklearn.model_selection.GridSearchCV](https://scikit-learn.org/stable/modules/generated/sklearn.model_selection.GridSearchCV.html)\n",
        "* `from sklearn.model_selection import GridSearchCV`\n",
        "* `GridSearchCV evaluates all combinations of parameters defined in the parameter grid\n",
        "* Random Forest Parameter Grid:\n",
        "\n",
        "```python\n",
        "# Create the parameter grid \n",
        "param_grid = {'max_depth': [80, 90, 100, 110],\n",
        "              'max_features': [2, 3],\n",
        "              'min_samples_leaf': [3, 4, 5],\n",
        "              'min_samples_split': [8, 10, 12],\n",
        "              'n_estimators': [100, 200, 300, 1000]}\n",
        "\n",
        "# Define which model to use\n",
        "model = RandomForestRegressor()\n",
        "\n",
        "# Instantiate the grid search model\n",
        "grid_search_model = GridSearchCV(estimator = model, \n",
        "                                 param_grid = param_grid, \n",
        "                                 cv = 5,\n",
        "                                 n_jobs = -1, \n",
        "                                 scoring='f1')\n",
        "```\n",
        "\n",
        "* define the ML model to be used\n",
        "* put the model into `GridSearchCV`\n",
        "* pass in `param_grid`\n",
        "* frequency of cross-validation\n",
        "* define a scoring metric to evaluate the models\n",
        "    * the default option is accuracy which isn't optimal for fraud detection\n",
        "    * use `precision`, `recall` or `f1`\n",
        "\n",
        "```python\n",
        "# Fit the grid search to the data\n",
        "grid_search_model.fit(X_train, y_train)\n",
        "\n",
        "# Get the optimal parameters \n",
        "grid_search_model.best_params_\n",
        "\n",
        "{'bootstrap': True,\n",
        " 'max_depth': 80,\n",
        " 'max_features': 3,\n",
        " 'min_samples_leaf': 5,\n",
        " 'min_samples_split': 12,\n",
        " 'n_estimators': 100}\n",
        "```\n",
        "\n",
        "* once `GridSearchCV` and `model` are fit to the data, obtain the parameters belonging to the optimal model by using the `best_params_` attribute\n",
        "* `GridSearchCV` is computationally heavy\n",
        "    * Can require many hours, depending on the amount of data and number of parameters in the grid\n",
        "    * __**Save the Results**__\n",
        "\n",
        "```python\n",
        "# Get the best_estimator results\n",
        "grid_search.best_estimator_\n",
        "grid_search.best_score_\n",
        "```\n",
        "\n",
        "* `best_score_`: mean cross-validated score of the `best_estimator_`, which depends on the `scoring` option"
      ]
    },
    {
      "cell_type": "markdown",
      "metadata": {
        "id": "B6dTqNbcDGOK"
      },
      "source": [
        "### Model adjustments\n",
        "\n",
        "A simple way to adjust the random forest model to deal with highly imbalanced fraud data, is to use the **`class_weights` option** when defining the `sklearn` model. However, as you will see, it is a bit of a blunt force mechanism and might not work for your very special case.\n",
        "\n",
        "In this exercise you'll explore the ``weight = \"balanced_subsample\"`` mode the Random Forest model from the earlier exercise. You already have split your data in a training and test set, i.e `X_train`, `X_test`, `y_train`, `y_test` are available. The metrics function have already been imported.\n",
        "\n",
        "**Explanation**\n",
        "\n",
        "* Set the `class_weight` argument of your classifier to `balanced_subsample`.\n",
        "* Fit your model to your training set.\n",
        "* Obtain predictions and probabilities from X_test.\n",
        "* Obtain the `roc_auc_score`, the classification report and confusion matrix."
      ]
    },
    {
      "cell_type": "code",
      "metadata": {
        "id": "93p3vYH9DGOL",
        "colab": {
          "base_uri": "https://localhost:8080/"
        },
        "outputId": "ebca4484-961c-4c2a-dead-fdd8affc25cd"
      },
      "source": [
        "# Define the model with balanced subsample\n",
        "model = RandomForestClassifier(class_weight='balanced_subsample', random_state=5, n_estimators=100)\n",
        "\n",
        "# Fit your training model to your training set\n",
        "model.fit(X_train, y_train)\n",
        "\n",
        "# Obtain the predicted values and probabilities from the model \n",
        "predicted = model.predict(X_test)\n",
        "probs = model.predict_proba(X_test)\n",
        "\n",
        "# Print the ROC curve, classification report and confusion matrix\n",
        "print('ROC Score:')\n",
        "print(roc_auc_score(y_test, probs[:,1]))\n",
        "print('\\nClassification Report:')\n",
        "print(classification_report(y_test, predicted))\n",
        "print('\\nConfusion Matrix:')\n",
        "print(confusion_matrix(y_test, predicted))"
      ],
      "execution_count": null,
      "outputs": [
        {
          "output_type": "stream",
          "text": [
            "ROC Score:\n",
            "0.9712788402640714\n",
            "\n",
            "Classification Report:\n",
            "              precision    recall  f1-score   support\n",
            "\n",
            "           0       0.99      1.00      1.00      2099\n",
            "           1       0.99      0.80      0.88        91\n",
            "\n",
            "    accuracy                           0.99      2190\n",
            "   macro avg       0.99      0.90      0.94      2190\n",
            "weighted avg       0.99      0.99      0.99      2190\n",
            "\n",
            "\n",
            "Confusion Matrix:\n",
            "[[2098    1]\n",
            " [  18   73]]\n"
          ],
          "name": "stdout"
        }
      ]
    },
    {
      "cell_type": "markdown",
      "metadata": {
        "id": "zjneIdaaDGOL"
      },
      "source": [
        "**You can see that the model results don't improve drastically. We now have 3 less false positives, but now 19 in stead of 18 false negatives, i.e. cases of fraud we are not catching. If we mostly care about catching fraud, and not so much about the false positives, this does actually not improve our model at all, albeit a simple option to try. In the next exercises you'll see how to more smartly tweak your model to focus on reducing false negatives and catch more fraud.**"
      ]
    },
    {
      "cell_type": "markdown",
      "metadata": {
        "id": "cn7yz4qqDGOL"
      },
      "source": [
        "### Adjusting RF for fraud detection\n",
        "\n",
        "In this exercise you're going to dive into the options for the random forest classifier, as we'll **assign weights** and **tweak the shape** of the decision trees in the forest. You'll **define weights manually**, to be able to off-set that imbalance slightly. In our case we have 300 fraud to 7000 non-fraud cases, so by setting the weight ratio to 1:12, we get to a 1/3 fraud to 2/3 non-fraud ratio, which is good enough for training the model on.\n",
        "\n",
        "The data in this exercise has already been split into training and test set, so you just need to focus on defining your model. You can then use the function `get_model_results()` as a short cut. This function fits the model to your training data, predicts and obtains performance metrics similar to the steps you did in the previous exercises.\n",
        "\n",
        "**Explanation**\n",
        "\n",
        "* Change the `weight` option to set the ratio to 1 to 12 for the non-fraud and fraud cases, and set the split criterion to 'entropy'.\n",
        "* Set the maximum depth to 10.\n",
        "* Set the minimal samples in leaf nodes to 10.\n",
        "* Set the number of trees to use in the model to 20."
      ]
    },
    {
      "cell_type": "markdown",
      "metadata": {
        "id": "bXII8pQYDGOL"
      },
      "source": [
        "#### def get_model_results"
      ]
    },
    {
      "cell_type": "code",
      "metadata": {
        "id": "0RxExbS0DGOL"
      },
      "source": [
        "def get_model_results(X_train: np.ndarray, y_train: np.ndarray,\n",
        "                      X_test: np.ndarray, y_test: np.ndarray, model):\n",
        "    \"\"\"\n",
        "    model: sklearn model (e.g. RandomForestClassifier)\n",
        "    \"\"\"\n",
        "    # Fit your training model to your training set\n",
        "    model.fit(X_train, y_train)\n",
        "\n",
        "    # Obtain the predicted values and probabilities from the model \n",
        "    predicted = model.predict(X_test)\n",
        "    \n",
        "    try:\n",
        "        probs = model.predict_proba(X_test)\n",
        "        print('ROC Score:')\n",
        "        print(roc_auc_score(y_test, probs[:,1]))\n",
        "    except AttributeError:\n",
        "        pass\n",
        "\n",
        "    # Print the ROC curve, classification report and confusion matrix\n",
        "    print('\\nClassification Report:')\n",
        "    print(classification_report(y_test, predicted))\n",
        "    print('\\nConfusion Matrix:')\n",
        "    print(confusion_matrix(y_test, predicted))"
      ],
      "execution_count": null,
      "outputs": []
    },
    {
      "cell_type": "code",
      "metadata": {
        "id": "V96kKOdsDGOM",
        "colab": {
          "base_uri": "https://localhost:8080/"
        },
        "outputId": "8f4a1c49-39ff-4949-c558-b379df1646d0"
      },
      "source": [
        "# Change the model options\n",
        "model = RandomForestClassifier(bootstrap=True,\n",
        "                               class_weight={0:1, 1:12},\n",
        "                               criterion='entropy',\n",
        "                               # Change depth of model\n",
        "                               max_depth=10,\n",
        "                               # Change the number of samples in leaf nodes\n",
        "                               min_samples_leaf=10, \n",
        "                               # Change the number of trees to use\n",
        "                               n_estimators=20,\n",
        "                               n_jobs=-1,\n",
        "                               random_state=5)\n",
        "\n",
        "# Run the function get_model_results\n",
        "get_model_results(X_train, y_train, X_test, y_test, model)"
      ],
      "execution_count": null,
      "outputs": [
        {
          "output_type": "stream",
          "text": [
            "ROC Score:\n",
            "0.9609651901219315\n",
            "\n",
            "Classification Report:\n",
            "              precision    recall  f1-score   support\n",
            "\n",
            "           0       0.99      1.00      1.00      2099\n",
            "           1       0.97      0.85      0.91        91\n",
            "\n",
            "    accuracy                           0.99      2190\n",
            "   macro avg       0.98      0.92      0.95      2190\n",
            "weighted avg       0.99      0.99      0.99      2190\n",
            "\n",
            "\n",
            "Confusion Matrix:\n",
            "[[2097    2]\n",
            " [  14   77]]\n"
          ],
          "name": "stdout"
        }
      ]
    },
    {
      "cell_type": "markdown",
      "metadata": {
        "id": "gbTQlC8tDGOM"
      },
      "source": [
        "**By smartly defining more options in the model, you can obtain better predictions. You have effectively reduced the number of false negatives, i.e. you are catching more cases of fraud, whilst keeping the number of false positives low. In this exercise you've manually changed the options of the model. There is a smarter way of doing it, by using `GridSearchCV`, which you'll see in the next exercise!**"
      ]
    },
    {
      "cell_type": "markdown",
      "metadata": {
        "id": "COeioewyDGOM"
      },
      "source": [
        "### Parameter optimization with GridSearchCV\n",
        "\n",
        "In this exercise you're going to **tweak our model in a less \"random\" way**, but use `GridSearchCV` to do the work for you.\n",
        "\n",
        "With `GridSearchCV` you can define **which performance metric to score** the options on. Since for fraud detection we are mostly interested in catching as many fraud cases as possible, you can optimize your model settings to get the best possible Recall score. If you also cared about reducing the number of false positives, you could optimize on F1-score, this gives you that nice Precision-Recall trade-off.\n",
        "\n",
        "`GridSearchCV` has already been imported from `sklearn.model_selection`, so let's give it a try!\n",
        "\n",
        "**Explanation**\n",
        "\n",
        "* Define in the parameter grid that you want to try 1 and 30 trees, and that you want to try the `gini` and `entropy` split criterion.\n",
        "* Define the model to be simple `RandomForestClassifier`, you want to keep the random_state at 5 to be able to compare models.\n",
        "* Set the `scoring` option such that it optimizes for recall.\n",
        "* Fit the model to the training data `X_train` and `y_train` and obtain the best parameters for the model."
      ]
    },
    {
      "cell_type": "code",
      "metadata": {
        "id": "4-wj5UfBDGOM",
        "colab": {
          "base_uri": "https://localhost:8080/"
        },
        "outputId": "515e8f0f-83a7-45c8-c272-a640052b55cd"
      },
      "source": [
        "# Define the parameter sets to test\n",
        "param_grid = {'n_estimators': [1, 30],\n",
        "              'max_features': ['auto', 'log2'], \n",
        "              'max_depth': [4, 8, 10, 12],\n",
        "              'criterion': ['gini', 'entropy']}\n",
        "\n",
        "# Define the model to use\n",
        "model = RandomForestClassifier(random_state=5)\n",
        "\n",
        "# Combine the parameter sets with the defined model\n",
        "CV_model = GridSearchCV(estimator=model, param_grid=param_grid, cv=5, scoring='recall', n_jobs=-1)\n",
        "\n",
        "# Fit the model to our training data and obtain best parameters\n",
        "CV_model.fit(X_train, y_train)\n",
        "CV_model.best_params_"
      ],
      "execution_count": null,
      "outputs": [
        {
          "output_type": "execute_result",
          "data": {
            "text/plain": [
              "{'criterion': 'gini',\n",
              " 'max_depth': 8,\n",
              " 'max_features': 'log2',\n",
              " 'n_estimators': 30}"
            ]
          },
          "metadata": {
            "tags": []
          },
          "execution_count": 65
        }
      ]
    },
    {
      "cell_type": "markdown",
      "metadata": {
        "id": "68qDJmquDGOM"
      },
      "source": [
        "### Model results with GridSearchCV\n",
        "\n",
        "You discovered that the **best parameters for your model** are that the split criterion should be set to `'gini'`, the number of estimators (trees) should be 30, the maximum depth of the model should be 8 and the maximum features should be set to `\"log2\"`.\n",
        "\n",
        "Let's give this a try and see how well our model performs. You can use the `get_model_results()` function again to save time.\n",
        "\n",
        "**Explanation**\n",
        "\n",
        "* Input the optimal settings into the model definition.\n",
        "* Fit the model, obtain predictions and get the performance parameters with `get_model_results()`."
      ]
    },
    {
      "cell_type": "code",
      "metadata": {
        "id": "7hYTfxwSDGOM",
        "colab": {
          "base_uri": "https://localhost:8080/"
        },
        "outputId": "23b765a7-94ef-4a8d-c7d0-553aa04b022c"
      },
      "source": [
        "# Input the optimal parameters in the model\n",
        "model = RandomForestClassifier(class_weight={0:1,1:12},\n",
        "                               criterion='gini',\n",
        "                               max_depth=8,\n",
        "                               max_features='log2', \n",
        "                               min_samples_leaf=10,\n",
        "                               n_estimators=30,\n",
        "                               n_jobs=-1,\n",
        "                               random_state=5)\n",
        "\n",
        "# Get results from your model\n",
        "get_model_results(X_train, y_train, X_test, y_test, model)"
      ],
      "execution_count": null,
      "outputs": [
        {
          "output_type": "stream",
          "text": [
            "ROC Score:\n",
            "0.9749697658225529\n",
            "\n",
            "Classification Report:\n",
            "              precision    recall  f1-score   support\n",
            "\n",
            "           0       0.99      1.00      1.00      2099\n",
            "           1       0.95      0.84      0.89        91\n",
            "\n",
            "    accuracy                           0.99      2190\n",
            "   macro avg       0.97      0.92      0.94      2190\n",
            "weighted avg       0.99      0.99      0.99      2190\n",
            "\n",
            "\n",
            "Confusion Matrix:\n",
            "[[2095    4]\n",
            " [  15   76]]\n"
          ],
          "name": "stdout"
        }
      ]
    },
    {
      "cell_type": "markdown",
      "metadata": {
        "id": "HtzReUd6DGON"
      },
      "source": [
        "**The model has been improved even further. The number of false positives has now been slightly reduced even further, which means we are catching more cases of fraud. However, you see that the number of false positives actually went up. That is that Precision-Recall trade-off in action. To decide which final model is best, you need to take into account how bad it is not to catch fraudsters, versus how many false positives the fraud analytics team can deal with. Ultimately, this final decision should be made by you and the fraud team together.**"
      ]
    },
    {
      "cell_type": "markdown",
      "metadata": {
        "id": "vdyOLVkhDGON"
      },
      "source": [
        "## Ensemble methods\n",
        "\n",
        "![ensemble](https://raw.githubusercontent.com/trenton3983/DataCamp/master/Images/fraud_detection/ensemble.JPG)\n",
        "* Ensemble methods are techniques that create multiple machine learning models and then combine them to produce a final result\n",
        "* Usually produce more accurate predictions than a single model\n",
        "* The goal of an ML problem is to find a single model that will best predict our wanted outcome\n",
        "    * Use ensemble methods rather than making one model and hoping it's best, most accurate predictor\n",
        "* Ensemble methods take a myriad of models into account and average them to produce one final model\n",
        "    * Ensures the predictions are robust\n",
        "    * Less likely to be the result of overfitting\n",
        "    * Can improve prediction performance\n",
        "        * Especially by combining models with different recall and precision scores\n",
        "    * Are a winning formula at Kaggle competitions\n",
        "* The Random Forest classifier is an ensemble of Decision Trees\n",
        "    * **Bootstrap Aggregation** or **Bagging Ensemble** method\n",
        "    * In a Random Forest, models are trained on random subsamples of data and the results are aggregated by taking the average prediction of all the trees"
      ]
    },
    {
      "cell_type": "markdown",
      "metadata": {
        "id": "0T47K9NRDGON"
      },
      "source": [
        "#### Stacking Ensemble Methods\n",
        "\n",
        "![stacking ensemble](https://raw.githubusercontent.com/trenton3983/DataCamp/master/Images/fraud_detection/ensemble_stacking.JPG)\n",
        "* Multiple models are combined via a \"voting\" rule on the model outcome\n",
        "* The base level models are each trained based on the complete training set\n",
        "    * Unlike the Bagging method, models are not trained on a subsample of the data\n",
        "* Algorithms of different types can be combined"
      ]
    },
    {
      "cell_type": "markdown",
      "metadata": {
        "id": "rPoqVHRFDGON"
      },
      "source": [
        "#### Voting Classifier\n",
        "\n",
        "* available in sklearn\n",
        "    * easy way of implementing an ensemble model\n",
        "\n",
        "```python\n",
        "from sklearn.ensemble import VotingClassifier\n",
        "\n",
        "# Define Models\n",
        "clf1 = LogisticRegression(random_state=1)\n",
        "clf2 = RandomForestClassifier(random_state=1)\n",
        "clf3 = GaussianNB()\n",
        "\n",
        "# Combine models into ensemble\n",
        "ensemble_model = VotingClassifier(estimators=[('lr', clf1), ('rf', clf2), ('gnb', clf3)], voting='hard')\n",
        "\n",
        "# Fit and predict as with other models\n",
        "ensemble_model.fit(X_train, y_train)\n",
        "ensemble_model.predict(X_test)\n",
        "```\n",
        "\n",
        "* the `voting='hard'` option uses the predicted class labels and takes the majority vote\n",
        "* the `voting='soft'` option takes the average probability by combining the predicted probabilities of the individual models\n",
        "* Weights can be assigned to the `VotingClassifer` with `weights=[2,1,1]`\n",
        "    * Useful when one model significantly outperforms the others"
      ]
    },
    {
      "cell_type": "markdown",
      "metadata": {
        "id": "PdEAro9YDGON"
      },
      "source": [
        "#### Reliable Labels\n",
        "\n",
        "* In real life it's unlikely the data will have truly unbiased, reliable labels for the model\n",
        "* In credit card fraud you often will have reliable labels, in which case, use the methods learned so far\n",
        "* Most cases you'll need to rely on unsupervised learning techniques to detect fraud"
      ]
    },
    {
      "cell_type": "markdown",
      "metadata": {
        "id": "UUSZRJ9mDGON"
      },
      "source": [
        "### Logistic Regression\n",
        "\n",
        "In this last lesson you'll **combine three algorithms** into one model with the **VotingClassifier**. This allows us to benefit from the different aspects from all models, and hopefully improve overall performance and detect more fraud. The first model, the Logistic Regression, has a slightly higher recall score than our optimal Random Forest model, but gives a lot more false positives. You'll also add a Decision Tree with balanced weights to it. The data is already split into a training and test set, i.e. `X_train`, `y_train`, `X_test`, `y_test` are available.\n",
        "\n",
        "In order to understand how the Voting Classifier can potentially improve your original model, you should check the standalone results of the Logistic Regression model first.\n",
        "\n",
        "**Explanation**\n",
        "\n",
        "* Define a LogisticRegression model with class weights that are 1:15 for the fraud cases.\n",
        "* Fit the model to the training set, and obtain the model predictions.\n",
        "* Print the classification report and confusion matrix."
      ]
    },
    {
      "cell_type": "code",
      "metadata": {
        "id": "w_sZCZWhDGOO",
        "colab": {
          "base_uri": "https://localhost:8080/"
        },
        "outputId": "2b620095-4962-4058-8129-1990c681499c"
      },
      "source": [
        "# Define the Logistic Regression model with weights\n",
        "model = LogisticRegression(class_weight={0:1, 1:15}, random_state=5, solver='liblinear')\n",
        "\n",
        "# Get the model results\n",
        "get_model_results(X_train, y_train, X_test, y_test, model)"
      ],
      "execution_count": null,
      "outputs": [
        {
          "output_type": "stream",
          "text": [
            "ROC Score:\n",
            "0.9722054981702433\n",
            "\n",
            "Classification Report:\n",
            "              precision    recall  f1-score   support\n",
            "\n",
            "           0       0.99      0.98      0.99      2099\n",
            "           1       0.63      0.88      0.73        91\n",
            "\n",
            "    accuracy                           0.97      2190\n",
            "   macro avg       0.81      0.93      0.86      2190\n",
            "weighted avg       0.98      0.97      0.98      2190\n",
            "\n",
            "\n",
            "Confusion Matrix:\n",
            "[[2052   47]\n",
            " [  11   80]]\n"
          ],
          "name": "stdout"
        }
      ]
    },
    {
      "cell_type": "markdown",
      "metadata": {
        "id": "-FE1341rDGOO"
      },
      "source": [
        "**As you can see the Logistic Regression has quite different performance from the Random Forest. More false positives, but also a better Recall. It will therefore will a useful addition to the Random Forest in an ensemble model.**"
      ]
    },
    {
      "cell_type": "markdown",
      "metadata": {
        "id": "8putOcIlDGOO"
      },
      "source": [
        "### Voting Classifier\n",
        "\n",
        "Let's now **combine three machine learning models into one**, to improve our Random Forest fraud detection model from before. You'll combine our usual Random Forest model, with the Logistic Regression from the previous exercise, with a simple Decision Tree. You can use the short cut `get_model_results()` to see the immediate result of the ensemble model.\n",
        "\n",
        "**Explanation**\n",
        "\n",
        "* Import the Voting Classifier package.\n",
        "* Define the three models; use the Logistic Regression from before, the Random Forest from previous exercises and a Decision tree with balanced class weights.\n",
        "* Define the ensemble model by inputting the three classifiers with their respective labels."
      ]
    },
    {
      "cell_type": "code",
      "metadata": {
        "id": "ofHcJ2z6DGOO",
        "colab": {
          "base_uri": "https://localhost:8080/"
        },
        "outputId": "0897a8f2-8ac8-446a-93b1-ca59139c32a1"
      },
      "source": [
        "# Define the three classifiers to use in the ensemble\n",
        "clf1 = LogisticRegression(class_weight={0:1, 1:15},\n",
        "                          random_state=5,\n",
        "                          solver='liblinear')\n",
        "\n",
        "clf2 = RandomForestClassifier(class_weight={0:1, 1:12}, \n",
        "                              criterion='gini', \n",
        "                              max_depth=8, \n",
        "                              max_features='log2',\n",
        "                              min_samples_leaf=10, \n",
        "                              n_estimators=30, \n",
        "                              n_jobs=-1,\n",
        "                              random_state=5)\n",
        "\n",
        "clf3 = DecisionTreeClassifier(random_state=5,\n",
        "                              class_weight=\"balanced\")\n",
        "\n",
        "# Combine the classifiers in the ensemble model\n",
        "ensemble_model = VotingClassifier(estimators=[('lr', clf1), ('rf', clf2), ('dt', clf3)], voting='hard')\n",
        "\n",
        "# Get the results \n",
        "get_model_results(X_train, y_train, X_test, y_test, ensemble_model)"
      ],
      "execution_count": null,
      "outputs": [
        {
          "output_type": "stream",
          "text": [
            "\n",
            "Classification Report:\n",
            "              precision    recall  f1-score   support\n",
            "\n",
            "           0       0.99      1.00      0.99      2099\n",
            "           1       0.90      0.86      0.88        91\n",
            "\n",
            "    accuracy                           0.99      2190\n",
            "   macro avg       0.95      0.93      0.94      2190\n",
            "weighted avg       0.99      0.99      0.99      2190\n",
            "\n",
            "\n",
            "Confusion Matrix:\n",
            "[[2090    9]\n",
            " [  13   78]]\n"
          ],
          "name": "stdout"
        }
      ]
    },
    {
      "cell_type": "markdown",
      "metadata": {
        "id": "HOV449EVDGOO"
      },
      "source": [
        "**By combining the classifiers, you can take the best of multiple models. You've increased the cases of fraud you are catching from 76 to 78, and you only have 5 extra false positives in return. If you do care about catching as many fraud cases as you can, whilst keeping the false positives low, this is a pretty good trade-off. The Logistic Regression as a standalone was quite bad in terms of false positives, and the Random Forest was worse in terms of false negatives. By combining these together you indeed managed to improve performance.**"
      ]
    },
    {
      "cell_type": "markdown",
      "metadata": {
        "id": "3sSZ0DtzDGOO"
      },
      "source": [
        "### Adjusting weights within the Voting Classifier\n",
        "\n",
        "You've just seen that the Voting Classifier allows you to improve your fraud detection performance, by combining good aspects from multiple models. Now let's try to **adjust the weights** we give to these models. By increasing or decreasing weights you can play with **how much emphasis you give to a particular model** relative to the rest. This comes in handy when a certain model has overall better performance than the rest, but you still want to combine aspects of the others to further improve your results.\n",
        "\n",
        "For this exercise the data is already split into a training and test set, and `clf1`, `clf2` and `clf3` are available and defined as before, i.e. they are the Logistic Regression, the Random Forest model and the Decision Tree respectively.\n",
        "\n",
        "**Explanation**\n",
        "\n",
        "* Define an ensemble method where you over weigh the second classifier (`clf2`) with 4 to 1 to the rest of the classifiers.\n",
        "* Fit the model to the training and test set, and obtain the predictions `predicted` from the ensemble model.\n",
        "* Print the performance metrics, this is ready for you to run."
      ]
    },
    {
      "cell_type": "code",
      "metadata": {
        "id": "9oE6LpgPDGOP",
        "colab": {
          "base_uri": "https://localhost:8080/"
        },
        "outputId": "030114f5-6d34-4c5e-cc7a-f76d29c9cb2e"
      },
      "source": [
        "# Define the ensemble model\n",
        "ensemble_model = VotingClassifier(estimators=[('lr', clf1), ('rf', clf2), ('gnb', clf3)], voting='soft', weights=[1, 4, 1], flatten_transform=True)\n",
        "\n",
        "# Get results \n",
        "get_model_results(X_train, y_train, X_test, y_test, ensemble_model)"
      ],
      "execution_count": null,
      "outputs": [
        {
          "output_type": "stream",
          "text": [
            "ROC Score:\n",
            "0.9739279300975348\n",
            "\n",
            "Classification Report:\n",
            "              precision    recall  f1-score   support\n",
            "\n",
            "           0       0.99      1.00      1.00      2099\n",
            "           1       0.94      0.85      0.89        91\n",
            "\n",
            "    accuracy                           0.99      2190\n",
            "   macro avg       0.97      0.92      0.94      2190\n",
            "weighted avg       0.99      0.99      0.99      2190\n",
            "\n",
            "\n",
            "Confusion Matrix:\n",
            "[[2094    5]\n",
            " [  14   77]]\n"
          ],
          "name": "stdout"
        }
      ]
    },
    {
      "cell_type": "markdown",
      "metadata": {
        "id": "JQGatEg0DGOP"
      },
      "source": [
        "**The weight option allows you to play with the individual models to get the best final mix for your fraud detection model. Now that you have finalized fraud detection with supervised learning, let's have a look at how fraud detetion can be done when you don't have any labels to train on.**"
      ]
    },
    {
      "cell_type": "markdown",
      "metadata": {
        "id": "a-ycEu45DGOP"
      },
      "source": [
        "# Fraud detection using unlabeled data\n",
        "\n",
        "Use unsupervised learning techniques to detect fraud. Segment customers, use K-means clustering and other clustering algorithms to find suspicious occurrences in your data."
      ]
    },
    {
      "cell_type": "markdown",
      "metadata": {
        "id": "HdUUQsytDGOP"
      },
      "source": [
        "## Normal versus abnormal behavior\n",
        "\n",
        "* Explore fraud detection without reliable data labels\n",
        "* Unsupervised learning to detect suspicious behavior\n",
        "* Abnormal behavior isn't necessarily fraudulent\n",
        "* Challenging because it's difficult to validate"
      ]
    },
    {
      "cell_type": "markdown",
      "metadata": {
        "id": "XvK-9Q_EDGOP"
      },
      "source": [
        "#### What's normal behavior?\n",
        "\n",
        "* thoroughly describe the data:\n",
        "    * plot histograms\n",
        "    * check for outliers\n",
        "    * investigate correlations\n",
        "* Are there any known historic cases of fraud? What typifies those cases?\n",
        "* Investigate whether the data is homogeneous, or whether different types of clients display different behavior\n",
        "* Check patterns within subgroups of data: is your data homogeneous?\n",
        "* Verify data points are the same type:\n",
        "    * individuals\n",
        "    * groups\n",
        "    * companies\n",
        "    * governmental organizations\n",
        "* Do the data points differ on:\n",
        "    * spending patterns\n",
        "    * age\n",
        "    * location\n",
        "    * frequency\n",
        "* For credit card fraud, location can be an indication of fraud\n",
        "* This goes for e-commerce sites\n",
        "    * where's the IP address located and where is the product ordered to ship?\n",
        "* Create a separate model for each segment\n",
        "* How to aggregate the many model results back into one final list"
      ]
    },
    {
      "cell_type": "markdown",
      "metadata": {
        "id": "NGT8ZwuODGOQ"
      },
      "source": [
        "### Exploring the data\n",
        "\n",
        "In the next exercises, you will be looking at bank **payment transaction data**. The financial transactions are categorized by type of expense, as well as the amount spent. Moreover, you have some client characteristics available such as age group and gender. Some of the transactions are labeled as fraud; you'll treat these labels as given and will use those to validate the results.\n",
        "\n",
        "When using unsupervised learning techniques for fraud detection, you want to **distinguish normal from abnormal** (thus potentially fraudulent) behavior. As a fraud analyst to understand what is \"normal\", you need to have a good understanding of the data and its characteristics. Let's explore the data in this first exercise.\n",
        "\n",
        "**Explanation 1/3**\n",
        "\n",
        "* Obtain the shape of the dataframe `df` to inspect the size of our data and display the first rows to see which features are available."
      ]
    },
    {
      "cell_type": "code",
      "metadata": {
        "id": "CtXHRsy1DGOQ"
      },
      "source": [
        "banksim_df = pd.read_csv(banksim_file)\n",
        "banksim_df.drop(['Unnamed: 0'], axis=1, inplace=True)\n",
        "banksim_adj_df = pd.read_csv(banksim_adj_file)\n",
        "banksim_adj_df.drop(['Unnamed: 0'], axis=1, inplace=True)"
      ],
      "execution_count": null,
      "outputs": []
    },
    {
      "cell_type": "code",
      "metadata": {
        "id": "QG_Zg2mPDGOQ",
        "colab": {
          "base_uri": "https://localhost:8080/"
        },
        "outputId": "38403323-1f95-4069-f924-470bf668191f"
      },
      "source": [
        "banksim_df.shape"
      ],
      "execution_count": null,
      "outputs": [
        {
          "output_type": "execute_result",
          "data": {
            "text/plain": [
              "(7200, 5)"
            ]
          },
          "metadata": {
            "tags": []
          },
          "execution_count": 71
        }
      ]
    },
    {
      "cell_type": "code",
      "metadata": {
        "id": "zzqJIqYADGOQ",
        "colab": {
          "base_uri": "https://localhost:8080/"
        },
        "outputId": "50e98147-dbc0-49a2-89e0-688d5a5c21fd"
      },
      "source": [
        "banksim_df.head()"
      ],
      "execution_count": null,
      "outputs": [
        {
          "output_type": "execute_result",
          "data": {
            "text/html": [
              "<div>\n",
              "<style scoped>\n",
              "    .dataframe tbody tr th:only-of-type {\n",
              "        vertical-align: middle;\n",
              "    }\n",
              "\n",
              "    .dataframe tbody tr th {\n",
              "        vertical-align: top;\n",
              "    }\n",
              "\n",
              "    .dataframe thead th {\n",
              "        text-align: right;\n",
              "    }\n",
              "</style>\n",
              "<table border=\"1\" class=\"dataframe\">\n",
              "  <thead>\n",
              "    <tr style=\"text-align: right;\">\n",
              "      <th></th>\n",
              "      <th>age</th>\n",
              "      <th>gender</th>\n",
              "      <th>category</th>\n",
              "      <th>amount</th>\n",
              "      <th>fraud</th>\n",
              "    </tr>\n",
              "  </thead>\n",
              "  <tbody>\n",
              "    <tr>\n",
              "      <th>0</th>\n",
              "      <td>3</td>\n",
              "      <td>F</td>\n",
              "      <td>es_transportation</td>\n",
              "      <td>49.71</td>\n",
              "      <td>0</td>\n",
              "    </tr>\n",
              "    <tr>\n",
              "      <th>1</th>\n",
              "      <td>4</td>\n",
              "      <td>F</td>\n",
              "      <td>es_health</td>\n",
              "      <td>39.29</td>\n",
              "      <td>0</td>\n",
              "    </tr>\n",
              "    <tr>\n",
              "      <th>2</th>\n",
              "      <td>3</td>\n",
              "      <td>F</td>\n",
              "      <td>es_transportation</td>\n",
              "      <td>18.76</td>\n",
              "      <td>0</td>\n",
              "    </tr>\n",
              "    <tr>\n",
              "      <th>3</th>\n",
              "      <td>4</td>\n",
              "      <td>M</td>\n",
              "      <td>es_transportation</td>\n",
              "      <td>13.95</td>\n",
              "      <td>0</td>\n",
              "    </tr>\n",
              "    <tr>\n",
              "      <th>4</th>\n",
              "      <td>2</td>\n",
              "      <td>M</td>\n",
              "      <td>es_transportation</td>\n",
              "      <td>49.87</td>\n",
              "      <td>0</td>\n",
              "    </tr>\n",
              "  </tbody>\n",
              "</table>\n",
              "</div>"
            ],
            "text/plain": [
              "  age gender           category  amount  fraud\n",
              "0   3      F  es_transportation   49.71      0\n",
              "1   4      F          es_health   39.29      0\n",
              "2   3      F  es_transportation   18.76      0\n",
              "3   4      M  es_transportation   13.95      0\n",
              "4   2      M  es_transportation   49.87      0"
            ]
          },
          "metadata": {
            "tags": []
          },
          "execution_count": 72
        }
      ]
    },
    {
      "cell_type": "code",
      "metadata": {
        "id": "RTEx_uamDGOQ",
        "colab": {
          "base_uri": "https://localhost:8080/"
        },
        "outputId": "65aba1b6-de86-436c-d1d7-cded605fe292"
      },
      "source": [
        "banksim_adj_df.shape"
      ],
      "execution_count": null,
      "outputs": [
        {
          "output_type": "execute_result",
          "data": {
            "text/plain": [
              "(7189, 18)"
            ]
          },
          "metadata": {
            "tags": []
          },
          "execution_count": 73
        }
      ]
    },
    {
      "cell_type": "code",
      "metadata": {
        "id": "5BkThKF2DGOQ",
        "colab": {
          "base_uri": "https://localhost:8080/"
        },
        "outputId": "78c5b0b0-6a6d-41bf-d665-faac1340f627"
      },
      "source": [
        "banksim_adj_df.head()"
      ],
      "execution_count": null,
      "outputs": [
        {
          "output_type": "execute_result",
          "data": {
            "text/html": [
              "<div>\n",
              "<style scoped>\n",
              "    .dataframe tbody tr th:only-of-type {\n",
              "        vertical-align: middle;\n",
              "    }\n",
              "\n",
              "    .dataframe tbody tr th {\n",
              "        vertical-align: top;\n",
              "    }\n",
              "\n",
              "    .dataframe thead th {\n",
              "        text-align: right;\n",
              "    }\n",
              "</style>\n",
              "<table border=\"1\" class=\"dataframe\">\n",
              "  <thead>\n",
              "    <tr style=\"text-align: right;\">\n",
              "      <th></th>\n",
              "      <th>age</th>\n",
              "      <th>amount</th>\n",
              "      <th>fraud</th>\n",
              "      <th>M</th>\n",
              "      <th>es_barsandrestaurants</th>\n",
              "      <th>es_contents</th>\n",
              "      <th>es_fashion</th>\n",
              "      <th>es_food</th>\n",
              "      <th>es_health</th>\n",
              "      <th>es_home</th>\n",
              "      <th>es_hotelservices</th>\n",
              "      <th>es_hyper</th>\n",
              "      <th>es_leisure</th>\n",
              "      <th>es_otherservices</th>\n",
              "      <th>es_sportsandtoys</th>\n",
              "      <th>es_tech</th>\n",
              "      <th>es_transportation</th>\n",
              "      <th>es_travel</th>\n",
              "    </tr>\n",
              "  </thead>\n",
              "  <tbody>\n",
              "    <tr>\n",
              "      <th>0</th>\n",
              "      <td>3</td>\n",
              "      <td>49.71</td>\n",
              "      <td>0</td>\n",
              "      <td>0</td>\n",
              "      <td>0</td>\n",
              "      <td>0</td>\n",
              "      <td>0</td>\n",
              "      <td>0</td>\n",
              "      <td>0</td>\n",
              "      <td>0</td>\n",
              "      <td>0</td>\n",
              "      <td>0</td>\n",
              "      <td>0</td>\n",
              "      <td>0</td>\n",
              "      <td>0</td>\n",
              "      <td>0</td>\n",
              "      <td>1</td>\n",
              "      <td>0</td>\n",
              "    </tr>\n",
              "    <tr>\n",
              "      <th>1</th>\n",
              "      <td>4</td>\n",
              "      <td>39.29</td>\n",
              "      <td>0</td>\n",
              "      <td>0</td>\n",
              "      <td>0</td>\n",
              "      <td>0</td>\n",
              "      <td>0</td>\n",
              "      <td>0</td>\n",
              "      <td>1</td>\n",
              "      <td>0</td>\n",
              "      <td>0</td>\n",
              "      <td>0</td>\n",
              "      <td>0</td>\n",
              "      <td>0</td>\n",
              "      <td>0</td>\n",
              "      <td>0</td>\n",
              "      <td>0</td>\n",
              "      <td>0</td>\n",
              "    </tr>\n",
              "    <tr>\n",
              "      <th>2</th>\n",
              "      <td>3</td>\n",
              "      <td>18.76</td>\n",
              "      <td>0</td>\n",
              "      <td>0</td>\n",
              "      <td>0</td>\n",
              "      <td>0</td>\n",
              "      <td>0</td>\n",
              "      <td>0</td>\n",
              "      <td>0</td>\n",
              "      <td>0</td>\n",
              "      <td>0</td>\n",
              "      <td>0</td>\n",
              "      <td>0</td>\n",
              "      <td>0</td>\n",
              "      <td>0</td>\n",
              "      <td>0</td>\n",
              "      <td>1</td>\n",
              "      <td>0</td>\n",
              "    </tr>\n",
              "    <tr>\n",
              "      <th>3</th>\n",
              "      <td>4</td>\n",
              "      <td>13.95</td>\n",
              "      <td>0</td>\n",
              "      <td>1</td>\n",
              "      <td>0</td>\n",
              "      <td>0</td>\n",
              "      <td>0</td>\n",
              "      <td>0</td>\n",
              "      <td>0</td>\n",
              "      <td>0</td>\n",
              "      <td>0</td>\n",
              "      <td>0</td>\n",
              "      <td>0</td>\n",
              "      <td>0</td>\n",
              "      <td>0</td>\n",
              "      <td>0</td>\n",
              "      <td>1</td>\n",
              "      <td>0</td>\n",
              "    </tr>\n",
              "    <tr>\n",
              "      <th>4</th>\n",
              "      <td>2</td>\n",
              "      <td>49.87</td>\n",
              "      <td>0</td>\n",
              "      <td>1</td>\n",
              "      <td>0</td>\n",
              "      <td>0</td>\n",
              "      <td>0</td>\n",
              "      <td>0</td>\n",
              "      <td>0</td>\n",
              "      <td>0</td>\n",
              "      <td>0</td>\n",
              "      <td>0</td>\n",
              "      <td>0</td>\n",
              "      <td>0</td>\n",
              "      <td>0</td>\n",
              "      <td>0</td>\n",
              "      <td>1</td>\n",
              "      <td>0</td>\n",
              "    </tr>\n",
              "  </tbody>\n",
              "</table>\n",
              "</div>"
            ],
            "text/plain": [
              "   age  amount  fraud  M  es_barsandrestaurants  es_contents  es_fashion  \\\n",
              "0    3   49.71      0  0                      0            0           0   \n",
              "1    4   39.29      0  0                      0            0           0   \n",
              "2    3   18.76      0  0                      0            0           0   \n",
              "3    4   13.95      0  1                      0            0           0   \n",
              "4    2   49.87      0  1                      0            0           0   \n",
              "\n",
              "   es_food  es_health  es_home  es_hotelservices  es_hyper  es_leisure  \\\n",
              "0        0          0        0                 0         0           0   \n",
              "1        0          1        0                 0         0           0   \n",
              "2        0          0        0                 0         0           0   \n",
              "3        0          0        0                 0         0           0   \n",
              "4        0          0        0                 0         0           0   \n",
              "\n",
              "   es_otherservices  es_sportsandtoys  es_tech  es_transportation  es_travel  \n",
              "0                 0                 0        0                  1          0  \n",
              "1                 0                 0        0                  0          0  \n",
              "2                 0                 0        0                  1          0  \n",
              "3                 0                 0        0                  1          0  \n",
              "4                 0                 0        0                  1          0  "
            ]
          },
          "metadata": {
            "tags": []
          },
          "execution_count": 74
        }
      ]
    },
    {
      "cell_type": "markdown",
      "metadata": {
        "id": "gLdLTvEoDGOR"
      },
      "source": [
        "**Explanation 2/3**\n",
        "\n",
        "* Group the data by transaction category and take the mean of the data."
      ]
    },
    {
      "cell_type": "code",
      "metadata": {
        "id": "c8XJcvWKDGOR",
        "colab": {
          "base_uri": "https://localhost:8080/"
        },
        "outputId": "dbb68a0f-7859-40cc-c1ba-296b9b78e096"
      },
      "source": [
        "banksim_df.groupby(['category']).mean()"
      ],
      "execution_count": null,
      "outputs": [
        {
          "output_type": "execute_result",
          "data": {
            "text/html": [
              "<div>\n",
              "<style scoped>\n",
              "    .dataframe tbody tr th:only-of-type {\n",
              "        vertical-align: middle;\n",
              "    }\n",
              "\n",
              "    .dataframe tbody tr th {\n",
              "        vertical-align: top;\n",
              "    }\n",
              "\n",
              "    .dataframe thead th {\n",
              "        text-align: right;\n",
              "    }\n",
              "</style>\n",
              "<table border=\"1\" class=\"dataframe\">\n",
              "  <thead>\n",
              "    <tr style=\"text-align: right;\">\n",
              "      <th></th>\n",
              "      <th>amount</th>\n",
              "      <th>fraud</th>\n",
              "    </tr>\n",
              "    <tr>\n",
              "      <th>category</th>\n",
              "      <th></th>\n",
              "      <th></th>\n",
              "    </tr>\n",
              "  </thead>\n",
              "  <tbody>\n",
              "    <tr>\n",
              "      <th>es_barsandrestaurants</th>\n",
              "      <td>43.841793</td>\n",
              "      <td>0.022472</td>\n",
              "    </tr>\n",
              "    <tr>\n",
              "      <th>es_contents</th>\n",
              "      <td>55.170000</td>\n",
              "      <td>0.000000</td>\n",
              "    </tr>\n",
              "    <tr>\n",
              "      <th>es_fashion</th>\n",
              "      <td>59.780769</td>\n",
              "      <td>0.020619</td>\n",
              "    </tr>\n",
              "    <tr>\n",
              "      <th>es_food</th>\n",
              "      <td>35.216050</td>\n",
              "      <td>0.000000</td>\n",
              "    </tr>\n",
              "    <tr>\n",
              "      <th>es_health</th>\n",
              "      <td>126.604704</td>\n",
              "      <td>0.242798</td>\n",
              "    </tr>\n",
              "    <tr>\n",
              "      <th>es_home</th>\n",
              "      <td>120.688317</td>\n",
              "      <td>0.208333</td>\n",
              "    </tr>\n",
              "    <tr>\n",
              "      <th>es_hotelservices</th>\n",
              "      <td>172.756245</td>\n",
              "      <td>0.548387</td>\n",
              "    </tr>\n",
              "    <tr>\n",
              "      <th>es_hyper</th>\n",
              "      <td>46.788180</td>\n",
              "      <td>0.125000</td>\n",
              "    </tr>\n",
              "    <tr>\n",
              "      <th>es_leisure</th>\n",
              "      <td>229.757600</td>\n",
              "      <td>1.000000</td>\n",
              "    </tr>\n",
              "    <tr>\n",
              "      <th>es_otherservices</th>\n",
              "      <td>149.648960</td>\n",
              "      <td>0.600000</td>\n",
              "    </tr>\n",
              "    <tr>\n",
              "      <th>es_sportsandtoys</th>\n",
              "      <td>157.251737</td>\n",
              "      <td>0.657895</td>\n",
              "    </tr>\n",
              "    <tr>\n",
              "      <th>es_tech</th>\n",
              "      <td>132.852862</td>\n",
              "      <td>0.179487</td>\n",
              "    </tr>\n",
              "    <tr>\n",
              "      <th>es_transportation</th>\n",
              "      <td>27.422014</td>\n",
              "      <td>0.000000</td>\n",
              "    </tr>\n",
              "    <tr>\n",
              "      <th>es_travel</th>\n",
              "      <td>231.818656</td>\n",
              "      <td>0.944444</td>\n",
              "    </tr>\n",
              "    <tr>\n",
              "      <th>es_wellnessandbeauty</th>\n",
              "      <td>66.167078</td>\n",
              "      <td>0.060606</td>\n",
              "    </tr>\n",
              "  </tbody>\n",
              "</table>\n",
              "</div>"
            ],
            "text/plain": [
              "                           amount     fraud\n",
              "category                                   \n",
              "es_barsandrestaurants   43.841793  0.022472\n",
              "es_contents             55.170000  0.000000\n",
              "es_fashion              59.780769  0.020619\n",
              "es_food                 35.216050  0.000000\n",
              "es_health              126.604704  0.242798\n",
              "es_home                120.688317  0.208333\n",
              "es_hotelservices       172.756245  0.548387\n",
              "es_hyper                46.788180  0.125000\n",
              "es_leisure             229.757600  1.000000\n",
              "es_otherservices       149.648960  0.600000\n",
              "es_sportsandtoys       157.251737  0.657895\n",
              "es_tech                132.852862  0.179487\n",
              "es_transportation       27.422014  0.000000\n",
              "es_travel              231.818656  0.944444\n",
              "es_wellnessandbeauty    66.167078  0.060606"
            ]
          },
          "metadata": {
            "tags": []
          },
          "execution_count": 75
        }
      ]
    },
    {
      "cell_type": "markdown",
      "metadata": {
        "id": "z7DUf3jCDGOR"
      },
      "source": [
        "**Explanation 3/3**\n",
        "\n",
        "Based on these results, can you already say something about fraud in our data?\n",
        "\n",
        "**Possible Answers**\n",
        "\n",
        "* ~~No, I don't have enough information.~~\n",
        "* **Yes, the majority of fraud is observed in travel, leisure and sports related transactions.**"
      ]
    },
    {
      "cell_type": "markdown",
      "metadata": {
        "id": "tbo7UjxpDGOR"
      },
      "source": [
        "### Customer segmentation\n",
        "\n",
        "In this exercise you're going to check whether there are any **obvious patterns** for the clients in this data, thus whether you need to segment your data into groups, or whether the data is rather homogenous.\n",
        "\n",
        "You unfortunately don't have a lot client information available; you can't for example distinguish between the wealth levels of different clients. However, there is data on **age ** available, so let's see whether there is any significant difference between behavior of age groups.\n",
        "\n",
        "**Explanation 1/3**\n",
        "\n",
        "* Group the dataframe `df` by the category `age` and get the means for each age group."
      ]
    },
    {
      "cell_type": "code",
      "metadata": {
        "id": "JNho4H7dDGOR",
        "colab": {
          "base_uri": "https://localhost:8080/"
        },
        "outputId": "43e8bfa4-aaa7-4ff6-ed14-b816c1887675"
      },
      "source": [
        "banksim_df.groupby(['age']).mean()"
      ],
      "execution_count": null,
      "outputs": [
        {
          "output_type": "execute_result",
          "data": {
            "text/html": [
              "<div>\n",
              "<style scoped>\n",
              "    .dataframe tbody tr th:only-of-type {\n",
              "        vertical-align: middle;\n",
              "    }\n",
              "\n",
              "    .dataframe tbody tr th {\n",
              "        vertical-align: top;\n",
              "    }\n",
              "\n",
              "    .dataframe thead th {\n",
              "        text-align: right;\n",
              "    }\n",
              "</style>\n",
              "<table border=\"1\" class=\"dataframe\">\n",
              "  <thead>\n",
              "    <tr style=\"text-align: right;\">\n",
              "      <th></th>\n",
              "      <th>amount</th>\n",
              "      <th>fraud</th>\n",
              "    </tr>\n",
              "    <tr>\n",
              "      <th>age</th>\n",
              "      <th></th>\n",
              "      <th></th>\n",
              "    </tr>\n",
              "  </thead>\n",
              "  <tbody>\n",
              "    <tr>\n",
              "      <th>0</th>\n",
              "      <td>49.468935</td>\n",
              "      <td>0.050000</td>\n",
              "    </tr>\n",
              "    <tr>\n",
              "      <th>1</th>\n",
              "      <td>35.622829</td>\n",
              "      <td>0.026648</td>\n",
              "    </tr>\n",
              "    <tr>\n",
              "      <th>2</th>\n",
              "      <td>37.228665</td>\n",
              "      <td>0.028718</td>\n",
              "    </tr>\n",
              "    <tr>\n",
              "      <th>3</th>\n",
              "      <td>37.279338</td>\n",
              "      <td>0.023283</td>\n",
              "    </tr>\n",
              "    <tr>\n",
              "      <th>4</th>\n",
              "      <td>36.197985</td>\n",
              "      <td>0.035966</td>\n",
              "    </tr>\n",
              "    <tr>\n",
              "      <th>5</th>\n",
              "      <td>37.547521</td>\n",
              "      <td>0.023990</td>\n",
              "    </tr>\n",
              "    <tr>\n",
              "      <th>6</th>\n",
              "      <td>36.700852</td>\n",
              "      <td>0.022293</td>\n",
              "    </tr>\n",
              "    <tr>\n",
              "      <th>U</th>\n",
              "      <td>39.117000</td>\n",
              "      <td>0.000000</td>\n",
              "    </tr>\n",
              "  </tbody>\n",
              "</table>\n",
              "</div>"
            ],
            "text/plain": [
              "        amount     fraud\n",
              "age                     \n",
              "0    49.468935  0.050000\n",
              "1    35.622829  0.026648\n",
              "2    37.228665  0.028718\n",
              "3    37.279338  0.023283\n",
              "4    36.197985  0.035966\n",
              "5    37.547521  0.023990\n",
              "6    36.700852  0.022293\n",
              "U    39.117000  0.000000"
            ]
          },
          "metadata": {
            "tags": []
          },
          "execution_count": 76
        }
      ]
    },
    {
      "cell_type": "markdown",
      "metadata": {
        "id": "EaaijLXPDGOR"
      },
      "source": [
        "**Instructions 2/3**\n",
        "\n",
        "* Count the values of each age group."
      ]
    },
    {
      "cell_type": "code",
      "metadata": {
        "id": "unv1Vh_jDGOS",
        "colab": {
          "base_uri": "https://localhost:8080/"
        },
        "outputId": "95370195-5562-499a-bbf7-462a6b2440f2"
      },
      "source": [
        "banksim_df.age.value_counts()"
      ],
      "execution_count": null,
      "outputs": [
        {
          "output_type": "execute_result",
          "data": {
            "text/plain": [
              "2    2333\n",
              "3    1718\n",
              "4    1279\n",
              "5     792\n",
              "1     713\n",
              "6     314\n",
              "0      40\n",
              "U      11\n",
              "Name: age, dtype: int64"
            ]
          },
          "metadata": {
            "tags": []
          },
          "execution_count": 77
        }
      ]
    },
    {
      "cell_type": "markdown",
      "metadata": {
        "id": "q987lBEaDGOS"
      },
      "source": [
        "**Instructions 3/3**\n",
        "\n",
        "Based on the results you see, does it make sense to divide your data into age segments before running a fraud detection algorithm?\n",
        "\n",
        "**Possible Answers**\n",
        "\n",
        "* **No, the age groups who are the largest are relatively similar.**\n",
        "* ~~Yes, the age group \"0\" is very different and I would split that one out.~~\n",
        "\n",
        "**The average amount spent as well as fraud occurrence is rather similar across groups. Age group '0' stands out but since there are only 40 cases, it does not make sense to split these out in a separate group and run a separate model on them.**"
      ]
    },
    {
      "cell_type": "markdown",
      "metadata": {
        "id": "CqX9MdlNDGOT"
      },
      "source": [
        "### Using statistics to define normal behavior\n",
        "\n",
        "In the previous exercises we saw that fraud is **more prevalent in certain transaction categories**, but that there is no obvious way to segment our data into for example age groups. This time, let's investigate the **average amounts spent** in normal transactions versus fraud transactions. This gives you an idea of how fraudulent transactions **differ structurally** from normal transactions.\n",
        "\n",
        "**Explanation**\n",
        "\n",
        "* Create two new dataframes from fraud and non-fraud observations. Locate the data in `df` with `.loc` and assign the condition \"where fraud is 1\" and \"where fraud is 0\" for creation of the new dataframes.\n",
        "* Plot the `amount` column of the newly created dataframes in the histogram plot functions and assign the labels `fraud` and `nonfraud` respectively to the plots."
      ]
    },
    {
      "cell_type": "code",
      "metadata": {
        "id": "4rTk6yfNDGOT"
      },
      "source": [
        "# Create two dataframes with fraud and non-fraud data \n",
        "df_fraud = banksim_df[banksim_df.fraud == 1] \n",
        "df_non_fraud = banksim_df[banksim_df.fraud == 0]"
      ],
      "execution_count": null,
      "outputs": []
    },
    {
      "cell_type": "code",
      "metadata": {
        "id": "Ihf5X9Y4DGOT",
        "colab": {
          "base_uri": "https://localhost:8080/"
        },
        "outputId": "000039d2-ef3a-44c9-f837-e6cc601eb83b"
      },
      "source": [
        "# Plot histograms of the amounts in fraud and non-fraud data \n",
        "plt.hist(df_fraud.amount, alpha=0.5, label='fraud')\n",
        "plt.hist(df_non_fraud.amount, alpha=0.5, label='nonfraud')\n",
        "plt.xlabel('amount')\n",
        "plt.legend()\n",
        "plt.show()"
      ],
      "execution_count": null,
      "outputs": [
        {
          "output_type": "display_data",
          "data": {
            "image/png": "[encoded data removed]",
            "text/plain": [
              "<Figure size 432x288 with 1 Axes>"
            ]
          },
          "metadata": {
            "tags": [],
            "needs_background": "light"
          }
        }
      ]
    },
    {
      "cell_type": "markdown",
      "metadata": {
        "id": "i0b_Q4QpDGOT"
      },
      "source": [
        "**As the number fraud observations is much smaller, it is difficult to see the full distribution. Nonetheless, you can see that the fraudulent transactions tend to be on the larger side relative to normal observations. This is good news, as it helps us later in detecting fraud from non-fraud. In the next chapter you're going to implement a clustering model to distinguish between normal and abnormal transactions, when the fraud labels are no longer available.**"
      ]
    },
    {
      "cell_type": "markdown",
      "metadata": {
        "id": "Blm7hdXkDGOU"
      },
      "source": [
        "## Clustering methods to detect fraud"
      ]
    },
    {
      "cell_type": "markdown",
      "metadata": {
        "id": "7YcPfsVFDGOU"
      },
      "source": [
        "#### K-means clustering\n",
        "\n",
        "![k-means](https://raw.githubusercontent.com/trenton3983/DataCamp/master/Images/fraud_detection/k-means.JPG)\n",
        "\n",
        "* The objective of any clustering model is to detect patterns in the data\n",
        "* More specifically, to group the data into distinct clusters made of data points that are very similar to each other, but distinct from the points in the other clusters.\n",
        "* **The objective of k-means is to minimize the sum of all distances between the data samples and their associated cluster centroids**\n",
        "    * The score is the inverse of that minimization, so the score should be close to 0.\n",
        "* **Using the distance to cluster centroids**\n",
        "    * Training samples are shown as dots and cluster centroids are shown as crosses\n",
        "    * Attempt to cluster the data in image A\n",
        "        * Start by putting in an initial guess for two cluster centroids, as in B\n",
        "        * Predefine the number of clusters at the start\n",
        "        * Then calculate the distances of each sample in the data to the closest centroid\n",
        "        * Figure C shows the data split into the two clusters\n",
        "        * Based on the initial clusters, the location of the centroids can be redefined (fig D) to minimize the sum of all distances in the two clusters.\n",
        "        * Repeat the step of reassigning points that are nearest to the centroid (fig E) until it converges to the point where no sample gets reassigned to another cluster (fig F)\n",
        "        * ![clustering](https://raw.githubusercontent.com/trenton3983/DataCamp/master/Images/fraud_detection/clustering.JPG)"
      ]
    },
    {
      "cell_type": "markdown",
      "metadata": {
        "id": "beq2srMvDGOU"
      },
      "source": [
        "#### K-means clustering in Python\n",
        "\n",
        "* It's of utmost importance to scale the data before doing K-means clustering, or any algorithm that uses distances\n",
        "* Without scaling, features on a larger scale will weight more heavily in the algorithm.  All features should weigh equally at the initial stage\n",
        "* fix `random_state` so models can be compared\n",
        "\n",
        "```python\n",
        "# Import the packages\n",
        "from sklearn.preprocessing import MinMaxScaler\n",
        "from sklearn.cluster import KMeans\n",
        "\n",
        "# Transform and scale your data\n",
        "X = np.array(df).astype(np.float)\n",
        "scaler = MinMaxScaler()\n",
        "X_scaled = scaler.fit_transform(X)\n",
        "\n",
        "# Define the k-means model and fit to the data\n",
        "kmeans = KMeans(n_clusters=6, random_state=42).fit(X_scaled)\n",
        "```"
      ]
    },
    {
      "cell_type": "markdown",
      "metadata": {
        "id": "Pxncxv1gDGOU"
      },
      "source": [
        "#### The right amount of clusters\n",
        "\n",
        "* The drawback of K-means clustering is the need to assign the number of clusters beforehand\n",
        "* There are multiple ways to check what the right number of clusters should be\n",
        "    * Silhouette method\n",
        "    * Elbow curve\n",
        "* By running a k-means model on clusters varying from 1 to 10 and generate an **elbow curve** by saving the scores for each model under \"score\".\n",
        "* Plot the scores against the number of clusters\n",
        "\n",
        "    \n",
        "```python\n",
        "clust = range(1, 10) \n",
        "kmeans = [KMeans(n_clusters=i) for i in clust]\n",
        "\n",
        "score = [kmeans[i].fit(X_scaled).score(X_scaled) for i in range(len(kmeans))]\n",
        "\n",
        "plt.plot(clust,score)\n",
        "plt.xlabel('Number of Clusters')\n",
        "plt.ylabel('Score')\n",
        "plt.title('Elbow Curve')\n",
        "plt.show()\n",
        "```\n",
        "\n",
        "![elbow curve](https://raw.githubusercontent.com/trenton3983/DataCamp/master/Images/fraud_detection/elbow.JPG)\n",
        "\n",
        "* The slight elbow at 3 means that 3 clusters could be optimal, but it's not very pronounced"
      ]
    },
    {
      "cell_type": "markdown",
      "metadata": {
        "id": "uLYZV895DGOU"
      },
      "source": [
        "### Scaling the data\n",
        "\n",
        "For ML algorithms using distance based metrics, it is **crucial to always scale your data**, as features using different scales will distort your results. K-means uses the Euclidean distance to assess distance to cluster centroids, therefore you first need to scale your data before continuing to implement the algorithm. Let's do that first.\n",
        "\n",
        "Available is the dataframe `df` from the previous exercise, with some minor data preparation done so it is ready for you to use with `sklearn`. The fraud labels are separately stored under labels, you can use those to check the results later.\n",
        "\n",
        "**Explanation**\n",
        "\n",
        "* Import the ``MinMaxScaler``.\n",
        "* Transform your dataframe `df` into a numpy array `X` by taking only the values of `df` and make sure you have all `float` values.\n",
        "* Apply the defined scaler onto `X` to obtain scaled values of `X_scaled` to force all your features to a 0-1 scale."
      ]
    },
    {
      "cell_type": "code",
      "metadata": {
        "id": "VW4i_MF-DGOU"
      },
      "source": [
        "labels = banksim_adj_df.fraud"
      ],
      "execution_count": null,
      "outputs": []
    },
    {
      "cell_type": "code",
      "metadata": {
        "id": "BV8FI61JDGOV"
      },
      "source": [
        "cols = ['age', 'amount', 'M', 'es_barsandrestaurants', 'es_contents',\n",
        "        'es_fashion', 'es_food', 'es_health', 'es_home', 'es_hotelservices',\n",
        "        'es_hyper', 'es_leisure', 'es_otherservices', 'es_sportsandtoys',\n",
        "        'es_tech', 'es_transportation', 'es_travel']"
      ],
      "execution_count": null,
      "outputs": []
    },
    {
      "cell_type": "code",
      "metadata": {
        "id": "vac4kBmDDGOV"
      },
      "source": [
        "# Take the float values of df for X\n",
        "X = banksim_adj_df[cols].values.astype(np.float)"
      ],
      "execution_count": null,
      "outputs": []
    },
    {
      "cell_type": "code",
      "metadata": {
        "id": "cupyH1ZaDGOV",
        "colab": {
          "base_uri": "https://localhost:8080/"
        },
        "outputId": "a559fb2e-cf0c-4ef7-90f4-ccdd5a5dfe74"
      },
      "source": [
        "X.shape"
      ],
      "execution_count": null,
      "outputs": [
        {
          "output_type": "execute_result",
          "data": {
            "text/plain": [
              "(7189, 17)"
            ]
          },
          "metadata": {
            "tags": []
          },
          "execution_count": 83
        }
      ]
    },
    {
      "cell_type": "code",
      "metadata": {
        "id": "NeBZyOQCDGOV"
      },
      "source": [
        "# Define the scaler and apply to the data\n",
        "scaler = MinMaxScaler()\n",
        "X_scaled = scaler.fit_transform(X)"
      ],
      "execution_count": null,
      "outputs": []
    },
    {
      "cell_type": "markdown",
      "metadata": {
        "id": "Stben5vGDGOV"
      },
      "source": [
        "### K-mean clustering\n",
        "\n",
        "A very commonly used clustering algorithm is **K-means clustering**. For fraud detection, K-means clustering is straightforward to implement and relatively powerful in predicting suspicious cases. It is a good algorithm to start with when working on fraud detection problems. However, fraud data is oftentimes very large, especially when you are working with transaction data. **MiniBatch K-means** is an **efficient way** to implement K-means on a large dataset, which you will use in this exercise.\n",
        "\n",
        "The scaled data from the previous exercise, `X_scaled` is available. Let's give it a try.\n",
        "\n",
        "**Explanation**\n",
        "\n",
        "* Import `MiniBatchKMeans` from `sklearn`.\n",
        "* Initialize the minibatch kmeans model with 8 clusters.\n",
        "* Fit the model to your scaled data."
      ]
    },
    {
      "cell_type": "code",
      "metadata": {
        "id": "aBhM3OgZDGOV",
        "colab": {
          "base_uri": "https://localhost:8080/"
        },
        "outputId": "b574aa09-0b50-4b6c-ee8c-3d6ea533c7a8"
      },
      "source": [
        "# Define the model \n",
        "kmeans = MiniBatchKMeans(n_clusters=8, random_state=0)\n",
        "\n",
        "# Fit the model to the scaled data\n",
        "kmeans.fit(X_scaled)"
      ],
      "execution_count": null,
      "outputs": [
        {
          "output_type": "execute_result",
          "data": {
            "text/plain": [
              "MiniBatchKMeans(batch_size=100, compute_labels=True, init='k-means++',\n",
              "                init_size=None, max_iter=100, max_no_improvement=10,\n",
              "                n_clusters=8, n_init=3, random_state=0, reassignment_ratio=0.01,\n",
              "                tol=0.0, verbose=0)"
            ]
          },
          "metadata": {
            "tags": []
          },
          "execution_count": 85
        }
      ]
    },
    {
      "cell_type": "markdown",
      "metadata": {
        "id": "WlGO_gWpDGOW"
      },
      "source": [
        "**You have now fitted your MiniBatch K-means model to the data. In the upcoming exercises you're going to explore whether this model is any good at flagging fraud. But before doing that, you still need to figure our what the right number of clusters to use is. Let's do that in the next exercise.**"
      ]
    },
    {
      "cell_type": "markdown",
      "metadata": {
        "id": "S15aWTnCDGOW"
      },
      "source": [
        "### Elbow method\n",
        "\n",
        "In the previous exercise you've implemented MiniBatch K-means with 8 clusters, without actually checking what the right amount of clusters should be. For our first fraud detection approach, it is important to **get the number of clusters right**, especially when you want to use the outliers of those clusters as fraud predictions. To decide which amount of clusters you're going to use, let's apply the **Elbow method** and see what the optimal number of clusters should be based on this method.\n",
        "\n",
        "`X_scaled` is again available for you to use and `MiniBatchKMeans` has been imported from `sklearn`.\n",
        "\n",
        "**Explanation**\n",
        "\n",
        "* Define the range to be between 1 and 10 clusters.\n",
        "* Run MiniBatch K-means on all the clusters in the range using list comprehension.\n",
        "* Fit each model on the scaled data and obtain the scores from the scaled data.\n",
        "* Plot the cluster numbers and their respective scores."
      ]
    },
    {
      "cell_type": "code",
      "metadata": {
        "id": "oDDSX8qGDGOW"
      },
      "source": [
        "# Define the range of clusters to try\n",
        "clustno = range(1, 10)\n",
        "\n",
        "# Run MiniBatch Kmeans over the number of clusters\n",
        "kmeans = [MiniBatchKMeans(n_clusters=i) for i in clustno]\n",
        "\n",
        "# Obtain the score for each model\n",
        "score = [kmeans[i].fit(X_scaled).score(X_scaled) for i in range(len(kmeans))]"
      ],
      "execution_count": null,
      "outputs": []
    },
    {
      "cell_type": "code",
      "metadata": {
        "id": "_66DavJBDGOW",
        "colab": {
          "base_uri": "https://localhost:8080/"
        },
        "outputId": "9b87a1cd-82e5-47ff-c6d8-4efced850bf6"
      },
      "source": [
        "# Plot the models and their respective score \n",
        "plt.plot(clustno, score)\n",
        "plt.xlabel('Number of Clusters')\n",
        "plt.ylabel('Score')\n",
        "plt.title('Elbow Curve')\n",
        "plt.show()"
      ],
      "execution_count": null,
      "outputs": [
        {
          "output_type": "display_data",
          "data": {
            "image/png": "[encoded data removed]",
            "text/plain": [
              "<Figure size 432x288 with 1 Axes>"
            ]
          },
          "metadata": {
            "tags": [],
            "needs_background": "light"
          }
        }
      ]
    },
    {
      "cell_type": "markdown",
      "metadata": {
        "id": "0mGRACJyDGOW"
      },
      "source": [
        "**Now you can see that the optimal number of clusters should probably be at around 3 clusters, as that is where the elbow is in the curve. We'll use this in the next exercise as our baseline model, and see how well this does in detecting fraud**"
      ]
    },
    {
      "cell_type": "markdown",
      "metadata": {
        "id": "Q1eEEc7yDGOW"
      },
      "source": [
        "## Assigning fraud vs. non-fraud\n",
        "\n",
        "* ![clusters](https://raw.githubusercontent.com/trenton3983/DataCamp/master/Images/fraud_detection/clusters_1.JPG)\n",
        "* Take the outliers of each cluster, and flag those as fraud.\n",
        "* ![clusters](https://raw.githubusercontent.com/trenton3983/DataCamp/master/Images/fraud_detection/clusters_2.JPG)\n",
        "1. Collect and store the cluster centroids in memory\n",
        "    * Starting point to decide what's normal and not\n",
        "1. Calculate the distance of each point in the dataset, to their own cluster centroid\n",
        "* ![clusters](https://raw.githubusercontent.com/trenton3983/DataCamp/master/Images/fraud_detection/clusters_3.JPG)\n",
        "    * Euclidean distance is depicted by the circles in this case\n",
        "    * Define a cut-off point for the distances to define what's an outlier\n",
        "        * Done based on the distributions of the distances collected\n",
        "        * i.e. everything with a distance larger than the top 95th percentile, should be considered an outlier\n",
        "        * the tail of the distribution of distances\n",
        "        * anything outside the yellow circles is an outlier\n",
        "        * ![clusters](https://raw.githubusercontent.com/trenton3983/DataCamp/master/Images/fraud_detection/clusters_4.JPG)\n",
        "        * these are definitely outliers and can be described as abnormal or suspicious\n",
        "            * doesn't necessarily mean they are fraudulent"
      ]
    },
    {
      "cell_type": "markdown",
      "metadata": {
        "id": "QsWVpO92DGOW"
      },
      "source": [
        "#### Flagging Fraud Based on Distance to Centroid\n",
        "\n",
        "```python\n",
        "# Run the kmeans model on scaled data\n",
        "kmeans = KMeans(n_clusters=6, random_state=42,n_jobs=-1).fit(X_scaled)\n",
        "\n",
        "# Get the cluster number for each datapoint\n",
        "X_clusters = kmeans.predict(X_scaled)\n",
        "\n",
        "# Save the cluster centroids\n",
        "X_clusters_centers = kmeans.cluster_centers_\n",
        "\n",
        "# Calculate the distance to the cluster centroid for each point\n",
        "dist = [np.linalg.norm(x-y) for x,y in zip(X_scaled, X_clusters_centers[X_clusters])]\n",
        "\n",
        "# Create predictions based on distance\n",
        "km_y_pred = np.array(dist)\n",
        "km_y_pred[dist>=np.percentile(dist, 93)] = 1\n",
        "km_y_pred[dist<np.percentile(dist, 93)] = 0\n",
        "```\n",
        "\n",
        "* `np.linalg.norm`: returns the vector norm, the vector of distance for each datapoint to their assigned cluster\n",
        "* use the percentiles of the distances to determine which samples are outliers"
      ]
    },
    {
      "cell_type": "markdown",
      "metadata": {
        "id": "tiW9lJZzDGOX"
      },
      "source": [
        "#### Validating the Model Results\n",
        "\n",
        "* without fraud labels, the usual performance metrics can't be run\n",
        "    * check with the fraud analyst\n",
        "    * investigate and describe cases that are flagged in more detail\n",
        "        * is it fraudulent or just a rare case of legit data\n",
        "        * avoid rare, legit cases by deleting certain features or removing the cases from the data\n",
        "    * if there are past cases of fraud, see if the model can predict them using historic data"
      ]
    },
    {
      "cell_type": "markdown",
      "metadata": {
        "id": "m-SWnrh_DGOX"
      },
      "source": [
        "### Detecting outliers\n",
        "\n",
        "In the next exercises, you're going to use the K-means algorithm to predict fraud, and compare those predictions to the actual labels that are saved, to sense check our results.\n",
        "\n",
        "The fraudulent transactions are typically flagged as the observations that are furthest aways from the cluster centroid. You'll learn how to do this and how to determine the cut-off in this exercise. In the next one, you'll check the results.\n",
        "\n",
        "Available are the scaled observations X_scaled, as well as the labels stored under the variable y.\n",
        "\n",
        "**Explanation**\n",
        "\n",
        "* Split the scaled data and labels y into a train and test set.\n",
        "* Define the MiniBatch K-means model with 3 clusters, and fit to the training data.\n",
        "* Get the cluster predictions from your test data and obtain the cluster centroids.\n",
        "* Define the boundary between fraud and non fraud to be at 95% of distance distribution and higher."
      ]
    },
    {
      "cell_type": "code",
      "metadata": {
        "id": "h7i8hta_DGOX"
      },
      "source": [
        "# Split the data into training and test set\n",
        "X_train, X_test, y_train, y_test = train_test_split(X_scaled, labels, test_size=0.3, random_state=0)\n",
        "\n",
        "# Define K-means model \n",
        "kmeans = MiniBatchKMeans(n_clusters=3, random_state=42).fit(X_train)\n",
        "\n",
        "# Obtain predictions and calculate distance from cluster centroid\n",
        "X_test_clusters = kmeans.predict(X_test)\n",
        "X_test_clusters_centers = kmeans.cluster_centers_\n",
        "dist = [np.linalg.norm(x-y) for x, y in zip(X_test, X_test_clusters_centers[X_test_clusters])]\n",
        "\n",
        "# Create fraud predictions based on outliers on clusters \n",
        "km_y_pred = np.array(dist)\n",
        "km_y_pred[dist >= np.percentile(dist, 95)] = 1\n",
        "km_y_pred[dist < np.percentile(dist, 95)] = 0"
      ],
      "execution_count": null,
      "outputs": []
    },
    {
      "cell_type": "markdown",
      "metadata": {
        "id": "JzSsmDfmDGOX"
      },
      "source": [
        "### Checking model results\n",
        "\n",
        "In the previous exercise you've flagged all observations to be fraud, if they are in the top 5th percentile in distance from the cluster centroid. I.e. these are the very outliers of the three clusters. For this exercise you have the scaled data and labels already split into training and test set, so y_test is available. The predictions from the previous exercise, km_y_pred, are also available. Let's create some performance metrics and see how well you did.\n",
        "\n",
        "**Explanation 1/3**\n",
        "\n",
        "* Obtain the area under the ROC curve from your test labels and predicted labels."
      ]
    },
    {
      "cell_type": "code",
      "metadata": {
        "id": "neXAXxhODGOX"
      },
      "source": [
        "def plot_confusion_matrix(cm, classes=['Not Fraud', 'Fraud'],\n",
        "                          normalize=False,\n",
        "                          title='Fraud Confusion matrix',\n",
        "                          cmap=plt.cm.Blues):\n",
        "    \"\"\"\n",
        "    This function prints and plots the confusion matrix.\n",
        "    Normalization can be applied by setting `normalize=True`.\n",
        "    From:\n",
        "        http://scikit-learn.org/stable/auto_examples/model_selection/plot_confusion_matrix.html#sphx-glr-auto-\n",
        "        examples-model-selection-plot-confusion-matrix-py\n",
        "    \"\"\"\n",
        "    if normalize:\n",
        "        cm = cm.astype('float') / cm.sum(axis=1)[:, np.newaxis]\n",
        "        print(\"Normalized confusion matrix\")\n",
        "    else:\n",
        "        print('Confusion matrix, without normalization')\n",
        "\n",
        "    # print(cm)\n",
        "\n",
        "    plt.imshow(cm, interpolation='nearest', cmap=cmap)\n",
        "    plt.title(title)\n",
        "    plt.colorbar()\n",
        "    tick_marks = np.arange(len(classes))\n",
        "    plt.xticks(tick_marks, classes, rotation=45)\n",
        "    plt.yticks(tick_marks, classes)\n",
        "\n",
        "    fmt = '.2f' if normalize else 'd'\n",
        "    thresh = cm.max() / 2.\n",
        "    for i, j in product(range(cm.shape[0]), range(cm.shape[1])):\n",
        "        plt.text(j, i, format(cm[i, j], fmt),\n",
        "                 horizontalalignment=\"center\",\n",
        "                 color=\"white\" if cm[i, j] > thresh else \"black\")\n",
        "\n",
        "    plt.tight_layout()\n",
        "    plt.ylabel('True label')\n",
        "    plt.xlabel('Predicted label')\n",
        "    plt.show()"
      ],
      "execution_count": null,
      "outputs": []
    },
    {
      "cell_type": "code",
      "metadata": {
        "id": "dyGt-GWrDGOX",
        "colab": {
          "base_uri": "https://localhost:8080/"
        },
        "outputId": "af40a312-de40-4edb-91a6-74ca8b4fd9e4"
      },
      "source": [
        "# Obtain the ROC score\n",
        "roc_auc_score(y_test, km_y_pred)"
      ],
      "execution_count": null,
      "outputs": [
        {
          "output_type": "execute_result",
          "data": {
            "text/plain": [
              "0.8109115999408585"
            ]
          },
          "metadata": {
            "tags": []
          },
          "execution_count": 90
        }
      ]
    },
    {
      "cell_type": "markdown",
      "metadata": {
        "id": "UTtWGTArDGOX"
      },
      "source": [
        "**Instructions 2/3**\n",
        "\n",
        "* Obtain the confusion matrix from the test labels and predicted labels and plot the results."
      ]
    },
    {
      "cell_type": "code",
      "metadata": {
        "id": "nlmO5fWkDGOY",
        "colab": {
          "base_uri": "https://localhost:8080/"
        },
        "outputId": "9fb5e556-130d-4237-d4c2-e04fc91b4b6e"
      },
      "source": [
        "# Create a confusion matrix\n",
        "km_cm = confusion_matrix(y_test, km_y_pred)\n",
        "\n",
        "# Plot the confusion matrix in a figure to visualize results \n",
        "plot_confusion_matrix(km_cm)"
      ],
      "execution_count": null,
      "outputs": [
        {
          "output_type": "stream",
          "text": [
            "Confusion matrix, without normalization\n"
          ],
          "name": "stdout"
        },
        {
          "output_type": "display_data",
          "data": {
            "image/png": "[encoded data removed]",
            "text/plain": [
              "<Figure size 432x288 with 2 Axes>"
            ]
          },
          "metadata": {
            "tags": [],
            "needs_background": "light"
          }
        }
      ]
    },
    {
      "cell_type": "markdown",
      "metadata": {
        "id": "lkpzyrhrDGOY"
      },
      "source": [
        "**Instructions 3/3**\n",
        "\n",
        "If you were to decrease the percentile used as a cutoff point in the previous exercise to 93% instead of 95%, what would that do to your prediction results?\n",
        "\n",
        "**Possible Answers**\n",
        "\n",
        "* **The number of fraud cases caught increases, but false positives also increase.**\n",
        "* ~~The number of fraud cases caught decreases, and false positives decrease.~~\n",
        "* ~~The number of fraud cases caught increases, but false positives would decrease.~~\n",
        "* ~~Nothing would happen to the amount of fraud cases caught.~~"
      ]
    },
    {
      "cell_type": "markdown",
      "metadata": {
        "id": "6f4lZAawDGOY"
      },
      "source": [
        "## Alternate clustering methods for fraud detection\n",
        "\n",
        "* In addition to K-means, there are many different clustering methods, which can be used for fraud detection\n",
        "* ![clustering methods](https://raw.githubusercontent.com/trenton3983/DataCamp/master/Images/fraud_detection/clustering_methods.JPG)\n",
        "* K-means works well when the data is clustered in normal, round shapes\n",
        "* There are methods to flag fraud other the cluster outliers\n",
        "* ![clustering outlier](https://raw.githubusercontent.com/trenton3983/DataCamp/master/Images/fraud_detection/cluster_outlier.JPG)\n",
        "    * Small clusters can be an indication of fraud\n",
        "    * This approach can be used when fraudulent behavior has commonalities, which cause clustering\n",
        "    * The fraudulent data would cluster in tiny groups, rather than be the outliers of larger clusters\n",
        "* ![typical data](https://raw.githubusercontent.com/trenton3983/DataCamp/master/Images/fraud_detection/typical_data.JPG)\n",
        "    * In this case there are 3 obvious clusters\n",
        "    * The smallest dots are outliers and outside of what can be described as normal behavior\n",
        "    * There are also small to medium clusters closely connected to the red cluster\n",
        "    * Visualizing the data with something like [PCA](https://en.wikipedia.org/wiki/Principal_component_analysis) can be quite helpful"
      ]
    },
    {
      "cell_type": "markdown",
      "metadata": {
        "id": "5Zrnd3xqDGOY"
      },
      "source": [
        "#### DBSCAN: Density-Based Spatial Clustering of Applications with Noise\n",
        "\n",
        "* [DBscan](https://en.wikipedia.org/wiki/DBSCAN)\n",
        "* DBSCAN vs. K-means\n",
        "    * The number of clusters does not need to be predefined\n",
        "        * The algorithm finds core samples of high density and expands clusters from them\n",
        "        * Works well on data containing clusters of similar density\n",
        "    * This type of algorithm can be used to identify fraud as very small clusters\n",
        "    * Maximum allowed distance between points in a cluster must be assigned\n",
        "    * Minimal number of data points in clusters must be assigned\n",
        "    * Better performance on weirdly shaped data\n",
        "    * Computationally heavier then MiniBatch K-means"
      ]
    },
    {
      "cell_type": "markdown",
      "metadata": {
        "id": "ePHoW_KmDGOY"
      },
      "source": [
        "#### Implementation of DBSCAN\n",
        "\n",
        "```python\n",
        "from sklearn.cluster import DBSCAN\n",
        "db = DBSCAN(eps=0.5, min_samples=10, n_jobs=-1).fit(X_scaled)\n",
        "\n",
        "# Get the cluster labels (aka numbers)\n",
        "pred_labels = db.labels_\n",
        "\n",
        "# Count the total number of clusters\n",
        "n_clusters_ = len(set(pred_labels)) - (1 if -1 in pred_labels else 0)\n",
        "\n",
        "# Print model results\n",
        "print(f'Estimated number of clusters: {n_clusters_}')\n",
        ">>> Estimated number of clusters: 31\n",
        "    \n",
        "# Print model results\n",
        "print(f'Silhouette Coefficient: {metrics.silhouette_score(X_scaled, pred_labels):0.3f}')\n",
        ">>> Silhouette Coefficient: 0.359\n",
        "    \n",
        "# Get sample counts in each cluster \n",
        "counts = np.bincount(pred_labels[pred_labels>=0])\n",
        "print(counts)\n",
        ">>> [ 763, 496, 840, 355 1086, 676, 63, 306, 560, 134, 28, 18, 262, 128,\n",
        "     332, 22, 22, 13, 31, 38, 36, 28, 14, 12, 30, 10, 11, 10, 21, 10, 5]\n",
        "```\n",
        "\n",
        "* start by defining the epsilon `eps`\n",
        "    * Distance between data points allowed from which the cluster expands\n",
        "* define minimum samples in the clusters\n",
        "* conventional DBSCAN can't produce the optimal value of epsilon, so it requires sophisticated DBSCAN modifications to automatically determine the optimal epsilon value\n",
        "* Fit DBSCAN to **scaled data**\n",
        "* Use `labels_` method to get the assigned cluster label for each data point\n",
        "* The cluster count can also be determine by counting the unique cluster labels from the cluster `label_` predictions\n",
        "* Can have performance metrics such as **average silhouette score**\n",
        "* The size of each cluster can be calculated with `np.bincount`\n",
        "    * counts the number of occurrences of non-negative values in a `numpy` array\n",
        "* sort `counts` and decide how many of the smaller clusters to flag as fraud\n",
        "    * selecting the clusters to flag, is a trial-and-error step and depends on the number of cases the fraud team can manage"
      ]
    },
    {
      "cell_type": "markdown",
      "metadata": {
        "id": "wHzHY6FKDGOY"
      },
      "source": [
        "### DB scan\n",
        "\n",
        "In this exercise you're going to explore using a **density based clustering** method (DBSCAN) to detect fraud. The advantage of DBSCAN is that you **do not need to define the number of clusters** beforehand. Also, DBSCAN can handle weirdly shaped data (i.e. non-convex) much better than K-means can. This time, you are not going to take the outliers of the clusters and use that for fraud, but take the **smallest clusters** in the data and label those as fraud. You again have the scaled dataset, i.e. X_scaled available. Let's give it a try!\n",
        "\n",
        "**Explanation**\n",
        "\n",
        "* Import `DBSCAN`.\n",
        "* Initialize a DBSCAN model setting the maximum distance between two samples to 0.9 and the minimum observations in the clusters to 10, and fit the model to the scaled data.\n",
        "* Obtain the predicted labels, these are the cluster numbers assigned to an observation.\n",
        "* Print the number of clusters and the rest of the performance metrics."
      ]
    },
    {
      "cell_type": "code",
      "metadata": {
        "id": "HR-0J8KyDGOY"
      },
      "source": [
        "# Initialize and fit the DBscan model\n",
        "db = DBSCAN(eps=0.9, min_samples=10, n_jobs=-1).fit(X_scaled)\n",
        "\n",
        "# Obtain the predicted labels and calculate number of clusters\n",
        "pred_labels = db.labels_\n",
        "n_clusters = len(set(pred_labels)) - (1 if -1 in labels else 0)"
      ],
      "execution_count": null,
      "outputs": []
    },
    {
      "cell_type": "code",
      "metadata": {
        "id": "-qY1qMRHDGOZ",
        "colab": {
          "base_uri": "https://localhost:8080/"
        },
        "outputId": "f311d2a3-f2b8-411a-a726-509f209e8938"
      },
      "source": [
        "# Print performance metrics for DBscan\n",
        "print(f'Estimated number of clusters: {n_clusters}')\n",
        "print(f'Homogeneity: {homogeneity_score(labels, pred_labels):0.3f}')\n",
        "print(f'Silhouette Coefficient: {silhouette_score(X_scaled, pred_labels):0.3f}')"
      ],
      "execution_count": null,
      "outputs": [
        {
          "output_type": "stream",
          "text": [
            "Estimated number of clusters: 23\n",
            "Homogeneity: 0.612\n",
            "Silhouette Coefficient: 0.713\n"
          ],
          "name": "stdout"
        }
      ]
    },
    {
      "cell_type": "markdown",
      "metadata": {
        "id": "JGVFONWlDGOZ"
      },
      "source": [
        "**The number of clusters is much higher than with K-means. For fraud detection this is for now OK, as we are only interested in the smallest clusters, since those are considered as abnormal. Now have a look at those clusters and decide which one to flag as fraud.**"
      ]
    },
    {
      "cell_type": "markdown",
      "metadata": {
        "id": "brh8HG8oDGOa"
      },
      "source": [
        "### Assessing smallest clusters\n",
        "\n",
        "In this exercise you're going to have a look at the clusters that came out of DBscan, and flag certain clusters as fraud:\n",
        "\n",
        "* you first need to figure out how big the clusters are, and **filter out the smallest**\n",
        "* then, you're going to take the smallest ones and **flag those as fraud**\n",
        "* last, you'll **check with the original labels** whether this does actually do a good job in detecting fraud.\n",
        "\n",
        "Available are the DBscan model predictions, so `n_clusters` is available as well as the cluster labels, which are saved under `pred_labels`. Let's give it a try!\n",
        "\n",
        "**Explanation 1/3**\n",
        "\n",
        "* Count the samples within each cluster by running a bincount on the predicted cluster numbers under `pred_labels` and print the results."
      ]
    },
    {
      "cell_type": "code",
      "metadata": {
        "id": "NCpkBtbHDGOa",
        "colab": {
          "base_uri": "https://localhost:8080/"
        },
        "outputId": "ed3942bf-e288-4305-d9a9-d0c1b6bc56fd"
      },
      "source": [
        "# Count observations in each cluster number\n",
        "counts = np.bincount(pred_labels[pred_labels >= 0])\n",
        "\n",
        "# Print the result\n",
        "print(counts)"
      ],
      "execution_count": null,
      "outputs": [
        {
          "output_type": "stream",
          "text": [
            "[3252  145 2714   55  174  119  122   98   54   15   76   15   43   25\n",
            "   51   47   42   15   25   20   19   10]\n"
          ],
          "name": "stdout"
        }
      ]
    },
    {
      "cell_type": "markdown",
      "metadata": {
        "id": "0fwwu9CADGOa"
      },
      "source": [
        "**Instructions 2/3**\n",
        "\n",
        "* Sort the sample `counts` and take the top 3 smallest clusters, and print the results."
      ]
    },
    {
      "cell_type": "code",
      "metadata": {
        "id": "y7_ig9y4DGOa"
      },
      "source": [
        "# Sort the sample counts of the clusters and take the top 3 smallest clusters\n",
        "smallest_clusters = np.argsort(counts)[:3]"
      ],
      "execution_count": null,
      "outputs": []
    },
    {
      "cell_type": "code",
      "metadata": {
        "id": "5dcstltJDGOa",
        "colab": {
          "base_uri": "https://localhost:8080/"
        },
        "outputId": "b0e8959c-5633-401b-c1ff-98d782e5fe92"
      },
      "source": [
        "# Print the results \n",
        "print(f'The smallest clusters are clusters: {smallest_clusters}')"
      ],
      "execution_count": null,
      "outputs": [
        {
          "output_type": "stream",
          "text": [
            "The smallest clusters are clusters: [21 17  9]\n"
          ],
          "name": "stdout"
        }
      ]
    },
    {
      "cell_type": "markdown",
      "metadata": {
        "id": "7EmZ6WjjDGOa"
      },
      "source": [
        "**Instructions 3/3**\n",
        "\n",
        "* Within `counts`, select the smallest clusters only, to print the number of samples in the three smallest clusters."
      ]
    },
    {
      "cell_type": "code",
      "metadata": {
        "id": "MjsMjYr5DGOb",
        "colab": {
          "base_uri": "https://localhost:8080/"
        },
        "outputId": "5eaeebf9-6dbb-4d50-e087-ce3dcab012df"
      },
      "source": [
        "# Print the counts of the smallest clusters only\n",
        "print(f'Their counts are: {counts[smallest_clusters]}')"
      ],
      "execution_count": null,
      "outputs": [
        {
          "output_type": "stream",
          "text": [
            "Their counts are: [10 15 15]\n"
          ],
          "name": "stdout"
        }
      ]
    },
    {
      "cell_type": "markdown",
      "metadata": {
        "id": "wTys8YDlDGOb"
      },
      "source": [
        "**So now we know which smallest clusters you could flag as fraud. If you were to take more of the smallest clusters, you cast your net wider and catch more fraud, but most likely also more false positives. It is up to the fraud analyst to find the right amount of cases to flag and to investigate. In the next exercise you'll check the results with the actual labels.**"
      ]
    },
    {
      "cell_type": "markdown",
      "metadata": {
        "id": "cFs91zrRDGOb"
      },
      "source": [
        "### Results verification\n",
        "\n",
        "In this exercise you're going to **check the results** of your DBscan fraud detection model. In reality, you often don't have reliable labels and this where a fraud analyst can help you validate the results. He/She can check your results and see whether the cases you flagged are indeed suspicious. You can also **check historically known cases** of fraud and see whether your model flags them.\n",
        "\n",
        "In this case, you'll **use the fraud labels** to check your model results. The predicted cluster numbers are available under `pred_labels` as well as the original fraud `labels`.\n",
        "\n",
        "**Explanation**\n",
        "\n",
        "* Create a dataframe combining the cluster numbers with the actual labels.\n",
        "* Create a condition that flags fraud for the three smallest clusters: clusters 21, 17 and 9.\n",
        "* Create a crosstab from the actual fraud labels with the newly created predicted fraud labels."
      ]
    },
    {
      "cell_type": "code",
      "metadata": {
        "id": "B-3ul04aDGOb"
      },
      "source": [
        "# Create a dataframe of the predicted cluster numbers and fraud labels \n",
        "df = pd.DataFrame({'clusternr':pred_labels,'fraud':labels})\n",
        "\n",
        "# Create a condition flagging fraud for the smallest clusters \n",
        "df['predicted_fraud'] = np.where((df['clusternr'].isin([21, 17, 9])), 1 , 0)"
      ],
      "execution_count": null,
      "outputs": []
    },
    {
      "cell_type": "code",
      "metadata": {
        "id": "y0k3TTHWDGOb",
        "colab": {
          "base_uri": "https://localhost:8080/"
        },
        "outputId": "effc9b7a-d2c8-47d0-a27e-0800bb7a603b"
      },
      "source": [
        "# Run a crosstab on the results \n",
        "print(pd.crosstab(df['fraud'], df['predicted_fraud'], rownames=['Actual Fraud'], colnames=['Flagged Fraud']))"
      ],
      "execution_count": null,
      "outputs": [
        {
          "output_type": "stream",
          "text": [
            "Flagged Fraud     0   1\n",
            "Actual Fraud           \n",
            "0              6973  16\n",
            "1               176  24\n"
          ],
          "name": "stdout"
        }
      ]
    },
    {
      "cell_type": "markdown",
      "metadata": {
        "id": "XBCvFNQVDGOb"
      },
      "source": [
        "**How does this compare to the K-means model? The good thing is: our of all flagged cases, roughly 2/3 are actually fraud! Since you only take the three smallest clusters, by definition you flag less cases of fraud, so you catch less but also have less false positives. However, you are missing quite a lot of fraud cases. Increasing the amount of smallest clusters you flag could improve that, at the cost of more false positives of course. In the next chapter you'll learn how to further improve fraud detection models by including text analysis.**"
      ]
    },
    {
      "cell_type": "markdown",
      "metadata": {
        "id": "nZ85mTZpDGOc"
      },
      "source": [
        "# Fraud detection using text\n",
        "\n",
        "Use text data, text mining and topic modeling to detect fraudulent behavior."
      ]
    },
    {
      "cell_type": "markdown",
      "metadata": {
        "id": "mGSHt0O7DGOc"
      },
      "source": [
        "## Using text data\n",
        "\n",
        "* Types of useful text data:\n",
        "    1. Emails from employees and/or clients\n",
        "    1. Transaction descriptions\n",
        "    1. Employee notes\n",
        "    1. Insurance claim form description box\n",
        "    1. Recorded telephone conversations\n",
        "* Text mining techniques for fraud detection\n",
        "    1. Word search\n",
        "    1. Sentiment analysis\n",
        "    1. Word frequencies and topic analysis\n",
        "    1. Style\n",
        "* Word search for fraud detection\n",
        "    * Flagging suspicious words:\n",
        "        1. Simple, straightforward and easy to explain\n",
        "        1. Match results can be used as a filter on top of machine learning model\n",
        "        1. Match results can be used as a feature in a machine learning model"
      ]
    },
    {
      "cell_type": "markdown",
      "metadata": {
        "id": "JZLlFiWQDGOc"
      },
      "source": [
        "#### Word counts to flag fraud with pandas\n",
        "\n",
        "```python\n",
        "# Using a string operator to find words\n",
        "df['email_body'].str.contains('money laundering')\n",
        "\n",
        " # Select data that matches \n",
        "df.loc[df['email_body'].str.contains('money laundering', na=False)]\n",
        "\n",
        " # Create a list of words to search for\n",
        "list_of_words = ['police', 'money laundering']\n",
        "df.loc[df['email_body'].str.contains('|'.join(list_of_words), na=False)]\n",
        "\n",
        " # Create a fraud flag \n",
        "df['flag'] = np.where((df['email_body'].str.contains('|'.join(list_of_words)) == True), 1, 0)\n",
        "```"
      ]
    },
    {
      "cell_type": "markdown",
      "metadata": {
        "id": "xuHoC8EKDGOc"
      },
      "source": [
        "### Word search with dataframes\n",
        "\n",
        "In this exercise you're going to work with text data, containing emails from Enron employees. The **Enron scandal** is a famous fraud case. Enron employees covered up the bad financial position of the company, thereby keeping the stock price artificially high. Enron employees sold their own stock options, and when the truth came out, Enron investors were left with nothing. The goal is to find all emails that mention specific words, such as \"sell enron stock\".\n",
        "\n",
        "By using string operations on dataframes, you can easily sift through messy email data and create flags based on word-hits. The Enron email data has been put into a dataframe called `df` so let's search for suspicious terms. Feel free to explore `df` in the Console before getting started.\n",
        "\n",
        "**Instructions 1/2**\n",
        "\n",
        "* Check the head of `df` in the console and look for any emails mentioning 'sell enron stock'."
      ]
    },
    {
      "cell_type": "code",
      "metadata": {
        "id": "cx_o_1vVDGOc"
      },
      "source": [
        "df = pd.read_csv(enron_emails_clean_file)"
      ],
      "execution_count": null,
      "outputs": []
    },
    {
      "cell_type": "code",
      "metadata": {
        "id": "2vqNbpJQDGOc"
      },
      "source": [
        "mask = df['clean_content'].str.contains('sell enron stock', na=False)"
      ],
      "execution_count": null,
      "outputs": []
    },
    {
      "cell_type": "markdown",
      "metadata": {
        "id": "Bbs2xSC2DGOd"
      },
      "source": [
        "**Instructions 2/2**\n",
        "\n",
        "* Locate the data in `df` that meets the condition we created earlier."
      ]
    },
    {
      "cell_type": "code",
      "metadata": {
        "id": "TRzt0yozDGOd",
        "colab": {
          "base_uri": "https://localhost:8080/"
        },
        "outputId": "4ddb6f88-926d-4d07-c511-5c4a2bab2379"
      },
      "source": [
        "# Select the data from df using the mask\n",
        "df[mask]"
      ],
      "execution_count": null,
      "outputs": [
        {
          "output_type": "execute_result",
          "data": {
            "text/html": [
              "<div>\n",
              "<style scoped>\n",
              "    .dataframe tbody tr th:only-of-type {\n",
              "        vertical-align: middle;\n",
              "    }\n",
              "\n",
              "    .dataframe tbody tr th {\n",
              "        vertical-align: top;\n",
              "    }\n",
              "\n",
              "    .dataframe thead th {\n",
              "        text-align: right;\n",
              "    }\n",
              "</style>\n",
              "<table border=\"1\" class=\"dataframe\">\n",
              "  <thead>\n",
              "    <tr style=\"text-align: right;\">\n",
              "      <th></th>\n",
              "      <th>Message-ID</th>\n",
              "      <th>From</th>\n",
              "      <th>To</th>\n",
              "      <th>Date</th>\n",
              "      <th>content</th>\n",
              "      <th>clean_content</th>\n",
              "    </tr>\n",
              "  </thead>\n",
              "  <tbody>\n",
              "    <tr>\n",
              "      <th>154</th>\n",
              "      <td>&lt;6336501.1075841154311.JavaMail.evans@thyme&gt;</td>\n",
              "      <td>('sarah.palmer@enron.com')</td>\n",
              "      <td>('sarah.palmer@enron.com')</td>\n",
              "      <td>2002-02-01 14:53:35</td>\n",
              "      <td>\\nJoint Venture: A 1997 Enron Meeting Belies O...</td>\n",
              "      <td>joint venture enron meeting belies officers cl...</td>\n",
              "    </tr>\n",
              "  </tbody>\n",
              "</table>\n",
              "</div>"
            ],
            "text/plain": [
              "                                       Message-ID                        From  \\\n",
              "154  <6336501.1075841154311.JavaMail.evans@thyme>  ('sarah.palmer@enron.com')   \n",
              "\n",
              "                             To                 Date  \\\n",
              "154  ('sarah.palmer@enron.com')  2002-02-01 14:53:35   \n",
              "\n",
              "                                               content  \\\n",
              "154  \\nJoint Venture: A 1997 Enron Meeting Belies O...   \n",
              "\n",
              "                                         clean_content  \n",
              "154  joint venture enron meeting belies officers cl...  "
            ]
          },
          "metadata": {
            "tags": []
          },
          "execution_count": 102
        }
      ]
    },
    {
      "cell_type": "markdown",
      "metadata": {
        "id": "fzp5nu0UDGOd"
      },
      "source": [
        "**You see that searching for particular string values in a dataframe can be relatively easy, and allows you to include textual data into your model or analysis. You can use this word search as an additional flag, or as a feature in your fraud detection model. Let's look at how to filter the data using multiple search terms.**"
      ]
    },
    {
      "cell_type": "markdown",
      "metadata": {
        "id": "LEcFhO-oDGOd"
      },
      "source": [
        "### Using list of terms\n",
        "\n",
        "Oftentimes you don't want to search on just one term. You probably can create a full **\"fraud dictionary\"** of terms that could potentially **flag fraudulent clients** and/or transactions. Fraud analysts often will have an idea what should be in such a dictionary. In this exercise you're going to **flag a multitude of terms**, and in the next exercise you'll create a new flag variable out of it. The 'flag' can be used either directly in a machine learning model as a feature, or as an additional filter on top of your machine learning model results. Let's first use a list of terms to filter our data on. The dataframe containing the cleaned emails is again available as `df`.\n",
        "\n",
        "**Instructions**\n",
        "\n",
        "* Create a list to search for including 'enron stock', 'sell stock', 'stock bonus', and 'sell enron stock'.\n",
        "* Join the string terms in the search conditions.\n",
        "* Filter data using the emails that match with the list defined under `searchfor`."
      ]
    },
    {
      "cell_type": "code",
      "metadata": {
        "id": "VsvrmGkQDGOd",
        "colab": {
          "base_uri": "https://localhost:8080/"
        },
        "outputId": "10576964-8024-4370-a98f-a6734a237cc7"
      },
      "source": [
        "# Create a list of terms to search for\n",
        "searchfor = ['enron stock', 'sell stock', 'stock bonus', 'sell enron stock']\n",
        "\n",
        "# Filter cleaned emails on searchfor list and select from df \n",
        "filtered_emails = df[df.clean_content.str.contains('|'.join(searchfor), na=False)]\n",
        "filtered_emails.head()"
      ],
      "execution_count": null,
      "outputs": [
        {
          "output_type": "execute_result",
          "data": {
            "text/html": [
              "<div>\n",
              "<style scoped>\n",
              "    .dataframe tbody tr th:only-of-type {\n",
              "        vertical-align: middle;\n",
              "    }\n",
              "\n",
              "    .dataframe tbody tr th {\n",
              "        vertical-align: top;\n",
              "    }\n",
              "\n",
              "    .dataframe thead th {\n",
              "        text-align: right;\n",
              "    }\n",
              "</style>\n",
              "<table border=\"1\" class=\"dataframe\">\n",
              "  <thead>\n",
              "    <tr style=\"text-align: right;\">\n",
              "      <th></th>\n",
              "      <th>Message-ID</th>\n",
              "      <th>From</th>\n",
              "      <th>To</th>\n",
              "      <th>Date</th>\n",
              "      <th>content</th>\n",
              "      <th>clean_content</th>\n",
              "    </tr>\n",
              "  </thead>\n",
              "  <tbody>\n",
              "    <tr>\n",
              "      <th>0</th>\n",
              "      <td>&lt;8345058.1075840404046.JavaMail.evans@thyme&gt;</td>\n",
              "      <td>('advdfeedback@investools.com')</td>\n",
              "      <td>('advdfeedback@investools.com')</td>\n",
              "      <td>2002-01-29 23:20:55</td>\n",
              "      <td>INVESTools Advisory\\nA Free Digest of Trusted ...</td>\n",
              "      <td>investools advisory free digest trusted invest...</td>\n",
              "    </tr>\n",
              "    <tr>\n",
              "      <th>1</th>\n",
              "      <td>&lt;1512159.1075863666797.JavaMail.evans@thyme&gt;</td>\n",
              "      <td>('richard.sanders@enron.com')</td>\n",
              "      <td>('richard.sanders@enron.com')</td>\n",
              "      <td>2000-09-20 19:07:00</td>\n",
              "      <td>----- Forwarded by Richard B Sanders/HOU/ECT o...</td>\n",
              "      <td>forwarded richard b sanders hou ect pm justin ...</td>\n",
              "    </tr>\n",
              "    <tr>\n",
              "      <th>2</th>\n",
              "      <td>&lt;26118676.1075862176383.JavaMail.evans@thyme&gt;</td>\n",
              "      <td>('m..love@enron.com')</td>\n",
              "      <td>('m..love@enron.com')</td>\n",
              "      <td>2001-10-30 16:15:17</td>\n",
              "      <td>hey you are not wearing your target purple shi...</td>\n",
              "      <td>hey wearing target purple shirt today mine wan...</td>\n",
              "    </tr>\n",
              "    <tr>\n",
              "      <th>3</th>\n",
              "      <td>&lt;10369289.1075860831062.JavaMail.evans@thyme&gt;</td>\n",
              "      <td>('leslie.milosevich@kp.org')</td>\n",
              "      <td>('leslie.milosevich@kp.org')</td>\n",
              "      <td>2002-01-30 17:54:18</td>\n",
              "      <td>Leslie Milosevich\\n1042 Santa Clara Avenue\\nAl...</td>\n",
              "      <td>leslie milosevich santa clara avenue alameda c...</td>\n",
              "    </tr>\n",
              "    <tr>\n",
              "      <th>4</th>\n",
              "      <td>&lt;26728895.1075860815046.JavaMail.evans@thyme&gt;</td>\n",
              "      <td>('rtwait@graphicaljazz.com')</td>\n",
              "      <td>('rtwait@graphicaljazz.com')</td>\n",
              "      <td>2002-01-30 19:36:01</td>\n",
              "      <td>Rini Twait\\n1010 E 5th Ave\\nLongmont, CO 80501...</td>\n",
              "      <td>rini twait e th ave longmont co rtwait graphic...</td>\n",
              "    </tr>\n",
              "  </tbody>\n",
              "</table>\n",
              "</div>"
            ],
            "text/plain": [
              "                                      Message-ID  \\\n",
              "0   <8345058.1075840404046.JavaMail.evans@thyme>   \n",
              "1   <1512159.1075863666797.JavaMail.evans@thyme>   \n",
              "2  <26118676.1075862176383.JavaMail.evans@thyme>   \n",
              "3  <10369289.1075860831062.JavaMail.evans@thyme>   \n",
              "4  <26728895.1075860815046.JavaMail.evans@thyme>   \n",
              "\n",
              "                              From                               To  \\\n",
              "0  ('advdfeedback@investools.com')  ('advdfeedback@investools.com')   \n",
              "1    ('richard.sanders@enron.com')    ('richard.sanders@enron.com')   \n",
              "2            ('m..love@enron.com')            ('m..love@enron.com')   \n",
              "3     ('leslie.milosevich@kp.org')     ('leslie.milosevich@kp.org')   \n",
              "4     ('rtwait@graphicaljazz.com')     ('rtwait@graphicaljazz.com')   \n",
              "\n",
              "                  Date                                            content  \\\n",
              "0  2002-01-29 23:20:55  INVESTools Advisory\\nA Free Digest of Trusted ...   \n",
              "1  2000-09-20 19:07:00  ----- Forwarded by Richard B Sanders/HOU/ECT o...   \n",
              "2  2001-10-30 16:15:17  hey you are not wearing your target purple shi...   \n",
              "3  2002-01-30 17:54:18  Leslie Milosevich\\n1042 Santa Clara Avenue\\nAl...   \n",
              "4  2002-01-30 19:36:01  Rini Twait\\n1010 E 5th Ave\\nLongmont, CO 80501...   \n",
              "\n",
              "                                       clean_content  \n",
              "0  investools advisory free digest trusted invest...  \n",
              "1  forwarded richard b sanders hou ect pm justin ...  \n",
              "2  hey wearing target purple shirt today mine wan...  \n",
              "3  leslie milosevich santa clara avenue alameda c...  \n",
              "4  rini twait e th ave longmont co rtwait graphic...  "
            ]
          },
          "metadata": {
            "tags": []
          },
          "execution_count": 103
        }
      ]
    },
    {
      "cell_type": "markdown",
      "metadata": {
        "id": "deWc_foXDGOd"
      },
      "source": [
        "**By joining the search terms with the 'or' sign, i.e. |, you can search on a multitude of terms in your dataset very easily. Let's now create a flag from this which you can use as a feature in a machine learning model.**"
      ]
    },
    {
      "cell_type": "markdown",
      "metadata": {
        "id": "p9DJ5E-rDGOe"
      },
      "source": [
        "### Creating a flag\n",
        "\n",
        "This time you are going to **create an actual flag** variable that gives a **1 when the emails get a hit** on the search terms of interest, and 0 otherwise. This is the last step you need to make in order to actually use the text data content as a feature in a machine learning model, or as an actual flag on top of model results. You can continue working with the dataframe `df` containing the emails, and the `searchfor` list is the one defined in the last exercise.\n",
        "\n",
        "**Instructions**\n",
        "\n",
        "* Use a numpy where condition to flag '1' where the cleaned email contains words on the `searchfor` list and 0 otherwise.\n",
        "* Join the words on the `searchfor` list with an \"or\" indicator.\n",
        "* Count the values of the newly created flag variable."
      ]
    },
    {
      "cell_type": "code",
      "metadata": {
        "id": "CsOEft0vDGOe",
        "colab": {
          "base_uri": "https://localhost:8080/"
        },
        "outputId": "57ce683e-210e-4ac9-d28b-58812a2d2845"
      },
      "source": [
        "# Create flag variable where the emails match the searchfor terms\n",
        "df['flag'] = np.where((df['clean_content'].str.contains('|'.join(searchfor)) == True), 1, 0)\n",
        "\n",
        "# Count the values of the flag variable\n",
        "count = df['flag'].value_counts()\n",
        "print(count)"
      ],
      "execution_count": null,
      "outputs": [
        {
          "output_type": "stream",
          "text": [
            "0    1776\n",
            "1     314\n",
            "Name: flag, dtype: int64\n"
          ],
          "name": "stdout"
        }
      ]
    },
    {
      "cell_type": "markdown",
      "metadata": {
        "id": "DtuxicxnDGOe"
      },
      "source": [
        "**You have now managed to search for a list of strings in several lines of text data. These skills come in handy when you want to flag certain words based on what you discovered in your topic model, or when you know beforehand what you want to search for. In the next exercises you're going to learn how to clean text data and to create your own topic model to further look for indications of fraud in your text data.**"
      ]
    },
    {
      "cell_type": "markdown",
      "metadata": {
        "id": "vXw1jIF7DGOe"
      },
      "source": [
        "## Text mining to detect fraud"
      ]
    },
    {
      "cell_type": "markdown",
      "metadata": {
        "id": "IE7BqqOQDGOe"
      },
      "source": [
        "#### Cleaning your text data\n",
        "\n",
        "**Must dos when working with textual data:**\n",
        "\n",
        "1. Tokenization\n",
        "    * Split the text into sentences and the sentences in words\n",
        "    * transform everything to lowercase\n",
        "    * remove punctuation\n",
        "1. Remove all stopwords\n",
        "1. Lemmatize \n",
        "    * change from third person into first person\n",
        "    * change past and future tense verbs to present tense\n",
        "    * this makes it possible to combine all words that point to the same thing\n",
        "1. Stem the words\n",
        "    * reduce words to their root form\n",
        "    * e.g. walking and walked to walk\n",
        "\n",
        "* **Unprocessed Text**\n",
        "    * ![](https://raw.githubusercontent.com/trenton3983/DataCamp/master/Images/fraud_detection/text_df.JPG)\n",
        "* **Processed Text**\n",
        "    * ![](https://raw.githubusercontent.com/trenton3983/DataCamp/master/Images/fraud_detection/text_processed.JPG)"
      ]
    },
    {
      "cell_type": "markdown",
      "metadata": {
        "id": "PNEBulaSDGOe"
      },
      "source": [
        "#### Data Preprocessing I\n",
        "\n",
        "* Tokenizers divide strings into list of substrings\n",
        "* nltk word tokenizer can be used to find the words and punctuation in a string\n",
        "    * it splits the words on whitespace, and separated the punctuation out\n",
        "\n",
        "```python\n",
        "from nltk import word_tokenize\n",
        "from nltk.corpus import stopwords \n",
        "import string\n",
        "\n",
        "# 1. Tokenization\n",
        "text = df.apply(lambda row: word_tokenize(row[\"email_body\"]), axis=1)\n",
        "text = text.rstrip()  # remove whitespace\n",
        "# replace with lowercase\n",
        "# text = re.sub(r'[^a-zA-Z]', ' ', text)\n",
        "text = text.lower()\n",
        "\n",
        " # 2. Remove all stopwords and punctuation\n",
        "exclude = set(string.punctuation)\n",
        "stop = set(stopwords.words('english'))\n",
        "stop_free = \" \".join([word for word in text if((word not in stop) and (not word.isdigit()))])\n",
        "punc_free = ''.join(word for word in stop_free if word not in exclude)\n",
        "```"
      ]
    },
    {
      "cell_type": "markdown",
      "metadata": {
        "id": "32dxkgyYDGOe"
      },
      "source": [
        "#### Data Preprocessing II\n",
        "\n",
        "```python\n",
        "from nltk.stem.wordnet import WordNetLemmatizer\n",
        "from nltk.stem.porter import PorterStemmer\n",
        "\n",
        "# Lemmatize words\n",
        "lemma = WordNetLemmatizer()\n",
        "normalized = \" \".join(lemma.lemmatize(word) for word in punc_free.split())\n",
        "\n",
        "# Stem words\n",
        "porter= PorterStemmer()\n",
        "cleaned_text = \" \".join(porter.stem(token) for token in normalized.split())\n",
        "print (cleaned_text)\n",
        "\n",
        "['philip','going','street','curious','hear','perspective','may','wish',\n",
        "'offer','trading','floor','enron','stock','lower','joined','company',\n",
        "'business','school','imagine','quite','happy','people','day','relate',\n",
        "'somewhat','stock','around','fact','broke','day','ago','knowing',\n",
        "'imagine','letting','event','get','much','taken','similar',\n",
        "'problem','hope','everything','else','going','well','family','knee',\n",
        "'surgery','yet','give','call','chance','later']\n",
        "```"
      ]
    },
    {
      "cell_type": "markdown",
      "metadata": {
        "id": "3PfKzDGgDGOf"
      },
      "source": [
        "### Removing stopwords\n",
        "\n",
        "In the following exercises you're going to **clean the Enron emails**, in order to be able to use the data in a topic model. Text cleaning can be challenging, so you'll learn some steps to do this well. The dataframe containing the emails `df` is available. In a first step you need to **define the list of stopwords and punctuations** that are to be removed in the next exercise from the text data. Let's give it a try.\n",
        "\n",
        "**Instructions**\n",
        "\n",
        "* Import the stopwords from `ntlk`.\n",
        "* Define 'english' words to use as stopwords under the variable `stop`.\n",
        "* Get the punctuation set from the `string` package and assign it to `exclude`."
      ]
    },
    {
      "cell_type": "code",
      "metadata": {
        "id": "3Ghs5L-1DGOf",
        "colab": {
          "base_uri": "https://localhost:8080/"
        },
        "outputId": "d265c886-7878-48d2-be41-e38cc065f285"
      },
      "source": [
        "# Define stopwords to exclude\n",
        "\n",
        "nltk.download('stopwords')\n",
        "\n",
        "stop = set(stopwords.words('english'))\n",
        "stop.update((\"to\", \"cc\", \"subject\", \"http\", \"from\", \"sent\", \"ect\", \"u\", \"fwd\", \"www\", \"com\", 'html'))\n",
        "\n",
        "# Define punctuations to exclude and lemmatizer\n",
        "exclude = set(string.punctuation)"
      ],
      "execution_count": null,
      "outputs": [
        {
          "output_type": "stream",
          "text": [
            "[nltk_data] Downloading package stopwords to /root/nltk_data...\n",
            "[nltk_data]   Unzipping corpora/stopwords.zip.\n"
          ],
          "name": "stdout"
        }
      ]
    },
    {
      "cell_type": "markdown",
      "metadata": {
        "id": "hnwUJ1stDGOf"
      },
      "source": [
        "### Cleaning text data\n",
        "\n",
        "Now that you've defined the **stopwords and punctuations**, let's use these to clean our enron emails in the dataframe `df` further. The lists containing stopwords and punctuations are available under `stop` and `exclude` There are a few more steps to take before you have cleaned data, such as **\"lemmatization\"** of words, and **stemming the verbs**. The verbs in the email data are already stemmed, and the lemmatization is already done for you in this exercise.\n",
        "\n",
        "**Instructions 1/2**\n",
        "\n",
        "* Use the previously defined variables `stop` and `exclude` to finish of the function: Strip the words from whitespaces using `rstrip`, and exclude stopwords and punctuations. Finally lemmatize the words and assign that to `normalized`."
      ]
    },
    {
      "cell_type": "code",
      "metadata": {
        "id": "GzqWwUQQDGOf"
      },
      "source": [
        "# Import the lemmatizer from nltk\n",
        "lemma = WordNetLemmatizer()\n",
        "\n",
        "def clean(text, stop):\n",
        "    text = str(text).rstrip()\n",
        "    stop_free = \" \".join([i for i in text.lower().split() if((i not in stop) and (not i.isdigit()))])\n",
        "    punc_free = ''.join(i for i in stop_free if i not in exclude)\n",
        "    normalized = \" \".join(lemma.lemmatize(i) for i in punc_free.split())      \n",
        "    return normalized"
      ],
      "execution_count": null,
      "outputs": []
    },
    {
      "cell_type": "markdown",
      "metadata": {
        "id": "Let0tMYpDGOf"
      },
      "source": [
        "**Instructions 2/2**\n",
        "\n",
        "* Apply the function `clean(text,stop)` on each line of text data in our dataframe, and take the column `df['clean_content']` for this."
      ]
    },
    {
      "cell_type": "code",
      "metadata": {
        "id": "UNVLdMnEDGOf",
        "colab": {
          "base_uri": "https://localhost:8080/"
        },
        "outputId": "bbea2bf2-98cc-4bf7-a53e-5624c896600c"
      },
      "source": [
        "# Clean the emails in df and print results\n",
        "\n",
        "nltk.download('wordnet')\n",
        "\n",
        "text_clean=[]\n",
        "for text in df['clean_content']:\n",
        "    text_clean.append(clean(text, stop).split())    "
      ],
      "execution_count": null,
      "outputs": [
        {
          "output_type": "stream",
          "text": [
            "[nltk_data] Downloading package wordnet to /root/nltk_data...\n",
            "[nltk_data]   Unzipping corpora/wordnet.zip.\n"
          ],
          "name": "stdout"
        }
      ]
    },
    {
      "cell_type": "code",
      "metadata": {
        "id": "CUfn0dhlDGOf",
        "colab": {
          "base_uri": "https://localhost:8080/"
        },
        "outputId": "54d636cd-f9c9-4d54-8450-f5beb8c24b5d"
      },
      "source": [
        "text_clean[0][:10]"
      ],
      "execution_count": null,
      "outputs": [
        {
          "output_type": "execute_result",
          "data": {
            "text/plain": [
              "['investools',\n",
              " 'advisory',\n",
              " 'free',\n",
              " 'digest',\n",
              " 'trusted',\n",
              " 'investment',\n",
              " 'advice',\n",
              " 'unsubscribe',\n",
              " 'free',\n",
              " 'newsletter']"
            ]
          },
          "metadata": {
            "tags": []
          },
          "execution_count": 108
        }
      ]
    },
    {
      "cell_type": "markdown",
      "metadata": {
        "id": "qHTXGAbwDGOf"
      },
      "source": [
        "**Now that you have cleaned your data entirely with the necessary steps, including splitting the text into words, removing stopwords and punctuations, and lemmatizing your words. You are now ready to run a topic model on this data. In the following exercises you're going to explore how to do that.**"
      ]
    },
    {
      "cell_type": "markdown",
      "metadata": {
        "id": "eosD0hq9DGOg"
      },
      "source": [
        "## Topic modeling on fraud\n",
        "\n",
        "1. Discovering topics in text data\n",
        "1. \"What is the text about\"\n",
        "1. Conceptually similar to clustering data\n",
        "1. Compare topics of fraud cases to non-fraud cases and use as a feature or flag\n",
        "1. Or.. is there a particular topic in the data that seems to point to fraud?"
      ]
    },
    {
      "cell_type": "markdown",
      "metadata": {
        "id": "0YmNgD3iDGOg"
      },
      "source": [
        "#### Latent Dirichlet Allocation (LDA)\n",
        "\n",
        "* With LDA you obtain:\n",
        "    * \"topics per text item\" model (i.e. probabilities)\n",
        "    * \"words per topic\" model\n",
        "* Creating your own topic model:\n",
        "    * Clean your data\n",
        "    * Create a bag of words with dictionary and corpus\n",
        "        * Dictionary contain words and word frequency from the entire text\n",
        "        * Corpus: word count for each line of text\n",
        "    * Feed dictionary and corpus into the LDA model\n",
        "* LDA:\n",
        "    * ![lda](https://raw.githubusercontent.com/trenton3983/DataCamp/master/Images/fraud_detection/lda.JPG)\n",
        "    1. [LDA2vec: Word Embeddings in Topic Models](https://www.datacamp.com/community/tutorials/lda2vec-topic-model)\n",
        "    1. see how each word in the dataset is associated with each topic\n",
        "    1. see how each text item in the data associates with topics (in the form of probabilities)\n",
        "        1. image on the right "
      ]
    },
    {
      "cell_type": "markdown",
      "metadata": {
        "id": "GnFyXabnDGOg"
      },
      "source": [
        "#### Bag of words: dictionary and corpus\n",
        "\n",
        "* use the `Dictionary` function in `corpora` to create a `dict` from the text data\n",
        "    * contains word counts\n",
        "* filter out words that appear in less than 5 emails and keep only the 50000 most frequent words\n",
        "    * this is a way of cleaning the outlier noise\n",
        "* create the corpus, which for each email, counts the number of words and the count for each word (`doc2bow`)\n",
        "* `doc2bow`\n",
        "    * Document to Bag of Words\n",
        "    * converts text data into bag-of-words format\n",
        "    * each row is now a list of words with the associated word count\n",
        "    \n",
        "```python\n",
        "from gensim import corpora\n",
        "\n",
        " # Create dictionary number of times a word appears\n",
        "dictionary = corpora.Dictionary(cleaned_emails)\n",
        "\n",
        "# Filter out (non)frequent words \n",
        "dictionary.filter_extremes(no_below=5, keep_n=50000)\n",
        "\n",
        "# Create corpus\n",
        "corpus = [dictionary.doc2bow(text) for text in cleaned_emails]\n",
        "```"
      ]
    },
    {
      "cell_type": "markdown",
      "metadata": {
        "id": "Qzk2AxaUDGOg"
      },
      "source": [
        "#### Latent Dirichlet Allocation (LDA) with gensim\n",
        "\n",
        "* Run the LDA model after cleaning the text date, and creating the dictionary and corpus\n",
        "* Pass the corpus and dictionary into the model\n",
        "* As with K-means, beforehand, pick the number of topics to obtain, even if there is uncertainty about what topics exist\n",
        "* The calculated LDA model, will contain the associated words for each topic, and topic scores per email\n",
        "* Use `print_topics` to obtain the top words from the topics\n",
        "\n",
        "```python\n",
        "import gensim\n",
        "\n",
        "# Define the LDA model\n",
        "ldamodel = gensim.models.ldamodel.LdaModel(corpus, num_topics = 3, \n",
        "id2word=dictionary, passes=15)\n",
        "\n",
        "# Print the three topics from the model with top words\n",
        "topics = ldamodel.print_topics(num_words=4)\n",
        "for topic in topics:\n",
        "    print(topic)\n",
        "\n",
        ">>> (0, '0.029*\"email\" + 0.016*\"send\" + 0.016*\"results\" + 0.016*\"invoice\"')\n",
        ">>> (1, '0.026*\"price\" + 0.026*\"work\" + 0.026*\"management\" + 0.026*\"sell\"')\n",
        ">>> (2, '0.029*\"distribute\" + 0.029*\"contact\" + 0.016*\"supply\" + 0.016*\"fast\"')\n",
        "```"
      ]
    },
    {
      "cell_type": "markdown",
      "metadata": {
        "id": "sZsBNVjXDGOg"
      },
      "source": [
        "### Create dictionary and corpus\n",
        "\n",
        "In order to run an LDA topic model, you first need to **define your dictionary and corpus** first, as those need to go into the model. You're going to continue working on the cleaned text data that you've done in the previous exercises. That means that `text_clean` is available for you already to continue working with, and you'll use that to create your dictionary and corpus.\n",
        "\n",
        "This exercise will take a little longer to execute than usual.\n",
        "\n",
        "**Instructions**\n",
        "\n",
        "* Import the gensim package and corpora from gensim separately.\n",
        "* Define your dictionary by running the correct function on your clean data `text_clean`.\n",
        "* Define the corpus by running `doc2bow` on each piece of text in `text_clean`.\n",
        "* Print your results so you can see `dictionary` and `corpus` look like."
      ]
    },
    {
      "cell_type": "code",
      "metadata": {
        "id": "HBlmnV72DGOg"
      },
      "source": [
        "# Define the dictionary\n",
        "dictionary = corpora.Dictionary(text_clean)\n",
        "\n",
        "# Define the corpus \n",
        "corpus = [dictionary.doc2bow(text) for text in text_clean]"
      ],
      "execution_count": null,
      "outputs": []
    },
    {
      "cell_type": "code",
      "metadata": {
        "id": "qsFeeAY9DGOg",
        "colab": {
          "base_uri": "https://localhost:8080/"
        },
        "outputId": "a7870a0d-ae54-4862-9fcc-e4ccddc91aa3"
      },
      "source": [
        "print(dictionary)"
      ],
      "execution_count": null,
      "outputs": [
        {
          "output_type": "stream",
          "text": [
            "Dictionary(33980 unique tokens: ['account', 'accurate', 'acquiring', 'acre', 'address']...)\n"
          ],
          "name": "stdout"
        }
      ]
    },
    {
      "cell_type": "code",
      "metadata": {
        "id": "bWRIBOM5DGOh",
        "colab": {
          "base_uri": "https://localhost:8080/"
        },
        "outputId": "5d43dc59-1a07-49f6-d75b-2ce660c5e1dc"
      },
      "source": [
        "corpus[0][:10]"
      ],
      "execution_count": null,
      "outputs": [
        {
          "output_type": "execute_result",
          "data": {
            "text/plain": [
              "[(0, 2),\n",
              " (1, 1),\n",
              " (2, 1),\n",
              " (3, 1),\n",
              " (4, 1),\n",
              " (5, 6),\n",
              " (6, 1),\n",
              " (7, 2),\n",
              " (8, 4),\n",
              " (9, 1)]"
            ]
          },
          "metadata": {
            "tags": []
          },
          "execution_count": 111
        }
      ]
    },
    {
      "cell_type": "markdown",
      "metadata": {
        "id": "FqPCoVoYDGOh"
      },
      "source": [
        "**These are the two ingredients you need to run your topic model on the enron emails. You are now ready for the final step and create your first fraud detection topic model.**"
      ]
    },
    {
      "cell_type": "markdown",
      "metadata": {
        "id": "cgJ55LKlDGOh"
      },
      "source": [
        "### LDA model\n",
        "\n",
        "Now it's time to **build the LDA model**. Using the `dictionary` and `corpus`, you are ready to discover which topics are present in the Enron emails. With a quick print of words assigned to the topics, you can do a first exploration about whether there are any obvious topics that jump out. Be mindful that the topic model is **heavy to calculate** so it will take a while to run. Let's give it a try!\n",
        "\n",
        "**Instructions**\n",
        "\n",
        "* Build the LDA model from gensim models, by inserting the `corpus` and `dictionary`.\n",
        "* Save the 5 topics by running `print_topics` on the model results, and select the top 5 words."
      ]
    },
    {
      "cell_type": "code",
      "metadata": {
        "id": "t-kE12luDGOh",
        "colab": {
          "base_uri": "https://localhost:8080/"
        },
        "outputId": "84d7ccce-f2d6-4b06-cbda-1fbbf7c0ca27"
      },
      "source": [
        "# Define the LDA model\n",
        "ldamodel = gensim.models.ldamodel.LdaModel(corpus, num_topics=5, id2word=dictionary, passes=5)\n",
        "\n",
        "# Save the topics and top 5 words\n",
        "topics = ldamodel.print_topics(num_words=5)\n",
        "\n",
        "# Print the results\n",
        "for topic in topics:\n",
        "    print(topic)"
      ],
      "execution_count": null,
      "outputs": [
        {
          "output_type": "stream",
          "text": [
            "/usr/local/lib/python3.6/dist-packages/gensim/models/ldamodel.py:1077: DeprecationWarning: Calling np.sum(generator) is deprecated, and in the future will give a different result. Use np.sum(np.fromiter(generator)) or the python sum builtin instead.\n",
            "  score += np.sum(cnt * logsumexp(Elogthetad + Elogbeta[:, int(id)]) for id, cnt in doc)\n",
            "/usr/local/lib/python3.6/dist-packages/gensim/models/ldamodel.py:1077: DeprecationWarning: Calling np.sum(generator) is deprecated, and in the future will give a different result. Use np.sum(np.fromiter(generator)) or the python sum builtin instead.\n",
            "  score += np.sum(cnt * logsumexp(Elogthetad + Elogbeta[:, int(id)]) for id, cnt in doc)\n",
            "/usr/local/lib/python3.6/dist-packages/gensim/models/ldamodel.py:1077: DeprecationWarning: Calling np.sum(generator) is deprecated, and in the future will give a different result. Use np.sum(np.fromiter(generator)) or the python sum builtin instead.\n",
            "  score += np.sum(cnt * logsumexp(Elogthetad + Elogbeta[:, int(id)]) for id, cnt in doc)\n",
            "/usr/local/lib/python3.6/dist-packages/gensim/models/ldamodel.py:1077: DeprecationWarning: Calling np.sum(generator) is deprecated, and in the future will give a different result. Use np.sum(np.fromiter(generator)) or the python sum builtin instead.\n",
            "  score += np.sum(cnt * logsumexp(Elogthetad + Elogbeta[:, int(id)]) for id, cnt in doc)\n",
            "/usr/local/lib/python3.6/dist-packages/gensim/models/ldamodel.py:1077: DeprecationWarning: Calling np.sum(generator) is deprecated, and in the future will give a different result. Use np.sum(np.fromiter(generator)) or the python sum builtin instead.\n",
            "  score += np.sum(cnt * logsumexp(Elogthetad + Elogbeta[:, int(id)]) for id, cnt in doc)\n",
            "/usr/local/lib/python3.6/dist-packages/gensim/models/ldamodel.py:1077: DeprecationWarning: Calling np.sum(generator) is deprecated, and in the future will give a different result. Use np.sum(np.fromiter(generator)) or the python sum builtin instead.\n",
            "  score += np.sum(cnt * logsumexp(Elogthetad + Elogbeta[:, int(id)]) for id, cnt in doc)\n",
            "/usr/local/lib/python3.6/dist-packages/gensim/models/ldamodel.py:1077: DeprecationWarning: Calling np.sum(generator) is deprecated, and in the future will give a different result. Use np.sum(np.fromiter(generator)) or the python sum builtin instead.\n",
            "  score += np.sum(cnt * logsumexp(Elogthetad + Elogbeta[:, int(id)]) for id, cnt in doc)\n",
            "/usr/local/lib/python3.6/dist-packages/gensim/models/ldamodel.py:1077: DeprecationWarning: Calling np.sum(generator) is deprecated, and in the future will give a different result. Use np.sum(np.fromiter(generator)) or the python sum builtin instead.\n",
            "  score += np.sum(cnt * logsumexp(Elogthetad + Elogbeta[:, int(id)]) for id, cnt in doc)\n",
            "/usr/local/lib/python3.6/dist-packages/gensim/models/ldamodel.py:1077: DeprecationWarning: Calling np.sum(generator) is deprecated, and in the future will give a different result. Use np.sum(np.fromiter(generator)) or the python sum builtin instead.\n",
            "  score += np.sum(cnt * logsumexp(Elogthetad + Elogbeta[:, int(id)]) for id, cnt in doc)\n",
            "/usr/local/lib/python3.6/dist-packages/gensim/models/ldamodel.py:1077: DeprecationWarning: Calling np.sum(generator) is deprecated, and in the future will give a different result. Use np.sum(np.fromiter(generator)) or the python sum builtin instead.\n",
            "  score += np.sum(cnt * logsumexp(Elogthetad + Elogbeta[:, int(id)]) for id, cnt in doc)\n",
            "/usr/local/lib/python3.6/dist-packages/gensim/models/ldamodel.py:1077: DeprecationWarning: Calling np.sum(generator) is deprecated, and in the future will give a different result. Use np.sum(np.fromiter(generator)) or the python sum builtin instead.\n",
            "  score += np.sum(cnt * logsumexp(Elogthetad + Elogbeta[:, int(id)]) for id, cnt in doc)\n",
            "/usr/local/lib/python3.6/dist-packages/gensim/models/ldamodel.py:1077: DeprecationWarning: Calling np.sum(generator) is deprecated, and in the future will give a different result. Use np.sum(np.fromiter(generator)) or the python sum builtin instead.\n",
            "  score += np.sum(cnt * logsumexp(Elogthetad + Elogbeta[:, int(id)]) for id, cnt in doc)\n",
            "/usr/local/lib/python3.6/dist-packages/gensim/models/ldamodel.py:1077: DeprecationWarning: Calling np.sum(generator) is deprecated, and in the future will give a different result. Use np.sum(np.fromiter(generator)) or the python sum builtin instead.\n",
            "  score += np.sum(cnt * logsumexp(Elogthetad + Elogbeta[:, int(id)]) for id, cnt in doc)\n",
            "/usr/local/lib/python3.6/dist-packages/gensim/models/ldamodel.py:1077: DeprecationWarning: Calling np.sum(generator) is deprecated, and in the future will give a different result. Use np.sum(np.fromiter(generator)) or the python sum builtin instead.\n",
            "  score += np.sum(cnt * logsumexp(Elogthetad + Elogbeta[:, int(id)]) for id, cnt in doc)\n",
            "/usr/local/lib/python3.6/dist-packages/gensim/models/ldamodel.py:1077: DeprecationWarning: Calling np.sum(generator) is deprecated, and in the future will give a different result. Use np.sum(np.fromiter(generator)) or the python sum builtin instead.\n",
            "  score += np.sum(cnt * logsumexp(Elogthetad + Elogbeta[:, int(id)]) for id, cnt in doc)\n",
            "/usr/local/lib/python3.6/dist-packages/gensim/models/ldamodel.py:1077: DeprecationWarning: Calling np.sum(generator) is deprecated, and in the future will give a different result. Use np.sum(np.fromiter(generator)) or the python sum builtin instead.\n",
            "  score += np.sum(cnt * logsumexp(Elogthetad + Elogbeta[:, int(id)]) for id, cnt in doc)\n",
            "/usr/local/lib/python3.6/dist-packages/gensim/models/ldamodel.py:1077: DeprecationWarning: Calling np.sum(generator) is deprecated, and in the future will give a different result. Use np.sum(np.fromiter(generator)) or the python sum builtin instead.\n",
            "  score += np.sum(cnt * logsumexp(Elogthetad + Elogbeta[:, int(id)]) for id, cnt in doc)\n",
            "/usr/local/lib/python3.6/dist-packages/gensim/models/ldamodel.py:1077: DeprecationWarning: Calling np.sum(generator) is deprecated, and in the future will give a different result. Use np.sum(np.fromiter(generator)) or the python sum builtin instead.\n",
            "  score += np.sum(cnt * logsumexp(Elogthetad + Elogbeta[:, int(id)]) for id, cnt in doc)\n",
            "/usr/local/lib/python3.6/dist-packages/gensim/models/ldamodel.py:1077: DeprecationWarning: Calling np.sum(generator) is deprecated, and in the future will give a different result. Use np.sum(np.fromiter(generator)) or the python sum builtin instead.\n",
            "  score += np.sum(cnt * logsumexp(Elogthetad + Elogbeta[:, int(id)]) for id, cnt in doc)\n",
            "/usr/local/lib/python3.6/dist-packages/gensim/models/ldamodel.py:1077: DeprecationWarning: Calling np.sum(generator) is deprecated, and in the future will give a different result. Use np.sum(np.fromiter(generator)) or the python sum builtin instead.\n",
            "  score += np.sum(cnt * logsumexp(Elogthetad + Elogbeta[:, int(id)]) for id, cnt in doc)\n",
            "/usr/local/lib/python3.6/dist-packages/gensim/models/ldamodel.py:1077: DeprecationWarning: Calling np.sum(generator) is deprecated, and in the future will give a different result. Use np.sum(np.fromiter(generator)) or the python sum builtin instead.\n",
            "  score += np.sum(cnt * logsumexp(Elogthetad + Elogbeta[:, int(id)]) for id, cnt in doc)\n",
            "/usr/local/lib/python3.6/dist-packages/gensim/models/ldamodel.py:1077: DeprecationWarning: Calling np.sum(generator) is deprecated, and in the future will give a different result. Use np.sum(np.fromiter(generator)) or the python sum builtin instead.\n",
            "  score += np.sum(cnt * logsumexp(Elogthetad + Elogbeta[:, int(id)]) for id, cnt in doc)\n",
            "/usr/local/lib/python3.6/dist-packages/gensim/models/ldamodel.py:1077: DeprecationWarning: Calling np.sum(generator) is deprecated, and in the future will give a different result. Use np.sum(np.fromiter(generator)) or the python sum builtin instead.\n",
            "  score += np.sum(cnt * logsumexp(Elogthetad + Elogbeta[:, int(id)]) for id, cnt in doc)\n",
            "/usr/local/lib/python3.6/dist-packages/gensim/models/ldamodel.py:1077: DeprecationWarning: Calling np.sum(generator) is deprecated, and in the future will give a different result. Use np.sum(np.fromiter(generator)) or the python sum builtin instead.\n",
            "  score += np.sum(cnt * logsumexp(Elogthetad + Elogbeta[:, int(id)]) for id, cnt in doc)\n",
            "/usr/local/lib/python3.6/dist-packages/gensim/models/ldamodel.py:1077: DeprecationWarning: Calling np.sum(generator) is deprecated, and in the future will give a different result. Use np.sum(np.fromiter(generator)) or the python sum builtin instead.\n",
            "  score += np.sum(cnt * logsumexp(Elogthetad + Elogbeta[:, int(id)]) for id, cnt in doc)\n",
            "/usr/local/lib/python3.6/dist-packages/gensim/models/ldamodel.py:1077: DeprecationWarning: Calling np.sum(generator) is deprecated, and in the future will give a different result. Use np.sum(np.fromiter(generator)) or the python sum builtin instead.\n",
            "  score += np.sum(cnt * logsumexp(Elogthetad + Elogbeta[:, int(id)]) for id, cnt in doc)\n",
            "/usr/local/lib/python3.6/dist-packages/gensim/models/ldamodel.py:1077: DeprecationWarning: Calling np.sum(generator) is deprecated, and in the future will give a different result. Use np.sum(np.fromiter(generator)) or the python sum builtin instead.\n",
            "  score += np.sum(cnt * logsumexp(Elogthetad + Elogbeta[:, int(id)]) for id, cnt in doc)\n",
            "/usr/local/lib/python3.6/dist-packages/gensim/models/ldamodel.py:1077: DeprecationWarning: Calling np.sum(generator) is deprecated, and in the future will give a different result. Use np.sum(np.fromiter(generator)) or the python sum builtin instead.\n",
            "  score += np.sum(cnt * logsumexp(Elogthetad + Elogbeta[:, int(id)]) for id, cnt in doc)\n",
            "/usr/local/lib/python3.6/dist-packages/gensim/models/ldamodel.py:1077: DeprecationWarning: Calling np.sum(generator) is deprecated, and in the future will give a different result. Use np.sum(np.fromiter(generator)) or the python sum builtin instead.\n",
            "  score += np.sum(cnt * logsumexp(Elogthetad + Elogbeta[:, int(id)]) for id, cnt in doc)\n",
            "/usr/local/lib/python3.6/dist-packages/gensim/models/ldamodel.py:1077: DeprecationWarning: Calling np.sum(generator) is deprecated, and in the future will give a different result. Use np.sum(np.fromiter(generator)) or the python sum builtin instead.\n",
            "  score += np.sum(cnt * logsumexp(Elogthetad + Elogbeta[:, int(id)]) for id, cnt in doc)\n",
            "/usr/local/lib/python3.6/dist-packages/gensim/models/ldamodel.py:1077: DeprecationWarning: Calling np.sum(generator) is deprecated, and in the future will give a different result. Use np.sum(np.fromiter(generator)) or the python sum builtin instead.\n",
            "  score += np.sum(cnt * logsumexp(Elogthetad + Elogbeta[:, int(id)]) for id, cnt in doc)\n",
            "/usr/local/lib/python3.6/dist-packages/gensim/models/ldamodel.py:1077: DeprecationWarning: Calling np.sum(generator) is deprecated, and in the future will give a different result. Use np.sum(np.fromiter(generator)) or the python sum builtin instead.\n",
            "  score += np.sum(cnt * logsumexp(Elogthetad + Elogbeta[:, int(id)]) for id, cnt in doc)\n",
            "/usr/local/lib/python3.6/dist-packages/gensim/models/ldamodel.py:1077: DeprecationWarning: Calling np.sum(generator) is deprecated, and in the future will give a different result. Use np.sum(np.fromiter(generator)) or the python sum builtin instead.\n",
            "  score += np.sum(cnt * logsumexp(Elogthetad + Elogbeta[:, int(id)]) for id, cnt in doc)\n",
            "/usr/local/lib/python3.6/dist-packages/gensim/models/ldamodel.py:1077: DeprecationWarning: Calling np.sum(generator) is deprecated, and in the future will give a different result. Use np.sum(np.fromiter(generator)) or the python sum builtin instead.\n",
            "  score += np.sum(cnt * logsumexp(Elogthetad + Elogbeta[:, int(id)]) for id, cnt in doc)\n",
            "/usr/local/lib/python3.6/dist-packages/gensim/models/ldamodel.py:1077: DeprecationWarning: Calling np.sum(generator) is deprecated, and in the future will give a different result. Use np.sum(np.fromiter(generator)) or the python sum builtin instead.\n",
            "  score += np.sum(cnt * logsumexp(Elogthetad + Elogbeta[:, int(id)]) for id, cnt in doc)\n",
            "/usr/local/lib/python3.6/dist-packages/gensim/models/ldamodel.py:1077: DeprecationWarning: Calling np.sum(generator) is deprecated, and in the future will give a different result. Use np.sum(np.fromiter(generator)) or the python sum builtin instead.\n",
            "  score += np.sum(cnt * logsumexp(Elogthetad + Elogbeta[:, int(id)]) for id, cnt in doc)\n",
            "/usr/local/lib/python3.6/dist-packages/gensim/models/ldamodel.py:1077: DeprecationWarning: Calling np.sum(generator) is deprecated, and in the future will give a different result. Use np.sum(np.fromiter(generator)) or the python sum builtin instead.\n",
            "  score += np.sum(cnt * logsumexp(Elogthetad + Elogbeta[:, int(id)]) for id, cnt in doc)\n",
            "/usr/local/lib/python3.6/dist-packages/gensim/models/ldamodel.py:1077: DeprecationWarning: Calling np.sum(generator) is deprecated, and in the future will give a different result. Use np.sum(np.fromiter(generator)) or the python sum builtin instead.\n",
            "  score += np.sum(cnt * logsumexp(Elogthetad + Elogbeta[:, int(id)]) for id, cnt in doc)\n",
            "/usr/local/lib/python3.6/dist-packages/gensim/models/ldamodel.py:1077: DeprecationWarning: Calling np.sum(generator) is deprecated, and in the future will give a different result. Use np.sum(np.fromiter(generator)) or the python sum builtin instead.\n",
            "  score += np.sum(cnt * logsumexp(Elogthetad + Elogbeta[:, int(id)]) for id, cnt in doc)\n",
            "/usr/local/lib/python3.6/dist-packages/gensim/models/ldamodel.py:1077: DeprecationWarning: Calling np.sum(generator) is deprecated, and in the future will give a different result. Use np.sum(np.fromiter(generator)) or the python sum builtin instead.\n",
            "  score += np.sum(cnt * logsumexp(Elogthetad + Elogbeta[:, int(id)]) for id, cnt in doc)\n",
            "/usr/local/lib/python3.6/dist-packages/gensim/models/ldamodel.py:1077: DeprecationWarning: Calling np.sum(generator) is deprecated, and in the future will give a different result. Use np.sum(np.fromiter(generator)) or the python sum builtin instead.\n",
            "  score += np.sum(cnt * logsumexp(Elogthetad + Elogbeta[:, int(id)]) for id, cnt in doc)\n",
            "/usr/local/lib/python3.6/dist-packages/gensim/models/ldamodel.py:1077: DeprecationWarning: Calling np.sum(generator) is deprecated, and in the future will give a different result. Use np.sum(np.fromiter(generator)) or the python sum builtin instead.\n",
            "  score += np.sum(cnt * logsumexp(Elogthetad + Elogbeta[:, int(id)]) for id, cnt in doc)\n",
            "/usr/local/lib/python3.6/dist-packages/gensim/models/ldamodel.py:1077: DeprecationWarning: Calling np.sum(generator) is deprecated, and in the future will give a different result. Use np.sum(np.fromiter(generator)) or the python sum builtin instead.\n",
            "  score += np.sum(cnt * logsumexp(Elogthetad + Elogbeta[:, int(id)]) for id, cnt in doc)\n",
            "/usr/local/lib/python3.6/dist-packages/gensim/models/ldamodel.py:1077: DeprecationWarning: Calling np.sum(generator) is deprecated, and in the future will give a different result. Use np.sum(np.fromiter(generator)) or the python sum builtin instead.\n",
            "  score += np.sum(cnt * logsumexp(Elogthetad + Elogbeta[:, int(id)]) for id, cnt in doc)\n",
            "/usr/local/lib/python3.6/dist-packages/gensim/models/ldamodel.py:1077: DeprecationWarning: Calling np.sum(generator) is deprecated, and in the future will give a different result. Use np.sum(np.fromiter(generator)) or the python sum builtin instead.\n",
            "  score += np.sum(cnt * logsumexp(Elogthetad + Elogbeta[:, int(id)]) for id, cnt in doc)\n",
            "/usr/local/lib/python3.6/dist-packages/gensim/models/ldamodel.py:1077: DeprecationWarning: Calling np.sum(generator) is deprecated, and in the future will give a different result. Use np.sum(np.fromiter(generator)) or the python sum builtin instead.\n",
            "  score += np.sum(cnt * logsumexp(Elogthetad + Elogbeta[:, int(id)]) for id, cnt in doc)\n",
            "/usr/local/lib/python3.6/dist-packages/gensim/models/ldamodel.py:1077: DeprecationWarning: Calling np.sum(generator) is deprecated, and in the future will give a different result. Use np.sum(np.fromiter(generator)) or the python sum builtin instead.\n",
            "  score += np.sum(cnt * logsumexp(Elogthetad + Elogbeta[:, int(id)]) for id, cnt in doc)\n",
            "/usr/local/lib/python3.6/dist-packages/gensim/models/ldamodel.py:1077: DeprecationWarning: Calling np.sum(generator) is deprecated, and in the future will give a different result. Use np.sum(np.fromiter(generator)) or the python sum builtin instead.\n",
            "  score += np.sum(cnt * logsumexp(Elogthetad + Elogbeta[:, int(id)]) for id, cnt in doc)\n",
            "/usr/local/lib/python3.6/dist-packages/gensim/models/ldamodel.py:1077: DeprecationWarning: Calling np.sum(generator) is deprecated, and in the future will give a different result. Use np.sum(np.fromiter(generator)) or the python sum builtin instead.\n",
            "  score += np.sum(cnt * logsumexp(Elogthetad + Elogbeta[:, int(id)]) for id, cnt in doc)\n",
            "/usr/local/lib/python3.6/dist-packages/gensim/models/ldamodel.py:1077: DeprecationWarning: Calling np.sum(generator) is deprecated, and in the future will give a different result. Use np.sum(np.fromiter(generator)) or the python sum builtin instead.\n",
            "  score += np.sum(cnt * logsumexp(Elogthetad + Elogbeta[:, int(id)]) for id, cnt in doc)\n",
            "/usr/local/lib/python3.6/dist-packages/gensim/models/ldamodel.py:1077: DeprecationWarning: Calling np.sum(generator) is deprecated, and in the future will give a different result. Use np.sum(np.fromiter(generator)) or the python sum builtin instead.\n",
            "  score += np.sum(cnt * logsumexp(Elogthetad + Elogbeta[:, int(id)]) for id, cnt in doc)\n",
            "/usr/local/lib/python3.6/dist-packages/gensim/models/ldamodel.py:1077: DeprecationWarning: Calling np.sum(generator) is deprecated, and in the future will give a different result. Use np.sum(np.fromiter(generator)) or the python sum builtin instead.\n",
            "  score += np.sum(cnt * logsumexp(Elogthetad + Elogbeta[:, int(id)]) for id, cnt in doc)\n",
            "/usr/local/lib/python3.6/dist-packages/gensim/models/ldamodel.py:1077: DeprecationWarning: Calling np.sum(generator) is deprecated, and in the future will give a different result. Use np.sum(np.fromiter(generator)) or the python sum builtin instead.\n",
            "  score += np.sum(cnt * logsumexp(Elogthetad + Elogbeta[:, int(id)]) for id, cnt in doc)\n",
            "/usr/local/lib/python3.6/dist-packages/gensim/models/ldamodel.py:1077: DeprecationWarning: Calling np.sum(generator) is deprecated, and in the future will give a different result. Use np.sum(np.fromiter(generator)) or the python sum builtin instead.\n",
            "  score += np.sum(cnt * logsumexp(Elogthetad + Elogbeta[:, int(id)]) for id, cnt in doc)\n",
            "/usr/local/lib/python3.6/dist-packages/gensim/models/ldamodel.py:1077: DeprecationWarning: Calling np.sum(generator) is deprecated, and in the future will give a different result. Use np.sum(np.fromiter(generator)) or the python sum builtin instead.\n",
            "  score += np.sum(cnt * logsumexp(Elogthetad + Elogbeta[:, int(id)]) for id, cnt in doc)\n",
            "/usr/local/lib/python3.6/dist-packages/gensim/models/ldamodel.py:1077: DeprecationWarning: Calling np.sum(generator) is deprecated, and in the future will give a different result. Use np.sum(np.fromiter(generator)) or the python sum builtin instead.\n",
            "  score += np.sum(cnt * logsumexp(Elogthetad + Elogbeta[:, int(id)]) for id, cnt in doc)\n",
            "/usr/local/lib/python3.6/dist-packages/gensim/models/ldamodel.py:1077: DeprecationWarning: Calling np.sum(generator) is deprecated, and in the future will give a different result. Use np.sum(np.fromiter(generator)) or the python sum builtin instead.\n",
            "  score += np.sum(cnt * logsumexp(Elogthetad + Elogbeta[:, int(id)]) for id, cnt in doc)\n",
            "/usr/local/lib/python3.6/dist-packages/gensim/models/ldamodel.py:1077: DeprecationWarning: Calling np.sum(generator) is deprecated, and in the future will give a different result. Use np.sum(np.fromiter(generator)) or the python sum builtin instead.\n",
            "  score += np.sum(cnt * logsumexp(Elogthetad + Elogbeta[:, int(id)]) for id, cnt in doc)\n",
            "/usr/local/lib/python3.6/dist-packages/gensim/models/ldamodel.py:1077: DeprecationWarning: Calling np.sum(generator) is deprecated, and in the future will give a different result. Use np.sum(np.fromiter(generator)) or the python sum builtin instead.\n",
            "  score += np.sum(cnt * logsumexp(Elogthetad + Elogbeta[:, int(id)]) for id, cnt in doc)\n",
            "/usr/local/lib/python3.6/dist-packages/gensim/models/ldamodel.py:1077: DeprecationWarning: Calling np.sum(generator) is deprecated, and in the future will give a different result. Use np.sum(np.fromiter(generator)) or the python sum builtin instead.\n",
            "  score += np.sum(cnt * logsumexp(Elogthetad + Elogbeta[:, int(id)]) for id, cnt in doc)\n",
            "/usr/local/lib/python3.6/dist-packages/gensim/models/ldamodel.py:1077: DeprecationWarning: Calling np.sum(generator) is deprecated, and in the future will give a different result. Use np.sum(np.fromiter(generator)) or the python sum builtin instead.\n",
            "  score += np.sum(cnt * logsumexp(Elogthetad + Elogbeta[:, int(id)]) for id, cnt in doc)\n",
            "/usr/local/lib/python3.6/dist-packages/gensim/models/ldamodel.py:1077: DeprecationWarning: Calling np.sum(generator) is deprecated, and in the future will give a different result. Use np.sum(np.fromiter(generator)) or the python sum builtin instead.\n",
            "  score += np.sum(cnt * logsumexp(Elogthetad + Elogbeta[:, int(id)]) for id, cnt in doc)\n",
            "/usr/local/lib/python3.6/dist-packages/gensim/models/ldamodel.py:1077: DeprecationWarning: Calling np.sum(generator) is deprecated, and in the future will give a different result. Use np.sum(np.fromiter(generator)) or the python sum builtin instead.\n",
            "  score += np.sum(cnt * logsumexp(Elogthetad + Elogbeta[:, int(id)]) for id, cnt in doc)\n",
            "/usr/local/lib/python3.6/dist-packages/gensim/models/ldamodel.py:1077: DeprecationWarning: Calling np.sum(generator) is deprecated, and in the future will give a different result. Use np.sum(np.fromiter(generator)) or the python sum builtin instead.\n",
            "  score += np.sum(cnt * logsumexp(Elogthetad + Elogbeta[:, int(id)]) for id, cnt in doc)\n",
            "/usr/local/lib/python3.6/dist-packages/gensim/models/ldamodel.py:1077: DeprecationWarning: Calling np.sum(generator) is deprecated, and in the future will give a different result. Use np.sum(np.fromiter(generator)) or the python sum builtin instead.\n",
            "  score += np.sum(cnt * logsumexp(Elogthetad + Elogbeta[:, int(id)]) for id, cnt in doc)\n",
            "/usr/local/lib/python3.6/dist-packages/gensim/models/ldamodel.py:1077: DeprecationWarning: Calling np.sum(generator) is deprecated, and in the future will give a different result. Use np.sum(np.fromiter(generator)) or the python sum builtin instead.\n",
            "  score += np.sum(cnt * logsumexp(Elogthetad + Elogbeta[:, int(id)]) for id, cnt in doc)\n",
            "/usr/local/lib/python3.6/dist-packages/gensim/models/ldamodel.py:1077: DeprecationWarning: Calling np.sum(generator) is deprecated, and in the future will give a different result. Use np.sum(np.fromiter(generator)) or the python sum builtin instead.\n",
            "  score += np.sum(cnt * logsumexp(Elogthetad + Elogbeta[:, int(id)]) for id, cnt in doc)\n",
            "/usr/local/lib/python3.6/dist-packages/gensim/models/ldamodel.py:1077: DeprecationWarning: Calling np.sum(generator) is deprecated, and in the future will give a different result. Use np.sum(np.fromiter(generator)) or the python sum builtin instead.\n",
            "  score += np.sum(cnt * logsumexp(Elogthetad + Elogbeta[:, int(id)]) for id, cnt in doc)\n",
            "/usr/local/lib/python3.6/dist-packages/gensim/models/ldamodel.py:1077: DeprecationWarning: Calling np.sum(generator) is deprecated, and in the future will give a different result. Use np.sum(np.fromiter(generator)) or the python sum builtin instead.\n",
            "  score += np.sum(cnt * logsumexp(Elogthetad + Elogbeta[:, int(id)]) for id, cnt in doc)\n",
            "/usr/local/lib/python3.6/dist-packages/gensim/models/ldamodel.py:1077: DeprecationWarning: Calling np.sum(generator) is deprecated, and in the future will give a different result. Use np.sum(np.fromiter(generator)) or the python sum builtin instead.\n",
            "  score += np.sum(cnt * logsumexp(Elogthetad + Elogbeta[:, int(id)]) for id, cnt in doc)\n",
            "/usr/local/lib/python3.6/dist-packages/gensim/models/ldamodel.py:1077: DeprecationWarning: Calling np.sum(generator) is deprecated, and in the future will give a different result. Use np.sum(np.fromiter(generator)) or the python sum builtin instead.\n",
            "  score += np.sum(cnt * logsumexp(Elogthetad + Elogbeta[:, int(id)]) for id, cnt in doc)\n",
            "/usr/local/lib/python3.6/dist-packages/gensim/models/ldamodel.py:1077: DeprecationWarning: Calling np.sum(generator) is deprecated, and in the future will give a different result. Use np.sum(np.fromiter(generator)) or the python sum builtin instead.\n",
            "  score += np.sum(cnt * logsumexp(Elogthetad + Elogbeta[:, int(id)]) for id, cnt in doc)\n",
            "/usr/local/lib/python3.6/dist-packages/gensim/models/ldamodel.py:1077: DeprecationWarning: Calling np.sum(generator) is deprecated, and in the future will give a different result. Use np.sum(np.fromiter(generator)) or the python sum builtin instead.\n",
            "  score += np.sum(cnt * logsumexp(Elogthetad + Elogbeta[:, int(id)]) for id, cnt in doc)\n",
            "/usr/local/lib/python3.6/dist-packages/gensim/models/ldamodel.py:1077: DeprecationWarning: Calling np.sum(generator) is deprecated, and in the future will give a different result. Use np.sum(np.fromiter(generator)) or the python sum builtin instead.\n",
            "  score += np.sum(cnt * logsumexp(Elogthetad + Elogbeta[:, int(id)]) for id, cnt in doc)\n",
            "/usr/local/lib/python3.6/dist-packages/gensim/models/ldamodel.py:1077: DeprecationWarning: Calling np.sum(generator) is deprecated, and in the future will give a different result. Use np.sum(np.fromiter(generator)) or the python sum builtin instead.\n",
            "  score += np.sum(cnt * logsumexp(Elogthetad + Elogbeta[:, int(id)]) for id, cnt in doc)\n",
            "/usr/local/lib/python3.6/dist-packages/gensim/models/ldamodel.py:1077: DeprecationWarning: Calling np.sum(generator) is deprecated, and in the future will give a different result. Use np.sum(np.fromiter(generator)) or the python sum builtin instead.\n",
            "  score += np.sum(cnt * logsumexp(Elogthetad + Elogbeta[:, int(id)]) for id, cnt in doc)\n",
            "/usr/local/lib/python3.6/dist-packages/gensim/models/ldamodel.py:1077: DeprecationWarning: Calling np.sum(generator) is deprecated, and in the future will give a different result. Use np.sum(np.fromiter(generator)) or the python sum builtin instead.\n",
            "  score += np.sum(cnt * logsumexp(Elogthetad + Elogbeta[:, int(id)]) for id, cnt in doc)\n",
            "/usr/local/lib/python3.6/dist-packages/gensim/models/ldamodel.py:1077: DeprecationWarning: Calling np.sum(generator) is deprecated, and in the future will give a different result. Use np.sum(np.fromiter(generator)) or the python sum builtin instead.\n",
            "  score += np.sum(cnt * logsumexp(Elogthetad + Elogbeta[:, int(id)]) for id, cnt in doc)\n",
            "/usr/local/lib/python3.6/dist-packages/gensim/models/ldamodel.py:1077: DeprecationWarning: Calling np.sum(generator) is deprecated, and in the future will give a different result. Use np.sum(np.fromiter(generator)) or the python sum builtin instead.\n",
            "  score += np.sum(cnt * logsumexp(Elogthetad + Elogbeta[:, int(id)]) for id, cnt in doc)\n",
            "/usr/local/lib/python3.6/dist-packages/gensim/models/ldamodel.py:1077: DeprecationWarning: Calling np.sum(generator) is deprecated, and in the future will give a different result. Use np.sum(np.fromiter(generator)) or the python sum builtin instead.\n",
            "  score += np.sum(cnt * logsumexp(Elogthetad + Elogbeta[:, int(id)]) for id, cnt in doc)\n",
            "/usr/local/lib/python3.6/dist-packages/gensim/models/ldamodel.py:1077: DeprecationWarning: Calling np.sum(generator) is deprecated, and in the future will give a different result. Use np.sum(np.fromiter(generator)) or the python sum builtin instead.\n",
            "  score += np.sum(cnt * logsumexp(Elogthetad + Elogbeta[:, int(id)]) for id, cnt in doc)\n",
            "/usr/local/lib/python3.6/dist-packages/gensim/models/ldamodel.py:1077: DeprecationWarning: Calling np.sum(generator) is deprecated, and in the future will give a different result. Use np.sum(np.fromiter(generator)) or the python sum builtin instead.\n",
            "  score += np.sum(cnt * logsumexp(Elogthetad + Elogbeta[:, int(id)]) for id, cnt in doc)\n",
            "/usr/local/lib/python3.6/dist-packages/gensim/models/ldamodel.py:1077: DeprecationWarning: Calling np.sum(generator) is deprecated, and in the future will give a different result. Use np.sum(np.fromiter(generator)) or the python sum builtin instead.\n",
            "  score += np.sum(cnt * logsumexp(Elogthetad + Elogbeta[:, int(id)]) for id, cnt in doc)\n",
            "/usr/local/lib/python3.6/dist-packages/gensim/models/ldamodel.py:1077: DeprecationWarning: Calling np.sum(generator) is deprecated, and in the future will give a different result. Use np.sum(np.fromiter(generator)) or the python sum builtin instead.\n",
            "  score += np.sum(cnt * logsumexp(Elogthetad + Elogbeta[:, int(id)]) for id, cnt in doc)\n",
            "/usr/local/lib/python3.6/dist-packages/gensim/models/ldamodel.py:1077: DeprecationWarning: Calling np.sum(generator) is deprecated, and in the future will give a different result. Use np.sum(np.fromiter(generator)) or the python sum builtin instead.\n",
            "  score += np.sum(cnt * logsumexp(Elogthetad + Elogbeta[:, int(id)]) for id, cnt in doc)\n",
            "/usr/local/lib/python3.6/dist-packages/gensim/models/ldamodel.py:1077: DeprecationWarning: Calling np.sum(generator) is deprecated, and in the future will give a different result. Use np.sum(np.fromiter(generator)) or the python sum builtin instead.\n",
            "  score += np.sum(cnt * logsumexp(Elogthetad + Elogbeta[:, int(id)]) for id, cnt in doc)\n",
            "/usr/local/lib/python3.6/dist-packages/gensim/models/ldamodel.py:1077: DeprecationWarning: Calling np.sum(generator) is deprecated, and in the future will give a different result. Use np.sum(np.fromiter(generator)) or the python sum builtin instead.\n",
            "  score += np.sum(cnt * logsumexp(Elogthetad + Elogbeta[:, int(id)]) for id, cnt in doc)\n",
            "/usr/local/lib/python3.6/dist-packages/gensim/models/ldamodel.py:1077: DeprecationWarning: Calling np.sum(generator) is deprecated, and in the future will give a different result. Use np.sum(np.fromiter(generator)) or the python sum builtin instead.\n",
            "  score += np.sum(cnt * logsumexp(Elogthetad + Elogbeta[:, int(id)]) for id, cnt in doc)\n",
            "/usr/local/lib/python3.6/dist-packages/gensim/models/ldamodel.py:1077: DeprecationWarning: Calling np.sum(generator) is deprecated, and in the future will give a different result. Use np.sum(np.fromiter(generator)) or the python sum builtin instead.\n",
            "  score += np.sum(cnt * logsumexp(Elogthetad + Elogbeta[:, int(id)]) for id, cnt in doc)\n",
            "/usr/local/lib/python3.6/dist-packages/gensim/models/ldamodel.py:1077: DeprecationWarning: Calling np.sum(generator) is deprecated, and in the future will give a different result. Use np.sum(np.fromiter(generator)) or the python sum builtin instead.\n",
            "  score += np.sum(cnt * logsumexp(Elogthetad + Elogbeta[:, int(id)]) for id, cnt in doc)\n",
            "/usr/local/lib/python3.6/dist-packages/gensim/models/ldamodel.py:1077: DeprecationWarning: Calling np.sum(generator) is deprecated, and in the future will give a different result. Use np.sum(np.fromiter(generator)) or the python sum builtin instead.\n",
            "  score += np.sum(cnt * logsumexp(Elogthetad + Elogbeta[:, int(id)]) for id, cnt in doc)\n",
            "/usr/local/lib/python3.6/dist-packages/gensim/models/ldamodel.py:1077: DeprecationWarning: Calling np.sum(generator) is deprecated, and in the future will give a different result. Use np.sum(np.fromiter(generator)) or the python sum builtin instead.\n",
            "  score += np.sum(cnt * logsumexp(Elogthetad + Elogbeta[:, int(id)]) for id, cnt in doc)\n",
            "/usr/local/lib/python3.6/dist-packages/gensim/models/ldamodel.py:1077: DeprecationWarning: Calling np.sum(generator) is deprecated, and in the future will give a different result. Use np.sum(np.fromiter(generator)) or the python sum builtin instead.\n",
            "  score += np.sum(cnt * logsumexp(Elogthetad + Elogbeta[:, int(id)]) for id, cnt in doc)\n",
            "/usr/local/lib/python3.6/dist-packages/gensim/models/ldamodel.py:1077: DeprecationWarning: Calling np.sum(generator) is deprecated, and in the future will give a different result. Use np.sum(np.fromiter(generator)) or the python sum builtin instead.\n",
            "  score += np.sum(cnt * logsumexp(Elogthetad + Elogbeta[:, int(id)]) for id, cnt in doc)\n",
            "/usr/local/lib/python3.6/dist-packages/gensim/models/ldamodel.py:1077: DeprecationWarning: Calling np.sum(generator) is deprecated, and in the future will give a different result. Use np.sum(np.fromiter(generator)) or the python sum builtin instead.\n",
            "  score += np.sum(cnt * logsumexp(Elogthetad + Elogbeta[:, int(id)]) for id, cnt in doc)\n",
            "/usr/local/lib/python3.6/dist-packages/gensim/models/ldamodel.py:1077: DeprecationWarning: Calling np.sum(generator) is deprecated, and in the future will give a different result. Use np.sum(np.fromiter(generator)) or the python sum builtin instead.\n",
            "  score += np.sum(cnt * logsumexp(Elogthetad + Elogbeta[:, int(id)]) for id, cnt in doc)\n",
            "/usr/local/lib/python3.6/dist-packages/gensim/models/ldamodel.py:1077: DeprecationWarning: Calling np.sum(generator) is deprecated, and in the future will give a different result. Use np.sum(np.fromiter(generator)) or the python sum builtin instead.\n",
            "  score += np.sum(cnt * logsumexp(Elogthetad + Elogbeta[:, int(id)]) for id, cnt in doc)\n",
            "/usr/local/lib/python3.6/dist-packages/gensim/models/ldamodel.py:1077: DeprecationWarning: Calling np.sum(generator) is deprecated, and in the future will give a different result. Use np.sum(np.fromiter(generator)) or the python sum builtin instead.\n",
            "  score += np.sum(cnt * logsumexp(Elogthetad + Elogbeta[:, int(id)]) for id, cnt in doc)\n",
            "/usr/local/lib/python3.6/dist-packages/gensim/models/ldamodel.py:1077: DeprecationWarning: Calling np.sum(generator) is deprecated, and in the future will give a different result. Use np.sum(np.fromiter(generator)) or the python sum builtin instead.\n",
            "  score += np.sum(cnt * logsumexp(Elogthetad + Elogbeta[:, int(id)]) for id, cnt in doc)\n",
            "/usr/local/lib/python3.6/dist-packages/gensim/models/ldamodel.py:1077: DeprecationWarning: Calling np.sum(generator) is deprecated, and in the future will give a different result. Use np.sum(np.fromiter(generator)) or the python sum builtin instead.\n",
            "  score += np.sum(cnt * logsumexp(Elogthetad + Elogbeta[:, int(id)]) for id, cnt in doc)\n",
            "/usr/local/lib/python3.6/dist-packages/gensim/models/ldamodel.py:1077: DeprecationWarning: Calling np.sum(generator) is deprecated, and in the future will give a different result. Use np.sum(np.fromiter(generator)) or the python sum builtin instead.\n",
            "  score += np.sum(cnt * logsumexp(Elogthetad + Elogbeta[:, int(id)]) for id, cnt in doc)\n",
            "/usr/local/lib/python3.6/dist-packages/gensim/models/ldamodel.py:1077: DeprecationWarning: Calling np.sum(generator) is deprecated, and in the future will give a different result. Use np.sum(np.fromiter(generator)) or the python sum builtin instead.\n",
            "  score += np.sum(cnt * logsumexp(Elogthetad + Elogbeta[:, int(id)]) for id, cnt in doc)\n",
            "/usr/local/lib/python3.6/dist-packages/gensim/models/ldamodel.py:1077: DeprecationWarning: Calling np.sum(generator) is deprecated, and in the future will give a different result. Use np.sum(np.fromiter(generator)) or the python sum builtin instead.\n",
            "  score += np.sum(cnt * logsumexp(Elogthetad + Elogbeta[:, int(id)]) for id, cnt in doc)\n",
            "/usr/local/lib/python3.6/dist-packages/gensim/models/ldamodel.py:1077: DeprecationWarning: Calling np.sum(generator) is deprecated, and in the future will give a different result. Use np.sum(np.fromiter(generator)) or the python sum builtin instead.\n",
            "  score += np.sum(cnt * logsumexp(Elogthetad + Elogbeta[:, int(id)]) for id, cnt in doc)\n",
            "/usr/local/lib/python3.6/dist-packages/gensim/models/ldamodel.py:1077: DeprecationWarning: Calling np.sum(generator) is deprecated, and in the future will give a different result. Use np.sum(np.fromiter(generator)) or the python sum builtin instead.\n",
            "  score += np.sum(cnt * logsumexp(Elogthetad + Elogbeta[:, int(id)]) for id, cnt in doc)\n",
            "/usr/local/lib/python3.6/dist-packages/gensim/models/ldamodel.py:1077: DeprecationWarning: Calling np.sum(generator) is deprecated, and in the future will give a different result. Use np.sum(np.fromiter(generator)) or the python sum builtin instead.\n",
            "  score += np.sum(cnt * logsumexp(Elogthetad + Elogbeta[:, int(id)]) for id, cnt in doc)\n",
            "/usr/local/lib/python3.6/dist-packages/gensim/models/ldamodel.py:1077: DeprecationWarning: Calling np.sum(generator) is deprecated, and in the future will give a different result. Use np.sum(np.fromiter(generator)) or the python sum builtin instead.\n",
            "  score += np.sum(cnt * logsumexp(Elogthetad + Elogbeta[:, int(id)]) for id, cnt in doc)\n",
            "/usr/local/lib/python3.6/dist-packages/gensim/models/ldamodel.py:1077: DeprecationWarning: Calling np.sum(generator) is deprecated, and in the future will give a different result. Use np.sum(np.fromiter(generator)) or the python sum builtin instead.\n",
            "  score += np.sum(cnt * logsumexp(Elogthetad + Elogbeta[:, int(id)]) for id, cnt in doc)\n",
            "/usr/local/lib/python3.6/dist-packages/gensim/models/ldamodel.py:1077: DeprecationWarning: Calling np.sum(generator) is deprecated, and in the future will give a different result. Use np.sum(np.fromiter(generator)) or the python sum builtin instead.\n",
            "  score += np.sum(cnt * logsumexp(Elogthetad + Elogbeta[:, int(id)]) for id, cnt in doc)\n",
            "/usr/local/lib/python3.6/dist-packages/gensim/models/ldamodel.py:1077: DeprecationWarning: Calling np.sum(generator) is deprecated, and in the future will give a different result. Use np.sum(np.fromiter(generator)) or the python sum builtin instead.\n",
            "  score += np.sum(cnt * logsumexp(Elogthetad + Elogbeta[:, int(id)]) for id, cnt in doc)\n",
            "/usr/local/lib/python3.6/dist-packages/gensim/models/ldamodel.py:1077: DeprecationWarning: Calling np.sum(generator) is deprecated, and in the future will give a different result. Use np.sum(np.fromiter(generator)) or the python sum builtin instead.\n",
            "  score += np.sum(cnt * logsumexp(Elogthetad + Elogbeta[:, int(id)]) for id, cnt in doc)\n",
            "/usr/local/lib/python3.6/dist-packages/gensim/models/ldamodel.py:1077: DeprecationWarning: Calling np.sum(generator) is deprecated, and in the future will give a different result. Use np.sum(np.fromiter(generator)) or the python sum builtin instead.\n",
            "  score += np.sum(cnt * logsumexp(Elogthetad + Elogbeta[:, int(id)]) for id, cnt in doc)\n",
            "/usr/local/lib/python3.6/dist-packages/gensim/models/ldamodel.py:1077: DeprecationWarning: Calling np.sum(generator) is deprecated, and in the future will give a different result. Use np.sum(np.fromiter(generator)) or the python sum builtin instead.\n",
            "  score += np.sum(cnt * logsumexp(Elogthetad + Elogbeta[:, int(id)]) for id, cnt in doc)\n",
            "/usr/local/lib/python3.6/dist-packages/gensim/models/ldamodel.py:1077: DeprecationWarning: Calling np.sum(generator) is deprecated, and in the future will give a different result. Use np.sum(np.fromiter(generator)) or the python sum builtin instead.\n",
            "  score += np.sum(cnt * logsumexp(Elogthetad + Elogbeta[:, int(id)]) for id, cnt in doc)\n",
            "/usr/local/lib/python3.6/dist-packages/gensim/models/ldamodel.py:1077: DeprecationWarning: Calling np.sum(generator) is deprecated, and in the future will give a different result. Use np.sum(np.fromiter(generator)) or the python sum builtin instead.\n",
            "  score += np.sum(cnt * logsumexp(Elogthetad + Elogbeta[:, int(id)]) for id, cnt in doc)\n",
            "/usr/local/lib/python3.6/dist-packages/gensim/models/ldamodel.py:1077: DeprecationWarning: Calling np.sum(generator) is deprecated, and in the future will give a different result. Use np.sum(np.fromiter(generator)) or the python sum builtin instead.\n",
            "  score += np.sum(cnt * logsumexp(Elogthetad + Elogbeta[:, int(id)]) for id, cnt in doc)\n",
            "/usr/local/lib/python3.6/dist-packages/gensim/models/ldamodel.py:1077: DeprecationWarning: Calling np.sum(generator) is deprecated, and in the future will give a different result. Use np.sum(np.fromiter(generator)) or the python sum builtin instead.\n",
            "  score += np.sum(cnt * logsumexp(Elogthetad + Elogbeta[:, int(id)]) for id, cnt in doc)\n",
            "/usr/local/lib/python3.6/dist-packages/gensim/models/ldamodel.py:1077: DeprecationWarning: Calling np.sum(generator) is deprecated, and in the future will give a different result. Use np.sum(np.fromiter(generator)) or the python sum builtin instead.\n",
            "  score += np.sum(cnt * logsumexp(Elogthetad + Elogbeta[:, int(id)]) for id, cnt in doc)\n",
            "/usr/local/lib/python3.6/dist-packages/gensim/models/ldamodel.py:1077: DeprecationWarning: Calling np.sum(generator) is deprecated, and in the future will give a different result. Use np.sum(np.fromiter(generator)) or the python sum builtin instead.\n",
            "  score += np.sum(cnt * logsumexp(Elogthetad + Elogbeta[:, int(id)]) for id, cnt in doc)\n",
            "/usr/local/lib/python3.6/dist-packages/gensim/models/ldamodel.py:1077: DeprecationWarning: Calling np.sum(generator) is deprecated, and in the future will give a different result. Use np.sum(np.fromiter(generator)) or the python sum builtin instead.\n",
            "  score += np.sum(cnt * logsumexp(Elogthetad + Elogbeta[:, int(id)]) for id, cnt in doc)\n",
            "/usr/local/lib/python3.6/dist-packages/gensim/models/ldamodel.py:1077: DeprecationWarning: Calling np.sum(generator) is deprecated, and in the future will give a different result. Use np.sum(np.fromiter(generator)) or the python sum builtin instead.\n",
            "  score += np.sum(cnt * logsumexp(Elogthetad + Elogbeta[:, int(id)]) for id, cnt in doc)\n",
            "/usr/local/lib/python3.6/dist-packages/gensim/models/ldamodel.py:1077: DeprecationWarning: Calling np.sum(generator) is deprecated, and in the future will give a different result. Use np.sum(np.fromiter(generator)) or the python sum builtin instead.\n",
            "  score += np.sum(cnt * logsumexp(Elogthetad + Elogbeta[:, int(id)]) for id, cnt in doc)\n",
            "/usr/local/lib/python3.6/dist-packages/gensim/models/ldamodel.py:1077: DeprecationWarning: Calling np.sum(generator) is deprecated, and in the future will give a different result. Use np.sum(np.fromiter(generator)) or the python sum builtin instead.\n",
            "  score += np.sum(cnt * logsumexp(Elogthetad + Elogbeta[:, int(id)]) for id, cnt in doc)\n",
            "/usr/local/lib/python3.6/dist-packages/gensim/models/ldamodel.py:1077: DeprecationWarning: Calling np.sum(generator) is deprecated, and in the future will give a different result. Use np.sum(np.fromiter(generator)) or the python sum builtin instead.\n",
            "  score += np.sum(cnt * logsumexp(Elogthetad + Elogbeta[:, int(id)]) for id, cnt in doc)\n",
            "/usr/local/lib/python3.6/dist-packages/gensim/models/ldamodel.py:1077: DeprecationWarning: Calling np.sum(generator) is deprecated, and in the future will give a different result. Use np.sum(np.fromiter(generator)) or the python sum builtin instead.\n",
            "  score += np.sum(cnt * logsumexp(Elogthetad + Elogbeta[:, int(id)]) for id, cnt in doc)\n",
            "/usr/local/lib/python3.6/dist-packages/gensim/models/ldamodel.py:1077: DeprecationWarning: Calling np.sum(generator) is deprecated, and in the future will give a different result. Use np.sum(np.fromiter(generator)) or the python sum builtin instead.\n",
            "  score += np.sum(cnt * logsumexp(Elogthetad + Elogbeta[:, int(id)]) for id, cnt in doc)\n",
            "/usr/local/lib/python3.6/dist-packages/gensim/models/ldamodel.py:1077: DeprecationWarning: Calling np.sum(generator) is deprecated, and in the future will give a different result. Use np.sum(np.fromiter(generator)) or the python sum builtin instead.\n",
            "  score += np.sum(cnt * logsumexp(Elogthetad + Elogbeta[:, int(id)]) for id, cnt in doc)\n",
            "/usr/local/lib/python3.6/dist-packages/gensim/models/ldamodel.py:1077: DeprecationWarning: Calling np.sum(generator) is deprecated, and in the future will give a different result. Use np.sum(np.fromiter(generator)) or the python sum builtin instead.\n",
            "  score += np.sum(cnt * logsumexp(Elogthetad + Elogbeta[:, int(id)]) for id, cnt in doc)\n",
            "/usr/local/lib/python3.6/dist-packages/gensim/models/ldamodel.py:1077: DeprecationWarning: Calling np.sum(generator) is deprecated, and in the future will give a different result. Use np.sum(np.fromiter(generator)) or the python sum builtin instead.\n",
            "  score += np.sum(cnt * logsumexp(Elogthetad + Elogbeta[:, int(id)]) for id, cnt in doc)\n",
            "/usr/local/lib/python3.6/dist-packages/gensim/models/ldamodel.py:1077: DeprecationWarning: Calling np.sum(generator) is deprecated, and in the future will give a different result. Use np.sum(np.fromiter(generator)) or the python sum builtin instead.\n",
            "  score += np.sum(cnt * logsumexp(Elogthetad + Elogbeta[:, int(id)]) for id, cnt in doc)\n",
            "/usr/local/lib/python3.6/dist-packages/gensim/models/ldamodel.py:1077: DeprecationWarning: Calling np.sum(generator) is deprecated, and in the future will give a different result. Use np.sum(np.fromiter(generator)) or the python sum builtin instead.\n",
            "  score += np.sum(cnt * logsumexp(Elogthetad + Elogbeta[:, int(id)]) for id, cnt in doc)\n",
            "/usr/local/lib/python3.6/dist-packages/gensim/models/ldamodel.py:1077: DeprecationWarning: Calling np.sum(generator) is deprecated, and in the future will give a different result. Use np.sum(np.fromiter(generator)) or the python sum builtin instead.\n",
            "  score += np.sum(cnt * logsumexp(Elogthetad + Elogbeta[:, int(id)]) for id, cnt in doc)\n",
            "/usr/local/lib/python3.6/dist-packages/gensim/models/ldamodel.py:1077: DeprecationWarning: Calling np.sum(generator) is deprecated, and in the future will give a different result. Use np.sum(np.fromiter(generator)) or the python sum builtin instead.\n",
            "  score += np.sum(cnt * logsumexp(Elogthetad + Elogbeta[:, int(id)]) for id, cnt in doc)\n",
            "/usr/local/lib/python3.6/dist-packages/gensim/models/ldamodel.py:1077: DeprecationWarning: Calling np.sum(generator) is deprecated, and in the future will give a different result. Use np.sum(np.fromiter(generator)) or the python sum builtin instead.\n",
            "  score += np.sum(cnt * logsumexp(Elogthetad + Elogbeta[:, int(id)]) for id, cnt in doc)\n",
            "/usr/local/lib/python3.6/dist-packages/gensim/models/ldamodel.py:1077: DeprecationWarning: Calling np.sum(generator) is deprecated, and in the future will give a different result. Use np.sum(np.fromiter(generator)) or the python sum builtin instead.\n",
            "  score += np.sum(cnt * logsumexp(Elogthetad + Elogbeta[:, int(id)]) for id, cnt in doc)\n",
            "/usr/local/lib/python3.6/dist-packages/gensim/models/ldamodel.py:1077: DeprecationWarning: Calling np.sum(generator) is deprecated, and in the future will give a different result. Use np.sum(np.fromiter(generator)) or the python sum builtin instead.\n",
            "  score += np.sum(cnt * logsumexp(Elogthetad + Elogbeta[:, int(id)]) for id, cnt in doc)\n",
            "/usr/local/lib/python3.6/dist-packages/gensim/models/ldamodel.py:1077: DeprecationWarning: Calling np.sum(generator) is deprecated, and in the future will give a different result. Use np.sum(np.fromiter(generator)) or the python sum builtin instead.\n",
            "  score += np.sum(cnt * logsumexp(Elogthetad + Elogbeta[:, int(id)]) for id, cnt in doc)\n",
            "/usr/local/lib/python3.6/dist-packages/gensim/models/ldamodel.py:1077: DeprecationWarning: Calling np.sum(generator) is deprecated, and in the future will give a different result. Use np.sum(np.fromiter(generator)) or the python sum builtin instead.\n",
            "  score += np.sum(cnt * logsumexp(Elogthetad + Elogbeta[:, int(id)]) for id, cnt in doc)\n",
            "/usr/local/lib/python3.6/dist-packages/gensim/models/ldamodel.py:1077: DeprecationWarning: Calling np.sum(generator) is deprecated, and in the future will give a different result. Use np.sum(np.fromiter(generator)) or the python sum builtin instead.\n",
            "  score += np.sum(cnt * logsumexp(Elogthetad + Elogbeta[:, int(id)]) for id, cnt in doc)\n",
            "/usr/local/lib/python3.6/dist-packages/gensim/models/ldamodel.py:1077: DeprecationWarning: Calling np.sum(generator) is deprecated, and in the future will give a different result. Use np.sum(np.fromiter(generator)) or the python sum builtin instead.\n",
            "  score += np.sum(cnt * logsumexp(Elogthetad + Elogbeta[:, int(id)]) for id, cnt in doc)\n",
            "/usr/local/lib/python3.6/dist-packages/gensim/models/ldamodel.py:1077: DeprecationWarning: Calling np.sum(generator) is deprecated, and in the future will give a different result. Use np.sum(np.fromiter(generator)) or the python sum builtin instead.\n",
            "  score += np.sum(cnt * logsumexp(Elogthetad + Elogbeta[:, int(id)]) for id, cnt in doc)\n",
            "/usr/local/lib/python3.6/dist-packages/gensim/models/ldamodel.py:1077: DeprecationWarning: Calling np.sum(generator) is deprecated, and in the future will give a different result. Use np.sum(np.fromiter(generator)) or the python sum builtin instead.\n",
            "  score += np.sum(cnt * logsumexp(Elogthetad + Elogbeta[:, int(id)]) for id, cnt in doc)\n",
            "/usr/local/lib/python3.6/dist-packages/gensim/models/ldamodel.py:1077: DeprecationWarning: Calling np.sum(generator) is deprecated, and in the future will give a different result. Use np.sum(np.fromiter(generator)) or the python sum builtin instead.\n",
            "  score += np.sum(cnt * logsumexp(Elogthetad + Elogbeta[:, int(id)]) for id, cnt in doc)\n",
            "/usr/local/lib/python3.6/dist-packages/gensim/models/ldamodel.py:1077: DeprecationWarning: Calling np.sum(generator) is deprecated, and in the future will give a different result. Use np.sum(np.fromiter(generator)) or the python sum builtin instead.\n",
            "  score += np.sum(cnt * logsumexp(Elogthetad + Elogbeta[:, int(id)]) for id, cnt in doc)\n",
            "/usr/local/lib/python3.6/dist-packages/gensim/models/ldamodel.py:1077: DeprecationWarning: Calling np.sum(generator) is deprecated, and in the future will give a different result. Use np.sum(np.fromiter(generator)) or the python sum builtin instead.\n",
            "  score += np.sum(cnt * logsumexp(Elogthetad + Elogbeta[:, int(id)]) for id, cnt in doc)\n",
            "/usr/local/lib/python3.6/dist-packages/gensim/models/ldamodel.py:1077: DeprecationWarning: Calling np.sum(generator) is deprecated, and in the future will give a different result. Use np.sum(np.fromiter(generator)) or the python sum builtin instead.\n",
            "  score += np.sum(cnt * logsumexp(Elogthetad + Elogbeta[:, int(id)]) for id, cnt in doc)\n",
            "/usr/local/lib/python3.6/dist-packages/gensim/models/ldamodel.py:1077: DeprecationWarning: Calling np.sum(generator) is deprecated, and in the future will give a different result. Use np.sum(np.fromiter(generator)) or the python sum builtin instead.\n",
            "  score += np.sum(cnt * logsumexp(Elogthetad + Elogbeta[:, int(id)]) for id, cnt in doc)\n",
            "/usr/local/lib/python3.6/dist-packages/gensim/models/ldamodel.py:1077: DeprecationWarning: Calling np.sum(generator) is deprecated, and in the future will give a different result. Use np.sum(np.fromiter(generator)) or the python sum builtin instead.\n",
            "  score += np.sum(cnt * logsumexp(Elogthetad + Elogbeta[:, int(id)]) for id, cnt in doc)\n",
            "/usr/local/lib/python3.6/dist-packages/gensim/models/ldamodel.py:1077: DeprecationWarning: Calling np.sum(generator) is deprecated, and in the future will give a different result. Use np.sum(np.fromiter(generator)) or the python sum builtin instead.\n",
            "  score += np.sum(cnt * logsumexp(Elogthetad + Elogbeta[:, int(id)]) for id, cnt in doc)\n",
            "/usr/local/lib/python3.6/dist-packages/gensim/models/ldamodel.py:1077: DeprecationWarning: Calling np.sum(generator) is deprecated, and in the future will give a different result. Use np.sum(np.fromiter(generator)) or the python sum builtin instead.\n",
            "  score += np.sum(cnt * logsumexp(Elogthetad + Elogbeta[:, int(id)]) for id, cnt in doc)\n",
            "/usr/local/lib/python3.6/dist-packages/gensim/models/ldamodel.py:1077: DeprecationWarning: Calling np.sum(generator) is deprecated, and in the future will give a different result. Use np.sum(np.fromiter(generator)) or the python sum builtin instead.\n",
            "  score += np.sum(cnt * logsumexp(Elogthetad + Elogbeta[:, int(id)]) for id, cnt in doc)\n",
            "/usr/local/lib/python3.6/dist-packages/gensim/models/ldamodel.py:1077: DeprecationWarning: Calling np.sum(generator) is deprecated, and in the future will give a different result. Use np.sum(np.fromiter(generator)) or the python sum builtin instead.\n",
            "  score += np.sum(cnt * logsumexp(Elogthetad + Elogbeta[:, int(id)]) for id, cnt in doc)\n",
            "/usr/local/lib/python3.6/dist-packages/gensim/models/ldamodel.py:1077: DeprecationWarning: Calling np.sum(generator) is deprecated, and in the future will give a different result. Use np.sum(np.fromiter(generator)) or the python sum builtin instead.\n",
            "  score += np.sum(cnt * logsumexp(Elogthetad + Elogbeta[:, int(id)]) for id, cnt in doc)\n",
            "/usr/local/lib/python3.6/dist-packages/gensim/models/ldamodel.py:1077: DeprecationWarning: Calling np.sum(generator) is deprecated, and in the future will give a different result. Use np.sum(np.fromiter(generator)) or the python sum builtin instead.\n",
            "  score += np.sum(cnt * logsumexp(Elogthetad + Elogbeta[:, int(id)]) for id, cnt in doc)\n",
            "/usr/local/lib/python3.6/dist-packages/gensim/models/ldamodel.py:1077: DeprecationWarning: Calling np.sum(generator) is deprecated, and in the future will give a different result. Use np.sum(np.fromiter(generator)) or the python sum builtin instead.\n",
            "  score += np.sum(cnt * logsumexp(Elogthetad + Elogbeta[:, int(id)]) for id, cnt in doc)\n",
            "/usr/local/lib/python3.6/dist-packages/gensim/models/ldamodel.py:1077: DeprecationWarning: Calling np.sum(generator) is deprecated, and in the future will give a different result. Use np.sum(np.fromiter(generator)) or the python sum builtin instead.\n",
            "  score += np.sum(cnt * logsumexp(Elogthetad + Elogbeta[:, int(id)]) for id, cnt in doc)\n",
            "/usr/local/lib/python3.6/dist-packages/gensim/models/ldamodel.py:1077: DeprecationWarning: Calling np.sum(generator) is deprecated, and in the future will give a different result. Use np.sum(np.fromiter(generator)) or the python sum builtin instead.\n",
            "  score += np.sum(cnt * logsumexp(Elogthetad + Elogbeta[:, int(id)]) for id, cnt in doc)\n",
            "/usr/local/lib/python3.6/dist-packages/gensim/models/ldamodel.py:1077: DeprecationWarning: Calling np.sum(generator) is deprecated, and in the future will give a different result. Use np.sum(np.fromiter(generator)) or the python sum builtin instead.\n",
            "  score += np.sum(cnt * logsumexp(Elogthetad + Elogbeta[:, int(id)]) for id, cnt in doc)\n",
            "/usr/local/lib/python3.6/dist-packages/gensim/models/ldamodel.py:1077: DeprecationWarning: Calling np.sum(generator) is deprecated, and in the future will give a different result. Use np.sum(np.fromiter(generator)) or the python sum builtin instead.\n",
            "  score += np.sum(cnt * logsumexp(Elogthetad + Elogbeta[:, int(id)]) for id, cnt in doc)\n",
            "/usr/local/lib/python3.6/dist-packages/gensim/models/ldamodel.py:1077: DeprecationWarning: Calling np.sum(generator) is deprecated, and in the future will give a different result. Use np.sum(np.fromiter(generator)) or the python sum builtin instead.\n",
            "  score += np.sum(cnt * logsumexp(Elogthetad + Elogbeta[:, int(id)]) for id, cnt in doc)\n",
            "/usr/local/lib/python3.6/dist-packages/gensim/models/ldamodel.py:1077: DeprecationWarning: Calling np.sum(generator) is deprecated, and in the future will give a different result. Use np.sum(np.fromiter(generator)) or the python sum builtin instead.\n",
            "  score += np.sum(cnt * logsumexp(Elogthetad + Elogbeta[:, int(id)]) for id, cnt in doc)\n",
            "/usr/local/lib/python3.6/dist-packages/gensim/models/ldamodel.py:1077: DeprecationWarning: Calling np.sum(generator) is deprecated, and in the future will give a different result. Use np.sum(np.fromiter(generator)) or the python sum builtin instead.\n",
            "  score += np.sum(cnt * logsumexp(Elogthetad + Elogbeta[:, int(id)]) for id, cnt in doc)\n",
            "/usr/local/lib/python3.6/dist-packages/gensim/models/ldamodel.py:1077: DeprecationWarning: Calling np.sum(generator) is deprecated, and in the future will give a different result. Use np.sum(np.fromiter(generator)) or the python sum builtin instead.\n",
            "  score += np.sum(cnt * logsumexp(Elogthetad + Elogbeta[:, int(id)]) for id, cnt in doc)\n",
            "/usr/local/lib/python3.6/dist-packages/gensim/models/ldamodel.py:1077: DeprecationWarning: Calling np.sum(generator) is deprecated, and in the future will give a different result. Use np.sum(np.fromiter(generator)) or the python sum builtin instead.\n",
            "  score += np.sum(cnt * logsumexp(Elogthetad + Elogbeta[:, int(id)]) for id, cnt in doc)\n",
            "/usr/local/lib/python3.6/dist-packages/gensim/models/ldamodel.py:1077: DeprecationWarning: Calling np.sum(generator) is deprecated, and in the future will give a different result. Use np.sum(np.fromiter(generator)) or the python sum builtin instead.\n",
            "  score += np.sum(cnt * logsumexp(Elogthetad + Elogbeta[:, int(id)]) for id, cnt in doc)\n",
            "/usr/local/lib/python3.6/dist-packages/gensim/models/ldamodel.py:1077: DeprecationWarning: Calling np.sum(generator) is deprecated, and in the future will give a different result. Use np.sum(np.fromiter(generator)) or the python sum builtin instead.\n",
            "  score += np.sum(cnt * logsumexp(Elogthetad + Elogbeta[:, int(id)]) for id, cnt in doc)\n",
            "/usr/local/lib/python3.6/dist-packages/gensim/models/ldamodel.py:1077: DeprecationWarning: Calling np.sum(generator) is deprecated, and in the future will give a different result. Use np.sum(np.fromiter(generator)) or the python sum builtin instead.\n",
            "  score += np.sum(cnt * logsumexp(Elogthetad + Elogbeta[:, int(id)]) for id, cnt in doc)\n",
            "/usr/local/lib/python3.6/dist-packages/gensim/models/ldamodel.py:1077: DeprecationWarning: Calling np.sum(generator) is deprecated, and in the future will give a different result. Use np.sum(np.fromiter(generator)) or the python sum builtin instead.\n",
            "  score += np.sum(cnt * logsumexp(Elogthetad + Elogbeta[:, int(id)]) for id, cnt in doc)\n",
            "/usr/local/lib/python3.6/dist-packages/gensim/models/ldamodel.py:1077: DeprecationWarning: Calling np.sum(generator) is deprecated, and in the future will give a different result. Use np.sum(np.fromiter(generator)) or the python sum builtin instead.\n",
            "  score += np.sum(cnt * logsumexp(Elogthetad + Elogbeta[:, int(id)]) for id, cnt in doc)\n",
            "/usr/local/lib/python3.6/dist-packages/gensim/models/ldamodel.py:1077: DeprecationWarning: Calling np.sum(generator) is deprecated, and in the future will give a different result. Use np.sum(np.fromiter(generator)) or the python sum builtin instead.\n",
            "  score += np.sum(cnt * logsumexp(Elogthetad + Elogbeta[:, int(id)]) for id, cnt in doc)\n",
            "/usr/local/lib/python3.6/dist-packages/gensim/models/ldamodel.py:1077: DeprecationWarning: Calling np.sum(generator) is deprecated, and in the future will give a different result. Use np.sum(np.fromiter(generator)) or the python sum builtin instead.\n",
            "  score += np.sum(cnt * logsumexp(Elogthetad + Elogbeta[:, int(id)]) for id, cnt in doc)\n",
            "/usr/local/lib/python3.6/dist-packages/gensim/models/ldamodel.py:1077: DeprecationWarning: Calling np.sum(generator) is deprecated, and in the future will give a different result. Use np.sum(np.fromiter(generator)) or the python sum builtin instead.\n",
            "  score += np.sum(cnt * logsumexp(Elogthetad + Elogbeta[:, int(id)]) for id, cnt in doc)\n",
            "/usr/local/lib/python3.6/dist-packages/gensim/models/ldamodel.py:1077: DeprecationWarning: Calling np.sum(generator) is deprecated, and in the future will give a different result. Use np.sum(np.fromiter(generator)) or the python sum builtin instead.\n",
            "  score += np.sum(cnt * logsumexp(Elogthetad + Elogbeta[:, int(id)]) for id, cnt in doc)\n",
            "/usr/local/lib/python3.6/dist-packages/gensim/models/ldamodel.py:1077: DeprecationWarning: Calling np.sum(generator) is deprecated, and in the future will give a different result. Use np.sum(np.fromiter(generator)) or the python sum builtin instead.\n",
            "  score += np.sum(cnt * logsumexp(Elogthetad + Elogbeta[:, int(id)]) for id, cnt in doc)\n",
            "/usr/local/lib/python3.6/dist-packages/gensim/models/ldamodel.py:1077: DeprecationWarning: Calling np.sum(generator) is deprecated, and in the future will give a different result. Use np.sum(np.fromiter(generator)) or the python sum builtin instead.\n",
            "  score += np.sum(cnt * logsumexp(Elogthetad + Elogbeta[:, int(id)]) for id, cnt in doc)\n",
            "/usr/local/lib/python3.6/dist-packages/gensim/models/ldamodel.py:1077: DeprecationWarning: Calling np.sum(generator) is deprecated, and in the future will give a different result. Use np.sum(np.fromiter(generator)) or the python sum builtin instead.\n",
            "  score += np.sum(cnt * logsumexp(Elogthetad + Elogbeta[:, int(id)]) for id, cnt in doc)\n",
            "/usr/local/lib/python3.6/dist-packages/gensim/models/ldamodel.py:1077: DeprecationWarning: Calling np.sum(generator) is deprecated, and in the future will give a different result. Use np.sum(np.fromiter(generator)) or the python sum builtin instead.\n",
            "  score += np.sum(cnt * logsumexp(Elogthetad + Elogbeta[:, int(id)]) for id, cnt in doc)\n",
            "/usr/local/lib/python3.6/dist-packages/gensim/models/ldamodel.py:1077: DeprecationWarning: Calling np.sum(generator) is deprecated, and in the future will give a different result. Use np.sum(np.fromiter(generator)) or the python sum builtin instead.\n",
            "  score += np.sum(cnt * logsumexp(Elogthetad + Elogbeta[:, int(id)]) for id, cnt in doc)\n",
            "/usr/local/lib/python3.6/dist-packages/gensim/models/ldamodel.py:1077: DeprecationWarning: Calling np.sum(generator) is deprecated, and in the future will give a different result. Use np.sum(np.fromiter(generator)) or the python sum builtin instead.\n",
            "  score += np.sum(cnt * logsumexp(Elogthetad + Elogbeta[:, int(id)]) for id, cnt in doc)\n",
            "/usr/local/lib/python3.6/dist-packages/gensim/models/ldamodel.py:1077: DeprecationWarning: Calling np.sum(generator) is deprecated, and in the future will give a different result. Use np.sum(np.fromiter(generator)) or the python sum builtin instead.\n",
            "  score += np.sum(cnt * logsumexp(Elogthetad + Elogbeta[:, int(id)]) for id, cnt in doc)\n",
            "/usr/local/lib/python3.6/dist-packages/gensim/models/ldamodel.py:1077: DeprecationWarning: Calling np.sum(generator) is deprecated, and in the future will give a different result. Use np.sum(np.fromiter(generator)) or the python sum builtin instead.\n",
            "  score += np.sum(cnt * logsumexp(Elogthetad + Elogbeta[:, int(id)]) for id, cnt in doc)\n",
            "/usr/local/lib/python3.6/dist-packages/gensim/models/ldamodel.py:1077: DeprecationWarning: Calling np.sum(generator) is deprecated, and in the future will give a different result. Use np.sum(np.fromiter(generator)) or the python sum builtin instead.\n",
            "  score += np.sum(cnt * logsumexp(Elogthetad + Elogbeta[:, int(id)]) for id, cnt in doc)\n",
            "/usr/local/lib/python3.6/dist-packages/gensim/models/ldamodel.py:1077: DeprecationWarning: Calling np.sum(generator) is deprecated, and in the future will give a different result. Use np.sum(np.fromiter(generator)) or the python sum builtin instead.\n",
            "  score += np.sum(cnt * logsumexp(Elogthetad + Elogbeta[:, int(id)]) for id, cnt in doc)\n",
            "/usr/local/lib/python3.6/dist-packages/gensim/models/ldamodel.py:1077: DeprecationWarning: Calling np.sum(generator) is deprecated, and in the future will give a different result. Use np.sum(np.fromiter(generator)) or the python sum builtin instead.\n",
            "  score += np.sum(cnt * logsumexp(Elogthetad + Elogbeta[:, int(id)]) for id, cnt in doc)\n",
            "/usr/local/lib/python3.6/dist-packages/gensim/models/ldamodel.py:1077: DeprecationWarning: Calling np.sum(generator) is deprecated, and in the future will give a different result. Use np.sum(np.fromiter(generator)) or the python sum builtin instead.\n",
            "  score += np.sum(cnt * logsumexp(Elogthetad + Elogbeta[:, int(id)]) for id, cnt in doc)\n",
            "/usr/local/lib/python3.6/dist-packages/gensim/models/ldamodel.py:1077: DeprecationWarning: Calling np.sum(generator) is deprecated, and in the future will give a different result. Use np.sum(np.fromiter(generator)) or the python sum builtin instead.\n",
            "  score += np.sum(cnt * logsumexp(Elogthetad + Elogbeta[:, int(id)]) for id, cnt in doc)\n",
            "/usr/local/lib/python3.6/dist-packages/gensim/models/ldamodel.py:1077: DeprecationWarning: Calling np.sum(generator) is deprecated, and in the future will give a different result. Use np.sum(np.fromiter(generator)) or the python sum builtin instead.\n",
            "  score += np.sum(cnt * logsumexp(Elogthetad + Elogbeta[:, int(id)]) for id, cnt in doc)\n",
            "/usr/local/lib/python3.6/dist-packages/gensim/models/ldamodel.py:1077: DeprecationWarning: Calling np.sum(generator) is deprecated, and in the future will give a different result. Use np.sum(np.fromiter(generator)) or the python sum builtin instead.\n",
            "  score += np.sum(cnt * logsumexp(Elogthetad + Elogbeta[:, int(id)]) for id, cnt in doc)\n",
            "/usr/local/lib/python3.6/dist-packages/gensim/models/ldamodel.py:1077: DeprecationWarning: Calling np.sum(generator) is deprecated, and in the future will give a different result. Use np.sum(np.fromiter(generator)) or the python sum builtin instead.\n",
            "  score += np.sum(cnt * logsumexp(Elogthetad + Elogbeta[:, int(id)]) for id, cnt in doc)\n",
            "/usr/local/lib/python3.6/dist-packages/gensim/models/ldamodel.py:1077: DeprecationWarning: Calling np.sum(generator) is deprecated, and in the future will give a different result. Use np.sum(np.fromiter(generator)) or the python sum builtin instead.\n",
            "  score += np.sum(cnt * logsumexp(Elogthetad + Elogbeta[:, int(id)]) for id, cnt in doc)\n",
            "/usr/local/lib/python3.6/dist-packages/gensim/models/ldamodel.py:1077: DeprecationWarning: Calling np.sum(generator) is deprecated, and in the future will give a different result. Use np.sum(np.fromiter(generator)) or the python sum builtin instead.\n",
            "  score += np.sum(cnt * logsumexp(Elogthetad + Elogbeta[:, int(id)]) for id, cnt in doc)\n",
            "/usr/local/lib/python3.6/dist-packages/gensim/models/ldamodel.py:1077: DeprecationWarning: Calling np.sum(generator) is deprecated, and in the future will give a different result. Use np.sum(np.fromiter(generator)) or the python sum builtin instead.\n",
            "  score += np.sum(cnt * logsumexp(Elogthetad + Elogbeta[:, int(id)]) for id, cnt in doc)\n",
            "/usr/local/lib/python3.6/dist-packages/gensim/models/ldamodel.py:1077: DeprecationWarning: Calling np.sum(generator) is deprecated, and in the future will give a different result. Use np.sum(np.fromiter(generator)) or the python sum builtin instead.\n",
            "  score += np.sum(cnt * logsumexp(Elogthetad + Elogbeta[:, int(id)]) for id, cnt in doc)\n",
            "/usr/local/lib/python3.6/dist-packages/gensim/models/ldamodel.py:1077: DeprecationWarning: Calling np.sum(generator) is deprecated, and in the future will give a different result. Use np.sum(np.fromiter(generator)) or the python sum builtin instead.\n",
            "  score += np.sum(cnt * logsumexp(Elogthetad + Elogbeta[:, int(id)]) for id, cnt in doc)\n",
            "/usr/local/lib/python3.6/dist-packages/gensim/models/ldamodel.py:1077: DeprecationWarning: Calling np.sum(generator) is deprecated, and in the future will give a different result. Use np.sum(np.fromiter(generator)) or the python sum builtin instead.\n",
            "  score += np.sum(cnt * logsumexp(Elogthetad + Elogbeta[:, int(id)]) for id, cnt in doc)\n",
            "/usr/local/lib/python3.6/dist-packages/gensim/models/ldamodel.py:1077: DeprecationWarning: Calling np.sum(generator) is deprecated, and in the future will give a different result. Use np.sum(np.fromiter(generator)) or the python sum builtin instead.\n",
            "  score += np.sum(cnt * logsumexp(Elogthetad + Elogbeta[:, int(id)]) for id, cnt in doc)\n",
            "/usr/local/lib/python3.6/dist-packages/gensim/models/ldamodel.py:1077: DeprecationWarning: Calling np.sum(generator) is deprecated, and in the future will give a different result. Use np.sum(np.fromiter(generator)) or the python sum builtin instead.\n",
            "  score += np.sum(cnt * logsumexp(Elogthetad + Elogbeta[:, int(id)]) for id, cnt in doc)\n",
            "/usr/local/lib/python3.6/dist-packages/gensim/models/ldamodel.py:1077: DeprecationWarning: Calling np.sum(generator) is deprecated, and in the future will give a different result. Use np.sum(np.fromiter(generator)) or the python sum builtin instead.\n",
            "  score += np.sum(cnt * logsumexp(Elogthetad + Elogbeta[:, int(id)]) for id, cnt in doc)\n",
            "/usr/local/lib/python3.6/dist-packages/gensim/models/ldamodel.py:1077: DeprecationWarning: Calling np.sum(generator) is deprecated, and in the future will give a different result. Use np.sum(np.fromiter(generator)) or the python sum builtin instead.\n",
            "  score += np.sum(cnt * logsumexp(Elogthetad + Elogbeta[:, int(id)]) for id, cnt in doc)\n",
            "/usr/local/lib/python3.6/dist-packages/gensim/models/ldamodel.py:1077: DeprecationWarning: Calling np.sum(generator) is deprecated, and in the future will give a different result. Use np.sum(np.fromiter(generator)) or the python sum builtin instead.\n",
            "  score += np.sum(cnt * logsumexp(Elogthetad + Elogbeta[:, int(id)]) for id, cnt in doc)\n",
            "/usr/local/lib/python3.6/dist-packages/gensim/models/ldamodel.py:1077: DeprecationWarning: Calling np.sum(generator) is deprecated, and in the future will give a different result. Use np.sum(np.fromiter(generator)) or the python sum builtin instead.\n",
            "  score += np.sum(cnt * logsumexp(Elogthetad + Elogbeta[:, int(id)]) for id, cnt in doc)\n",
            "/usr/local/lib/python3.6/dist-packages/gensim/models/ldamodel.py:1077: DeprecationWarning: Calling np.sum(generator) is deprecated, and in the future will give a different result. Use np.sum(np.fromiter(generator)) or the python sum builtin instead.\n",
            "  score += np.sum(cnt * logsumexp(Elogthetad + Elogbeta[:, int(id)]) for id, cnt in doc)\n",
            "/usr/local/lib/python3.6/dist-packages/gensim/models/ldamodel.py:1077: DeprecationWarning: Calling np.sum(generator) is deprecated, and in the future will give a different result. Use np.sum(np.fromiter(generator)) or the python sum builtin instead.\n",
            "  score += np.sum(cnt * logsumexp(Elogthetad + Elogbeta[:, int(id)]) for id, cnt in doc)\n",
            "/usr/local/lib/python3.6/dist-packages/gensim/models/ldamodel.py:1077: DeprecationWarning: Calling np.sum(generator) is deprecated, and in the future will give a different result. Use np.sum(np.fromiter(generator)) or the python sum builtin instead.\n",
            "  score += np.sum(cnt * logsumexp(Elogthetad + Elogbeta[:, int(id)]) for id, cnt in doc)\n",
            "/usr/local/lib/python3.6/dist-packages/gensim/models/ldamodel.py:1077: DeprecationWarning: Calling np.sum(generator) is deprecated, and in the future will give a different result. Use np.sum(np.fromiter(generator)) or the python sum builtin instead.\n",
            "  score += np.sum(cnt * logsumexp(Elogthetad + Elogbeta[:, int(id)]) for id, cnt in doc)\n",
            "/usr/local/lib/python3.6/dist-packages/gensim/models/ldamodel.py:1077: DeprecationWarning: Calling np.sum(generator) is deprecated, and in the future will give a different result. Use np.sum(np.fromiter(generator)) or the python sum builtin instead.\n",
            "  score += np.sum(cnt * logsumexp(Elogthetad + Elogbeta[:, int(id)]) for id, cnt in doc)\n",
            "/usr/local/lib/python3.6/dist-packages/gensim/models/ldamodel.py:1077: DeprecationWarning: Calling np.sum(generator) is deprecated, and in the future will give a different result. Use np.sum(np.fromiter(generator)) or the python sum builtin instead.\n",
            "  score += np.sum(cnt * logsumexp(Elogthetad + Elogbeta[:, int(id)]) for id, cnt in doc)\n",
            "/usr/local/lib/python3.6/dist-packages/gensim/models/ldamodel.py:1077: DeprecationWarning: Calling np.sum(generator) is deprecated, and in the future will give a different result. Use np.sum(np.fromiter(generator)) or the python sum builtin instead.\n",
            "  score += np.sum(cnt * logsumexp(Elogthetad + Elogbeta[:, int(id)]) for id, cnt in doc)\n",
            "/usr/local/lib/python3.6/dist-packages/gensim/models/ldamodel.py:1077: DeprecationWarning: Calling np.sum(generator) is deprecated, and in the future will give a different result. Use np.sum(np.fromiter(generator)) or the python sum builtin instead.\n",
            "  score += np.sum(cnt * logsumexp(Elogthetad + Elogbeta[:, int(id)]) for id, cnt in doc)\n",
            "/usr/local/lib/python3.6/dist-packages/gensim/models/ldamodel.py:1077: DeprecationWarning: Calling np.sum(generator) is deprecated, and in the future will give a different result. Use np.sum(np.fromiter(generator)) or the python sum builtin instead.\n",
            "  score += np.sum(cnt * logsumexp(Elogthetad + Elogbeta[:, int(id)]) for id, cnt in doc)\n",
            "/usr/local/lib/python3.6/dist-packages/gensim/models/ldamodel.py:1077: DeprecationWarning: Calling np.sum(generator) is deprecated, and in the future will give a different result. Use np.sum(np.fromiter(generator)) or the python sum builtin instead.\n",
            "  score += np.sum(cnt * logsumexp(Elogthetad + Elogbeta[:, int(id)]) for id, cnt in doc)\n",
            "/usr/local/lib/python3.6/dist-packages/gensim/models/ldamodel.py:1077: DeprecationWarning: Calling np.sum(generator) is deprecated, and in the future will give a different result. Use np.sum(np.fromiter(generator)) or the python sum builtin instead.\n",
            "  score += np.sum(cnt * logsumexp(Elogthetad + Elogbeta[:, int(id)]) for id, cnt in doc)\n",
            "/usr/local/lib/python3.6/dist-packages/gensim/models/ldamodel.py:1077: DeprecationWarning: Calling np.sum(generator) is deprecated, and in the future will give a different result. Use np.sum(np.fromiter(generator)) or the python sum builtin instead.\n",
            "  score += np.sum(cnt * logsumexp(Elogthetad + Elogbeta[:, int(id)]) for id, cnt in doc)\n",
            "/usr/local/lib/python3.6/dist-packages/gensim/models/ldamodel.py:1077: DeprecationWarning: Calling np.sum(generator) is deprecated, and in the future will give a different result. Use np.sum(np.fromiter(generator)) or the python sum builtin instead.\n",
            "  score += np.sum(cnt * logsumexp(Elogthetad + Elogbeta[:, int(id)]) for id, cnt in doc)\n",
            "/usr/local/lib/python3.6/dist-packages/gensim/models/ldamodel.py:1077: DeprecationWarning: Calling np.sum(generator) is deprecated, and in the future will give a different result. Use np.sum(np.fromiter(generator)) or the python sum builtin instead.\n",
            "  score += np.sum(cnt * logsumexp(Elogthetad + Elogbeta[:, int(id)]) for id, cnt in doc)\n",
            "/usr/local/lib/python3.6/dist-packages/gensim/models/ldamodel.py:1077: DeprecationWarning: Calling np.sum(generator) is deprecated, and in the future will give a different result. Use np.sum(np.fromiter(generator)) or the python sum builtin instead.\n",
            "  score += np.sum(cnt * logsumexp(Elogthetad + Elogbeta[:, int(id)]) for id, cnt in doc)\n",
            "/usr/local/lib/python3.6/dist-packages/gensim/models/ldamodel.py:1077: DeprecationWarning: Calling np.sum(generator) is deprecated, and in the future will give a different result. Use np.sum(np.fromiter(generator)) or the python sum builtin instead.\n",
            "  score += np.sum(cnt * logsumexp(Elogthetad + Elogbeta[:, int(id)]) for id, cnt in doc)\n",
            "/usr/local/lib/python3.6/dist-packages/gensim/models/ldamodel.py:1077: DeprecationWarning: Calling np.sum(generator) is deprecated, and in the future will give a different result. Use np.sum(np.fromiter(generator)) or the python sum builtin instead.\n",
            "  score += np.sum(cnt * logsumexp(Elogthetad + Elogbeta[:, int(id)]) for id, cnt in doc)\n",
            "/usr/local/lib/python3.6/dist-packages/gensim/models/ldamodel.py:1077: DeprecationWarning: Calling np.sum(generator) is deprecated, and in the future will give a different result. Use np.sum(np.fromiter(generator)) or the python sum builtin instead.\n",
            "  score += np.sum(cnt * logsumexp(Elogthetad + Elogbeta[:, int(id)]) for id, cnt in doc)\n",
            "/usr/local/lib/python3.6/dist-packages/gensim/models/ldamodel.py:1077: DeprecationWarning: Calling np.sum(generator) is deprecated, and in the future will give a different result. Use np.sum(np.fromiter(generator)) or the python sum builtin instead.\n",
            "  score += np.sum(cnt * logsumexp(Elogthetad + Elogbeta[:, int(id)]) for id, cnt in doc)\n",
            "/usr/local/lib/python3.6/dist-packages/gensim/models/ldamodel.py:1077: DeprecationWarning: Calling np.sum(generator) is deprecated, and in the future will give a different result. Use np.sum(np.fromiter(generator)) or the python sum builtin instead.\n",
            "  score += np.sum(cnt * logsumexp(Elogthetad + Elogbeta[:, int(id)]) for id, cnt in doc)\n",
            "/usr/local/lib/python3.6/dist-packages/gensim/models/ldamodel.py:1077: DeprecationWarning: Calling np.sum(generator) is deprecated, and in the future will give a different result. Use np.sum(np.fromiter(generator)) or the python sum builtin instead.\n",
            "  score += np.sum(cnt * logsumexp(Elogthetad + Elogbeta[:, int(id)]) for id, cnt in doc)\n",
            "/usr/local/lib/python3.6/dist-packages/gensim/models/ldamodel.py:1077: DeprecationWarning: Calling np.sum(generator) is deprecated, and in the future will give a different result. Use np.sum(np.fromiter(generator)) or the python sum builtin instead.\n",
            "  score += np.sum(cnt * logsumexp(Elogthetad + Elogbeta[:, int(id)]) for id, cnt in doc)\n",
            "/usr/local/lib/python3.6/dist-packages/gensim/models/ldamodel.py:1077: DeprecationWarning: Calling np.sum(generator) is deprecated, and in the future will give a different result. Use np.sum(np.fromiter(generator)) or the python sum builtin instead.\n",
            "  score += np.sum(cnt * logsumexp(Elogthetad + Elogbeta[:, int(id)]) for id, cnt in doc)\n",
            "/usr/local/lib/python3.6/dist-packages/gensim/models/ldamodel.py:1077: DeprecationWarning: Calling np.sum(generator) is deprecated, and in the future will give a different result. Use np.sum(np.fromiter(generator)) or the python sum builtin instead.\n",
            "  score += np.sum(cnt * logsumexp(Elogthetad + Elogbeta[:, int(id)]) for id, cnt in doc)\n",
            "/usr/local/lib/python3.6/dist-packages/gensim/models/ldamodel.py:1077: DeprecationWarning: Calling np.sum(generator) is deprecated, and in the future will give a different result. Use np.sum(np.fromiter(generator)) or the python sum builtin instead.\n",
            "  score += np.sum(cnt * logsumexp(Elogthetad + Elogbeta[:, int(id)]) for id, cnt in doc)\n",
            "/usr/local/lib/python3.6/dist-packages/gensim/models/ldamodel.py:1077: DeprecationWarning: Calling np.sum(generator) is deprecated, and in the future will give a different result. Use np.sum(np.fromiter(generator)) or the python sum builtin instead.\n",
            "  score += np.sum(cnt * logsumexp(Elogthetad + Elogbeta[:, int(id)]) for id, cnt in doc)\n",
            "/usr/local/lib/python3.6/dist-packages/gensim/models/ldamodel.py:1077: DeprecationWarning: Calling np.sum(generator) is deprecated, and in the future will give a different result. Use np.sum(np.fromiter(generator)) or the python sum builtin instead.\n",
            "  score += np.sum(cnt * logsumexp(Elogthetad + Elogbeta[:, int(id)]) for id, cnt in doc)\n",
            "/usr/local/lib/python3.6/dist-packages/gensim/models/ldamodel.py:1077: DeprecationWarning: Calling np.sum(generator) is deprecated, and in the future will give a different result. Use np.sum(np.fromiter(generator)) or the python sum builtin instead.\n",
            "  score += np.sum(cnt * logsumexp(Elogthetad + Elogbeta[:, int(id)]) for id, cnt in doc)\n",
            "/usr/local/lib/python3.6/dist-packages/gensim/models/ldamodel.py:1077: DeprecationWarning: Calling np.sum(generator) is deprecated, and in the future will give a different result. Use np.sum(np.fromiter(generator)) or the python sum builtin instead.\n",
            "  score += np.sum(cnt * logsumexp(Elogthetad + Elogbeta[:, int(id)]) for id, cnt in doc)\n",
            "/usr/local/lib/python3.6/dist-packages/gensim/models/ldamodel.py:1077: DeprecationWarning: Calling np.sum(generator) is deprecated, and in the future will give a different result. Use np.sum(np.fromiter(generator)) or the python sum builtin instead.\n",
            "  score += np.sum(cnt * logsumexp(Elogthetad + Elogbeta[:, int(id)]) for id, cnt in doc)\n",
            "/usr/local/lib/python3.6/dist-packages/gensim/models/ldamodel.py:1077: DeprecationWarning: Calling np.sum(generator) is deprecated, and in the future will give a different result. Use np.sum(np.fromiter(generator)) or the python sum builtin instead.\n",
            "  score += np.sum(cnt * logsumexp(Elogthetad + Elogbeta[:, int(id)]) for id, cnt in doc)\n",
            "/usr/local/lib/python3.6/dist-packages/gensim/models/ldamodel.py:1077: DeprecationWarning: Calling np.sum(generator) is deprecated, and in the future will give a different result. Use np.sum(np.fromiter(generator)) or the python sum builtin instead.\n",
            "  score += np.sum(cnt * logsumexp(Elogthetad + Elogbeta[:, int(id)]) for id, cnt in doc)\n",
            "/usr/local/lib/python3.6/dist-packages/gensim/models/ldamodel.py:1077: DeprecationWarning: Calling np.sum(generator) is deprecated, and in the future will give a different result. Use np.sum(np.fromiter(generator)) or the python sum builtin instead.\n",
            "  score += np.sum(cnt * logsumexp(Elogthetad + Elogbeta[:, int(id)]) for id, cnt in doc)\n",
            "/usr/local/lib/python3.6/dist-packages/gensim/models/ldamodel.py:1077: DeprecationWarning: Calling np.sum(generator) is deprecated, and in the future will give a different result. Use np.sum(np.fromiter(generator)) or the python sum builtin instead.\n",
            "  score += np.sum(cnt * logsumexp(Elogthetad + Elogbeta[:, int(id)]) for id, cnt in doc)\n",
            "/usr/local/lib/python3.6/dist-packages/gensim/models/ldamodel.py:1077: DeprecationWarning: Calling np.sum(generator) is deprecated, and in the future will give a different result. Use np.sum(np.fromiter(generator)) or the python sum builtin instead.\n",
            "  score += np.sum(cnt * logsumexp(Elogthetad + Elogbeta[:, int(id)]) for id, cnt in doc)\n",
            "/usr/local/lib/python3.6/dist-packages/gensim/models/ldamodel.py:1077: DeprecationWarning: Calling np.sum(generator) is deprecated, and in the future will give a different result. Use np.sum(np.fromiter(generator)) or the python sum builtin instead.\n",
            "  score += np.sum(cnt * logsumexp(Elogthetad + Elogbeta[:, int(id)]) for id, cnt in doc)\n",
            "/usr/local/lib/python3.6/dist-packages/gensim/models/ldamodel.py:1077: DeprecationWarning: Calling np.sum(generator) is deprecated, and in the future will give a different result. Use np.sum(np.fromiter(generator)) or the python sum builtin instead.\n",
            "  score += np.sum(cnt * logsumexp(Elogthetad + Elogbeta[:, int(id)]) for id, cnt in doc)\n",
            "/usr/local/lib/python3.6/dist-packages/gensim/models/ldamodel.py:1077: DeprecationWarning: Calling np.sum(generator) is deprecated, and in the future will give a different result. Use np.sum(np.fromiter(generator)) or the python sum builtin instead.\n",
            "  score += np.sum(cnt * logsumexp(Elogthetad + Elogbeta[:, int(id)]) for id, cnt in doc)\n",
            "/usr/local/lib/python3.6/dist-packages/gensim/models/ldamodel.py:1077: DeprecationWarning: Calling np.sum(generator) is deprecated, and in the future will give a different result. Use np.sum(np.fromiter(generator)) or the python sum builtin instead.\n",
            "  score += np.sum(cnt * logsumexp(Elogthetad + Elogbeta[:, int(id)]) for id, cnt in doc)\n",
            "/usr/local/lib/python3.6/dist-packages/gensim/models/ldamodel.py:1077: DeprecationWarning: Calling np.sum(generator) is deprecated, and in the future will give a different result. Use np.sum(np.fromiter(generator)) or the python sum builtin instead.\n",
            "  score += np.sum(cnt * logsumexp(Elogthetad + Elogbeta[:, int(id)]) for id, cnt in doc)\n",
            "/usr/local/lib/python3.6/dist-packages/gensim/models/ldamodel.py:1077: DeprecationWarning: Calling np.sum(generator) is deprecated, and in the future will give a different result. Use np.sum(np.fromiter(generator)) or the python sum builtin instead.\n",
            "  score += np.sum(cnt * logsumexp(Elogthetad + Elogbeta[:, int(id)]) for id, cnt in doc)\n",
            "/usr/local/lib/python3.6/dist-packages/gensim/models/ldamodel.py:1077: DeprecationWarning: Calling np.sum(generator) is deprecated, and in the future will give a different result. Use np.sum(np.fromiter(generator)) or the python sum builtin instead.\n",
            "  score += np.sum(cnt * logsumexp(Elogthetad + Elogbeta[:, int(id)]) for id, cnt in doc)\n",
            "/usr/local/lib/python3.6/dist-packages/gensim/models/ldamodel.py:1077: DeprecationWarning: Calling np.sum(generator) is deprecated, and in the future will give a different result. Use np.sum(np.fromiter(generator)) or the python sum builtin instead.\n",
            "  score += np.sum(cnt * logsumexp(Elogthetad + Elogbeta[:, int(id)]) for id, cnt in doc)\n",
            "/usr/local/lib/python3.6/dist-packages/gensim/models/ldamodel.py:1077: DeprecationWarning: Calling np.sum(generator) is deprecated, and in the future will give a different result. Use np.sum(np.fromiter(generator)) or the python sum builtin instead.\n",
            "  score += np.sum(cnt * logsumexp(Elogthetad + Elogbeta[:, int(id)]) for id, cnt in doc)\n",
            "/usr/local/lib/python3.6/dist-packages/gensim/models/ldamodel.py:1077: DeprecationWarning: Calling np.sum(generator) is deprecated, and in the future will give a different result. Use np.sum(np.fromiter(generator)) or the python sum builtin instead.\n",
            "  score += np.sum(cnt * logsumexp(Elogthetad + Elogbeta[:, int(id)]) for id, cnt in doc)\n",
            "/usr/local/lib/python3.6/dist-packages/gensim/models/ldamodel.py:1077: DeprecationWarning: Calling np.sum(generator) is deprecated, and in the future will give a different result. Use np.sum(np.fromiter(generator)) or the python sum builtin instead.\n",
            "  score += np.sum(cnt * logsumexp(Elogthetad + Elogbeta[:, int(id)]) for id, cnt in doc)\n",
            "/usr/local/lib/python3.6/dist-packages/gensim/models/ldamodel.py:1077: DeprecationWarning: Calling np.sum(generator) is deprecated, and in the future will give a different result. Use np.sum(np.fromiter(generator)) or the python sum builtin instead.\n",
            "  score += np.sum(cnt * logsumexp(Elogthetad + Elogbeta[:, int(id)]) for id, cnt in doc)\n",
            "/usr/local/lib/python3.6/dist-packages/gensim/models/ldamodel.py:1077: DeprecationWarning: Calling np.sum(generator) is deprecated, and in the future will give a different result. Use np.sum(np.fromiter(generator)) or the python sum builtin instead.\n",
            "  score += np.sum(cnt * logsumexp(Elogthetad + Elogbeta[:, int(id)]) for id, cnt in doc)\n",
            "/usr/local/lib/python3.6/dist-packages/gensim/models/ldamodel.py:1077: DeprecationWarning: Calling np.sum(generator) is deprecated, and in the future will give a different result. Use np.sum(np.fromiter(generator)) or the python sum builtin instead.\n",
            "  score += np.sum(cnt * logsumexp(Elogthetad + Elogbeta[:, int(id)]) for id, cnt in doc)\n",
            "/usr/local/lib/python3.6/dist-packages/gensim/models/ldamodel.py:1077: DeprecationWarning: Calling np.sum(generator) is deprecated, and in the future will give a different result. Use np.sum(np.fromiter(generator)) or the python sum builtin instead.\n",
            "  score += np.sum(cnt * logsumexp(Elogthetad + Elogbeta[:, int(id)]) for id, cnt in doc)\n",
            "/usr/local/lib/python3.6/dist-packages/gensim/models/ldamodel.py:1077: DeprecationWarning: Calling np.sum(generator) is deprecated, and in the future will give a different result. Use np.sum(np.fromiter(generator)) or the python sum builtin instead.\n",
            "  score += np.sum(cnt * logsumexp(Elogthetad + Elogbeta[:, int(id)]) for id, cnt in doc)\n",
            "/usr/local/lib/python3.6/dist-packages/gensim/models/ldamodel.py:1077: DeprecationWarning: Calling np.sum(generator) is deprecated, and in the future will give a different result. Use np.sum(np.fromiter(generator)) or the python sum builtin instead.\n",
            "  score += np.sum(cnt * logsumexp(Elogthetad + Elogbeta[:, int(id)]) for id, cnt in doc)\n",
            "/usr/local/lib/python3.6/dist-packages/gensim/models/ldamodel.py:1077: DeprecationWarning: Calling np.sum(generator) is deprecated, and in the future will give a different result. Use np.sum(np.fromiter(generator)) or the python sum builtin instead.\n",
            "  score += np.sum(cnt * logsumexp(Elogthetad + Elogbeta[:, int(id)]) for id, cnt in doc)\n",
            "/usr/local/lib/python3.6/dist-packages/gensim/models/ldamodel.py:1077: DeprecationWarning: Calling np.sum(generator) is deprecated, and in the future will give a different result. Use np.sum(np.fromiter(generator)) or the python sum builtin instead.\n",
            "  score += np.sum(cnt * logsumexp(Elogthetad + Elogbeta[:, int(id)]) for id, cnt in doc)\n",
            "/usr/local/lib/python3.6/dist-packages/gensim/models/ldamodel.py:1077: DeprecationWarning: Calling np.sum(generator) is deprecated, and in the future will give a different result. Use np.sum(np.fromiter(generator)) or the python sum builtin instead.\n",
            "  score += np.sum(cnt * logsumexp(Elogthetad + Elogbeta[:, int(id)]) for id, cnt in doc)\n",
            "/usr/local/lib/python3.6/dist-packages/gensim/models/ldamodel.py:1077: DeprecationWarning: Calling np.sum(generator) is deprecated, and in the future will give a different result. Use np.sum(np.fromiter(generator)) or the python sum builtin instead.\n",
            "  score += np.sum(cnt * logsumexp(Elogthetad + Elogbeta[:, int(id)]) for id, cnt in doc)\n",
            "/usr/local/lib/python3.6/dist-packages/gensim/models/ldamodel.py:1077: DeprecationWarning: Calling np.sum(generator) is deprecated, and in the future will give a different result. Use np.sum(np.fromiter(generator)) or the python sum builtin instead.\n",
            "  score += np.sum(cnt * logsumexp(Elogthetad + Elogbeta[:, int(id)]) for id, cnt in doc)\n",
            "/usr/local/lib/python3.6/dist-packages/gensim/models/ldamodel.py:1077: DeprecationWarning: Calling np.sum(generator) is deprecated, and in the future will give a different result. Use np.sum(np.fromiter(generator)) or the python sum builtin instead.\n",
            "  score += np.sum(cnt * logsumexp(Elogthetad + Elogbeta[:, int(id)]) for id, cnt in doc)\n",
            "/usr/local/lib/python3.6/dist-packages/gensim/models/ldamodel.py:1077: DeprecationWarning: Calling np.sum(generator) is deprecated, and in the future will give a different result. Use np.sum(np.fromiter(generator)) or the python sum builtin instead.\n",
            "  score += np.sum(cnt * logsumexp(Elogthetad + Elogbeta[:, int(id)]) for id, cnt in doc)\n",
            "/usr/local/lib/python3.6/dist-packages/gensim/models/ldamodel.py:1077: DeprecationWarning: Calling np.sum(generator) is deprecated, and in the future will give a different result. Use np.sum(np.fromiter(generator)) or the python sum builtin instead.\n",
            "  score += np.sum(cnt * logsumexp(Elogthetad + Elogbeta[:, int(id)]) for id, cnt in doc)\n",
            "/usr/local/lib/python3.6/dist-packages/gensim/models/ldamodel.py:1077: DeprecationWarning: Calling np.sum(generator) is deprecated, and in the future will give a different result. Use np.sum(np.fromiter(generator)) or the python sum builtin instead.\n",
            "  score += np.sum(cnt * logsumexp(Elogthetad + Elogbeta[:, int(id)]) for id, cnt in doc)\n",
            "/usr/local/lib/python3.6/dist-packages/gensim/models/ldamodel.py:1077: DeprecationWarning: Calling np.sum(generator) is deprecated, and in the future will give a different result. Use np.sum(np.fromiter(generator)) or the python sum builtin instead.\n",
            "  score += np.sum(cnt * logsumexp(Elogthetad + Elogbeta[:, int(id)]) for id, cnt in doc)\n",
            "/usr/local/lib/python3.6/dist-packages/gensim/models/ldamodel.py:1077: DeprecationWarning: Calling np.sum(generator) is deprecated, and in the future will give a different result. Use np.sum(np.fromiter(generator)) or the python sum builtin instead.\n",
            "  score += np.sum(cnt * logsumexp(Elogthetad + Elogbeta[:, int(id)]) for id, cnt in doc)\n",
            "/usr/local/lib/python3.6/dist-packages/gensim/models/ldamodel.py:1077: DeprecationWarning: Calling np.sum(generator) is deprecated, and in the future will give a different result. Use np.sum(np.fromiter(generator)) or the python sum builtin instead.\n",
            "  score += np.sum(cnt * logsumexp(Elogthetad + Elogbeta[:, int(id)]) for id, cnt in doc)\n",
            "/usr/local/lib/python3.6/dist-packages/gensim/models/ldamodel.py:1077: DeprecationWarning: Calling np.sum(generator) is deprecated, and in the future will give a different result. Use np.sum(np.fromiter(generator)) or the python sum builtin instead.\n",
            "  score += np.sum(cnt * logsumexp(Elogthetad + Elogbeta[:, int(id)]) for id, cnt in doc)\n",
            "/usr/local/lib/python3.6/dist-packages/gensim/models/ldamodel.py:1077: DeprecationWarning: Calling np.sum(generator) is deprecated, and in the future will give a different result. Use np.sum(np.fromiter(generator)) or the python sum builtin instead.\n",
            "  score += np.sum(cnt * logsumexp(Elogthetad + Elogbeta[:, int(id)]) for id, cnt in doc)\n",
            "/usr/local/lib/python3.6/dist-packages/gensim/models/ldamodel.py:1077: DeprecationWarning: Calling np.sum(generator) is deprecated, and in the future will give a different result. Use np.sum(np.fromiter(generator)) or the python sum builtin instead.\n",
            "  score += np.sum(cnt * logsumexp(Elogthetad + Elogbeta[:, int(id)]) for id, cnt in doc)\n",
            "/usr/local/lib/python3.6/dist-packages/gensim/models/ldamodel.py:1077: DeprecationWarning: Calling np.sum(generator) is deprecated, and in the future will give a different result. Use np.sum(np.fromiter(generator)) or the python sum builtin instead.\n",
            "  score += np.sum(cnt * logsumexp(Elogthetad + Elogbeta[:, int(id)]) for id, cnt in doc)\n",
            "/usr/local/lib/python3.6/dist-packages/gensim/models/ldamodel.py:1077: DeprecationWarning: Calling np.sum(generator) is deprecated, and in the future will give a different result. Use np.sum(np.fromiter(generator)) or the python sum builtin instead.\n",
            "  score += np.sum(cnt * logsumexp(Elogthetad + Elogbeta[:, int(id)]) for id, cnt in doc)\n",
            "/usr/local/lib/python3.6/dist-packages/gensim/models/ldamodel.py:1077: DeprecationWarning: Calling np.sum(generator) is deprecated, and in the future will give a different result. Use np.sum(np.fromiter(generator)) or the python sum builtin instead.\n",
            "  score += np.sum(cnt * logsumexp(Elogthetad + Elogbeta[:, int(id)]) for id, cnt in doc)\n",
            "/usr/local/lib/python3.6/dist-packages/gensim/models/ldamodel.py:1077: DeprecationWarning: Calling np.sum(generator) is deprecated, and in the future will give a different result. Use np.sum(np.fromiter(generator)) or the python sum builtin instead.\n",
            "  score += np.sum(cnt * logsumexp(Elogthetad + Elogbeta[:, int(id)]) for id, cnt in doc)\n",
            "/usr/local/lib/python3.6/dist-packages/gensim/models/ldamodel.py:1077: DeprecationWarning: Calling np.sum(generator) is deprecated, and in the future will give a different result. Use np.sum(np.fromiter(generator)) or the python sum builtin instead.\n",
            "  score += np.sum(cnt * logsumexp(Elogthetad + Elogbeta[:, int(id)]) for id, cnt in doc)\n",
            "/usr/local/lib/python3.6/dist-packages/gensim/models/ldamodel.py:1077: DeprecationWarning: Calling np.sum(generator) is deprecated, and in the future will give a different result. Use np.sum(np.fromiter(generator)) or the python sum builtin instead.\n",
            "  score += np.sum(cnt * logsumexp(Elogthetad + Elogbeta[:, int(id)]) for id, cnt in doc)\n",
            "/usr/local/lib/python3.6/dist-packages/gensim/models/ldamodel.py:1077: DeprecationWarning: Calling np.sum(generator) is deprecated, and in the future will give a different result. Use np.sum(np.fromiter(generator)) or the python sum builtin instead.\n",
            "  score += np.sum(cnt * logsumexp(Elogthetad + Elogbeta[:, int(id)]) for id, cnt in doc)\n",
            "/usr/local/lib/python3.6/dist-packages/gensim/models/ldamodel.py:1077: DeprecationWarning: Calling np.sum(generator) is deprecated, and in the future will give a different result. Use np.sum(np.fromiter(generator)) or the python sum builtin instead.\n",
            "  score += np.sum(cnt * logsumexp(Elogthetad + Elogbeta[:, int(id)]) for id, cnt in doc)\n",
            "/usr/local/lib/python3.6/dist-packages/gensim/models/ldamodel.py:1077: DeprecationWarning: Calling np.sum(generator) is deprecated, and in the future will give a different result. Use np.sum(np.fromiter(generator)) or the python sum builtin instead.\n",
            "  score += np.sum(cnt * logsumexp(Elogthetad + Elogbeta[:, int(id)]) for id, cnt in doc)\n",
            "/usr/local/lib/python3.6/dist-packages/gensim/models/ldamodel.py:1077: DeprecationWarning: Calling np.sum(generator) is deprecated, and in the future will give a different result. Use np.sum(np.fromiter(generator)) or the python sum builtin instead.\n",
            "  score += np.sum(cnt * logsumexp(Elogthetad + Elogbeta[:, int(id)]) for id, cnt in doc)\n",
            "/usr/local/lib/python3.6/dist-packages/gensim/models/ldamodel.py:1077: DeprecationWarning: Calling np.sum(generator) is deprecated, and in the future will give a different result. Use np.sum(np.fromiter(generator)) or the python sum builtin instead.\n",
            "  score += np.sum(cnt * logsumexp(Elogthetad + Elogbeta[:, int(id)]) for id, cnt in doc)\n",
            "/usr/local/lib/python3.6/dist-packages/gensim/models/ldamodel.py:1077: DeprecationWarning: Calling np.sum(generator) is deprecated, and in the future will give a different result. Use np.sum(np.fromiter(generator)) or the python sum builtin instead.\n",
            "  score += np.sum(cnt * logsumexp(Elogthetad + Elogbeta[:, int(id)]) for id, cnt in doc)\n",
            "/usr/local/lib/python3.6/dist-packages/gensim/models/ldamodel.py:1077: DeprecationWarning: Calling np.sum(generator) is deprecated, and in the future will give a different result. Use np.sum(np.fromiter(generator)) or the python sum builtin instead.\n",
            "  score += np.sum(cnt * logsumexp(Elogthetad + Elogbeta[:, int(id)]) for id, cnt in doc)\n",
            "/usr/local/lib/python3.6/dist-packages/gensim/models/ldamodel.py:1077: DeprecationWarning: Calling np.sum(generator) is deprecated, and in the future will give a different result. Use np.sum(np.fromiter(generator)) or the python sum builtin instead.\n",
            "  score += np.sum(cnt * logsumexp(Elogthetad + Elogbeta[:, int(id)]) for id, cnt in doc)\n",
            "/usr/local/lib/python3.6/dist-packages/gensim/models/ldamodel.py:1077: DeprecationWarning: Calling np.sum(generator) is deprecated, and in the future will give a different result. Use np.sum(np.fromiter(generator)) or the python sum builtin instead.\n",
            "  score += np.sum(cnt * logsumexp(Elogthetad + Elogbeta[:, int(id)]) for id, cnt in doc)\n",
            "/usr/local/lib/python3.6/dist-packages/gensim/models/ldamodel.py:1077: DeprecationWarning: Calling np.sum(generator) is deprecated, and in the future will give a different result. Use np.sum(np.fromiter(generator)) or the python sum builtin instead.\n",
            "  score += np.sum(cnt * logsumexp(Elogthetad + Elogbeta[:, int(id)]) for id, cnt in doc)\n",
            "/usr/local/lib/python3.6/dist-packages/gensim/models/ldamodel.py:1077: DeprecationWarning: Calling np.sum(generator) is deprecated, and in the future will give a different result. Use np.sum(np.fromiter(generator)) or the python sum builtin instead.\n",
            "  score += np.sum(cnt * logsumexp(Elogthetad + Elogbeta[:, int(id)]) for id, cnt in doc)\n",
            "/usr/local/lib/python3.6/dist-packages/gensim/models/ldamodel.py:1077: DeprecationWarning: Calling np.sum(generator) is deprecated, and in the future will give a different result. Use np.sum(np.fromiter(generator)) or the python sum builtin instead.\n",
            "  score += np.sum(cnt * logsumexp(Elogthetad + Elogbeta[:, int(id)]) for id, cnt in doc)\n",
            "/usr/local/lib/python3.6/dist-packages/gensim/models/ldamodel.py:1077: DeprecationWarning: Calling np.sum(generator) is deprecated, and in the future will give a different result. Use np.sum(np.fromiter(generator)) or the python sum builtin instead.\n",
            "  score += np.sum(cnt * logsumexp(Elogthetad + Elogbeta[:, int(id)]) for id, cnt in doc)\n",
            "/usr/local/lib/python3.6/dist-packages/gensim/models/ldamodel.py:1077: DeprecationWarning: Calling np.sum(generator) is deprecated, and in the future will give a different result. Use np.sum(np.fromiter(generator)) or the python sum builtin instead.\n",
            "  score += np.sum(cnt * logsumexp(Elogthetad + Elogbeta[:, int(id)]) for id, cnt in doc)\n",
            "/usr/local/lib/python3.6/dist-packages/gensim/models/ldamodel.py:1077: DeprecationWarning: Calling np.sum(generator) is deprecated, and in the future will give a different result. Use np.sum(np.fromiter(generator)) or the python sum builtin instead.\n",
            "  score += np.sum(cnt * logsumexp(Elogthetad + Elogbeta[:, int(id)]) for id, cnt in doc)\n",
            "/usr/local/lib/python3.6/dist-packages/gensim/models/ldamodel.py:1077: DeprecationWarning: Calling np.sum(generator) is deprecated, and in the future will give a different result. Use np.sum(np.fromiter(generator)) or the python sum builtin instead.\n",
            "  score += np.sum(cnt * logsumexp(Elogthetad + Elogbeta[:, int(id)]) for id, cnt in doc)\n",
            "/usr/local/lib/python3.6/dist-packages/gensim/models/ldamodel.py:1077: DeprecationWarning: Calling np.sum(generator) is deprecated, and in the future will give a different result. Use np.sum(np.fromiter(generator)) or the python sum builtin instead.\n",
            "  score += np.sum(cnt * logsumexp(Elogthetad + Elogbeta[:, int(id)]) for id, cnt in doc)\n",
            "/usr/local/lib/python3.6/dist-packages/gensim/models/ldamodel.py:1077: DeprecationWarning: Calling np.sum(generator) is deprecated, and in the future will give a different result. Use np.sum(np.fromiter(generator)) or the python sum builtin instead.\n",
            "  score += np.sum(cnt * logsumexp(Elogthetad + Elogbeta[:, int(id)]) for id, cnt in doc)\n",
            "/usr/local/lib/python3.6/dist-packages/gensim/models/ldamodel.py:1077: DeprecationWarning: Calling np.sum(generator) is deprecated, and in the future will give a different result. Use np.sum(np.fromiter(generator)) or the python sum builtin instead.\n",
            "  score += np.sum(cnt * logsumexp(Elogthetad + Elogbeta[:, int(id)]) for id, cnt in doc)\n",
            "/usr/local/lib/python3.6/dist-packages/gensim/models/ldamodel.py:1077: DeprecationWarning: Calling np.sum(generator) is deprecated, and in the future will give a different result. Use np.sum(np.fromiter(generator)) or the python sum builtin instead.\n",
            "  score += np.sum(cnt * logsumexp(Elogthetad + Elogbeta[:, int(id)]) for id, cnt in doc)\n",
            "/usr/local/lib/python3.6/dist-packages/gensim/models/ldamodel.py:1077: DeprecationWarning: Calling np.sum(generator) is deprecated, and in the future will give a different result. Use np.sum(np.fromiter(generator)) or the python sum builtin instead.\n",
            "  score += np.sum(cnt * logsumexp(Elogthetad + Elogbeta[:, int(id)]) for id, cnt in doc)\n",
            "/usr/local/lib/python3.6/dist-packages/gensim/models/ldamodel.py:1077: DeprecationWarning: Calling np.sum(generator) is deprecated, and in the future will give a different result. Use np.sum(np.fromiter(generator)) or the python sum builtin instead.\n",
            "  score += np.sum(cnt * logsumexp(Elogthetad + Elogbeta[:, int(id)]) for id, cnt in doc)\n",
            "/usr/local/lib/python3.6/dist-packages/gensim/models/ldamodel.py:1077: DeprecationWarning: Calling np.sum(generator) is deprecated, and in the future will give a different result. Use np.sum(np.fromiter(generator)) or the python sum builtin instead.\n",
            "  score += np.sum(cnt * logsumexp(Elogthetad + Elogbeta[:, int(id)]) for id, cnt in doc)\n",
            "/usr/local/lib/python3.6/dist-packages/gensim/models/ldamodel.py:1077: DeprecationWarning: Calling np.sum(generator) is deprecated, and in the future will give a different result. Use np.sum(np.fromiter(generator)) or the python sum builtin instead.\n",
            "  score += np.sum(cnt * logsumexp(Elogthetad + Elogbeta[:, int(id)]) for id, cnt in doc)\n",
            "/usr/local/lib/python3.6/dist-packages/gensim/models/ldamodel.py:1077: DeprecationWarning: Calling np.sum(generator) is deprecated, and in the future will give a different result. Use np.sum(np.fromiter(generator)) or the python sum builtin instead.\n",
            "  score += np.sum(cnt * logsumexp(Elogthetad + Elogbeta[:, int(id)]) for id, cnt in doc)\n",
            "/usr/local/lib/python3.6/dist-packages/gensim/models/ldamodel.py:1077: DeprecationWarning: Calling np.sum(generator) is deprecated, and in the future will give a different result. Use np.sum(np.fromiter(generator)) or the python sum builtin instead.\n",
            "  score += np.sum(cnt * logsumexp(Elogthetad + Elogbeta[:, int(id)]) for id, cnt in doc)\n",
            "/usr/local/lib/python3.6/dist-packages/gensim/models/ldamodel.py:1077: DeprecationWarning: Calling np.sum(generator) is deprecated, and in the future will give a different result. Use np.sum(np.fromiter(generator)) or the python sum builtin instead.\n",
            "  score += np.sum(cnt * logsumexp(Elogthetad + Elogbeta[:, int(id)]) for id, cnt in doc)\n",
            "/usr/local/lib/python3.6/dist-packages/gensim/models/ldamodel.py:1077: DeprecationWarning: Calling np.sum(generator) is deprecated, and in the future will give a different result. Use np.sum(np.fromiter(generator)) or the python sum builtin instead.\n",
            "  score += np.sum(cnt * logsumexp(Elogthetad + Elogbeta[:, int(id)]) for id, cnt in doc)\n",
            "/usr/local/lib/python3.6/dist-packages/gensim/models/ldamodel.py:1077: DeprecationWarning: Calling np.sum(generator) is deprecated, and in the future will give a different result. Use np.sum(np.fromiter(generator)) or the python sum builtin instead.\n",
            "  score += np.sum(cnt * logsumexp(Elogthetad + Elogbeta[:, int(id)]) for id, cnt in doc)\n",
            "/usr/local/lib/python3.6/dist-packages/gensim/models/ldamodel.py:1077: DeprecationWarning: Calling np.sum(generator) is deprecated, and in the future will give a different result. Use np.sum(np.fromiter(generator)) or the python sum builtin instead.\n",
            "  score += np.sum(cnt * logsumexp(Elogthetad + Elogbeta[:, int(id)]) for id, cnt in doc)\n",
            "/usr/local/lib/python3.6/dist-packages/gensim/models/ldamodel.py:1077: DeprecationWarning: Calling np.sum(generator) is deprecated, and in the future will give a different result. Use np.sum(np.fromiter(generator)) or the python sum builtin instead.\n",
            "  score += np.sum(cnt * logsumexp(Elogthetad + Elogbeta[:, int(id)]) for id, cnt in doc)\n",
            "/usr/local/lib/python3.6/dist-packages/gensim/models/ldamodel.py:1077: DeprecationWarning: Calling np.sum(generator) is deprecated, and in the future will give a different result. Use np.sum(np.fromiter(generator)) or the python sum builtin instead.\n",
            "  score += np.sum(cnt * logsumexp(Elogthetad + Elogbeta[:, int(id)]) for id, cnt in doc)\n",
            "/usr/local/lib/python3.6/dist-packages/gensim/models/ldamodel.py:1077: DeprecationWarning: Calling np.sum(generator) is deprecated, and in the future will give a different result. Use np.sum(np.fromiter(generator)) or the python sum builtin instead.\n",
            "  score += np.sum(cnt * logsumexp(Elogthetad + Elogbeta[:, int(id)]) for id, cnt in doc)\n",
            "/usr/local/lib/python3.6/dist-packages/gensim/models/ldamodel.py:1077: DeprecationWarning: Calling np.sum(generator) is deprecated, and in the future will give a different result. Use np.sum(np.fromiter(generator)) or the python sum builtin instead.\n",
            "  score += np.sum(cnt * logsumexp(Elogthetad + Elogbeta[:, int(id)]) for id, cnt in doc)\n",
            "/usr/local/lib/python3.6/dist-packages/gensim/models/ldamodel.py:1077: DeprecationWarning: Calling np.sum(generator) is deprecated, and in the future will give a different result. Use np.sum(np.fromiter(generator)) or the python sum builtin instead.\n",
            "  score += np.sum(cnt * logsumexp(Elogthetad + Elogbeta[:, int(id)]) for id, cnt in doc)\n",
            "/usr/local/lib/python3.6/dist-packages/gensim/models/ldamodel.py:1077: DeprecationWarning: Calling np.sum(generator) is deprecated, and in the future will give a different result. Use np.sum(np.fromiter(generator)) or the python sum builtin instead.\n",
            "  score += np.sum(cnt * logsumexp(Elogthetad + Elogbeta[:, int(id)]) for id, cnt in doc)\n",
            "/usr/local/lib/python3.6/dist-packages/gensim/models/ldamodel.py:1077: DeprecationWarning: Calling np.sum(generator) is deprecated, and in the future will give a different result. Use np.sum(np.fromiter(generator)) or the python sum builtin instead.\n",
            "  score += np.sum(cnt * logsumexp(Elogthetad + Elogbeta[:, int(id)]) for id, cnt in doc)\n",
            "/usr/local/lib/python3.6/dist-packages/gensim/models/ldamodel.py:1077: DeprecationWarning: Calling np.sum(generator) is deprecated, and in the future will give a different result. Use np.sum(np.fromiter(generator)) or the python sum builtin instead.\n",
            "  score += np.sum(cnt * logsumexp(Elogthetad + Elogbeta[:, int(id)]) for id, cnt in doc)\n",
            "/usr/local/lib/python3.6/dist-packages/gensim/models/ldamodel.py:1077: DeprecationWarning: Calling np.sum(generator) is deprecated, and in the future will give a different result. Use np.sum(np.fromiter(generator)) or the python sum builtin instead.\n",
            "  score += np.sum(cnt * logsumexp(Elogthetad + Elogbeta[:, int(id)]) for id, cnt in doc)\n",
            "/usr/local/lib/python3.6/dist-packages/gensim/models/ldamodel.py:1077: DeprecationWarning: Calling np.sum(generator) is deprecated, and in the future will give a different result. Use np.sum(np.fromiter(generator)) or the python sum builtin instead.\n",
            "  score += np.sum(cnt * logsumexp(Elogthetad + Elogbeta[:, int(id)]) for id, cnt in doc)\n",
            "/usr/local/lib/python3.6/dist-packages/gensim/models/ldamodel.py:1077: DeprecationWarning: Calling np.sum(generator) is deprecated, and in the future will give a different result. Use np.sum(np.fromiter(generator)) or the python sum builtin instead.\n",
            "  score += np.sum(cnt * logsumexp(Elogthetad + Elogbeta[:, int(id)]) for id, cnt in doc)\n",
            "/usr/local/lib/python3.6/dist-packages/gensim/models/ldamodel.py:1077: DeprecationWarning: Calling np.sum(generator) is deprecated, and in the future will give a different result. Use np.sum(np.fromiter(generator)) or the python sum builtin instead.\n",
            "  score += np.sum(cnt * logsumexp(Elogthetad + Elogbeta[:, int(id)]) for id, cnt in doc)\n",
            "/usr/local/lib/python3.6/dist-packages/gensim/models/ldamodel.py:1077: DeprecationWarning: Calling np.sum(generator) is deprecated, and in the future will give a different result. Use np.sum(np.fromiter(generator)) or the python sum builtin instead.\n",
            "  score += np.sum(cnt * logsumexp(Elogthetad + Elogbeta[:, int(id)]) for id, cnt in doc)\n",
            "/usr/local/lib/python3.6/dist-packages/gensim/models/ldamodel.py:1077: DeprecationWarning: Calling np.sum(generator) is deprecated, and in the future will give a different result. Use np.sum(np.fromiter(generator)) or the python sum builtin instead.\n",
            "  score += np.sum(cnt * logsumexp(Elogthetad + Elogbeta[:, int(id)]) for id, cnt in doc)\n",
            "/usr/local/lib/python3.6/dist-packages/gensim/models/ldamodel.py:1077: DeprecationWarning: Calling np.sum(generator) is deprecated, and in the future will give a different result. Use np.sum(np.fromiter(generator)) or the python sum builtin instead.\n",
            "  score += np.sum(cnt * logsumexp(Elogthetad + Elogbeta[:, int(id)]) for id, cnt in doc)\n",
            "/usr/local/lib/python3.6/dist-packages/gensim/models/ldamodel.py:1077: DeprecationWarning: Calling np.sum(generator) is deprecated, and in the future will give a different result. Use np.sum(np.fromiter(generator)) or the python sum builtin instead.\n",
            "  score += np.sum(cnt * logsumexp(Elogthetad + Elogbeta[:, int(id)]) for id, cnt in doc)\n",
            "/usr/local/lib/python3.6/dist-packages/gensim/models/ldamodel.py:1077: DeprecationWarning: Calling np.sum(generator) is deprecated, and in the future will give a different result. Use np.sum(np.fromiter(generator)) or the python sum builtin instead.\n",
            "  score += np.sum(cnt * logsumexp(Elogthetad + Elogbeta[:, int(id)]) for id, cnt in doc)\n",
            "/usr/local/lib/python3.6/dist-packages/gensim/models/ldamodel.py:1077: DeprecationWarning: Calling np.sum(generator) is deprecated, and in the future will give a different result. Use np.sum(np.fromiter(generator)) or the python sum builtin instead.\n",
            "  score += np.sum(cnt * logsumexp(Elogthetad + Elogbeta[:, int(id)]) for id, cnt in doc)\n",
            "/usr/local/lib/python3.6/dist-packages/gensim/models/ldamodel.py:1077: DeprecationWarning: Calling np.sum(generator) is deprecated, and in the future will give a different result. Use np.sum(np.fromiter(generator)) or the python sum builtin instead.\n",
            "  score += np.sum(cnt * logsumexp(Elogthetad + Elogbeta[:, int(id)]) for id, cnt in doc)\n",
            "/usr/local/lib/python3.6/dist-packages/gensim/models/ldamodel.py:1077: DeprecationWarning: Calling np.sum(generator) is deprecated, and in the future will give a different result. Use np.sum(np.fromiter(generator)) or the python sum builtin instead.\n",
            "  score += np.sum(cnt * logsumexp(Elogthetad + Elogbeta[:, int(id)]) for id, cnt in doc)\n",
            "/usr/local/lib/python3.6/dist-packages/gensim/models/ldamodel.py:1077: DeprecationWarning: Calling np.sum(generator) is deprecated, and in the future will give a different result. Use np.sum(np.fromiter(generator)) or the python sum builtin instead.\n",
            "  score += np.sum(cnt * logsumexp(Elogthetad + Elogbeta[:, int(id)]) for id, cnt in doc)\n",
            "/usr/local/lib/python3.6/dist-packages/gensim/models/ldamodel.py:1077: DeprecationWarning: Calling np.sum(generator) is deprecated, and in the future will give a different result. Use np.sum(np.fromiter(generator)) or the python sum builtin instead.\n",
            "  score += np.sum(cnt * logsumexp(Elogthetad + Elogbeta[:, int(id)]) for id, cnt in doc)\n",
            "/usr/local/lib/python3.6/dist-packages/gensim/models/ldamodel.py:1077: DeprecationWarning: Calling np.sum(generator) is deprecated, and in the future will give a different result. Use np.sum(np.fromiter(generator)) or the python sum builtin instead.\n",
            "  score += np.sum(cnt * logsumexp(Elogthetad + Elogbeta[:, int(id)]) for id, cnt in doc)\n",
            "/usr/local/lib/python3.6/dist-packages/gensim/models/ldamodel.py:1077: DeprecationWarning: Calling np.sum(generator) is deprecated, and in the future will give a different result. Use np.sum(np.fromiter(generator)) or the python sum builtin instead.\n",
            "  score += np.sum(cnt * logsumexp(Elogthetad + Elogbeta[:, int(id)]) for id, cnt in doc)\n",
            "/usr/local/lib/python3.6/dist-packages/gensim/models/ldamodel.py:1077: DeprecationWarning: Calling np.sum(generator) is deprecated, and in the future will give a different result. Use np.sum(np.fromiter(generator)) or the python sum builtin instead.\n",
            "  score += np.sum(cnt * logsumexp(Elogthetad + Elogbeta[:, int(id)]) for id, cnt in doc)\n",
            "/usr/local/lib/python3.6/dist-packages/gensim/models/ldamodel.py:1077: DeprecationWarning: Calling np.sum(generator) is deprecated, and in the future will give a different result. Use np.sum(np.fromiter(generator)) or the python sum builtin instead.\n",
            "  score += np.sum(cnt * logsumexp(Elogthetad + Elogbeta[:, int(id)]) for id, cnt in doc)\n",
            "/usr/local/lib/python3.6/dist-packages/gensim/models/ldamodel.py:1077: DeprecationWarning: Calling np.sum(generator) is deprecated, and in the future will give a different result. Use np.sum(np.fromiter(generator)) or the python sum builtin instead.\n",
            "  score += np.sum(cnt * logsumexp(Elogthetad + Elogbeta[:, int(id)]) for id, cnt in doc)\n",
            "/usr/local/lib/python3.6/dist-packages/gensim/models/ldamodel.py:1077: DeprecationWarning: Calling np.sum(generator) is deprecated, and in the future will give a different result. Use np.sum(np.fromiter(generator)) or the python sum builtin instead.\n",
            "  score += np.sum(cnt * logsumexp(Elogthetad + Elogbeta[:, int(id)]) for id, cnt in doc)\n",
            "/usr/local/lib/python3.6/dist-packages/gensim/models/ldamodel.py:1077: DeprecationWarning: Calling np.sum(generator) is deprecated, and in the future will give a different result. Use np.sum(np.fromiter(generator)) or the python sum builtin instead.\n",
            "  score += np.sum(cnt * logsumexp(Elogthetad + Elogbeta[:, int(id)]) for id, cnt in doc)\n",
            "/usr/local/lib/python3.6/dist-packages/gensim/models/ldamodel.py:1077: DeprecationWarning: Calling np.sum(generator) is deprecated, and in the future will give a different result. Use np.sum(np.fromiter(generator)) or the python sum builtin instead.\n",
            "  score += np.sum(cnt * logsumexp(Elogthetad + Elogbeta[:, int(id)]) for id, cnt in doc)\n",
            "/usr/local/lib/python3.6/dist-packages/gensim/models/ldamodel.py:1077: DeprecationWarning: Calling np.sum(generator) is deprecated, and in the future will give a different result. Use np.sum(np.fromiter(generator)) or the python sum builtin instead.\n",
            "  score += np.sum(cnt * logsumexp(Elogthetad + Elogbeta[:, int(id)]) for id, cnt in doc)\n",
            "/usr/local/lib/python3.6/dist-packages/gensim/models/ldamodel.py:1077: DeprecationWarning: Calling np.sum(generator) is deprecated, and in the future will give a different result. Use np.sum(np.fromiter(generator)) or the python sum builtin instead.\n",
            "  score += np.sum(cnt * logsumexp(Elogthetad + Elogbeta[:, int(id)]) for id, cnt in doc)\n",
            "/usr/local/lib/python3.6/dist-packages/gensim/models/ldamodel.py:1077: DeprecationWarning: Calling np.sum(generator) is deprecated, and in the future will give a different result. Use np.sum(np.fromiter(generator)) or the python sum builtin instead.\n",
            "  score += np.sum(cnt * logsumexp(Elogthetad + Elogbeta[:, int(id)]) for id, cnt in doc)\n",
            "/usr/local/lib/python3.6/dist-packages/gensim/models/ldamodel.py:1077: DeprecationWarning: Calling np.sum(generator) is deprecated, and in the future will give a different result. Use np.sum(np.fromiter(generator)) or the python sum builtin instead.\n",
            "  score += np.sum(cnt * logsumexp(Elogthetad + Elogbeta[:, int(id)]) for id, cnt in doc)\n",
            "/usr/local/lib/python3.6/dist-packages/gensim/models/ldamodel.py:1077: DeprecationWarning: Calling np.sum(generator) is deprecated, and in the future will give a different result. Use np.sum(np.fromiter(generator)) or the python sum builtin instead.\n",
            "  score += np.sum(cnt * logsumexp(Elogthetad + Elogbeta[:, int(id)]) for id, cnt in doc)\n",
            "/usr/local/lib/python3.6/dist-packages/gensim/models/ldamodel.py:1077: DeprecationWarning: Calling np.sum(generator) is deprecated, and in the future will give a different result. Use np.sum(np.fromiter(generator)) or the python sum builtin instead.\n",
            "  score += np.sum(cnt * logsumexp(Elogthetad + Elogbeta[:, int(id)]) for id, cnt in doc)\n",
            "/usr/local/lib/python3.6/dist-packages/gensim/models/ldamodel.py:1077: DeprecationWarning: Calling np.sum(generator) is deprecated, and in the future will give a different result. Use np.sum(np.fromiter(generator)) or the python sum builtin instead.\n",
            "  score += np.sum(cnt * logsumexp(Elogthetad + Elogbeta[:, int(id)]) for id, cnt in doc)\n",
            "/usr/local/lib/python3.6/dist-packages/gensim/models/ldamodel.py:1077: DeprecationWarning: Calling np.sum(generator) is deprecated, and in the future will give a different result. Use np.sum(np.fromiter(generator)) or the python sum builtin instead.\n",
            "  score += np.sum(cnt * logsumexp(Elogthetad + Elogbeta[:, int(id)]) for id, cnt in doc)\n",
            "/usr/local/lib/python3.6/dist-packages/gensim/models/ldamodel.py:1077: DeprecationWarning: Calling np.sum(generator) is deprecated, and in the future will give a different result. Use np.sum(np.fromiter(generator)) or the python sum builtin instead.\n",
            "  score += np.sum(cnt * logsumexp(Elogthetad + Elogbeta[:, int(id)]) for id, cnt in doc)\n",
            "/usr/local/lib/python3.6/dist-packages/gensim/models/ldamodel.py:1077: DeprecationWarning: Calling np.sum(generator) is deprecated, and in the future will give a different result. Use np.sum(np.fromiter(generator)) or the python sum builtin instead.\n",
            "  score += np.sum(cnt * logsumexp(Elogthetad + Elogbeta[:, int(id)]) for id, cnt in doc)\n",
            "/usr/local/lib/python3.6/dist-packages/gensim/models/ldamodel.py:1077: DeprecationWarning: Calling np.sum(generator) is deprecated, and in the future will give a different result. Use np.sum(np.fromiter(generator)) or the python sum builtin instead.\n",
            "  score += np.sum(cnt * logsumexp(Elogthetad + Elogbeta[:, int(id)]) for id, cnt in doc)\n",
            "/usr/local/lib/python3.6/dist-packages/gensim/models/ldamodel.py:1077: DeprecationWarning: Calling np.sum(generator) is deprecated, and in the future will give a different result. Use np.sum(np.fromiter(generator)) or the python sum builtin instead.\n",
            "  score += np.sum(cnt * logsumexp(Elogthetad + Elogbeta[:, int(id)]) for id, cnt in doc)\n",
            "/usr/local/lib/python3.6/dist-packages/gensim/models/ldamodel.py:1077: DeprecationWarning: Calling np.sum(generator) is deprecated, and in the future will give a different result. Use np.sum(np.fromiter(generator)) or the python sum builtin instead.\n",
            "  score += np.sum(cnt * logsumexp(Elogthetad + Elogbeta[:, int(id)]) for id, cnt in doc)\n",
            "/usr/local/lib/python3.6/dist-packages/gensim/models/ldamodel.py:1077: DeprecationWarning: Calling np.sum(generator) is deprecated, and in the future will give a different result. Use np.sum(np.fromiter(generator)) or the python sum builtin instead.\n",
            "  score += np.sum(cnt * logsumexp(Elogthetad + Elogbeta[:, int(id)]) for id, cnt in doc)\n",
            "/usr/local/lib/python3.6/dist-packages/gensim/models/ldamodel.py:1077: DeprecationWarning: Calling np.sum(generator) is deprecated, and in the future will give a different result. Use np.sum(np.fromiter(generator)) or the python sum builtin instead.\n",
            "  score += np.sum(cnt * logsumexp(Elogthetad + Elogbeta[:, int(id)]) for id, cnt in doc)\n",
            "/usr/local/lib/python3.6/dist-packages/gensim/models/ldamodel.py:1077: DeprecationWarning: Calling np.sum(generator) is deprecated, and in the future will give a different result. Use np.sum(np.fromiter(generator)) or the python sum builtin instead.\n",
            "  score += np.sum(cnt * logsumexp(Elogthetad + Elogbeta[:, int(id)]) for id, cnt in doc)\n",
            "/usr/local/lib/python3.6/dist-packages/gensim/models/ldamodel.py:1077: DeprecationWarning: Calling np.sum(generator) is deprecated, and in the future will give a different result. Use np.sum(np.fromiter(generator)) or the python sum builtin instead.\n",
            "  score += np.sum(cnt * logsumexp(Elogthetad + Elogbeta[:, int(id)]) for id, cnt in doc)\n",
            "/usr/local/lib/python3.6/dist-packages/gensim/models/ldamodel.py:1077: DeprecationWarning: Calling np.sum(generator) is deprecated, and in the future will give a different result. Use np.sum(np.fromiter(generator)) or the python sum builtin instead.\n",
            "  score += np.sum(cnt * logsumexp(Elogthetad + Elogbeta[:, int(id)]) for id, cnt in doc)\n",
            "/usr/local/lib/python3.6/dist-packages/gensim/models/ldamodel.py:1077: DeprecationWarning: Calling np.sum(generator) is deprecated, and in the future will give a different result. Use np.sum(np.fromiter(generator)) or the python sum builtin instead.\n",
            "  score += np.sum(cnt * logsumexp(Elogthetad + Elogbeta[:, int(id)]) for id, cnt in doc)\n",
            "/usr/local/lib/python3.6/dist-packages/gensim/models/ldamodel.py:1077: DeprecationWarning: Calling np.sum(generator) is deprecated, and in the future will give a different result. Use np.sum(np.fromiter(generator)) or the python sum builtin instead.\n",
            "  score += np.sum(cnt * logsumexp(Elogthetad + Elogbeta[:, int(id)]) for id, cnt in doc)\n",
            "/usr/local/lib/python3.6/dist-packages/gensim/models/ldamodel.py:1077: DeprecationWarning: Calling np.sum(generator) is deprecated, and in the future will give a different result. Use np.sum(np.fromiter(generator)) or the python sum builtin instead.\n",
            "  score += np.sum(cnt * logsumexp(Elogthetad + Elogbeta[:, int(id)]) for id, cnt in doc)\n",
            "/usr/local/lib/python3.6/dist-packages/gensim/models/ldamodel.py:1077: DeprecationWarning: Calling np.sum(generator) is deprecated, and in the future will give a different result. Use np.sum(np.fromiter(generator)) or the python sum builtin instead.\n",
            "  score += np.sum(cnt * logsumexp(Elogthetad + Elogbeta[:, int(id)]) for id, cnt in doc)\n",
            "/usr/local/lib/python3.6/dist-packages/gensim/models/ldamodel.py:1077: DeprecationWarning: Calling np.sum(generator) is deprecated, and in the future will give a different result. Use np.sum(np.fromiter(generator)) or the python sum builtin instead.\n",
            "  score += np.sum(cnt * logsumexp(Elogthetad + Elogbeta[:, int(id)]) for id, cnt in doc)\n",
            "/usr/local/lib/python3.6/dist-packages/gensim/models/ldamodel.py:1077: DeprecationWarning: Calling np.sum(generator) is deprecated, and in the future will give a different result. Use np.sum(np.fromiter(generator)) or the python sum builtin instead.\n",
            "  score += np.sum(cnt * logsumexp(Elogthetad + Elogbeta[:, int(id)]) for id, cnt in doc)\n",
            "/usr/local/lib/python3.6/dist-packages/gensim/models/ldamodel.py:1077: DeprecationWarning: Calling np.sum(generator) is deprecated, and in the future will give a different result. Use np.sum(np.fromiter(generator)) or the python sum builtin instead.\n",
            "  score += np.sum(cnt * logsumexp(Elogthetad + Elogbeta[:, int(id)]) for id, cnt in doc)\n",
            "/usr/local/lib/python3.6/dist-packages/gensim/models/ldamodel.py:1077: DeprecationWarning: Calling np.sum(generator) is deprecated, and in the future will give a different result. Use np.sum(np.fromiter(generator)) or the python sum builtin instead.\n",
            "  score += np.sum(cnt * logsumexp(Elogthetad + Elogbeta[:, int(id)]) for id, cnt in doc)\n"
          ],
          "name": "stderr"
        },
        {
          "output_type": "stream",
          "text": [
            "(0, '0.042*\"image\" + 0.010*\"se\" + 0.010*\"ne\" + 0.010*\"sp\" + 0.009*\"wscc\"')\n",
            "(1, '0.020*\"enron\" + 0.012*\"message\" + 0.010*\"original\" + 0.009*\"pm\" + 0.007*\"know\"')\n",
            "(2, '0.054*\"td\" + 0.039*\"net\" + 0.037*\"money\" + 0.035*\"tr\" + 0.032*\"width\"')\n",
            "(3, '0.020*\"enron\" + 0.010*\"company\" + 0.006*\"e\" + 0.005*\"energy\" + 0.005*\"stock\"')\n",
            "(4, '0.040*\"enron\" + 0.013*\"hou\" + 0.010*\"pm\" + 0.009*\"development\" + 0.007*\"please\"')\n"
          ],
          "name": "stdout"
        },
        {
          "output_type": "stream",
          "text": [
            "/usr/local/lib/python3.6/dist-packages/gensim/models/ldamodel.py:1077: DeprecationWarning: Calling np.sum(generator) is deprecated, and in the future will give a different result. Use np.sum(np.fromiter(generator)) or the python sum builtin instead.\n",
            "  score += np.sum(cnt * logsumexp(Elogthetad + Elogbeta[:, int(id)]) for id, cnt in doc)\n",
            "/usr/local/lib/python3.6/dist-packages/gensim/models/ldamodel.py:1077: DeprecationWarning: Calling np.sum(generator) is deprecated, and in the future will give a different result. Use np.sum(np.fromiter(generator)) or the python sum builtin instead.\n",
            "  score += np.sum(cnt * logsumexp(Elogthetad + Elogbeta[:, int(id)]) for id, cnt in doc)\n",
            "/usr/local/lib/python3.6/dist-packages/gensim/models/ldamodel.py:1077: DeprecationWarning: Calling np.sum(generator) is deprecated, and in the future will give a different result. Use np.sum(np.fromiter(generator)) or the python sum builtin instead.\n",
            "  score += np.sum(cnt * logsumexp(Elogthetad + Elogbeta[:, int(id)]) for id, cnt in doc)\n",
            "/usr/local/lib/python3.6/dist-packages/gensim/models/ldamodel.py:1077: DeprecationWarning: Calling np.sum(generator) is deprecated, and in the future will give a different result. Use np.sum(np.fromiter(generator)) or the python sum builtin instead.\n",
            "  score += np.sum(cnt * logsumexp(Elogthetad + Elogbeta[:, int(id)]) for id, cnt in doc)\n",
            "/usr/local/lib/python3.6/dist-packages/gensim/models/ldamodel.py:1077: DeprecationWarning: Calling np.sum(generator) is deprecated, and in the future will give a different result. Use np.sum(np.fromiter(generator)) or the python sum builtin instead.\n",
            "  score += np.sum(cnt * logsumexp(Elogthetad + Elogbeta[:, int(id)]) for id, cnt in doc)\n",
            "/usr/local/lib/python3.6/dist-packages/gensim/models/ldamodel.py:1077: DeprecationWarning: Calling np.sum(generator) is deprecated, and in the future will give a different result. Use np.sum(np.fromiter(generator)) or the python sum builtin instead.\n",
            "  score += np.sum(cnt * logsumexp(Elogthetad + Elogbeta[:, int(id)]) for id, cnt in doc)\n",
            "/usr/local/lib/python3.6/dist-packages/gensim/models/ldamodel.py:1077: DeprecationWarning: Calling np.sum(generator) is deprecated, and in the future will give a different result. Use np.sum(np.fromiter(generator)) or the python sum builtin instead.\n",
            "  score += np.sum(cnt * logsumexp(Elogthetad + Elogbeta[:, int(id)]) for id, cnt in doc)\n",
            "/usr/local/lib/python3.6/dist-packages/gensim/models/ldamodel.py:1077: DeprecationWarning: Calling np.sum(generator) is deprecated, and in the future will give a different result. Use np.sum(np.fromiter(generator)) or the python sum builtin instead.\n",
            "  score += np.sum(cnt * logsumexp(Elogthetad + Elogbeta[:, int(id)]) for id, cnt in doc)\n",
            "/usr/local/lib/python3.6/dist-packages/gensim/models/ldamodel.py:1077: DeprecationWarning: Calling np.sum(generator) is deprecated, and in the future will give a different result. Use np.sum(np.fromiter(generator)) or the python sum builtin instead.\n",
            "  score += np.sum(cnt * logsumexp(Elogthetad + Elogbeta[:, int(id)]) for id, cnt in doc)\n",
            "/usr/local/lib/python3.6/dist-packages/gensim/models/ldamodel.py:1077: DeprecationWarning: Calling np.sum(generator) is deprecated, and in the future will give a different result. Use np.sum(np.fromiter(generator)) or the python sum builtin instead.\n",
            "  score += np.sum(cnt * logsumexp(Elogthetad + Elogbeta[:, int(id)]) for id, cnt in doc)\n",
            "/usr/local/lib/python3.6/dist-packages/gensim/models/ldamodel.py:1077: DeprecationWarning: Calling np.sum(generator) is deprecated, and in the future will give a different result. Use np.sum(np.fromiter(generator)) or the python sum builtin instead.\n",
            "  score += np.sum(cnt * logsumexp(Elogthetad + Elogbeta[:, int(id)]) for id, cnt in doc)\n",
            "/usr/local/lib/python3.6/dist-packages/gensim/models/ldamodel.py:1077: DeprecationWarning: Calling np.sum(generator) is deprecated, and in the future will give a different result. Use np.sum(np.fromiter(generator)) or the python sum builtin instead.\n",
            "  score += np.sum(cnt * logsumexp(Elogthetad + Elogbeta[:, int(id)]) for id, cnt in doc)\n",
            "/usr/local/lib/python3.6/dist-packages/gensim/models/ldamodel.py:1077: DeprecationWarning: Calling np.sum(generator) is deprecated, and in the future will give a different result. Use np.sum(np.fromiter(generator)) or the python sum builtin instead.\n",
            "  score += np.sum(cnt * logsumexp(Elogthetad + Elogbeta[:, int(id)]) for id, cnt in doc)\n",
            "/usr/local/lib/python3.6/dist-packages/gensim/models/ldamodel.py:1077: DeprecationWarning: Calling np.sum(generator) is deprecated, and in the future will give a different result. Use np.sum(np.fromiter(generator)) or the python sum builtin instead.\n",
            "  score += np.sum(cnt * logsumexp(Elogthetad + Elogbeta[:, int(id)]) for id, cnt in doc)\n",
            "/usr/local/lib/python3.6/dist-packages/gensim/models/ldamodel.py:1077: DeprecationWarning: Calling np.sum(generator) is deprecated, and in the future will give a different result. Use np.sum(np.fromiter(generator)) or the python sum builtin instead.\n",
            "  score += np.sum(cnt * logsumexp(Elogthetad + Elogbeta[:, int(id)]) for id, cnt in doc)\n",
            "/usr/local/lib/python3.6/dist-packages/gensim/models/ldamodel.py:1077: DeprecationWarning: Calling np.sum(generator) is deprecated, and in the future will give a different result. Use np.sum(np.fromiter(generator)) or the python sum builtin instead.\n",
            "  score += np.sum(cnt * logsumexp(Elogthetad + Elogbeta[:, int(id)]) for id, cnt in doc)\n",
            "/usr/local/lib/python3.6/dist-packages/gensim/models/ldamodel.py:1077: DeprecationWarning: Calling np.sum(generator) is deprecated, and in the future will give a different result. Use np.sum(np.fromiter(generator)) or the python sum builtin instead.\n",
            "  score += np.sum(cnt * logsumexp(Elogthetad + Elogbeta[:, int(id)]) for id, cnt in doc)\n",
            "/usr/local/lib/python3.6/dist-packages/gensim/models/ldamodel.py:1077: DeprecationWarning: Calling np.sum(generator) is deprecated, and in the future will give a different result. Use np.sum(np.fromiter(generator)) or the python sum builtin instead.\n",
            "  score += np.sum(cnt * logsumexp(Elogthetad + Elogbeta[:, int(id)]) for id, cnt in doc)\n",
            "/usr/local/lib/python3.6/dist-packages/gensim/models/ldamodel.py:1077: DeprecationWarning: Calling np.sum(generator) is deprecated, and in the future will give a different result. Use np.sum(np.fromiter(generator)) or the python sum builtin instead.\n",
            "  score += np.sum(cnt * logsumexp(Elogthetad + Elogbeta[:, int(id)]) for id, cnt in doc)\n",
            "/usr/local/lib/python3.6/dist-packages/gensim/models/ldamodel.py:1077: DeprecationWarning: Calling np.sum(generator) is deprecated, and in the future will give a different result. Use np.sum(np.fromiter(generator)) or the python sum builtin instead.\n",
            "  score += np.sum(cnt * logsumexp(Elogthetad + Elogbeta[:, int(id)]) for id, cnt in doc)\n",
            "/usr/local/lib/python3.6/dist-packages/gensim/models/ldamodel.py:1077: DeprecationWarning: Calling np.sum(generator) is deprecated, and in the future will give a different result. Use np.sum(np.fromiter(generator)) or the python sum builtin instead.\n",
            "  score += np.sum(cnt * logsumexp(Elogthetad + Elogbeta[:, int(id)]) for id, cnt in doc)\n",
            "/usr/local/lib/python3.6/dist-packages/gensim/models/ldamodel.py:1077: DeprecationWarning: Calling np.sum(generator) is deprecated, and in the future will give a different result. Use np.sum(np.fromiter(generator)) or the python sum builtin instead.\n",
            "  score += np.sum(cnt * logsumexp(Elogthetad + Elogbeta[:, int(id)]) for id, cnt in doc)\n",
            "/usr/local/lib/python3.6/dist-packages/gensim/models/ldamodel.py:1077: DeprecationWarning: Calling np.sum(generator) is deprecated, and in the future will give a different result. Use np.sum(np.fromiter(generator)) or the python sum builtin instead.\n",
            "  score += np.sum(cnt * logsumexp(Elogthetad + Elogbeta[:, int(id)]) for id, cnt in doc)\n",
            "/usr/local/lib/python3.6/dist-packages/gensim/models/ldamodel.py:1077: DeprecationWarning: Calling np.sum(generator) is deprecated, and in the future will give a different result. Use np.sum(np.fromiter(generator)) or the python sum builtin instead.\n",
            "  score += np.sum(cnt * logsumexp(Elogthetad + Elogbeta[:, int(id)]) for id, cnt in doc)\n",
            "/usr/local/lib/python3.6/dist-packages/gensim/models/ldamodel.py:1077: DeprecationWarning: Calling np.sum(generator) is deprecated, and in the future will give a different result. Use np.sum(np.fromiter(generator)) or the python sum builtin instead.\n",
            "  score += np.sum(cnt * logsumexp(Elogthetad + Elogbeta[:, int(id)]) for id, cnt in doc)\n",
            "/usr/local/lib/python3.6/dist-packages/gensim/models/ldamodel.py:1077: DeprecationWarning: Calling np.sum(generator) is deprecated, and in the future will give a different result. Use np.sum(np.fromiter(generator)) or the python sum builtin instead.\n",
            "  score += np.sum(cnt * logsumexp(Elogthetad + Elogbeta[:, int(id)]) for id, cnt in doc)\n",
            "/usr/local/lib/python3.6/dist-packages/gensim/models/ldamodel.py:1077: DeprecationWarning: Calling np.sum(generator) is deprecated, and in the future will give a different result. Use np.sum(np.fromiter(generator)) or the python sum builtin instead.\n",
            "  score += np.sum(cnt * logsumexp(Elogthetad + Elogbeta[:, int(id)]) for id, cnt in doc)\n",
            "/usr/local/lib/python3.6/dist-packages/gensim/models/ldamodel.py:1077: DeprecationWarning: Calling np.sum(generator) is deprecated, and in the future will give a different result. Use np.sum(np.fromiter(generator)) or the python sum builtin instead.\n",
            "  score += np.sum(cnt * logsumexp(Elogthetad + Elogbeta[:, int(id)]) for id, cnt in doc)\n",
            "/usr/local/lib/python3.6/dist-packages/gensim/models/ldamodel.py:1077: DeprecationWarning: Calling np.sum(generator) is deprecated, and in the future will give a different result. Use np.sum(np.fromiter(generator)) or the python sum builtin instead.\n",
            "  score += np.sum(cnt * logsumexp(Elogthetad + Elogbeta[:, int(id)]) for id, cnt in doc)\n",
            "/usr/local/lib/python3.6/dist-packages/gensim/models/ldamodel.py:1077: DeprecationWarning: Calling np.sum(generator) is deprecated, and in the future will give a different result. Use np.sum(np.fromiter(generator)) or the python sum builtin instead.\n",
            "  score += np.sum(cnt * logsumexp(Elogthetad + Elogbeta[:, int(id)]) for id, cnt in doc)\n",
            "/usr/local/lib/python3.6/dist-packages/gensim/models/ldamodel.py:1077: DeprecationWarning: Calling np.sum(generator) is deprecated, and in the future will give a different result. Use np.sum(np.fromiter(generator)) or the python sum builtin instead.\n",
            "  score += np.sum(cnt * logsumexp(Elogthetad + Elogbeta[:, int(id)]) for id, cnt in doc)\n",
            "/usr/local/lib/python3.6/dist-packages/gensim/models/ldamodel.py:1077: DeprecationWarning: Calling np.sum(generator) is deprecated, and in the future will give a different result. Use np.sum(np.fromiter(generator)) or the python sum builtin instead.\n",
            "  score += np.sum(cnt * logsumexp(Elogthetad + Elogbeta[:, int(id)]) for id, cnt in doc)\n",
            "/usr/local/lib/python3.6/dist-packages/gensim/models/ldamodel.py:1077: DeprecationWarning: Calling np.sum(generator) is deprecated, and in the future will give a different result. Use np.sum(np.fromiter(generator)) or the python sum builtin instead.\n",
            "  score += np.sum(cnt * logsumexp(Elogthetad + Elogbeta[:, int(id)]) for id, cnt in doc)\n",
            "/usr/local/lib/python3.6/dist-packages/gensim/models/ldamodel.py:1077: DeprecationWarning: Calling np.sum(generator) is deprecated, and in the future will give a different result. Use np.sum(np.fromiter(generator)) or the python sum builtin instead.\n",
            "  score += np.sum(cnt * logsumexp(Elogthetad + Elogbeta[:, int(id)]) for id, cnt in doc)\n",
            "/usr/local/lib/python3.6/dist-packages/gensim/models/ldamodel.py:1077: DeprecationWarning: Calling np.sum(generator) is deprecated, and in the future will give a different result. Use np.sum(np.fromiter(generator)) or the python sum builtin instead.\n",
            "  score += np.sum(cnt * logsumexp(Elogthetad + Elogbeta[:, int(id)]) for id, cnt in doc)\n",
            "/usr/local/lib/python3.6/dist-packages/gensim/models/ldamodel.py:1077: DeprecationWarning: Calling np.sum(generator) is deprecated, and in the future will give a different result. Use np.sum(np.fromiter(generator)) or the python sum builtin instead.\n",
            "  score += np.sum(cnt * logsumexp(Elogthetad + Elogbeta[:, int(id)]) for id, cnt in doc)\n",
            "/usr/local/lib/python3.6/dist-packages/gensim/models/ldamodel.py:1077: DeprecationWarning: Calling np.sum(generator) is deprecated, and in the future will give a different result. Use np.sum(np.fromiter(generator)) or the python sum builtin instead.\n",
            "  score += np.sum(cnt * logsumexp(Elogthetad + Elogbeta[:, int(id)]) for id, cnt in doc)\n",
            "/usr/local/lib/python3.6/dist-packages/gensim/models/ldamodel.py:1077: DeprecationWarning: Calling np.sum(generator) is deprecated, and in the future will give a different result. Use np.sum(np.fromiter(generator)) or the python sum builtin instead.\n",
            "  score += np.sum(cnt * logsumexp(Elogthetad + Elogbeta[:, int(id)]) for id, cnt in doc)\n",
            "/usr/local/lib/python3.6/dist-packages/gensim/models/ldamodel.py:1077: DeprecationWarning: Calling np.sum(generator) is deprecated, and in the future will give a different result. Use np.sum(np.fromiter(generator)) or the python sum builtin instead.\n",
            "  score += np.sum(cnt * logsumexp(Elogthetad + Elogbeta[:, int(id)]) for id, cnt in doc)\n",
            "/usr/local/lib/python3.6/dist-packages/gensim/models/ldamodel.py:1077: DeprecationWarning: Calling np.sum(generator) is deprecated, and in the future will give a different result. Use np.sum(np.fromiter(generator)) or the python sum builtin instead.\n",
            "  score += np.sum(cnt * logsumexp(Elogthetad + Elogbeta[:, int(id)]) for id, cnt in doc)\n",
            "/usr/local/lib/python3.6/dist-packages/gensim/models/ldamodel.py:1077: DeprecationWarning: Calling np.sum(generator) is deprecated, and in the future will give a different result. Use np.sum(np.fromiter(generator)) or the python sum builtin instead.\n",
            "  score += np.sum(cnt * logsumexp(Elogthetad + Elogbeta[:, int(id)]) for id, cnt in doc)\n",
            "/usr/local/lib/python3.6/dist-packages/gensim/models/ldamodel.py:1077: DeprecationWarning: Calling np.sum(generator) is deprecated, and in the future will give a different result. Use np.sum(np.fromiter(generator)) or the python sum builtin instead.\n",
            "  score += np.sum(cnt * logsumexp(Elogthetad + Elogbeta[:, int(id)]) for id, cnt in doc)\n",
            "/usr/local/lib/python3.6/dist-packages/gensim/models/ldamodel.py:1077: DeprecationWarning: Calling np.sum(generator) is deprecated, and in the future will give a different result. Use np.sum(np.fromiter(generator)) or the python sum builtin instead.\n",
            "  score += np.sum(cnt * logsumexp(Elogthetad + Elogbeta[:, int(id)]) for id, cnt in doc)\n",
            "/usr/local/lib/python3.6/dist-packages/gensim/models/ldamodel.py:1077: DeprecationWarning: Calling np.sum(generator) is deprecated, and in the future will give a different result. Use np.sum(np.fromiter(generator)) or the python sum builtin instead.\n",
            "  score += np.sum(cnt * logsumexp(Elogthetad + Elogbeta[:, int(id)]) for id, cnt in doc)\n",
            "/usr/local/lib/python3.6/dist-packages/gensim/models/ldamodel.py:1077: DeprecationWarning: Calling np.sum(generator) is deprecated, and in the future will give a different result. Use np.sum(np.fromiter(generator)) or the python sum builtin instead.\n",
            "  score += np.sum(cnt * logsumexp(Elogthetad + Elogbeta[:, int(id)]) for id, cnt in doc)\n",
            "/usr/local/lib/python3.6/dist-packages/gensim/models/ldamodel.py:1077: DeprecationWarning: Calling np.sum(generator) is deprecated, and in the future will give a different result. Use np.sum(np.fromiter(generator)) or the python sum builtin instead.\n",
            "  score += np.sum(cnt * logsumexp(Elogthetad + Elogbeta[:, int(id)]) for id, cnt in doc)\n",
            "/usr/local/lib/python3.6/dist-packages/gensim/models/ldamodel.py:1077: DeprecationWarning: Calling np.sum(generator) is deprecated, and in the future will give a different result. Use np.sum(np.fromiter(generator)) or the python sum builtin instead.\n",
            "  score += np.sum(cnt * logsumexp(Elogthetad + Elogbeta[:, int(id)]) for id, cnt in doc)\n",
            "/usr/local/lib/python3.6/dist-packages/gensim/models/ldamodel.py:1077: DeprecationWarning: Calling np.sum(generator) is deprecated, and in the future will give a different result. Use np.sum(np.fromiter(generator)) or the python sum builtin instead.\n",
            "  score += np.sum(cnt * logsumexp(Elogthetad + Elogbeta[:, int(id)]) for id, cnt in doc)\n",
            "/usr/local/lib/python3.6/dist-packages/gensim/models/ldamodel.py:1077: DeprecationWarning: Calling np.sum(generator) is deprecated, and in the future will give a different result. Use np.sum(np.fromiter(generator)) or the python sum builtin instead.\n",
            "  score += np.sum(cnt * logsumexp(Elogthetad + Elogbeta[:, int(id)]) for id, cnt in doc)\n",
            "/usr/local/lib/python3.6/dist-packages/gensim/models/ldamodel.py:1077: DeprecationWarning: Calling np.sum(generator) is deprecated, and in the future will give a different result. Use np.sum(np.fromiter(generator)) or the python sum builtin instead.\n",
            "  score += np.sum(cnt * logsumexp(Elogthetad + Elogbeta[:, int(id)]) for id, cnt in doc)\n",
            "/usr/local/lib/python3.6/dist-packages/gensim/models/ldamodel.py:1077: DeprecationWarning: Calling np.sum(generator) is deprecated, and in the future will give a different result. Use np.sum(np.fromiter(generator)) or the python sum builtin instead.\n",
            "  score += np.sum(cnt * logsumexp(Elogthetad + Elogbeta[:, int(id)]) for id, cnt in doc)\n",
            "/usr/local/lib/python3.6/dist-packages/gensim/models/ldamodel.py:1077: DeprecationWarning: Calling np.sum(generator) is deprecated, and in the future will give a different result. Use np.sum(np.fromiter(generator)) or the python sum builtin instead.\n",
            "  score += np.sum(cnt * logsumexp(Elogthetad + Elogbeta[:, int(id)]) for id, cnt in doc)\n",
            "/usr/local/lib/python3.6/dist-packages/gensim/models/ldamodel.py:1077: DeprecationWarning: Calling np.sum(generator) is deprecated, and in the future will give a different result. Use np.sum(np.fromiter(generator)) or the python sum builtin instead.\n",
            "  score += np.sum(cnt * logsumexp(Elogthetad + Elogbeta[:, int(id)]) for id, cnt in doc)\n",
            "/usr/local/lib/python3.6/dist-packages/gensim/models/ldamodel.py:1077: DeprecationWarning: Calling np.sum(generator) is deprecated, and in the future will give a different result. Use np.sum(np.fromiter(generator)) or the python sum builtin instead.\n",
            "  score += np.sum(cnt * logsumexp(Elogthetad + Elogbeta[:, int(id)]) for id, cnt in doc)\n",
            "/usr/local/lib/python3.6/dist-packages/gensim/models/ldamodel.py:1077: DeprecationWarning: Calling np.sum(generator) is deprecated, and in the future will give a different result. Use np.sum(np.fromiter(generator)) or the python sum builtin instead.\n",
            "  score += np.sum(cnt * logsumexp(Elogthetad + Elogbeta[:, int(id)]) for id, cnt in doc)\n",
            "/usr/local/lib/python3.6/dist-packages/gensim/models/ldamodel.py:1077: DeprecationWarning: Calling np.sum(generator) is deprecated, and in the future will give a different result. Use np.sum(np.fromiter(generator)) or the python sum builtin instead.\n",
            "  score += np.sum(cnt * logsumexp(Elogthetad + Elogbeta[:, int(id)]) for id, cnt in doc)\n",
            "/usr/local/lib/python3.6/dist-packages/gensim/models/ldamodel.py:1077: DeprecationWarning: Calling np.sum(generator) is deprecated, and in the future will give a different result. Use np.sum(np.fromiter(generator)) or the python sum builtin instead.\n",
            "  score += np.sum(cnt * logsumexp(Elogthetad + Elogbeta[:, int(id)]) for id, cnt in doc)\n",
            "/usr/local/lib/python3.6/dist-packages/gensim/models/ldamodel.py:1077: DeprecationWarning: Calling np.sum(generator) is deprecated, and in the future will give a different result. Use np.sum(np.fromiter(generator)) or the python sum builtin instead.\n",
            "  score += np.sum(cnt * logsumexp(Elogthetad + Elogbeta[:, int(id)]) for id, cnt in doc)\n",
            "/usr/local/lib/python3.6/dist-packages/gensim/models/ldamodel.py:1077: DeprecationWarning: Calling np.sum(generator) is deprecated, and in the future will give a different result. Use np.sum(np.fromiter(generator)) or the python sum builtin instead.\n",
            "  score += np.sum(cnt * logsumexp(Elogthetad + Elogbeta[:, int(id)]) for id, cnt in doc)\n",
            "/usr/local/lib/python3.6/dist-packages/gensim/models/ldamodel.py:1077: DeprecationWarning: Calling np.sum(generator) is deprecated, and in the future will give a different result. Use np.sum(np.fromiter(generator)) or the python sum builtin instead.\n",
            "  score += np.sum(cnt * logsumexp(Elogthetad + Elogbeta[:, int(id)]) for id, cnt in doc)\n",
            "/usr/local/lib/python3.6/dist-packages/gensim/models/ldamodel.py:1077: DeprecationWarning: Calling np.sum(generator) is deprecated, and in the future will give a different result. Use np.sum(np.fromiter(generator)) or the python sum builtin instead.\n",
            "  score += np.sum(cnt * logsumexp(Elogthetad + Elogbeta[:, int(id)]) for id, cnt in doc)\n",
            "/usr/local/lib/python3.6/dist-packages/gensim/models/ldamodel.py:1077: DeprecationWarning: Calling np.sum(generator) is deprecated, and in the future will give a different result. Use np.sum(np.fromiter(generator)) or the python sum builtin instead.\n",
            "  score += np.sum(cnt * logsumexp(Elogthetad + Elogbeta[:, int(id)]) for id, cnt in doc)\n",
            "/usr/local/lib/python3.6/dist-packages/gensim/models/ldamodel.py:1077: DeprecationWarning: Calling np.sum(generator) is deprecated, and in the future will give a different result. Use np.sum(np.fromiter(generator)) or the python sum builtin instead.\n",
            "  score += np.sum(cnt * logsumexp(Elogthetad + Elogbeta[:, int(id)]) for id, cnt in doc)\n",
            "/usr/local/lib/python3.6/dist-packages/gensim/models/ldamodel.py:1077: DeprecationWarning: Calling np.sum(generator) is deprecated, and in the future will give a different result. Use np.sum(np.fromiter(generator)) or the python sum builtin instead.\n",
            "  score += np.sum(cnt * logsumexp(Elogthetad + Elogbeta[:, int(id)]) for id, cnt in doc)\n",
            "/usr/local/lib/python3.6/dist-packages/gensim/models/ldamodel.py:1077: DeprecationWarning: Calling np.sum(generator) is deprecated, and in the future will give a different result. Use np.sum(np.fromiter(generator)) or the python sum builtin instead.\n",
            "  score += np.sum(cnt * logsumexp(Elogthetad + Elogbeta[:, int(id)]) for id, cnt in doc)\n",
            "/usr/local/lib/python3.6/dist-packages/gensim/models/ldamodel.py:1077: DeprecationWarning: Calling np.sum(generator) is deprecated, and in the future will give a different result. Use np.sum(np.fromiter(generator)) or the python sum builtin instead.\n",
            "  score += np.sum(cnt * logsumexp(Elogthetad + Elogbeta[:, int(id)]) for id, cnt in doc)\n",
            "/usr/local/lib/python3.6/dist-packages/gensim/models/ldamodel.py:1077: DeprecationWarning: Calling np.sum(generator) is deprecated, and in the future will give a different result. Use np.sum(np.fromiter(generator)) or the python sum builtin instead.\n",
            "  score += np.sum(cnt * logsumexp(Elogthetad + Elogbeta[:, int(id)]) for id, cnt in doc)\n",
            "/usr/local/lib/python3.6/dist-packages/gensim/models/ldamodel.py:1077: DeprecationWarning: Calling np.sum(generator) is deprecated, and in the future will give a different result. Use np.sum(np.fromiter(generator)) or the python sum builtin instead.\n",
            "  score += np.sum(cnt * logsumexp(Elogthetad + Elogbeta[:, int(id)]) for id, cnt in doc)\n",
            "/usr/local/lib/python3.6/dist-packages/gensim/models/ldamodel.py:1077: DeprecationWarning: Calling np.sum(generator) is deprecated, and in the future will give a different result. Use np.sum(np.fromiter(generator)) or the python sum builtin instead.\n",
            "  score += np.sum(cnt * logsumexp(Elogthetad + Elogbeta[:, int(id)]) for id, cnt in doc)\n",
            "/usr/local/lib/python3.6/dist-packages/gensim/models/ldamodel.py:1077: DeprecationWarning: Calling np.sum(generator) is deprecated, and in the future will give a different result. Use np.sum(np.fromiter(generator)) or the python sum builtin instead.\n",
            "  score += np.sum(cnt * logsumexp(Elogthetad + Elogbeta[:, int(id)]) for id, cnt in doc)\n",
            "/usr/local/lib/python3.6/dist-packages/gensim/models/ldamodel.py:1077: DeprecationWarning: Calling np.sum(generator) is deprecated, and in the future will give a different result. Use np.sum(np.fromiter(generator)) or the python sum builtin instead.\n",
            "  score += np.sum(cnt * logsumexp(Elogthetad + Elogbeta[:, int(id)]) for id, cnt in doc)\n",
            "/usr/local/lib/python3.6/dist-packages/gensim/models/ldamodel.py:1077: DeprecationWarning: Calling np.sum(generator) is deprecated, and in the future will give a different result. Use np.sum(np.fromiter(generator)) or the python sum builtin instead.\n",
            "  score += np.sum(cnt * logsumexp(Elogthetad + Elogbeta[:, int(id)]) for id, cnt in doc)\n",
            "/usr/local/lib/python3.6/dist-packages/gensim/models/ldamodel.py:1077: DeprecationWarning: Calling np.sum(generator) is deprecated, and in the future will give a different result. Use np.sum(np.fromiter(generator)) or the python sum builtin instead.\n",
            "  score += np.sum(cnt * logsumexp(Elogthetad + Elogbeta[:, int(id)]) for id, cnt in doc)\n",
            "/usr/local/lib/python3.6/dist-packages/gensim/models/ldamodel.py:1077: DeprecationWarning: Calling np.sum(generator) is deprecated, and in the future will give a different result. Use np.sum(np.fromiter(generator)) or the python sum builtin instead.\n",
            "  score += np.sum(cnt * logsumexp(Elogthetad + Elogbeta[:, int(id)]) for id, cnt in doc)\n",
            "/usr/local/lib/python3.6/dist-packages/gensim/models/ldamodel.py:1077: DeprecationWarning: Calling np.sum(generator) is deprecated, and in the future will give a different result. Use np.sum(np.fromiter(generator)) or the python sum builtin instead.\n",
            "  score += np.sum(cnt * logsumexp(Elogthetad + Elogbeta[:, int(id)]) for id, cnt in doc)\n",
            "/usr/local/lib/python3.6/dist-packages/gensim/models/ldamodel.py:1077: DeprecationWarning: Calling np.sum(generator) is deprecated, and in the future will give a different result. Use np.sum(np.fromiter(generator)) or the python sum builtin instead.\n",
            "  score += np.sum(cnt * logsumexp(Elogthetad + Elogbeta[:, int(id)]) for id, cnt in doc)\n",
            "/usr/local/lib/python3.6/dist-packages/gensim/models/ldamodel.py:1077: DeprecationWarning: Calling np.sum(generator) is deprecated, and in the future will give a different result. Use np.sum(np.fromiter(generator)) or the python sum builtin instead.\n",
            "  score += np.sum(cnt * logsumexp(Elogthetad + Elogbeta[:, int(id)]) for id, cnt in doc)\n",
            "/usr/local/lib/python3.6/dist-packages/gensim/models/ldamodel.py:1077: DeprecationWarning: Calling np.sum(generator) is deprecated, and in the future will give a different result. Use np.sum(np.fromiter(generator)) or the python sum builtin instead.\n",
            "  score += np.sum(cnt * logsumexp(Elogthetad + Elogbeta[:, int(id)]) for id, cnt in doc)\n",
            "/usr/local/lib/python3.6/dist-packages/gensim/models/ldamodel.py:1077: DeprecationWarning: Calling np.sum(generator) is deprecated, and in the future will give a different result. Use np.sum(np.fromiter(generator)) or the python sum builtin instead.\n",
            "  score += np.sum(cnt * logsumexp(Elogthetad + Elogbeta[:, int(id)]) for id, cnt in doc)\n",
            "/usr/local/lib/python3.6/dist-packages/gensim/models/ldamodel.py:1077: DeprecationWarning: Calling np.sum(generator) is deprecated, and in the future will give a different result. Use np.sum(np.fromiter(generator)) or the python sum builtin instead.\n",
            "  score += np.sum(cnt * logsumexp(Elogthetad + Elogbeta[:, int(id)]) for id, cnt in doc)\n",
            "/usr/local/lib/python3.6/dist-packages/gensim/models/ldamodel.py:1077: DeprecationWarning: Calling np.sum(generator) is deprecated, and in the future will give a different result. Use np.sum(np.fromiter(generator)) or the python sum builtin instead.\n",
            "  score += np.sum(cnt * logsumexp(Elogthetad + Elogbeta[:, int(id)]) for id, cnt in doc)\n",
            "/usr/local/lib/python3.6/dist-packages/gensim/models/ldamodel.py:1077: DeprecationWarning: Calling np.sum(generator) is deprecated, and in the future will give a different result. Use np.sum(np.fromiter(generator)) or the python sum builtin instead.\n",
            "  score += np.sum(cnt * logsumexp(Elogthetad + Elogbeta[:, int(id)]) for id, cnt in doc)\n",
            "/usr/local/lib/python3.6/dist-packages/gensim/models/ldamodel.py:1077: DeprecationWarning: Calling np.sum(generator) is deprecated, and in the future will give a different result. Use np.sum(np.fromiter(generator)) or the python sum builtin instead.\n",
            "  score += np.sum(cnt * logsumexp(Elogthetad + Elogbeta[:, int(id)]) for id, cnt in doc)\n",
            "/usr/local/lib/python3.6/dist-packages/gensim/models/ldamodel.py:1077: DeprecationWarning: Calling np.sum(generator) is deprecated, and in the future will give a different result. Use np.sum(np.fromiter(generator)) or the python sum builtin instead.\n",
            "  score += np.sum(cnt * logsumexp(Elogthetad + Elogbeta[:, int(id)]) for id, cnt in doc)\n",
            "/usr/local/lib/python3.6/dist-packages/gensim/models/ldamodel.py:1077: DeprecationWarning: Calling np.sum(generator) is deprecated, and in the future will give a different result. Use np.sum(np.fromiter(generator)) or the python sum builtin instead.\n",
            "  score += np.sum(cnt * logsumexp(Elogthetad + Elogbeta[:, int(id)]) for id, cnt in doc)\n",
            "/usr/local/lib/python3.6/dist-packages/gensim/models/ldamodel.py:1077: DeprecationWarning: Calling np.sum(generator) is deprecated, and in the future will give a different result. Use np.sum(np.fromiter(generator)) or the python sum builtin instead.\n",
            "  score += np.sum(cnt * logsumexp(Elogthetad + Elogbeta[:, int(id)]) for id, cnt in doc)\n",
            "/usr/local/lib/python3.6/dist-packages/gensim/models/ldamodel.py:1077: DeprecationWarning: Calling np.sum(generator) is deprecated, and in the future will give a different result. Use np.sum(np.fromiter(generator)) or the python sum builtin instead.\n",
            "  score += np.sum(cnt * logsumexp(Elogthetad + Elogbeta[:, int(id)]) for id, cnt in doc)\n",
            "/usr/local/lib/python3.6/dist-packages/gensim/models/ldamodel.py:1077: DeprecationWarning: Calling np.sum(generator) is deprecated, and in the future will give a different result. Use np.sum(np.fromiter(generator)) or the python sum builtin instead.\n",
            "  score += np.sum(cnt * logsumexp(Elogthetad + Elogbeta[:, int(id)]) for id, cnt in doc)\n",
            "/usr/local/lib/python3.6/dist-packages/gensim/models/ldamodel.py:1077: DeprecationWarning: Calling np.sum(generator) is deprecated, and in the future will give a different result. Use np.sum(np.fromiter(generator)) or the python sum builtin instead.\n",
            "  score += np.sum(cnt * logsumexp(Elogthetad + Elogbeta[:, int(id)]) for id, cnt in doc)\n",
            "/usr/local/lib/python3.6/dist-packages/gensim/models/ldamodel.py:1077: DeprecationWarning: Calling np.sum(generator) is deprecated, and in the future will give a different result. Use np.sum(np.fromiter(generator)) or the python sum builtin instead.\n",
            "  score += np.sum(cnt * logsumexp(Elogthetad + Elogbeta[:, int(id)]) for id, cnt in doc)\n"
          ],
          "name": "stderr"
        }
      ]
    },
    {
      "cell_type": "markdown",
      "metadata": {
        "id": "upf5NofoDGOh"
      },
      "source": [
        "**You have now successfully created your first topic model on the Enron email data. However, the print of words doesn't really give you enough information to find a topic that might lead you to signs of fraud. You'll therefore need to closely inspect the model results in order to be able to detect anything that can be related to fraud in your data. You'll learn more about this in the next video.**"
      ]
    },
    {
      "cell_type": "markdown",
      "metadata": {
        "id": "PMDb-A--DGOh"
      },
      "source": [
        "## Flagging fraud based on topic"
      ]
    },
    {
      "cell_type": "markdown",
      "metadata": {
        "id": "PdiPo51ADGOh"
      },
      "source": [
        "#### Using your LDA model results for fraud detection\n",
        "\n",
        "1. Are there any suspicious topics? (no labels)\n",
        "    1. if you don't have labels, first check for the frequency of suspicious words within topics and check whether topics seem to describe the fraudulent behavior\n",
        "    1. for the Enron email data, a suspicious topic would be one where employees are discussing stock bonuses, selling stock, stock price, and perhaps mentions of accounting or weak financials\n",
        "    1. Defining suspicious topics does require some pre-knowledge about the fraudulent behavior\n",
        "    1. If the fraudulent topic is noticeable, flag all instances that have a high probability for this topic\n",
        "1. Are the topics in fraud and non-fraud cases similar? (with labels)\n",
        "    1. If there a previous cases of fraud, ran a topic model on the fraud text only, and on the non-fraud text\n",
        "    1. Check whether the results are similar\n",
        "        1. Whether the frequency of the topics are the same in fraud vs non-fraud\n",
        "1. Are fraud cases associated more with certain topics? (with labels)\n",
        "    1. Check whether fraud cases have a higher probability score for certain topics\n",
        "        1. If so, run a topic model on new data and create a flag directly on the instances that score high on those topics"
      ]
    },
    {
      "cell_type": "markdown",
      "metadata": {
        "id": "OeX6i7YIDGOh"
      },
      "source": [
        "#### To understand topics, you need to visualize\n",
        "\n",
        "```python\n",
        "import pyLDAvis.gensim\n",
        "lda_display = pyLDAvis.gensim.prepare(ldamodel, corpus, dictionary, sort_topics=False)\n",
        "```\n",
        "\n",
        "![topics](https://raw.githubusercontent.com/trenton3983/DataCamp/master/Images/fraud_detection/topics2.jpg)\n",
        "\n",
        "* Each bubble on the left-hand side, represents a topic\n",
        "* The larger the bubble, the more prevalent that topic is\n",
        "* Click on each topic to get the details per topic in the right panel\n",
        "* The words are the most important keywords that form the selected topic.\n",
        "* A good topic model will have fairly big, non-overlapping bubbles, scattered throughout the chart\n",
        "* A model with too many topics, will typically have many overlaps, or small sized bubbles, clustered in one region\n",
        "* In the case of the model above, there is a slight overlap between topic 2 and 3, which may point to 1 topic too many"
      ]
    },
    {
      "cell_type": "code",
      "metadata": {
        "id": "-oZomR5tDGOi"
      },
      "source": [
        "lda_display = pyLDAvis.gensim.prepare(ldamodel, corpus, dictionary, sort_topics=False)"
      ],
      "execution_count": null,
      "outputs": []
    },
    {
      "cell_type": "code",
      "metadata": {
        "id": "v0giwU05DGOi",
        "colab": {
          "base_uri": "https://localhost:8080/"
        },
        "outputId": "b1961e2d-a2f6-4bd2-d7d1-c718553b0973"
      },
      "source": [
        "pyLDAvis.display(lda_display)"
      ],
      "execution_count": null,
      "outputs": [
        {
          "output_type": "execute_result",
          "data": {
            "text/html": [
              "\n",
              "<link rel=\"stylesheet\" type=\"text/css\" href=\"https://cdn.rawgit.com/bmabey/pyLDAvis/files/ldavis.v1.0.0.css\">\n",
              "\n",
              "\n",
              "<div id=\"ldavis_el571401389522760324197229866\"></div>\n",
              "<script type=\"text/javascript\">\n",
              "\n",
              "var ldavis_el571401389522760324197229866_data = {\"mdsDat\": {\"x\": [-0.011376685015081246, 0.12129439376592135, -0.327141472724532, 0.06683037686077528, 0.15039338711291647], \"y\": [0.25803716630280776, -0.07215331822727158, -0.08167105154536562, -0.007686749472272835, -0.09652604705789788], \"topics\": [1, 2, 3, 4, 5], \"cluster\": [1, 1, 1, 1, 1], \"Freq\": [3.5693877141000465, 17.209380653806473, 3.3093996457094557, 64.87466901254146, 11.037162973842559]}, \"tinfo\": {\"Term\": [\"enron\", \"td\", \"money\", \"net\", \"image\", \"tr\", \"width\", \"pm\", \"hou\", \"class\", \"message\", \"right\", \"e\", \"original\", \"please\", \"market\", \"development\", \"new\", \"table\", \"height\", \"corp\", \"day\", \"f\", \"br\", \"see\", \"src\", \"clear\", \"service\", \"script\", \"thanks\", \"wscc\", \"ctr\", \"syncrasy\", \"serc\", \"std\", \"ecar\", \"npcc\", \"ancillary\", \"spp\", \"frcc\", \"mapp\", \"sw\", \"euci\", \"matrix\", \"rk\", \"hp\", \"brochure\", \"ercot\", \"detected\", \"sp\", \"westdesk\", \"parsing\", \"classmate\", \"nc\", \"temp\", \"raquel\", \"locate\", \"gift\", \"interchange\", \"mage\", \"deviation\", \"enlarge\", \"amazon\", \"reg\", \"maac\", \"nw\", \"ne\", \"image\", \"delta\", \"se\", \"range\", \"volatility\", \"min\", \"click\", \"conference\", \"schedule\", \"day\", \"visit\", \"market\", \"forecast\", \"e\", \"ct\", \"choice\", \"new\", \"standard\", \"see\", \"service\", \"p\", \"please\", \"devon\", \"simulation\", \"exotica\", \"sfs\", \"beth\", \"barbo\", \"hanagriff\", \"neumin\", \"whitt\", \"krishna\", \"xll\", \"agave\", \"addin\", \"savita\", \"buchanan\", \"kowalke\", \"pinnamaneni\", \"krishnarao\", \"ubswenergy\", \"permian\", \"headcount\", \"dietz\", \"lokay\", \"veggie\", \"vegetarian\", \"emailed\", \"stack\", \"maggi\", \"lover\", \"srrs\", \"origination\", \"lindberg\", \"lorraine\", \"lynn\", \"recipient\", \"cherry\", \"enform\", \"adult\", \"blair\", \"matt\", \"darrell\", \"leg\", \"schoolcraft\", \"intended\", \"original\", \"message\", \"eol\", \"november\", \"pm\", \"know\", \"thanks\", \"let\", \"enronxgate\", \"paul\", \"january\", \"team\", \"file\", \"monday\", \"id\", \"material\", \"product\", \"enron\", \"please\", \"data\", \"request\", \"mark\", \"contact\", \"copy\", \"corp\", \"need\", \"thursday\", \"email\", \"may\", \"gas\", \"use\", \"make\", \"also\", \"e\", \"td\", \"width\", \"height\", \"src\", \"align\", \"img\", \"href\", \"nbsp\", \"scoop\", \"bodydefault\", \"cellpadding\", \"cellspacing\", \"font\", \"script\", \"valign\", \"gif\", \"bgcolor\", \"colspan\", \"coords\", \"rect\", \"stocklookup\", \"tr\", \"linkbarseperator\", \"br\", \"ffffff\", \"underscore\", \"alt\", \"fname\", \"tab\", \"dye\", \"table\", \"map\", \"border\", \"class\", \"net\", \"money\", \"clear\", \"center\", \"image\", \"wrap\", \"right\", \"start\", \"f\", \"end\", \"bakernet\", \"retirement\", \"declared\", \"donate\", \"court\", \"reported\", \"alert\", \"crisis\", \"urge\", \"mr\", \"largest\", \"aggressively\", \"wiped\", \"devastated\", \"relief\", \"pocketbook\", \"astronomical\", \"urging\", \"worker\", \"sold\", \"financially\", \"underhanded\", \"hurt\", \"repair\", \"profit\", \"netted\", \"thousand\", \"afford\", \"investment\", \"sec\", \"million\", \"stock\", \"lay\", \"investor\", \"aaaaaaaaaaaaaaaaaaaaaaaaaaaaaaaaaaaaaaaaaaaaaaaaaaaaaaaaaaaaaaaaaaaaaaaaaaaa\", \"security\", \"partnership\", \"bush\", \"lost\", \"fund\", \"income\", \"andersen\", \"copyright\", \"chairman\", \"company\", \"said\", \"share\", \"employee\", \"york\", \"california\", \"president\", \"saving\", \"year\", \"plan\", \"state\", \"business\", \"energy\", \"consumer\", \"executive\", \"new\", \"board\", \"pay\", \"enron\", \"e\", \"made\", \"financial\", \"mail\", \"mailto\", \"power\", \"time\", \"would\", \"one\", \"market\", \"u\", \"may\", \"last\", \"information\", \"also\", \"wj\", \"thru\", \"outage\", \"fri\", \"pager\", \"laurel\", \"rfp\", \"pep\", \"epe\", \"eei\", \"backout\", \"caiso\", \"bergfelt\", \"tagline\", \"stwbom\", \"stsw\", \"epenergy\", \"pcg\", \"kern\", \"bolt\", \"powersrc\", \"fran\", \"eix\", \"gregwhalley\", \"reliantenergy\", \"pnm\", \"mtm\", \"pseg\", \"aggies\", \"baughman\", \"pt\", \"impacted\", \"coral\", \"whalley\", \"server\", \"greg\", \"hou\", \"sat\", \"ref\", \"development\", \"scheduled\", \"desk\", \"ben\", \"london\", \"pm\", \"enron\", \"feedback\", \"settlement\", \"doc\", \"williams\", \"credit\", \"corp\", \"forwarded\", \"thanks\", \"na\", \"please\", \"time\", \"kim\", \"e\", \"original\", \"message\", \"team\", \"like\", \"call\", \"gas\", \"would\", \"service\", \"john\", \"energy\", \"know\"], \"Freq\": [9285.0, 796.0, 844.0, 862.0, 903.0, 526.0, 465.0, 1207.0, 802.0, 420.0, 1396.0, 582.0, 2174.0, 1070.0, 1445.0, 1060.0, 569.0, 1491.0, 299.0, 294.0, 1050.0, 848.0, 480.0, 269.0, 816.0, 247.0, 271.0, 739.0, 240.0, 751.0, 142.396964971741, 87.56157917158588, 87.56157917158588, 43.98546970778845, 48.674614208102646, 48.674614208102646, 48.674614208102646, 38.273118892026204, 45.79845395819157, 43.8137390052491, 48.75773194145039, 99.9907981843809, 34.31058094303685, 94.60771060930554, 97.34339224845115, 99.70286835539497, 25.30104829566778, 50.7394921511706, 19.926304387557504, 153.26901231079847, 19.043794805978795, 19.04370682355034, 44.54676460791659, 95.39063691264474, 45.15500913142869, 19.473962894299273, 15.550236194061846, 61.9187558007181, 15.17757653702348, 14.925514211370778, 48.700924620145024, 48.69043638148636, 89.11960134213183, 58.732838747695375, 43.77523936093127, 99.04074192632362, 153.9194957318377, 658.5753409490336, 56.25816431442865, 159.34798223999553, 95.95184749627894, 84.33899544150479, 49.016392949237165, 136.60690001011193, 104.20811125056697, 93.7596919726482, 93.29844409147623, 62.33252982986991, 89.29700324537197, 52.702941017968755, 86.26045102838859, 59.26424528369067, 51.42461498747922, 73.84400413145752, 56.87071264506598, 63.295101588374834, 62.82288523112221, 60.801932515460095, 60.72813725359401, 201.89727876810667, 131.08948855432826, 108.60995303416237, 123.84816515691703, 137.0030492310914, 93.47021644768014, 92.9384856690352, 77.58877163107371, 77.5102686975093, 63.342685291688866, 62.549786220331775, 62.12803731810347, 62.89504270541872, 94.57750284427497, 64.99399975748982, 63.010910313429854, 49.04832888328131, 48.65162085263409, 49.038404443971075, 48.25117016833781, 48.22336317965601, 48.943212014736694, 48.5043008140752, 46.49887033477367, 46.49887033477367, 47.235280522719336, 65.31287208090205, 42.622329548099614, 47.13367653451829, 35.154202223299365, 105.2986545789956, 76.8815559090776, 75.40120603871404, 185.09858775341593, 266.73842183411875, 77.3295785050453, 77.30295131391286, 96.03420373904267, 116.4756412020706, 75.83371009912626, 125.57081097792063, 85.19885467149312, 110.18680769283206, 255.94586362599946, 744.6887787435469, 905.6958121649524, 119.77393095317267, 262.3539052936136, 645.8354244573942, 505.2255441131008, 436.0563910648646, 351.6568735359997, 172.10133700424308, 220.37375678462135, 260.79971865527403, 341.1036330629839, 233.71070085365784, 250.5990741569686, 181.00719125123837, 152.5776936602587, 226.63628125038122, 1550.221528781049, 476.9587260224086, 197.36155371771892, 227.10560206428093, 267.27777048158424, 231.41611392554842, 201.93524438812162, 329.7904085446225, 252.66996793474794, 239.34875449970275, 231.50899536557566, 274.5516156391572, 260.480581208817, 206.28913037951793, 207.89828586247873, 209.62292894375312, 202.1365081288619, 794.8583701896914, 464.8900989221808, 292.9138802527713, 246.66425724350322, 238.31970548172504, 232.0596125968027, 209.51150165334525, 174.3637111359694, 146.8352936535907, 123.1155634079513, 102.09803108975711, 102.20968541949125, 103.0327868628519, 238.00110486522703, 64.35076462829146, 225.39061674432068, 57.33268669723972, 52.656718931055, 50.19569435583553, 50.19569435583553, 50.19474605878847, 515.7560727434925, 41.07964346527885, 262.8827879012139, 32.55502742872668, 27.406984476643192, 25.761823357107993, 22.96961538521774, 28.77664830943758, 23.057728835568664, 283.51058032981, 52.70852857940013, 172.18348445410322, 331.4290158027063, 573.9510843533511, 540.5209962806962, 172.00229513874652, 127.03886202973277, 222.94091055321124, 64.46585186131422, 113.59530005135801, 83.90086334824825, 90.63897951882687, 87.16472504068302, 1098.113197096572, 353.7707202510745, 296.1470524960812, 293.2882499357222, 273.20172387032756, 274.0582785786363, 350.88926368263924, 221.87740283756466, 170.15125633654827, 716.503832503185, 265.5956406587073, 151.27423775676303, 147.51762021015043, 146.5358854498612, 164.39400670169675, 144.68556936815213, 144.58191062384415, 153.0341376944734, 254.6739434768128, 224.31574034508384, 149.35227837451262, 143.66210792386943, 165.12369896477819, 148.25452510962674, 306.0021123594769, 149.1239892710672, 185.84278823362706, 149.20829216435703, 423.0499751054814, 196.71592921438736, 1091.495628190305, 1429.5825122441033, 537.7034091419735, 396.3268407726203, 418.8838363908129, 379.7746231422306, 253.2220714195047, 250.17087636408587, 241.84426243676796, 785.5356589487938, 202.43345104831096, 193.29175923629458, 222.1971574986182, 254.04441191267466, 2740.2554686843782, 1217.9571641041127, 533.0892541028783, 1425.4562845613104, 465.68148683331646, 708.8295207495937, 316.7316169346181, 337.78595220827856, 1079.6816962373816, 727.8955337232273, 681.2083548848135, 839.5420812789204, 1462.717597045221, 523.1244888739012, 381.82634335015337, 1269.1849390848092, 374.103192220327, 492.5821886118345, 5788.722715013053, 1574.9795340673636, 693.7890583816844, 500.16022083110147, 913.6234861247381, 692.3248099067288, 767.119149712595, 990.4320337663302, 876.4508574195025, 715.4528197873153, 761.6358136871602, 648.9663044079508, 697.1315240144726, 577.5809930409557, 575.5594559673228, 569.2886932729299, 239.7314463621629, 177.7683094681649, 255.58889238029516, 155.84019808630924, 76.77491538001874, 62.6208910234761, 80.30268230813046, 58.91522158251596, 50.16744873508171, 60.48619122987229, 51.59167771537912, 53.66510236987231, 59.75851848823356, 49.79982623967389, 39.93208316507949, 39.93208316507949, 40.18405599107813, 40.107979258610065, 51.24169924069568, 40.394222746770616, 40.65823692260189, 41.36502363264107, 39.8839149318234, 39.8839149318234, 62.41569213934318, 30.76280356106595, 32.013840012845804, 60.61455105555338, 30.24283772770744, 31.50380992260642, 103.36922694236621, 52.649797516533845, 44.478405459181594, 136.79406433692893, 78.96857782945159, 269.125557382722, 617.8023533640853, 136.40241582036765, 67.12979133016002, 418.28501393995873, 192.6368854908638, 182.61216844390435, 86.77051100761359, 132.12690628958762, 467.3389509643003, 1943.3108329144252, 82.28880505089292, 92.30536606000383, 160.07152104928736, 131.66177975032446, 168.5110988209396, 332.38684757536197, 159.47179438019356, 263.1006542494286, 133.03334305745418, 341.28446707230194, 282.93838276605953, 127.98715313027903, 284.77018692473496, 198.62524231974632, 215.54935525861325, 157.71220998125798, 168.05977916715173, 152.47517216913855, 170.73855299910963, 177.89742311805296, 157.57594350318033, 144.08445127466078, 158.7762696904497, 149.01675140021823], \"Total\": [9285.0, 796.0, 844.0, 862.0, 903.0, 526.0, 465.0, 1207.0, 802.0, 420.0, 1396.0, 582.0, 2174.0, 1070.0, 1445.0, 1060.0, 569.0, 1491.0, 299.0, 294.0, 1050.0, 848.0, 480.0, 269.0, 816.0, 247.0, 271.0, 739.0, 240.0, 751.0, 144.28382364239775, 88.9424529088226, 88.9424529088226, 44.97646963759946, 49.84500998255408, 49.84500998255408, 49.84500998255408, 39.225055806967944, 46.99372053942444, 44.95782508270433, 50.03101983683239, 102.81954371041229, 35.355509743086444, 97.7904970617552, 100.73844049044061, 103.24676220409108, 26.45116193380796, 53.07417169495805, 20.859225019313925, 160.54174147902393, 19.997154974063438, 19.9977928856327, 46.823747205457636, 100.3461576311974, 47.624232846947564, 20.62232773376129, 16.471603011836688, 65.60272332359462, 16.087818850970624, 15.84384575403875, 51.72340184347758, 51.98178119197551, 96.0022943314553, 63.359056033650624, 47.037633504699166, 111.85520145187974, 179.4835896633328, 903.7098194822943, 62.480330447654346, 213.5880290025418, 130.30952219554234, 116.15258244054507, 55.00171169533871, 349.21633165418325, 227.21777424426745, 204.5118203562664, 848.1721964776805, 160.6906246234994, 1060.3204001641113, 80.16415440157277, 2174.3219236309183, 182.23667737787832, 73.37818991249921, 1491.2597566610827, 192.94768895897562, 816.8517166795016, 739.8333776407148, 537.5583325401044, 1445.369727516074, 202.79321287534074, 131.9140919523173, 109.37375328062245, 124.72419995602047, 138.08567730434126, 94.31905877725717, 93.78643078984275, 78.38132458423429, 78.429717778372, 64.11097202837507, 63.314019030820376, 62.91639762984213, 63.77992994781191, 95.93250579372312, 65.974504595009, 63.96852149774567, 49.816777923272426, 49.41921846020034, 49.81316214806449, 49.02251669622591, 48.99883869133347, 49.74610101121279, 49.317844362109604, 47.31213860584497, 47.31213860584497, 48.070760883881356, 66.58095526084766, 43.45727661858834, 48.12778135497478, 35.92337077829623, 107.79687281845648, 78.5886701973534, 77.31911068254784, 193.3426424930357, 280.83943566650004, 79.5012453423495, 79.72746691628826, 100.14234174664847, 122.53129840053641, 78.60219152897774, 135.81120547115958, 90.10222003267415, 120.40675785301713, 305.60578757166206, 1070.2638778540668, 1396.7903964445359, 140.07043323766703, 370.6268432428572, 1207.738732197554, 889.9874023556006, 751.7693651256717, 583.4197783796714, 229.8261271567652, 319.94051837510756, 402.66619641965366, 589.0737862684651, 355.8008003572978, 397.1995343813383, 263.9890070190815, 204.36726063161152, 388.74564106162546, 9285.910825207291, 1445.369727516074, 325.8464164502423, 419.7695415340263, 565.0650703035759, 455.1469923289094, 358.43296556697675, 1050.338922073893, 597.8884872583558, 532.2796775594618, 553.9716589882223, 1058.6468905682495, 1002.2543120288111, 477.1131018216458, 616.1233352258326, 869.1114403607587, 2174.3219236309183, 796.053686594295, 465.9527534041956, 294.0188456890845, 247.64657923474297, 239.29707275817572, 233.031927436414, 210.4983356936727, 175.30326853323524, 147.7988623146065, 124.0574025783789, 103.04035201464792, 103.16175320715578, 104.0712431595976, 240.9713431435377, 65.2980101052085, 229.01475768445928, 58.28115118071403, 53.58242790790236, 51.11847054144558, 51.11847054144558, 51.1186250614516, 526.0239727519629, 42.00127746015724, 269.7956315497056, 33.469463946995326, 28.32525091981245, 26.759067781868488, 23.885826194530186, 29.93579726944592, 24.03835650408887, 299.98893497563984, 57.39119316692583, 204.88303326841213, 420.05115116139456, 862.3626416839536, 844.2631894207703, 271.971402331596, 296.5729321483124, 903.7098194822943, 86.37232875496957, 582.5051560144427, 258.1098618484694, 480.76585028090614, 406.63837407550847, 1099.3004712802908, 354.6531510409882, 296.9088582673276, 294.0647991069485, 274.0656002271983, 274.9319133765293, 352.06371131259203, 222.6674710972133, 170.78752672783182, 719.2331212351672, 266.62426706004624, 151.87917046565482, 148.10802725476663, 147.12422609701244, 165.05666291128463, 145.26946528263784, 145.17684781656365, 153.66560657649222, 255.72708881919792, 225.24779685953428, 149.97338670687117, 144.26601706218892, 165.82044748577536, 148.88236550335174, 307.31809172750263, 149.76555577774786, 186.64631995751358, 149.85742390955002, 424.9023000301627, 197.5776557655457, 1099.2253343776229, 1449.4528917846058, 540.7261846429493, 398.1435913029028, 421.0929637697181, 382.25775157415035, 254.38632022303102, 251.48569651174338, 243.03437441576276, 799.2402298417442, 203.32580274409895, 194.1408199396573, 223.54699436311458, 255.94267895705192, 2838.499093995747, 1246.675107643894, 543.1477874971195, 1483.3523253315025, 474.84136699032155, 735.6890021068369, 321.9707197619417, 344.30810233376815, 1165.9942305543448, 770.3276020970229, 725.734177905724, 912.9083178866547, 1661.4284962925678, 553.028123556678, 395.3725333306457, 1491.2597566610827, 387.2744998470779, 532.4857331483033, 9285.910825207291, 2174.3219236309183, 822.9626855581516, 552.4918955017527, 1220.1360566272588, 854.1652907242864, 982.4308239339923, 1430.8333199587235, 1274.0448040514973, 943.2017833996596, 1060.3204001641113, 914.0587121963939, 1058.6468905682495, 746.6548233876267, 812.0581113006873, 869.1114403607587, 240.9203444771404, 178.85979505386732, 257.2603222671779, 156.97738038513273, 77.74222208665472, 63.52992740146012, 81.60248392970384, 59.881456478692826, 51.00645193506076, 61.52573749860084, 52.48989912933498, 54.62357482150816, 60.87229013332062, 50.836293423350675, 40.808592074480124, 40.808592074480124, 41.0702384925643, 41.012381924993214, 52.40450675079837, 41.34479430338342, 41.67010904076151, 42.400272269567125, 40.90592773392207, 40.90592773392207, 64.12498186876388, 31.61055497910087, 32.89774142177881, 62.30711073781826, 31.08831322118415, 32.3900941213919, 106.78338681293087, 54.50971487398861, 46.37370579784562, 151.30640962074443, 84.97215115033465, 316.26950016622357, 802.7854372903121, 155.87476605396338, 72.30095159474118, 569.1267082687491, 239.75154068296894, 246.91354494838362, 107.04036693049454, 190.5160318716301, 1207.738732197554, 9285.910825207291, 105.17050336512739, 126.52070059122318, 295.0470255450431, 221.76153412277512, 340.36663581841765, 1050.338922073893, 315.5360166548576, 751.7693651256717, 250.89700818013677, 1445.369727516074, 1430.8333199587235, 294.3296822557278, 2174.3219236309183, 1070.2638778540668, 1396.7903964445359, 589.0737862684651, 744.5140111119982, 556.4483484088228, 1002.2543120288111, 1274.0448040514973, 739.8333776407148, 479.2554240195269, 1661.4284962925678, 889.9874023556006], \"Category\": [\"Default\", \"Default\", \"Default\", \"Default\", \"Default\", \"Default\", \"Default\", \"Default\", \"Default\", \"Default\", \"Default\", \"Default\", \"Default\", \"Default\", \"Default\", \"Default\", \"Default\", \"Default\", \"Default\", \"Default\", \"Default\", \"Default\", \"Default\", \"Default\", \"Default\", \"Default\", \"Default\", \"Default\", \"Default\", \"Default\", \"Topic1\", \"Topic1\", \"Topic1\", \"Topic1\", \"Topic1\", \"Topic1\", \"Topic1\", \"Topic1\", \"Topic1\", \"Topic1\", \"Topic1\", \"Topic1\", \"Topic1\", \"Topic1\", \"Topic1\", \"Topic1\", \"Topic1\", \"Topic1\", \"Topic1\", \"Topic1\", \"Topic1\", \"Topic1\", \"Topic1\", \"Topic1\", \"Topic1\", \"Topic1\", \"Topic1\", \"Topic1\", \"Topic1\", \"Topic1\", \"Topic1\", \"Topic1\", \"Topic1\", \"Topic1\", \"Topic1\", \"Topic1\", \"Topic1\", \"Topic1\", \"Topic1\", \"Topic1\", \"Topic1\", \"Topic1\", \"Topic1\", \"Topic1\", \"Topic1\", \"Topic1\", \"Topic1\", \"Topic1\", \"Topic1\", \"Topic1\", \"Topic1\", \"Topic1\", \"Topic1\", \"Topic1\", \"Topic1\", \"Topic1\", \"Topic1\", \"Topic1\", \"Topic1\", \"Topic2\", \"Topic2\", \"Topic2\", \"Topic2\", \"Topic2\", \"Topic2\", \"Topic2\", \"Topic2\", \"Topic2\", \"Topic2\", \"Topic2\", \"Topic2\", \"Topic2\", \"Topic2\", \"Topic2\", \"Topic2\", \"Topic2\", \"Topic2\", \"Topic2\", \"Topic2\", \"Topic2\", \"Topic2\", \"Topic2\", \"Topic2\", \"Topic2\", \"Topic2\", \"Topic2\", \"Topic2\", \"Topic2\", \"Topic2\", \"Topic2\", \"Topic2\", \"Topic2\", \"Topic2\", \"Topic2\", \"Topic2\", \"Topic2\", \"Topic2\", \"Topic2\", \"Topic2\", \"Topic2\", \"Topic2\", \"Topic2\", \"Topic2\", \"Topic2\", \"Topic2\", \"Topic2\", \"Topic2\", \"Topic2\", \"Topic2\", \"Topic2\", \"Topic2\", \"Topic2\", \"Topic2\", \"Topic2\", \"Topic2\", \"Topic2\", \"Topic2\", \"Topic2\", \"Topic2\", \"Topic2\", \"Topic2\", \"Topic2\", \"Topic2\", \"Topic2\", \"Topic2\", \"Topic2\", \"Topic2\", \"Topic2\", \"Topic2\", \"Topic2\", \"Topic2\", \"Topic2\", \"Topic2\", \"Topic2\", \"Topic2\", \"Topic2\", \"Topic2\", \"Topic3\", \"Topic3\", \"Topic3\", \"Topic3\", \"Topic3\", \"Topic3\", \"Topic3\", \"Topic3\", \"Topic3\", \"Topic3\", \"Topic3\", \"Topic3\", \"Topic3\", \"Topic3\", \"Topic3\", \"Topic3\", \"Topic3\", \"Topic3\", \"Topic3\", \"Topic3\", \"Topic3\", \"Topic3\", \"Topic3\", \"Topic3\", \"Topic3\", \"Topic3\", \"Topic3\", \"Topic3\", \"Topic3\", \"Topic3\", \"Topic3\", \"Topic3\", \"Topic3\", \"Topic3\", \"Topic3\", \"Topic3\", \"Topic3\", \"Topic3\", \"Topic3\", \"Topic3\", \"Topic3\", \"Topic3\", \"Topic3\", \"Topic3\", \"Topic4\", \"Topic4\", \"Topic4\", \"Topic4\", \"Topic4\", \"Topic4\", \"Topic4\", \"Topic4\", \"Topic4\", \"Topic4\", \"Topic4\", \"Topic4\", \"Topic4\", \"Topic4\", \"Topic4\", \"Topic4\", \"Topic4\", \"Topic4\", \"Topic4\", \"Topic4\", \"Topic4\", \"Topic4\", \"Topic4\", \"Topic4\", \"Topic4\", \"Topic4\", \"Topic4\", \"Topic4\", \"Topic4\", \"Topic4\", \"Topic4\", \"Topic4\", \"Topic4\", \"Topic4\", \"Topic4\", \"Topic4\", \"Topic4\", \"Topic4\", \"Topic4\", \"Topic4\", \"Topic4\", \"Topic4\", \"Topic4\", \"Topic4\", \"Topic4\", \"Topic4\", \"Topic4\", \"Topic4\", \"Topic4\", \"Topic4\", \"Topic4\", \"Topic4\", \"Topic4\", \"Topic4\", \"Topic4\", \"Topic4\", \"Topic4\", \"Topic4\", \"Topic4\", \"Topic4\", \"Topic4\", \"Topic4\", \"Topic4\", \"Topic4\", \"Topic4\", \"Topic4\", \"Topic4\", \"Topic4\", \"Topic4\", \"Topic4\", \"Topic4\", \"Topic4\", \"Topic4\", \"Topic4\", \"Topic4\", \"Topic4\", \"Topic4\", \"Topic4\", \"Topic5\", \"Topic5\", \"Topic5\", \"Topic5\", \"Topic5\", \"Topic5\", \"Topic5\", \"Topic5\", \"Topic5\", \"Topic5\", \"Topic5\", \"Topic5\", \"Topic5\", \"Topic5\", \"Topic5\", \"Topic5\", \"Topic5\", \"Topic5\", \"Topic5\", \"Topic5\", \"Topic5\", \"Topic5\", \"Topic5\", \"Topic5\", \"Topic5\", \"Topic5\", \"Topic5\", \"Topic5\", \"Topic5\", \"Topic5\", \"Topic5\", \"Topic5\", \"Topic5\", \"Topic5\", \"Topic5\", \"Topic5\", \"Topic5\", \"Topic5\", \"Topic5\", \"Topic5\", \"Topic5\", \"Topic5\", \"Topic5\", \"Topic5\", \"Topic5\", \"Topic5\", \"Topic5\", \"Topic5\", \"Topic5\", \"Topic5\", \"Topic5\", \"Topic5\", \"Topic5\", \"Topic5\", \"Topic5\", \"Topic5\", \"Topic5\", \"Topic5\", \"Topic5\", \"Topic5\", \"Topic5\", \"Topic5\", \"Topic5\", \"Topic5\", \"Topic5\", \"Topic5\", \"Topic5\", \"Topic5\", \"Topic5\", \"Topic5\"], \"logprob\": [30.0, 29.0, 28.0, 27.0, 26.0, 25.0, 24.0, 23.0, 22.0, 21.0, 20.0, 19.0, 18.0, 17.0, 16.0, 15.0, 14.0, 13.0, 12.0, 11.0, 10.0, 9.0, 8.0, 7.0, 6.0, 5.0, 4.0, 3.0, 2.0, 1.0, -4.705699920654297, -5.19189977645874, -5.19189977645874, -5.88040018081665, -5.779099941253662, -5.779099941253662, -5.779099941253662, -6.019499778747559, -5.840000152587891, -5.884300231933594, -5.777400016784668, -5.059199810028076, -6.128799915313721, -5.114500045776367, -5.085999965667725, -5.062099933624268, -6.4334001541137695, -5.737599849700928, -6.6722002029418945, -4.6321001052856445, -6.71750020980835, -6.71750020980835, -5.867700099945068, -5.106299877166748, -5.8541998863220215, -6.695199966430664, -6.920199871063232, -5.53849983215332, -6.944499969482422, -6.96120023727417, -5.778600215911865, -5.778800010681152, -5.174300193786621, -5.591300010681152, -5.885200023651123, -5.06879997253418, -4.627900123596191, -3.1742000579833984, -5.634300231933594, -4.593200206756592, -5.100399971008301, -5.229400157928467, -5.77209997177124, -4.747200012207031, -5.017899990081787, -5.123499870300293, -5.128499984741211, -5.531799793243408, -5.172299861907959, -5.6996002197265625, -5.206900119781494, -5.582300186157227, -5.7241997718811035, -5.362299919128418, -5.623499870300293, -5.516499996185303, -5.52400016784668, -5.556700229644775, -5.5578999519348145, -5.929599761962891, -6.361499786376953, -6.549600124359131, -6.418300151824951, -6.317299842834473, -6.699699878692627, -6.705399990081787, -6.885900020599365, -6.886899948120117, -7.088799953460693, -7.101399898529053, -7.108099937438965, -7.095900058746338, -6.687900066375732, -7.063000202178955, -7.093999862670898, -7.3445000648498535, -7.352700233459473, -7.344699859619141, -7.360899925231934, -7.361499786376953, -7.346700191497803, -7.3557000160217285, -7.397900104522705, -7.397900104522705, -7.382199764251709, -7.058199882507324, -7.485000133514404, -7.384399890899658, -7.677599906921387, -6.58050012588501, -6.895100116729736, -6.9145002365112305, -6.016499996185303, -5.651100158691406, -6.8892998695373535, -6.889599800109863, -6.672599792480469, -6.479700088500977, -6.90880012512207, -6.4045000076293945, -6.792399883270264, -6.535200119018555, -5.692399978637695, -4.6244001388549805, -4.428599834442139, -6.451700210571289, -5.667600154876709, -4.7667999267578125, -5.01230001449585, -5.159599781036377, -5.37470006942749, -6.089300155639648, -5.8420000076293945, -5.673600196838379, -5.405200004577637, -5.783299922943115, -5.713500022888184, -6.03879976272583, -6.209700107574463, -5.814000129699707, -3.891200065612793, -5.069900035858154, -5.952300071716309, -5.8119001388549805, -5.649099826812744, -5.793099880218506, -5.9293999671936035, -5.438899993896484, -5.7052998542785645, -5.759399890899658, -5.792699813842773, -5.622200012207031, -5.674799919128418, -5.908100128173828, -5.900300025939941, -5.892000198364258, -5.928400039672852, -2.9105000495910645, -3.446899890899658, -3.908799886703491, -4.080599784851074, -4.114999771118164, -4.14169979095459, -4.243899822235107, -4.427499771118164, -4.599299907684326, -4.7754998207092285, -4.962699890136719, -4.961599826812744, -4.95359992980957, -4.116399765014648, -5.424300193786621, -4.17080020904541, -5.53980016708374, -5.624899864196777, -5.672699928283691, -5.672699928283691, -5.672699928283691, -3.3429999351501465, -5.8730998039245605, -4.016900062561035, -6.1057000160217285, -6.277900218963623, -6.339799880981445, -6.454500198364258, -6.229100227355957, -6.450699806213379, -3.9414000511169434, -5.623899936676025, -4.440100193023682, -3.7852001190185547, -3.2360999584198, -3.296099901199341, -4.441100120544434, -4.744200229644775, -4.181700229644775, -5.422500133514404, -4.855999946594238, -5.158999919891357, -5.0817999839782715, -5.1209001541137695, -5.563000202178955, -6.695700168609619, -6.873499870300293, -6.883200168609619, -6.954100131988525, -6.951000213623047, -6.70389986038208, -7.162199974060059, -7.427700042724609, -5.989999771118164, -6.982399940490723, -7.545300006866455, -7.570400238037109, -7.577099800109863, -7.462100028991699, -7.589799880981445, -7.5904998779296875, -7.533699989318848, -7.024400234222412, -7.151299953460693, -7.558000087738037, -7.59689998626709, -7.457699775695801, -7.565400123596191, -6.840799808502197, -7.559599876403809, -7.339399814605713, -7.559000015258789, -6.516900062561035, -7.282599925994873, -5.568999767303467, -5.299200057983398, -6.2769999504089355, -6.582099914550781, -6.526800155639648, -6.624800205230713, -7.030099868774414, -7.042200088500977, -7.076099872589111, -5.8979997634887695, -7.253900051116943, -7.300099849700928, -7.160799980163574, -7.026800155639648, -4.648499965667725, -5.459400177001953, -6.285699844360352, -5.30210018157959, -6.42080020904541, -6.000699996948242, -6.806300163269043, -6.7418999671936035, -5.579899787902832, -5.9741997718811035, -6.040500164031982, -5.831500053405762, -5.276299953460693, -6.304500102996826, -6.6194000244140625, -5.4182000160217285, -6.639800071716309, -6.364699840545654, -3.900700092315674, -5.202300071716309, -6.022200107574463, -6.349400043487549, -5.7469000816345215, -6.0243000984191895, -5.9217000007629395, -5.666200160980225, -5.78849983215332, -5.991399765014648, -5.928899765014648, -6.089000225067139, -6.017399787902832, -6.20550012588501, -6.209000110626221, -6.21999979019165, -5.313600063323975, -5.61269998550415, -5.249599933624268, -5.74429988861084, -6.452300071716309, -6.656099796295166, -6.407400131225586, -6.717100143432617, -6.877799987792969, -6.690700054168701, -6.849800109863281, -6.810400009155273, -6.7027997970581055, -6.8850998878479, -7.105999946594238, -7.105999946594238, -7.099699974060059, -7.101600170135498, -6.856599807739258, -7.0945000648498535, -7.0879998207092285, -7.070700168609619, -7.1072001457214355, -7.1072001457214355, -6.659299850463867, -7.366799831390381, -7.327000141143799, -6.688600063323975, -7.383900165557861, -7.3429999351501465, -6.154799938201904, -6.829500198364258, -6.998199939727783, -5.87470006942749, -6.424099922180176, -5.197999954223633, -4.367000102996826, -5.877500057220459, -6.58650016784668, -4.756999969482422, -5.532299995422363, -5.5858001708984375, -6.329899787902832, -5.90939998626709, -4.646100044250488, -3.2209999561309814, -6.382900238037109, -6.268099784851074, -5.71750020980835, -5.912899971008301, -5.666200160980225, -4.9868998527526855, -5.72130012512207, -5.220600128173828, -5.902599811553955, -4.960400104522705, -5.147900104522705, -5.941199779510498, -5.141499996185303, -5.501699924468994, -5.420000076293945, -5.732399940490723, -5.668799877166748, -5.766200065612793, -5.6529998779296875, -5.6118998527526855, -5.7332000732421875, -5.822800159454346, -5.7256999015808105, -5.789100170135498], \"loglift\": [30.0, 29.0, 28.0, 27.0, 26.0, 25.0, 24.0, 23.0, 22.0, 21.0, 20.0, 19.0, 18.0, 17.0, 16.0, 15.0, 14.0, 13.0, 12.0, 11.0, 10.0, 9.0, 8.0, 7.0, 6.0, 5.0, 4.0, 3.0, 2.0, 1.0, 3.3196, 3.3171, 3.3171, 3.3105, 3.309, 3.309, 3.309, 3.3082, 3.307, 3.307, 3.307, 3.3049, 3.3028, 3.2997, 3.2985, 3.2978, 3.2883, 3.2878, 3.287, 3.2864, 3.2839, 3.2839, 3.2829, 3.2821, 3.2795, 3.2755, 3.2752, 3.275, 3.2745, 3.2731, 3.2726, 3.2674, 3.2584, 3.257, 3.2609, 3.2111, 3.1791, 3.0163, 3.2279, 3.0398, 3.0267, 3.0127, 3.2176, 2.3942, 2.5533, 2.5529, 1.1255, 2.3858, 0.8584, 2.9134, 0.1057, 2.2095, 2.9773, 0.3274, 2.1111, 0.7751, 0.8667, 1.1534, 0.1631, 1.7553, 1.7534, 1.7527, 1.7527, 1.7518, 1.7507, 1.7506, 1.7496, 1.7479, 1.7477, 1.7476, 1.7471, 1.7457, 1.7455, 1.7447, 1.7446, 1.7442, 1.7441, 1.744, 1.7439, 1.7438, 1.7434, 1.7431, 1.7424, 1.7424, 1.7422, 1.7405, 1.7403, 1.7388, 1.7381, 1.7363, 1.7378, 1.7346, 1.7161, 1.7082, 1.732, 1.7288, 1.7178, 1.709, 1.7239, 1.6813, 1.7038, 1.671, 1.5824, 1.397, 1.3265, 1.6032, 1.4142, 1.1338, 1.1935, 1.2151, 1.2535, 1.4705, 1.3869, 1.3254, 1.2134, 1.3394, 1.2991, 1.3823, 1.4675, 1.2201, -0.0304, 0.651, 1.2583, 1.1454, 1.0111, 1.0833, 1.1859, 0.6013, 0.8984, 0.9605, 0.8872, 0.4101, 0.4122, 0.9212, 0.6733, 0.3376, -0.6158, 3.4069, 3.4061, 3.4046, 3.4044, 3.4043, 3.4042, 3.4037, 3.403, 3.4019, 3.4008, 3.3992, 3.3991, 3.3984, 3.396, 3.3938, 3.3925, 3.392, 3.391, 3.3902, 3.3902, 3.3902, 3.3887, 3.3862, 3.3824, 3.3807, 3.3754, 3.3704, 3.3693, 3.3689, 3.3668, 3.3519, 3.3233, 3.2345, 3.1714, 3.0013, 2.9625, 2.9502, 2.5606, 2.0088, 3.1159, 1.7737, 2.2847, 1.7399, 1.8683, 0.4316, 0.4302, 0.4301, 0.4301, 0.4296, 0.4295, 0.4294, 0.4292, 0.429, 0.4289, 0.4288, 0.4287, 0.4287, 0.4287, 0.4287, 0.4287, 0.4286, 0.4286, 0.4286, 0.4286, 0.4286, 0.4285, 0.4285, 0.4285, 0.4284, 0.4284, 0.4284, 0.4284, 0.4283, 0.4283, 0.4257, 0.4189, 0.4271, 0.4281, 0.4275, 0.4262, 0.4281, 0.4275, 0.4278, 0.4154, 0.4283, 0.4283, 0.4267, 0.4253, 0.3975, 0.4094, 0.414, 0.3929, 0.4132, 0.3955, 0.4163, 0.4136, 0.3558, 0.3761, 0.3694, 0.3489, 0.3053, 0.3771, 0.3979, 0.2715, 0.3981, 0.3548, -0.0399, 0.1102, 0.262, 0.3332, 0.1434, 0.2226, 0.1853, 0.0648, 0.0586, 0.1563, 0.1019, 0.0902, 0.0149, 0.176, 0.0885, 0.0096, 2.199, 2.1978, 2.1974, 2.1966, 2.1914, 2.1895, 2.1878, 2.1876, 2.1873, 2.1869, 2.1866, 2.1862, 2.1854, 2.1833, 2.1822, 2.1822, 2.1821, 2.1816, 2.1815, 2.1806, 2.1793, 2.1792, 2.1786, 2.1786, 2.1769, 2.1767, 2.1767, 2.1764, 2.1763, 2.1762, 2.1714, 2.1692, 2.1622, 2.1031, 2.1306, 2.0425, 1.942, 2.0705, 2.1297, 1.896, 1.9851, 1.9022, 1.994, 1.8379, 1.2545, 0.6398, 1.9586, 1.8886, 1.5924, 1.6825, 1.5009, 1.0533, 1.5215, 1.154, 1.5695, 0.7605, 0.5831, 1.3711, 0.1711, 0.5197, 0.3352, 0.8861, 0.7155, 0.9093, 0.434, 0.2352, 0.6574, 1.0021, -0.144, 0.4168]}, \"token.table\": {\"Topic\": [2, 4, 2, 4, 2, 4, 4, 2, 4, 4, 5, 4, 2, 4, 3, 4, 1, 2, 4, 5, 3, 4, 1, 3, 4, 1, 4, 4, 4, 4, 5, 2, 4, 2, 4, 4, 5, 2, 4, 5, 4, 5, 2, 4, 3, 4, 2, 4, 2, 4, 5, 3, 4, 4, 5, 1, 2, 3, 4, 5, 3, 4, 1, 4, 2, 4, 4, 5, 1, 2, 4, 5, 4, 5, 1, 2, 4, 5, 1, 2, 4, 5, 3, 4, 3, 4, 1, 2, 3, 4, 5, 2, 4, 5, 2, 4, 1, 2, 4, 1, 2, 3, 4, 5, 1, 4, 2, 3, 4, 1, 2, 3, 4, 3, 4, 1, 2, 3, 4, 5, 1, 2, 4, 5, 1, 3, 4, 5, 2, 4, 5, 3, 4, 2, 3, 4, 5, 2, 4, 4, 5, 2, 3, 4, 5, 4, 2, 4, 5, 4, 1, 4, 5, 1, 4, 2, 4, 5, 1, 2, 3, 4, 5, 1, 2, 3, 4, 5, 4, 1, 2, 4, 2, 4, 5, 1, 4, 4, 2, 4, 5, 1, 4, 2, 4, 2, 4, 2, 4, 5, 4, 3, 4, 1, 2, 3, 4, 5, 1, 4, 4, 5, 4, 5, 1, 2, 3, 4, 5, 2, 4, 2, 4, 5, 1, 2, 3, 4, 5, 1, 2, 4, 5, 2, 4, 1, 4, 1, 2, 3, 4, 5, 2, 4, 5, 2, 4, 5, 4, 5, 4, 5, 1, 4, 1, 4, 2, 4, 5, 2, 4, 1, 2, 3, 4, 5, 4, 5, 3, 4, 1, 2, 4, 5, 1, 2, 4, 5, 4, 3, 4, 3, 4, 1, 2, 3, 4, 2, 4, 5, 4, 5, 1, 4, 4, 5, 2, 4, 5, 1, 2, 3, 4, 5, 3, 4, 1, 2, 3, 4, 1, 2, 4, 5, 4, 5, 2, 4, 2, 4, 3, 4, 2, 4, 5, 1, 4, 3, 4, 4, 1, 2, 3, 4, 1, 2, 3, 4, 3, 4, 4, 5, 4, 1, 2, 3, 4, 5, 2, 4, 5, 1, 4, 2, 4, 5, 2, 4, 1, 2, 4, 5, 2, 4, 5, 2, 4, 5, 2, 4, 5, 1, 2, 3, 4, 5, 2, 4, 2, 4, 2, 4, 4, 1, 2, 4, 5, 4, 5, 2, 4, 5, 2, 4, 2, 3, 4, 5, 1, 2, 3, 4, 5, 2, 3, 4, 3, 4, 1, 4, 2, 4, 2, 4, 5, 2, 3, 4, 2, 4, 2, 4, 2, 4, 1, 4, 1, 2, 4, 5, 1, 4, 2, 4, 1, 2, 3, 4, 5, 2, 3, 4, 5, 1, 2, 4, 5, 2, 3, 4, 1, 4, 2, 4, 5, 1, 2, 3, 4, 5, 2, 4, 5, 1, 4, 2, 4, 1, 2, 3, 4, 5, 1, 2, 3, 4, 5, 1, 2, 3, 4, 5, 1, 4, 1, 2, 4, 5, 1, 2, 3, 4, 5, 2, 4, 5, 4, 5, 2, 4, 5, 3, 4, 1, 3, 4, 1, 2, 3, 4, 1, 2, 4, 5, 1, 2, 3, 4, 5, 4, 2, 4, 1, 2, 3, 4, 5, 2, 3, 4, 5, 1, 4, 1, 2, 4, 1, 2, 3, 4, 5, 2, 3, 4, 5, 2, 4, 2, 4, 5, 1, 2, 3, 4, 5, 4, 5, 1, 4, 2, 4, 1, 2, 3, 4, 5, 1, 2, 3, 4, 5, 4, 5, 4, 5, 2, 4, 2, 4, 2, 4, 5, 1, 2, 3, 4, 5, 2, 3, 4, 5, 4, 5, 4, 1, 2, 4, 5, 4, 5, 2, 4, 5, 1, 2, 3, 4, 5, 2, 4, 4, 5, 3, 4, 5, 1, 4, 5, 1, 4, 2, 4, 5, 3, 4, 4, 5, 1, 2, 3, 4, 4, 5, 4, 4, 4, 2, 4, 5, 4, 4, 5, 1, 2, 3, 4, 5, 1, 4, 2, 4, 5, 2, 4, 5, 2, 3, 4, 2, 4, 1, 2, 4, 5, 1, 2, 4, 5, 2, 4, 5, 3, 4, 3, 4, 1, 3, 4, 4, 2, 4, 5, 1, 2, 3, 4, 5, 1, 4, 2, 4, 5, 1, 2, 3, 4, 5, 2, 4, 5, 2, 4, 1, 2, 3, 4, 5, 2, 4, 4, 1, 4, 1, 4, 3, 4, 2, 4, 2, 4, 5, 1, 2, 4, 5, 1, 2, 3, 4, 5, 1, 2, 4, 5, 1, 4, 2, 3, 4, 5, 3, 4, 4, 5, 4, 5, 1, 4, 1, 4, 3, 4, 1, 3, 4, 4, 5, 3, 4, 2, 4, 5, 1, 4, 1, 2, 3, 4, 5, 4, 4, 5, 1, 2, 4, 5, 1, 2, 3, 4, 5, 3, 4, 1, 2, 3, 4, 5, 2, 4, 4, 3, 4, 4, 4, 2, 3, 4, 5, 3, 4, 2, 4, 2, 4, 1, 2, 3, 4, 1, 2, 4, 1, 4, 4, 5, 2, 4, 3, 4, 2, 4, 5, 4, 4, 5, 2, 4, 1, 2, 3, 4, 5, 1, 2, 3, 4, 1, 3, 4, 2, 4, 1, 2, 4, 5, 1, 2, 4, 5], \"Freq\": [0.00474954504605243, 0.9950296871479841, 0.9877715458695222, 0.01567891342650035, 0.9586354615400523, 0.03994314423083551, 0.9942784021826804, 0.9854346773756247, 0.01589410769960685, 0.032166428357990856, 0.9649928507397257, 0.99421138222602, 0.0028403949849637165, 0.9969786397222644, 0.9945796547227869, 0.004178906112280617, 0.025313209536015357, 0.24162609102560115, 0.6546916466360335, 0.07824082947495656, 0.9716332501544459, 0.03737050962132484, 0.9270611772331259, 0.05208208860860258, 0.02083283544344103, 0.9687685388391385, 0.025493908916819435, 0.9941237502756407, 0.9987818455957447, 0.01905128446781737, 0.9906667923265032, 0.0009096693998824167, 0.9988170010708936, 0.9860149285376962, 0.01060231105954512, 0.030873636743758467, 0.987956375800271, 0.02802680975438001, 0.1588185886081534, 0.8127774828770203, 0.016427836012245157, 0.9856701607347094, 0.9921376544944018, 0.00724188068974016, 0.9780177440774714, 0.01715820603644687, 0.9466968971536841, 0.048967080887259526, 0.0051642956114841924, 0.965723279347544, 0.02840362586316306, 0.9914765055820766, 0.008060784598228265, 0.024186841822506435, 0.9674736729002574, 0.004880833634915611, 0.004880833634915611, 0.8395033852054851, 0.09273583906339661, 0.05857000361898733, 0.9748119289008813, 0.022239055412187406, 0.9451380647307902, 0.03780552258923161, 0.9852290729427816, 0.015157370352965872, 0.9940923220193002, 0.0039763692880772005, 0.012049402754336327, 0.02738500625985529, 0.9201362103311377, 0.040529809264585825, 0.018307113792308, 0.988584144784632, 0.027185400274742172, 0.006796350068685543, 0.96372243973961, 0.002718540027474217, 0.010782671953573304, 0.20666787911015502, 0.5085826938102076, 0.27316102282385707, 0.9899034504996642, 0.009704935789212393, 0.9887385278842353, 0.009693514979257209, 0.02360296318781846, 0.020231111303844394, 0.4282251892647064, 0.39113481854099164, 0.13487407535896262, 0.003907124845590147, 0.9924097107798973, 0.003907124845590147, 0.968538287273632, 0.025156838630483947, 0.6950294094309988, 0.013628027635901938, 0.2861885803539407, 0.011903312218465675, 0.002380662443693135, 0.7879992688624277, 0.16902703350221257, 0.026187286880624484, 0.9610508061762928, 0.042713369163390795, 0.09192142918584956, 0.632419432798645, 0.2720874303901147, 0.3923069672917426, 0.3665349767397303, 0.09163374418493257, 0.14890483430051543, 0.989130244174388, 0.01866283479574317, 0.004227586341451896, 0.00528448292681487, 0.00035229886178765797, 0.9652988812981828, 0.025013219186923716, 0.4577106713852244, 0.0088021282958697, 0.34768406768685317, 0.1848446942132637, 0.009041131521202948, 0.025315168259368255, 0.9457023571178284, 0.018082263042405896, 0.5075283455527465, 0.25705981138385864, 0.23289179492896595, 0.978120031182491, 0.01956240062364982, 0.5635642348924915, 0.03905890736878654, 0.33758055654451224, 0.061378283008093136, 0.004473332342709416, 0.9930797800814904, 0.0431278882200722, 0.9488135408415883, 0.3141843009572714, 0.0009520736392644588, 0.36845249839534555, 0.3160884482358003, 0.9961118789577572, 0.03525609956200844, 0.4671433191966118, 0.49652340216495217, 0.997002386141432, 0.3237548052835713, 0.10426002204047212, 0.5651990668509804, 0.9894037900012862, 0.011243224886378252, 0.9277584980037376, 0.007363162682569346, 0.07363162682569346, 0.027620374340910775, 0.6045793050177136, 0.015344652411617098, 0.23937657762122672, 0.1104814973636431, 0.10964754608346476, 0.17331386316418623, 0.020043099821708613, 0.5895029359326063, 0.10611052846786913, 0.996938931789939, 0.8962820714739412, 0.016005036990606094, 0.08002518495303047, 0.10125001447460551, 0.1579500225803846, 0.7411501059541123, 0.9588083920414898, 0.04794041960207449, 0.9991556380596998, 0.014056623742603018, 0.24950507143120357, 0.7344585905510077, 0.9473468150505842, 0.058000825411260254, 0.9960885630041852, 0.004931131500020719, 0.9850018193175659, 0.020102077945256445, 0.02372503158460532, 0.4338291489756401, 0.5422864362195502, 0.9963790324099239, 0.9568041806887984, 0.04160018176907819, 0.03955256076174216, 0.09290252644037113, 0.011957750927968561, 0.7243637581365571, 0.13107534671042462, 0.9830472502092017, 0.020062188779779628, 0.016253360636639926, 0.9752016381983957, 0.024446334685394012, 0.9778533874157606, 0.0902573248806994, 0.4187939874464452, 0.03610292995227976, 0.301459465101536, 0.15343745229718897, 0.9777253185888224, 0.020802666352953667, 0.0148312707805837, 0.960661857378717, 0.02359520351456498, 0.01229593741950078, 0.24345956090611542, 0.21394931109931356, 0.41314349729522615, 0.11558181174330732, 0.018056750601632376, 0.006018916867210793, 0.8805675376729389, 0.0957007781886516, 0.9657901220020946, 0.025085457714340117, 0.9426379565378223, 0.057712527951295244, 0.0001076900283476152, 0.16691954393880357, 0.0003230700850428456, 0.6234175741043444, 0.20924172507941632, 0.7483918479063009, 0.0174044615792163, 0.23496023131942004, 0.8567118500760816, 0.007139265417300681, 0.13564604292871293, 0.019605362891603546, 0.9802681445801772, 0.024348531605947417, 0.9739412642378966, 0.9609193770016934, 0.037683112823595814, 0.9616605798378708, 0.028284134701113847, 0.0025292601678116853, 0.9661773841040637, 0.030351122013740222, 0.9965827881972423, 0.009142961359607727, 0.022880160879922777, 0.06864048263976834, 0.1892813309157248, 0.6884848410231309, 0.0332802340071604, 0.20918412764100924, 0.7796862939346708, 0.985973365222138, 0.02987798076430721, 0.059021789661270134, 0.6576713705112958, 0.14614919344695462, 0.14052807062207176, 0.009049906506699406, 0.01266986910937917, 0.9049906506699407, 0.07239925205359525, 0.9935096037487392, 0.9629141488631849, 0.04186583255926891, 0.9897066362707438, 0.009608802293890717, 0.6611433800511738, 0.024948806794383913, 0.012474403397191957, 0.299385681532607, 0.32009024221940635, 0.17113735722621726, 0.5039044407216398, 0.023584754212008962, 0.9669749226923674, 0.97869503071062, 0.022243068879786818, 0.0063703445524863, 0.9937737501878627, 0.0025023765387735997, 0.9834339797380246, 0.013763070963254798, 0.0009977507584634404, 0.2594151972004945, 0.001995501516926881, 0.5667224308072342, 0.17061537969724833, 0.9824694367950257, 0.013099592490600344, 0.945082716980762, 0.015243269628721967, 0.015243269628721967, 0.030486539257443934, 0.015809301868729426, 0.0632372074749177, 0.07272278859615536, 0.8505404405376432, 0.024446334685394012, 0.9778533874157606, 0.9916146634089851, 0.010662523262462205, 0.9796150537847311, 0.020408646953848565, 0.9965347605977546, 0.003401142527637388, 0.1357772512265718, 0.09342471414672371, 0.7698196445690034, 0.9685533750910938, 0.029056601252732815, 0.9976325908134595, 0.004750631384825997, 0.9950521935128311, 0.04924447478625631, 0.6856346104855687, 0.018940182610098583, 0.24243433740926185, 0.7292163765328117, 0.0011065498885171649, 0.24676062513932778, 0.023237547658860463, 0.9955717336771563, 0.0042912574727463635, 0.018345353710099634, 0.9723037466352805, 0.9934794171413277, 0.04310036377069112, 0.15023555371498049, 0.0012314389648768892, 0.7093088437690881, 0.09728367822527424, 0.8376804707599659, 0.1374319522340569, 0.026177514711248934, 0.9323824527707811, 0.06215883018471874, 0.002353482200329376, 0.995522970739326, 0.002353482200329376, 0.0025116566531375164, 0.9946160346424565, 0.012417233044288283, 0.6481795649118484, 0.19867572870861253, 0.13907301009602877, 0.41522743411223634, 0.28168695278970807, 0.3004660829756886, 0.019082328257669656, 0.019082328257669656, 0.9731987411411525, 0.45527178561479353, 0.10872162044532382, 0.4348864817812953, 0.011236114099516694, 0.567423762025593, 0.004494445639806677, 0.24831812159931893, 0.16741810008279873, 0.9848594046717212, 0.015632688963043193, 0.9826711092777791, 0.015597954115520302, 0.9915170965211043, 0.020235042786144984, 0.9976586262498542, 0.04151851569022318, 0.13527000273266263, 0.774119421579, 0.049554357436717995, 0.015740612981985192, 0.9916586178650671, 0.0018493648511960208, 0.9949582899434591, 0.0036987297023920417, 0.9433729820328077, 0.04439402268389683, 0.6033391616883605, 0.0017140317093419333, 0.1953996148649804, 0.2005417099930062, 0.03626526780828891, 0.12491370022855068, 0.025520003272499602, 0.5869600752674908, 0.22565055525157543, 0.9797849970820998, 0.012724480481585712, 0.012724480481585712, 0.9761607855592711, 0.0238087996477871, 0.9713687240095704, 0.06071054525059815, 0.99355518542587, 0.02027663643726265, 0.020995608404731022, 0.278191811362686, 0.6928550773561237, 0.9700059834874523, 0.01293341311316603, 0.01293341311316603, 0.004114644286035374, 0.9957439172205605, 0.9765669365338777, 0.02077801992625272, 0.9568504785831909, 0.041377317992786634, 0.9354212089688632, 0.06377871879333158, 0.0012151219217451854, 0.1251575579397541, 0.8432946136911587, 0.030378048043629636, 0.9467398403683875, 0.0631159893578925, 0.9894775592451014, 0.023011106028955845, 0.03442239066034801, 0.11883920585120146, 0.011474130220116003, 0.7490967872275733, 0.08687555738087831, 0.1627319694553913, 0.01170733593204254, 0.8101476464973437, 0.015219536711655301, 0.02596882650798381, 0.3375947446037896, 0.6118904745943686, 0.022722723194485837, 0.01742427617929877, 0.9234866375028348, 0.06969710471719508, 0.9793923881584887, 0.019987599758336506, 0.47251195310401467, 0.3150079687360098, 0.21059521505384923, 0.08393689302424531, 0.08205067070909373, 0.024520890096970543, 0.7186507020727521, 0.09053867112727584, 0.7486522035239042, 0.24955073450796808, 0.004893151657018982, 0.9714645375000702, 0.02045188500000148, 0.9668941606034177, 0.025444583173774148, 0.001889204056440822, 0.259765557760613, 0.000944602028220411, 0.6583876136696265, 0.08029117239873493, 0.03221671634809731, 0.6486298891416925, 0.008591124359492617, 0.15607209253078252, 0.15464023847086708, 0.0009097315798004202, 0.0018194631596008405, 0.004548657899002101, 0.9925171535622584, 0.0009097315798004202, 0.8908813651367263, 0.09090626174864555, 0.015105757889030142, 0.6319242050244276, 0.1863043472980384, 0.16616333677933157, 0.0011844647646974602, 0.0011844647646974602, 0.640795437701326, 0.3446792465269609, 0.013029112411672062, 0.0013903697848100499, 0.9968951357088058, 0.0013903697848100499, 0.030397223541248478, 0.9727111533199513, 0.33878443037858974, 0.12754237378958672, 0.5300979910629698, 0.9925656347189661, 0.0057044001995342885, 0.9467228466201352, 0.009965503648633002, 0.03986201459453201, 0.8580171607268734, 0.005571540004719957, 0.005571540004719957, 0.13371696011327897, 0.028433395795851923, 0.42315583155003156, 0.48336772852948273, 0.06522955506107206, 0.012755654603172593, 0.05913985316016384, 0.6656132492928244, 0.18321758430011542, 0.07885313754688512, 0.9948883054333004, 0.9951350071428751, 0.012758141117216347, 0.049622475004411935, 0.046940179058227505, 0.00469401790582275, 0.85095838892701, 0.047610753044773614, 0.7069104809235894, 0.002698131606578586, 0.18617108085392242, 0.10252900104998626, 0.9830472502092017, 0.020062188779779628, 0.8850728326888754, 0.008940129623119953, 0.10728155547743944, 0.021204370424229225, 0.20356195607260055, 0.0010602185212114613, 0.7580562426661948, 0.01590327781817192, 0.6960900161311271, 0.0018686980298822204, 0.11679362686763878, 0.18593545397328093, 0.974054230467643, 0.018553413913669388, 0.0038871132212974888, 0.0038871132212974888, 0.9951009846521571, 0.11347605702949291, 0.07255026596967579, 0.06510921304970904, 0.6845768686369408, 0.06510921304970904, 0.012863023118703224, 0.9904527801401481, 0.9501048495031891, 0.05000551839490469, 0.003931028992137858, 0.9945503350108781, 0.031255809832362993, 0.6876278163119859, 0.012502323932945198, 0.18128369702770536, 0.08751626753061638, 0.009389922938287332, 0.007511938350629865, 0.018779845876574663, 0.9258464017151309, 0.03943767634080679, 0.0243828803171901, 0.9753152126876039, 0.016699660609554856, 0.9852799759637365, 0.9791418971293935, 0.02039878952352903, 0.9836043606728154, 0.020073558381077865, 0.03634817176974712, 0.9450524660134251, 0.01817408588487356, 0.04220373433780916, 0.3300193652317208, 0.020755934920234014, 0.3715312350721888, 0.23592579359332663, 0.5348838973016653, 0.0008279936490737853, 0.07700340936386203, 0.38667303411745774, 0.03163500294952569, 0.9806850914352965, 0.9981450659151697, 0.03460803465413703, 0.06209088570301055, 0.7807165464624441, 0.1221460046616601, 0.0239980173563214, 0.9839187116091774, 0.012423489946407284, 0.9845615782527772, 0.003105872486601821, 0.04373039387290543, 0.5839293770087961, 0.041158017762734526, 0.2983956287798253, 0.0334408894322218, 0.0032539574692097687, 0.9957109855781892, 0.016049532519777625, 0.9790214837064353, 0.009364752606619006, 0.009364752606619006, 0.9645695184817576, 0.7367074821741921, 0.1765028342709002, 0.08441439899912617, 0.9213314929960434, 0.048491131210318075, 0.9507211811843458, 0.03204678138823638, 0.017803767437909096, 0.978120031182491, 0.01956240062364982, 0.06915538301661407, 0.9266821324226285, 0.9312007421427572, 0.015783063426148426, 0.015783063426148426, 0.04734919027844528, 0.01559454631966318, 0.9668618718191172, 0.9935981808147147, 0.9940734048631712, 0.9966103848582577, 0.5407729183266612, 0.15722913043858872, 0.3001647035645784, 0.9981583385370438, 0.012254528929063561, 0.9803623143250849, 0.0017167230018049933, 0.1236040561299595, 0.19570642220576923, 0.6781055857129723, 0.0017167230018049933, 0.9628896330711476, 0.029780091744468485, 0.0040106680315848756, 0.9769987324940758, 0.01844907294529043, 0.11547731846326206, 0.0064154065812923365, 0.8724952950557577, 0.0029043754510040894, 0.014521877255020446, 0.9816789024393822, 0.9902795638870496, 0.010423995409337364, 0.45963113445593934, 0.29338157518464214, 0.1662495592712972, 0.07823508671590457, 0.004170984666673453, 0.08341969333346906, 0.10844560133350978, 0.8050000406679765, 0.9135699852850381, 0.008305181684409437, 0.08305181684409438, 0.9945949359684106, 0.006765951945363338, 0.9876693091187703, 0.012449613140152567, 0.7444237429528779, 0.02809146199822181, 0.22473169598577447, 0.9970763102573138, 0.002616035896935945, 0.9940936408356591, 0.002616035896935945, 0.07712538115986914, 0.23504878067769644, 0.0012242123993630022, 0.6757652444483773, 0.011017911594267021, 0.9782893222730148, 0.02223384823347761, 0.023537123315397236, 0.03530568497309586, 0.9297163709581909, 0.08515430893494329, 0.04054967092140157, 0.04054967092140157, 0.621761620794824, 0.21356160018604825, 0.007903844946534944, 0.2608268832356532, 0.7271537350812148, 0.99419358908475, 0.008017690234554434, 0.009205597657021695, 0.005523358594213016, 0.001841119531404339, 0.9813167102385126, 0.001841119531404339, 0.9930705511534907, 0.007580691230179318, 0.9944603371179146, 0.9530231738515847, 0.03737345779810136, 0.978854184601307, 0.021279438795680585, 0.9973891049222606, 0.004038012570535468, 0.9742960986597031, 0.027837031390277232, 0.9762551430111829, 0.015019309892479736, 0.015019309892479736, 0.29541685784129446, 0.01036550378390507, 0.5130924373033009, 0.1813963162183387, 0.13172685366032488, 0.2285848342929167, 0.32544281492550853, 0.2169618766170057, 0.09685798063259182, 0.020668724798501313, 0.033069959677602095, 0.9383601058519595, 0.008267489919400524, 0.9830472502092017, 0.020062188779779628, 0.005519323908588835, 0.006899154885736044, 0.9865791486602543, 0.0006899154885736044, 0.9781170745475477, 0.019562341490950954, 0.024504643487207083, 0.9801857394882834, 0.024504643487207083, 0.9801857394882834, 0.9725777453520564, 0.01945155490704113, 0.9894037900012862, 0.011243224886378252, 0.9687398581362974, 0.03340482269435508, 0.0033334562825832344, 0.9467015842536386, 0.05000184423874852, 0.01967098568088501, 0.9835492840442506, 0.9986763623961056, 0.0012561966822592524, 0.5788748505685369, 0.15278221862512703, 0.26821767269744523, 0.9448971103559569, 0.04199542712693142, 0.019952927980102623, 0.5799651066216496, 0.0013301951986735081, 0.049217222350919805, 0.34984133725113264, 0.9965371942095579, 0.00559097140695498, 0.9951929104379865, 0.013150981138516264, 0.44901207030076956, 0.3550764907399391, 0.18223502434801106, 0.019569015908021865, 0.07967385048266046, 0.011182294804583924, 0.6919044910336303, 0.19778683935607816, 0.9809438860751514, 0.01901054042781301, 0.030632605571603525, 0.20895813086343834, 0.02625651906137445, 0.7100200362846675, 0.024068475806259912, 0.9836757573099364, 0.020075015455304827, 0.9981560656653171, 0.9532130916134096, 0.03530418857827443, 0.9953888510307499, 0.9956684739589995, 0.43176345234176117, 0.010479695445188378, 0.4569147214102133, 0.09850913718477075, 0.9801217509826541, 0.01531440235910397, 0.9722663433843832, 0.021136224856182242, 0.9722663433843832, 0.021136224856182242, 0.38583458210624894, 0.06223138421068531, 0.006223138421068531, 0.5414130426329622, 0.7231866759656163, 0.1721873038013372, 0.09470301709073546, 0.9501351579583815, 0.050007113576756926, 0.09252747477844171, 0.9054474317604653, 0.9945209827276659, 0.01275026900932905, 0.9979552574864407, 0.0021461403386805176, 0.347219820175712, 0.058621528081613715, 0.5952339774440777, 0.9992706185021234, 0.004150749502580446, 0.9961798806193068, 0.003910418738262852, 0.9971567782570271, 0.02904136485807955, 0.1287238874790553, 0.01491313330550031, 0.6875739355588564, 0.13971251201995027, 0.24313342366367227, 0.01157778207922249, 0.7409780530702393, 0.01157778207922249, 0.9841713118993982, 0.00693078388661548, 0.00693078388661548, 0.9950402922507965, 0.015794290353187246, 0.011149283297756501, 0.012006920474507002, 0.9262481508905401, 0.04974295625152901, 0.012635798852213933, 0.004211932950737978, 0.9813803775219488, 0.002105966475368989], \"Term\": [\"aaaaaaaaaaaaaaaaaaaaaaaaaaaaaaaaaaaaaaaaaaaaaaaaaaaaaaaaaaaaaaaaaaaaaaaaaaaa\", \"aaaaaaaaaaaaaaaaaaaaaaaaaaaaaaaaaaaaaaaaaaaaaaaaaaaaaaaaaaaaaaaaaaaaaaaaaaaa\", \"addin\", \"addin\", \"adult\", \"adult\", \"afford\", \"agave\", \"agave\", \"aggies\", \"aggies\", \"aggressively\", \"alert\", \"alert\", \"align\", \"align\", \"also\", \"also\", \"also\", \"also\", \"alt\", \"alt\", \"amazon\", \"amazon\", \"amazon\", \"ancillary\", \"ancillary\", \"andersen\", \"astronomical\", \"backout\", \"backout\", \"bakernet\", \"bakernet\", \"barbo\", \"barbo\", \"baughman\", \"baughman\", \"ben\", \"ben\", \"ben\", \"bergfelt\", \"bergfelt\", \"beth\", \"beth\", \"bgcolor\", \"bgcolor\", \"blair\", \"blair\", \"board\", \"board\", \"board\", \"bodydefault\", \"bodydefault\", \"bolt\", \"bolt\", \"border\", \"border\", \"border\", \"border\", \"border\", \"br\", \"br\", \"brochure\", \"brochure\", \"buchanan\", \"buchanan\", \"bush\", \"bush\", \"business\", \"business\", \"business\", \"business\", \"caiso\", \"caiso\", \"california\", \"california\", \"california\", \"california\", \"call\", \"call\", \"call\", \"call\", \"cellpadding\", \"cellpadding\", \"cellspacing\", \"cellspacing\", \"center\", \"center\", \"center\", \"center\", \"center\", \"chairman\", \"chairman\", \"chairman\", \"cherry\", \"cherry\", \"choice\", \"choice\", \"choice\", \"class\", \"class\", \"class\", \"class\", \"class\", \"classmate\", \"classmate\", \"clear\", \"clear\", \"clear\", \"click\", \"click\", \"click\", \"click\", \"colspan\", \"colspan\", \"company\", \"company\", \"company\", \"company\", \"company\", \"conference\", \"conference\", \"conference\", \"conference\", \"consumer\", \"consumer\", \"consumer\", \"consumer\", \"contact\", \"contact\", \"contact\", \"coords\", \"coords\", \"copy\", \"copy\", \"copy\", \"copy\", \"copyright\", \"copyright\", \"coral\", \"coral\", \"corp\", \"corp\", \"corp\", \"corp\", \"court\", \"credit\", \"credit\", \"credit\", \"crisis\", \"ct\", \"ct\", \"ct\", \"ctr\", \"ctr\", \"darrell\", \"darrell\", \"darrell\", \"data\", \"data\", \"data\", \"data\", \"data\", \"day\", \"day\", \"day\", \"day\", \"day\", \"declared\", \"delta\", \"delta\", \"delta\", \"desk\", \"desk\", \"desk\", \"detected\", \"detected\", \"devastated\", \"development\", \"development\", \"development\", \"deviation\", \"deviation\", \"devon\", \"devon\", \"dietz\", \"dietz\", \"doc\", \"doc\", \"doc\", \"donate\", \"dye\", \"dye\", \"e\", \"e\", \"e\", \"e\", \"e\", \"ecar\", \"ecar\", \"eei\", \"eei\", \"eix\", \"eix\", \"email\", \"email\", \"email\", \"email\", \"email\", \"emailed\", \"emailed\", \"employee\", \"employee\", \"employee\", \"end\", \"end\", \"end\", \"end\", \"end\", \"energy\", \"energy\", \"energy\", \"energy\", \"enform\", \"enform\", \"enlarge\", \"enlarge\", \"enron\", \"enron\", \"enron\", \"enron\", \"enron\", \"enronxgate\", \"enronxgate\", \"enronxgate\", \"eol\", \"eol\", \"eol\", \"epe\", \"epe\", \"epenergy\", \"epenergy\", \"ercot\", \"ercot\", \"euci\", \"euci\", \"executive\", \"executive\", \"executive\", \"exotica\", \"exotica\", \"f\", \"f\", \"f\", \"f\", \"f\", \"feedback\", \"feedback\", \"ffffff\", \"ffffff\", \"file\", \"file\", \"file\", \"file\", \"financial\", \"financial\", \"financial\", \"financial\", \"financially\", \"fname\", \"fname\", \"font\", \"font\", \"forecast\", \"forecast\", \"forecast\", \"forecast\", \"forwarded\", \"forwarded\", \"forwarded\", \"fran\", \"fran\", \"frcc\", \"frcc\", \"fri\", \"fri\", \"fund\", \"fund\", \"fund\", \"gas\", \"gas\", \"gas\", \"gas\", \"gas\", \"gif\", \"gif\", \"gift\", \"gift\", \"gift\", \"gift\", \"greg\", \"greg\", \"greg\", \"greg\", \"gregwhalley\", \"gregwhalley\", \"hanagriff\", \"hanagriff\", \"headcount\", \"headcount\", \"height\", \"height\", \"hou\", \"hou\", \"hou\", \"hp\", \"hp\", \"href\", \"href\", \"hurt\", \"id\", \"id\", \"id\", \"id\", \"image\", \"image\", \"image\", \"image\", \"img\", \"img\", \"impacted\", \"impacted\", \"income\", \"information\", \"information\", \"information\", \"information\", \"information\", \"intended\", \"intended\", \"intended\", \"interchange\", \"interchange\", \"investment\", \"investment\", \"investment\", \"investor\", \"investor\", \"january\", \"january\", \"january\", \"january\", \"john\", \"john\", \"john\", \"kern\", \"kern\", \"kern\", \"kim\", \"kim\", \"kim\", \"know\", \"know\", \"know\", \"know\", \"know\", \"kowalke\", \"kowalke\", \"krishna\", \"krishna\", \"krishnarao\", \"krishnarao\", \"largest\", \"last\", \"last\", \"last\", \"last\", \"laurel\", \"laurel\", \"lay\", \"lay\", \"lay\", \"leg\", \"leg\", \"let\", \"let\", \"let\", \"let\", \"like\", \"like\", \"like\", \"like\", \"like\", \"lindberg\", \"lindberg\", \"lindberg\", \"linkbarseperator\", \"linkbarseperator\", \"locate\", \"locate\", \"lokay\", \"lokay\", \"london\", \"london\", \"london\", \"lorraine\", \"lorraine\", \"lorraine\", \"lost\", \"lost\", \"lover\", \"lover\", \"lynn\", \"lynn\", \"maac\", \"maac\", \"made\", \"made\", \"made\", \"made\", \"mage\", \"mage\", \"maggi\", \"maggi\", \"mail\", \"mail\", \"mail\", \"mail\", \"mail\", \"mailto\", \"mailto\", \"mailto\", \"mailto\", \"make\", \"make\", \"make\", \"make\", \"map\", \"map\", \"map\", \"mapp\", \"mapp\", \"mark\", \"mark\", \"mark\", \"market\", \"market\", \"market\", \"market\", \"market\", \"material\", \"material\", \"material\", \"matrix\", \"matrix\", \"matt\", \"matt\", \"may\", \"may\", \"may\", \"may\", \"may\", \"message\", \"message\", \"message\", \"message\", \"message\", \"million\", \"million\", \"million\", \"million\", \"million\", \"min\", \"min\", \"monday\", \"monday\", \"monday\", \"monday\", \"money\", \"money\", \"money\", \"money\", \"money\", \"mr\", \"mr\", \"mr\", \"mtm\", \"mtm\", \"na\", \"na\", \"na\", \"nbsp\", \"nbsp\", \"nc\", \"nc\", \"nc\", \"ne\", \"ne\", \"ne\", \"ne\", \"need\", \"need\", \"need\", \"need\", \"net\", \"net\", \"net\", \"net\", \"net\", \"netted\", \"neumin\", \"neumin\", \"new\", \"new\", \"new\", \"new\", \"new\", \"november\", \"november\", \"november\", \"november\", \"npcc\", \"npcc\", \"nw\", \"nw\", \"nw\", \"one\", \"one\", \"one\", \"one\", \"one\", \"original\", \"original\", \"original\", \"original\", \"origination\", \"origination\", \"outage\", \"outage\", \"outage\", \"p\", \"p\", \"p\", \"p\", \"p\", \"pager\", \"pager\", \"parsing\", \"parsing\", \"partnership\", \"partnership\", \"paul\", \"paul\", \"paul\", \"paul\", \"paul\", \"pay\", \"pay\", \"pay\", \"pay\", \"pay\", \"pcg\", \"pcg\", \"pep\", \"pep\", \"permian\", \"permian\", \"pinnamaneni\", \"pinnamaneni\", \"plan\", \"plan\", \"plan\", \"please\", \"please\", \"please\", \"please\", \"please\", \"pm\", \"pm\", \"pm\", \"pm\", \"pnm\", \"pnm\", \"pocketbook\", \"power\", \"power\", \"power\", \"power\", \"powersrc\", \"powersrc\", \"president\", \"president\", \"president\", \"product\", \"product\", \"product\", \"product\", \"product\", \"profit\", \"profit\", \"pseg\", \"pseg\", \"pt\", \"pt\", \"pt\", \"range\", \"range\", \"range\", \"raquel\", \"raquel\", \"recipient\", \"recipient\", \"recipient\", \"rect\", \"rect\", \"ref\", \"ref\", \"reg\", \"reg\", \"reg\", \"reg\", \"reliantenergy\", \"reliantenergy\", \"relief\", \"repair\", \"reported\", \"request\", \"request\", \"request\", \"retirement\", \"rfp\", \"rfp\", \"right\", \"right\", \"right\", \"right\", \"right\", \"rk\", \"rk\", \"said\", \"said\", \"said\", \"sat\", \"sat\", \"sat\", \"saving\", \"saving\", \"saving\", \"savita\", \"savita\", \"schedule\", \"schedule\", \"schedule\", \"schedule\", \"scheduled\", \"scheduled\", \"scheduled\", \"scheduled\", \"schoolcraft\", \"schoolcraft\", \"schoolcraft\", \"scoop\", \"scoop\", \"script\", \"script\", \"se\", \"se\", \"se\", \"sec\", \"security\", \"security\", \"security\", \"see\", \"see\", \"see\", \"see\", \"see\", \"serc\", \"serc\", \"server\", \"server\", \"server\", \"service\", \"service\", \"service\", \"service\", \"service\", \"settlement\", \"settlement\", \"settlement\", \"sfs\", \"sfs\", \"share\", \"share\", \"share\", \"share\", \"share\", \"simulation\", \"simulation\", \"sold\", \"sp\", \"sp\", \"spp\", \"spp\", \"src\", \"src\", \"srrs\", \"srrs\", \"stack\", \"stack\", \"stack\", \"standard\", \"standard\", \"standard\", \"standard\", \"start\", \"start\", \"start\", \"start\", \"start\", \"state\", \"state\", \"state\", \"state\", \"std\", \"std\", \"stock\", \"stock\", \"stock\", \"stock\", \"stocklookup\", \"stocklookup\", \"stsw\", \"stsw\", \"stwbom\", \"stwbom\", \"sw\", \"sw\", \"syncrasy\", \"syncrasy\", \"tab\", \"tab\", \"table\", \"table\", \"table\", \"tagline\", \"tagline\", \"td\", \"td\", \"team\", \"team\", \"team\", \"temp\", \"temp\", \"thanks\", \"thanks\", \"thanks\", \"thanks\", \"thanks\", \"thousand\", \"thru\", \"thru\", \"thursday\", \"thursday\", \"thursday\", \"thursday\", \"time\", \"time\", \"time\", \"time\", \"time\", \"tr\", \"tr\", \"u\", \"u\", \"u\", \"u\", \"u\", \"ubswenergy\", \"ubswenergy\", \"underhanded\", \"underscore\", \"underscore\", \"urge\", \"urging\", \"use\", \"use\", \"use\", \"use\", \"valign\", \"valign\", \"vegetarian\", \"vegetarian\", \"veggie\", \"veggie\", \"visit\", \"visit\", \"visit\", \"visit\", \"volatility\", \"volatility\", \"volatility\", \"westdesk\", \"westdesk\", \"whalley\", \"whalley\", \"whitt\", \"whitt\", \"width\", \"width\", \"williams\", \"williams\", \"williams\", \"wiped\", \"wj\", \"wj\", \"worker\", \"worker\", \"would\", \"would\", \"would\", \"would\", \"would\", \"wrap\", \"wrap\", \"wrap\", \"wrap\", \"wscc\", \"wscc\", \"wscc\", \"xll\", \"xll\", \"year\", \"year\", \"year\", \"year\", \"york\", \"york\", \"york\", \"york\"]}, \"R\": 30, \"lambda.step\": 0.01, \"plot.opts\": {\"xlab\": \"PC1\", \"ylab\": \"PC2\"}, \"topic.order\": [1, 2, 3, 4, 5]};\n",
              "\n",
              "function LDAvis_load_lib(url, callback){\n",
              "  var s = document.createElement('script');\n",
              "  s.src = url;\n",
              "  s.async = true;\n",
              "  s.onreadystatechange = s.onload = callback;\n",
              "  s.onerror = function(){console.warn(\"failed to load library \" + url);};\n",
              "  document.getElementsByTagName(\"head\")[0].appendChild(s);\n",
              "}\n",
              "\n",
              "if(typeof(LDAvis) !== \"undefined\"){\n",
              "   // already loaded: just create the visualization\n",
              "   !function(LDAvis){\n",
              "       new LDAvis(\"#\" + \"ldavis_el571401389522760324197229866\", ldavis_el571401389522760324197229866_data);\n",
              "   }(LDAvis);\n",
              "}else if(typeof define === \"function\" && define.amd){\n",
              "   // require.js is available: use it to load d3/LDAvis\n",
              "   require.config({paths: {d3: \"https://cdnjs.cloudflare.com/ajax/libs/d3/3.5.5/d3.min\"}});\n",
              "   require([\"d3\"], function(d3){\n",
              "      window.d3 = d3;\n",
              "      LDAvis_load_lib(\"https://cdn.rawgit.com/bmabey/pyLDAvis/files/ldavis.v1.0.0.js\", function(){\n",
              "        new LDAvis(\"#\" + \"ldavis_el571401389522760324197229866\", ldavis_el571401389522760324197229866_data);\n",
              "      });\n",
              "    });\n",
              "}else{\n",
              "    // require.js not available: dynamically load d3 & LDAvis\n",
              "    LDAvis_load_lib(\"https://cdnjs.cloudflare.com/ajax/libs/d3/3.5.5/d3.min.js\", function(){\n",
              "         LDAvis_load_lib(\"https://cdn.rawgit.com/bmabey/pyLDAvis/files/ldavis.v1.0.0.js\", function(){\n",
              "                 new LDAvis(\"#\" + \"ldavis_el571401389522760324197229866\", ldavis_el571401389522760324197229866_data);\n",
              "            })\n",
              "         });\n",
              "}\n",
              "</script>"
            ],
            "text/plain": [
              "<IPython.core.display.HTML object>"
            ]
          },
          "metadata": {
            "tags": []
          },
          "execution_count": 114
        }
      ]
    },
    {
      "cell_type": "markdown",
      "metadata": {
        "id": "zeAU9D8hDGOi"
      },
      "source": [
        "#### Assign topics to your original data\n",
        "\n",
        "* One practical application of topic modeling is to determine what topic a given text is about\n",
        "* To find that, find the topic number that has the highest percentage contribution in that text\n",
        "* The function, `get_topic_details` shown here, nicely aggregates this information in a presentable table\n",
        "* Combine the original text data with the output of the `get_topic_details` function\n",
        "* Each row contains the dominant topic number, the probability score with that topic and the original text data\n",
        "\n",
        "```python\n",
        "def get_topic_details(ldamodel, corpus):\n",
        "    topic_details_df = pd.DataFrame()\n",
        "    for i, row in enumerate(ldamodel[corpus]):\n",
        "        row = sorted(row, key=lambda x: (x[1]), reverse=True)\n",
        "        for j, (topic_num, prop_topic) in enumerate(row):\n",
        "            if j == 0:  # => dominant topic\n",
        "                wp = ldamodel.show_topic(topic_num)\n",
        "                topic_details_df = topic_details_df.append(pd.Series([topic_num, prop_topic]), ignore_index=True)\n",
        "    topic_details_df.columns = ['Dominant_Topic', '% Score']\n",
        "    return topic_details_df\n",
        "\n",
        "\n",
        "contents = pd.DataFrame({'Original text':text_clean})\n",
        "topic_details = pd.concat([get_topic_details(ldamodel,\n",
        "                           corpus), contents], axis=1)\n",
        "topic_details.head()\n",
        "\n",
        "\n",
        "     Dominant_Topic    % Score     Original text\n",
        "0    0.0              0.989108    [investools, advisory, free, ...\n",
        "1    0.0              0.993513    [forwarded, richard, b, ...\n",
        "2    1.0              0.964858    [hey, wearing, target, purple, ...\n",
        "3    0.0              0.989241    [leslie, milosevich, santa, clara, ...\n",
        "```"
      ]
    },
    {
      "cell_type": "markdown",
      "metadata": {
        "id": "Nmm8mmQODGOi"
      },
      "source": [
        "### Interpreting the topic model\n",
        "\n",
        "* Use the visualization results from the pyLDAvis library shown in 4.4.0.2.\n",
        "* Have a look at topic 1 and 3 from the LDA model on the Enron email data. Which one would you research further for fraud detection purposes?\n",
        "\n",
        "**Possible Answers**\n",
        "\n",
        "* __**Topic 1.**__\n",
        "* ~~Topic 3.~~\n",
        "* ~~None of these topics seem related to fraud.~~\n",
        "\n",
        "\n",
        "**Topic 1 seems to discuss the employee share option program, and seems to point to internal conversation (with \"please, may, know\" etc), so this is more likely to be related to the internal accounting fraud and trading stock with insider knowledge. Topic 3 seems to be more related to general news around Enron.**"
      ]
    },
    {
      "cell_type": "markdown",
      "metadata": {
        "id": "79s6_pRyDGOj"
      },
      "source": [
        "### Finding fraudsters based on topic\n",
        "\n",
        "In this exercise you're going to **link the results** from the topic model **back to your original data**. You now learned that you want to **flag everything related to topic 3**. As you will see, this is actually not that straightforward. You'll be given the function `get_topic_details()` which takes the arguments `ldamodel` and `corpus`. It retrieves the details of the topics for each line of text. With that function, you can append the results back to your original data. If you want to learn more detail on how to work with the model results, which is beyond the scope of this course, you're highly encouraged to read this [article](https://www.machinelearningplus.com/nlp/topic-modeling-gensim-python/).\n",
        "\n",
        "Available for you are the `dictionary` and `corpus`, the text data `text_clean` as well as your model results `ldamodel`. Also defined is `get_topic_details()`.\n",
        "\n",
        "**Explanation 1/3**\n",
        "\n",
        "* Print and inspect the results from the `get_topic_details()` function by inserting your LDA model results and `corpus`."
      ]
    },
    {
      "cell_type": "markdown",
      "metadata": {
        "id": "HMpUIdn0DGOj"
      },
      "source": [
        "#### def get_topic_details"
      ]
    },
    {
      "cell_type": "code",
      "metadata": {
        "id": "FKICiLhSDGOj"
      },
      "source": [
        "def get_topic_details(ldamodel, corpus):\n",
        "    topic_details_df = pd.DataFrame()\n",
        "    for i, row in enumerate(ldamodel[corpus]):\n",
        "        row = sorted(row, key=lambda x: (x[1]), reverse=True)\n",
        "        for j, (topic_num, prop_topic) in enumerate(row):\n",
        "            if j == 0:  # => dominant topic\n",
        "                wp = ldamodel.show_topic(topic_num)\n",
        "                topic_details_df = topic_details_df.append(pd.Series([topic_num, prop_topic]), ignore_index=True)\n",
        "    topic_details_df.columns = ['Dominant_Topic', '% Score']\n",
        "    return topic_details_df"
      ],
      "execution_count": null,
      "outputs": []
    },
    {
      "cell_type": "code",
      "metadata": {
        "id": "LZbiFLRsDGOk"
      },
      "source": [
        "# Run get_topic_details function and check the results\n",
        "topic_details_df = get_topic_details(ldamodel, corpus)"
      ],
      "execution_count": null,
      "outputs": []
    },
    {
      "cell_type": "code",
      "metadata": {
        "id": "JKZH7EaHDGOk",
        "colab": {
          "base_uri": "https://localhost:8080/"
        },
        "outputId": "ad898edf-3d5c-4e55-f403-aa3f22d1aa78"
      },
      "source": [
        "topic_details_df.head()"
      ],
      "execution_count": null,
      "outputs": [
        {
          "output_type": "execute_result",
          "data": {
            "text/html": [
              "<div>\n",
              "<style scoped>\n",
              "    .dataframe tbody tr th:only-of-type {\n",
              "        vertical-align: middle;\n",
              "    }\n",
              "\n",
              "    .dataframe tbody tr th {\n",
              "        vertical-align: top;\n",
              "    }\n",
              "\n",
              "    .dataframe thead th {\n",
              "        text-align: right;\n",
              "    }\n",
              "</style>\n",
              "<table border=\"1\" class=\"dataframe\">\n",
              "  <thead>\n",
              "    <tr style=\"text-align: right;\">\n",
              "      <th></th>\n",
              "      <th>Dominant_Topic</th>\n",
              "      <th>% Score</th>\n",
              "    </tr>\n",
              "  </thead>\n",
              "  <tbody>\n",
              "    <tr>\n",
              "      <th>0</th>\n",
              "      <td>3.0</td>\n",
              "      <td>0.825130</td>\n",
              "    </tr>\n",
              "    <tr>\n",
              "      <th>1</th>\n",
              "      <td>1.0</td>\n",
              "      <td>0.686498</td>\n",
              "    </tr>\n",
              "    <tr>\n",
              "      <th>2</th>\n",
              "      <td>4.0</td>\n",
              "      <td>0.440915</td>\n",
              "    </tr>\n",
              "    <tr>\n",
              "      <th>3</th>\n",
              "      <td>3.0</td>\n",
              "      <td>0.993465</td>\n",
              "    </tr>\n",
              "    <tr>\n",
              "      <th>4</th>\n",
              "      <td>3.0</td>\n",
              "      <td>0.993398</td>\n",
              "    </tr>\n",
              "  </tbody>\n",
              "</table>\n",
              "</div>"
            ],
            "text/plain": [
              "   Dominant_Topic   % Score\n",
              "0             3.0  0.825130\n",
              "1             1.0  0.686498\n",
              "2             4.0  0.440915\n",
              "3             3.0  0.993465\n",
              "4             3.0  0.993398"
            ]
          },
          "metadata": {
            "tags": []
          },
          "execution_count": 117
        }
      ]
    },
    {
      "cell_type": "code",
      "metadata": {
        "id": "8gYZvhVODGOk",
        "colab": {
          "base_uri": "https://localhost:8080/"
        },
        "outputId": "c3b7f99a-166d-4d71-c723-ee4a3b2d5546"
      },
      "source": [
        "topic_details_df.tail()"
      ],
      "execution_count": null,
      "outputs": [
        {
          "output_type": "execute_result",
          "data": {
            "text/html": [
              "<div>\n",
              "<style scoped>\n",
              "    .dataframe tbody tr th:only-of-type {\n",
              "        vertical-align: middle;\n",
              "    }\n",
              "\n",
              "    .dataframe tbody tr th {\n",
              "        vertical-align: top;\n",
              "    }\n",
              "\n",
              "    .dataframe thead th {\n",
              "        text-align: right;\n",
              "    }\n",
              "</style>\n",
              "<table border=\"1\" class=\"dataframe\">\n",
              "  <thead>\n",
              "    <tr style=\"text-align: right;\">\n",
              "      <th></th>\n",
              "      <th>Dominant_Topic</th>\n",
              "      <th>% Score</th>\n",
              "    </tr>\n",
              "  </thead>\n",
              "  <tbody>\n",
              "    <tr>\n",
              "      <th>2085</th>\n",
              "      <td>1.0</td>\n",
              "      <td>0.910357</td>\n",
              "    </tr>\n",
              "    <tr>\n",
              "      <th>2086</th>\n",
              "      <td>2.0</td>\n",
              "      <td>0.598990</td>\n",
              "    </tr>\n",
              "    <tr>\n",
              "      <th>2087</th>\n",
              "      <td>0.0</td>\n",
              "      <td>0.999324</td>\n",
              "    </tr>\n",
              "    <tr>\n",
              "      <th>2088</th>\n",
              "      <td>0.0</td>\n",
              "      <td>0.998141</td>\n",
              "    </tr>\n",
              "    <tr>\n",
              "      <th>2089</th>\n",
              "      <td>1.0</td>\n",
              "      <td>0.988441</td>\n",
              "    </tr>\n",
              "  </tbody>\n",
              "</table>\n",
              "</div>"
            ],
            "text/plain": [
              "      Dominant_Topic   % Score\n",
              "2085             1.0  0.910357\n",
              "2086             2.0  0.598990\n",
              "2087             0.0  0.999324\n",
              "2088             0.0  0.998141\n",
              "2089             1.0  0.988441"
            ]
          },
          "metadata": {
            "tags": []
          },
          "execution_count": 118
        }
      ]
    },
    {
      "cell_type": "markdown",
      "metadata": {
        "id": "bc-aeA21DGOl"
      },
      "source": [
        "**Explanation 2/3**\n",
        "\n",
        "* Concatenate column-wise the results from the previously defined function `get_topic_details()` to the original text data contained under `contents` and inspect the results."
      ]
    },
    {
      "cell_type": "code",
      "metadata": {
        "id": "H-7rDi78DGOl"
      },
      "source": [
        "# Add original text to topic details in a dataframe\n",
        "contents = pd.DataFrame({'Original text': text_clean})\n",
        "topic_details = pd.concat([get_topic_details(ldamodel, corpus), contents], axis=1)"
      ],
      "execution_count": null,
      "outputs": []
    },
    {
      "cell_type": "code",
      "metadata": {
        "id": "BVrVI4PZDGOl",
        "colab": {
          "base_uri": "https://localhost:8080/"
        },
        "outputId": "dd51a698-f58a-46ca-e223-25484bb4f3a4"
      },
      "source": [
        "topic_details.sort_values(by=['% Score'], ascending=False).head(10).head()"
      ],
      "execution_count": null,
      "outputs": [
        {
          "output_type": "execute_result",
          "data": {
            "text/html": [
              "<div>\n",
              "<style scoped>\n",
              "    .dataframe tbody tr th:only-of-type {\n",
              "        vertical-align: middle;\n",
              "    }\n",
              "\n",
              "    .dataframe tbody tr th {\n",
              "        vertical-align: top;\n",
              "    }\n",
              "\n",
              "    .dataframe thead th {\n",
              "        text-align: right;\n",
              "    }\n",
              "</style>\n",
              "<table border=\"1\" class=\"dataframe\">\n",
              "  <thead>\n",
              "    <tr style=\"text-align: right;\">\n",
              "      <th></th>\n",
              "      <th>Dominant_Topic</th>\n",
              "      <th>% Score</th>\n",
              "      <th>Original text</th>\n",
              "    </tr>\n",
              "  </thead>\n",
              "  <tbody>\n",
              "    <tr>\n",
              "      <th>154</th>\n",
              "      <td>3.0</td>\n",
              "      <td>0.999957</td>\n",
              "      <td>[joint, venture, enron, meeting, belies, offic...</td>\n",
              "    </tr>\n",
              "    <tr>\n",
              "      <th>135</th>\n",
              "      <td>3.0</td>\n",
              "      <td>0.999953</td>\n",
              "      <td>[lawyer, agree, order, safeguard, document, ho...</td>\n",
              "    </tr>\n",
              "    <tr>\n",
              "      <th>107</th>\n",
              "      <td>3.0</td>\n",
              "      <td>0.999907</td>\n",
              "      <td>[sample, article, original, message, schmidt, ...</td>\n",
              "    </tr>\n",
              "    <tr>\n",
              "      <th>849</th>\n",
              "      <td>3.0</td>\n",
              "      <td>0.999877</td>\n",
              "      <td>[original, message, received, thu, aug, cdt, e...</td>\n",
              "    </tr>\n",
              "    <tr>\n",
              "      <th>1782</th>\n",
              "      <td>3.0</td>\n",
              "      <td>0.999790</td>\n",
              "      <td>[national, journal, congressdaily, issue, date...</td>\n",
              "    </tr>\n",
              "  </tbody>\n",
              "</table>\n",
              "</div>"
            ],
            "text/plain": [
              "      Dominant_Topic   % Score  \\\n",
              "154              3.0  0.999957   \n",
              "135              3.0  0.999953   \n",
              "107              3.0  0.999907   \n",
              "849              3.0  0.999877   \n",
              "1782             3.0  0.999790   \n",
              "\n",
              "                                          Original text  \n",
              "154   [joint, venture, enron, meeting, belies, offic...  \n",
              "135   [lawyer, agree, order, safeguard, document, ho...  \n",
              "107   [sample, article, original, message, schmidt, ...  \n",
              "849   [original, message, received, thu, aug, cdt, e...  \n",
              "1782  [national, journal, congressdaily, issue, date...  "
            ]
          },
          "metadata": {
            "tags": []
          },
          "execution_count": 120
        }
      ]
    },
    {
      "cell_type": "code",
      "metadata": {
        "id": "LuD_p26FDGOl",
        "colab": {
          "base_uri": "https://localhost:8080/"
        },
        "outputId": "f4a2d44f-4be8-4bdd-bca5-b9ff3de90ea0"
      },
      "source": [
        "topic_details.sort_values(by=['% Score'], ascending=False).head(10).tail()"
      ],
      "execution_count": null,
      "outputs": [
        {
          "output_type": "execute_result",
          "data": {
            "text/html": [
              "<div>\n",
              "<style scoped>\n",
              "    .dataframe tbody tr th:only-of-type {\n",
              "        vertical-align: middle;\n",
              "    }\n",
              "\n",
              "    .dataframe tbody tr th {\n",
              "        vertical-align: top;\n",
              "    }\n",
              "\n",
              "    .dataframe thead th {\n",
              "        text-align: right;\n",
              "    }\n",
              "</style>\n",
              "<table border=\"1\" class=\"dataframe\">\n",
              "  <thead>\n",
              "    <tr style=\"text-align: right;\">\n",
              "      <th></th>\n",
              "      <th>Dominant_Topic</th>\n",
              "      <th>% Score</th>\n",
              "      <th>Original text</th>\n",
              "    </tr>\n",
              "  </thead>\n",
              "  <tbody>\n",
              "    <tr>\n",
              "      <th>442</th>\n",
              "      <td>3.0</td>\n",
              "      <td>0.999637</td>\n",
              "      <td>[pleased, send, web, based, e, mail, alert, pr...</td>\n",
              "    </tr>\n",
              "    <tr>\n",
              "      <th>2081</th>\n",
              "      <td>2.0</td>\n",
              "      <td>0.999631</td>\n",
              "      <td>[unsubscribe, mailing, please, go, money, net,...</td>\n",
              "    </tr>\n",
              "    <tr>\n",
              "      <th>2087</th>\n",
              "      <td>0.0</td>\n",
              "      <td>0.999324</td>\n",
              "      <td>[image, image, image, image, image, image, ima...</td>\n",
              "    </tr>\n",
              "    <tr>\n",
              "      <th>265</th>\n",
              "      <td>3.0</td>\n",
              "      <td>0.999308</td>\n",
              "      <td>[u, based, enron, corp, expands, pulp, paper, ...</td>\n",
              "    </tr>\n",
              "    <tr>\n",
              "      <th>280</th>\n",
              "      <td>3.0</td>\n",
              "      <td>0.999228</td>\n",
              "      <td>[financial, express, wednesday, october, anti,...</td>\n",
              "    </tr>\n",
              "  </tbody>\n",
              "</table>\n",
              "</div>"
            ],
            "text/plain": [
              "      Dominant_Topic   % Score  \\\n",
              "442              3.0  0.999637   \n",
              "2081             2.0  0.999631   \n",
              "2087             0.0  0.999324   \n",
              "265              3.0  0.999308   \n",
              "280              3.0  0.999228   \n",
              "\n",
              "                                          Original text  \n",
              "442   [pleased, send, web, based, e, mail, alert, pr...  \n",
              "2081  [unsubscribe, mailing, please, go, money, net,...  \n",
              "2087  [image, image, image, image, image, image, ima...  \n",
              "265   [u, based, enron, corp, expands, pulp, paper, ...  \n",
              "280   [financial, express, wednesday, october, anti,...  "
            ]
          },
          "metadata": {
            "tags": []
          },
          "execution_count": 121
        }
      ]
    },
    {
      "cell_type": "markdown",
      "metadata": {
        "id": "OfzN4lYNDGOl"
      },
      "source": [
        "**Explanation 3/3**\n",
        "\n",
        "* Create a flag with the `np.where()` function to flag all content that has topic 3 as a dominant topic with a 1, and 0 otherwise"
      ]
    },
    {
      "cell_type": "code",
      "metadata": {
        "id": "c5wXtMCEDGOl"
      },
      "source": [
        "# Create flag for text highest associated with topic 3\n",
        "topic_details['flag'] = np.where((topic_details['Dominant_Topic'] == 3.0), 1, 0)"
      ],
      "execution_count": null,
      "outputs": []
    },
    {
      "cell_type": "code",
      "metadata": {
        "id": "C50j6uVhDGOl"
      },
      "source": [
        "topic_details_1 = topic_details[topic_details.flag == 1]"
      ],
      "execution_count": null,
      "outputs": []
    },
    {
      "cell_type": "code",
      "metadata": {
        "id": "wZTf9kNcDGOm",
        "colab": {
          "base_uri": "https://localhost:8080/"
        },
        "outputId": "9170f29f-511d-4098-eafb-7f7ce02e3109"
      },
      "source": [
        "topic_details_1.sort_values(by=['% Score'], ascending=False).head(10)"
      ],
      "execution_count": null,
      "outputs": [
        {
          "output_type": "execute_result",
          "data": {
            "text/html": [
              "<div>\n",
              "<style scoped>\n",
              "    .dataframe tbody tr th:only-of-type {\n",
              "        vertical-align: middle;\n",
              "    }\n",
              "\n",
              "    .dataframe tbody tr th {\n",
              "        vertical-align: top;\n",
              "    }\n",
              "\n",
              "    .dataframe thead th {\n",
              "        text-align: right;\n",
              "    }\n",
              "</style>\n",
              "<table border=\"1\" class=\"dataframe\">\n",
              "  <thead>\n",
              "    <tr style=\"text-align: right;\">\n",
              "      <th></th>\n",
              "      <th>Dominant_Topic</th>\n",
              "      <th>% Score</th>\n",
              "      <th>Original text</th>\n",
              "      <th>flag</th>\n",
              "    </tr>\n",
              "  </thead>\n",
              "  <tbody>\n",
              "    <tr>\n",
              "      <th>154</th>\n",
              "      <td>3.0</td>\n",
              "      <td>0.999957</td>\n",
              "      <td>[joint, venture, enron, meeting, belies, offic...</td>\n",
              "      <td>1</td>\n",
              "    </tr>\n",
              "    <tr>\n",
              "      <th>135</th>\n",
              "      <td>3.0</td>\n",
              "      <td>0.999953</td>\n",
              "      <td>[lawyer, agree, order, safeguard, document, ho...</td>\n",
              "      <td>1</td>\n",
              "    </tr>\n",
              "    <tr>\n",
              "      <th>107</th>\n",
              "      <td>3.0</td>\n",
              "      <td>0.999907</td>\n",
              "      <td>[sample, article, original, message, schmidt, ...</td>\n",
              "      <td>1</td>\n",
              "    </tr>\n",
              "    <tr>\n",
              "      <th>849</th>\n",
              "      <td>3.0</td>\n",
              "      <td>0.999877</td>\n",
              "      <td>[original, message, received, thu, aug, cdt, e...</td>\n",
              "      <td>1</td>\n",
              "    </tr>\n",
              "    <tr>\n",
              "      <th>1782</th>\n",
              "      <td>3.0</td>\n",
              "      <td>0.999790</td>\n",
              "      <td>[national, journal, congressdaily, issue, date...</td>\n",
              "      <td>1</td>\n",
              "    </tr>\n",
              "    <tr>\n",
              "      <th>442</th>\n",
              "      <td>3.0</td>\n",
              "      <td>0.999637</td>\n",
              "      <td>[pleased, send, web, based, e, mail, alert, pr...</td>\n",
              "      <td>1</td>\n",
              "    </tr>\n",
              "    <tr>\n",
              "      <th>265</th>\n",
              "      <td>3.0</td>\n",
              "      <td>0.999308</td>\n",
              "      <td>[u, based, enron, corp, expands, pulp, paper, ...</td>\n",
              "      <td>1</td>\n",
              "    </tr>\n",
              "    <tr>\n",
              "      <th>280</th>\n",
              "      <td>3.0</td>\n",
              "      <td>0.999228</td>\n",
              "      <td>[financial, express, wednesday, october, anti,...</td>\n",
              "      <td>1</td>\n",
              "    </tr>\n",
              "    <tr>\n",
              "      <th>285</th>\n",
              "      <td>3.0</td>\n",
              "      <td>0.999149</td>\n",
              "      <td>[original, message, vann, suzanne, wednesday, ...</td>\n",
              "      <td>1</td>\n",
              "    </tr>\n",
              "    <tr>\n",
              "      <th>226</th>\n",
              "      <td>3.0</td>\n",
              "      <td>0.998985</td>\n",
              "      <td>[trading, alert, current, subscriber, guardian...</td>\n",
              "      <td>1</td>\n",
              "    </tr>\n",
              "  </tbody>\n",
              "</table>\n",
              "</div>"
            ],
            "text/plain": [
              "      Dominant_Topic   % Score  \\\n",
              "154              3.0  0.999957   \n",
              "135              3.0  0.999953   \n",
              "107              3.0  0.999907   \n",
              "849              3.0  0.999877   \n",
              "1782             3.0  0.999790   \n",
              "442              3.0  0.999637   \n",
              "265              3.0  0.999308   \n",
              "280              3.0  0.999228   \n",
              "285              3.0  0.999149   \n",
              "226              3.0  0.998985   \n",
              "\n",
              "                                          Original text  flag  \n",
              "154   [joint, venture, enron, meeting, belies, offic...     1  \n",
              "135   [lawyer, agree, order, safeguard, document, ho...     1  \n",
              "107   [sample, article, original, message, schmidt, ...     1  \n",
              "849   [original, message, received, thu, aug, cdt, e...     1  \n",
              "1782  [national, journal, congressdaily, issue, date...     1  \n",
              "442   [pleased, send, web, based, e, mail, alert, pr...     1  \n",
              "265   [u, based, enron, corp, expands, pulp, paper, ...     1  \n",
              "280   [financial, express, wednesday, october, anti,...     1  \n",
              "285   [original, message, vann, suzanne, wednesday, ...     1  \n",
              "226   [trading, alert, current, subscriber, guardian...     1  "
            ]
          },
          "metadata": {
            "tags": []
          },
          "execution_count": 124
        }
      ]
    },
    {
      "cell_type": "markdown",
      "metadata": {
        "id": "Q8jpJ26uDGOm"
      },
      "source": [
        "**You have now flagged all data that is highest associated with topic 3, that seems to cover internal conversation about enron stock options. You are a true detective. With these exercises you have demonstrated that text mining and topic modeling can be a powerful tool for fraud detection.**"
      ]
    },
    {
      "cell_type": "markdown",
      "metadata": {
        "id": "HcPRWNl9DGOm"
      },
      "source": [
        "## InShort"
      ]
    },
    {
      "cell_type": "markdown",
      "metadata": {
        "id": "SapzG9TFDGOm"
      },
      "source": [
        "### Working with imbalanced data\n",
        "\n",
        "* Worked with highly imbalanced fraud data\n",
        "* Learned how to resample your data\n",
        "* Learned about different resampling methods"
      ]
    },
    {
      "cell_type": "markdown",
      "metadata": {
        "id": "UCnRMJAmDGOm"
      },
      "source": [
        "### Fraud detection with labeled data\n",
        "\n",
        "* Refreshed supervised learning techniques to detect fraud\n",
        "* Learned how to get reliable performance metrics and worked with the precision recall trade-off\n",
        "* Explored how to optimize your model parameters to handle fraud data\n",
        "* Applied ensemble methods to fraud detection"
      ]
    },
    {
      "cell_type": "markdown",
      "metadata": {
        "id": "fjP9u0tWDGOm"
      },
      "source": [
        "### Fraud detection without labels\n",
        "\n",
        "* Learned about the importance of segmentation\n",
        "* Refreshed your knowledge on clustering methods\n",
        "* Learned how to detect fraud using outliers and small clusters with K-means clustering\n",
        "* Applied a DB-scan clustering model for fraud detection"
      ]
    },
    {
      "cell_type": "markdown",
      "metadata": {
        "id": "FSf5N_sNDGOn"
      },
      "source": [
        "### Text mining for fraud detection\n",
        "\n",
        "* Know how to augment fraud detection analysis with text mining techniques\n",
        "* Applied word searches to flag use of certain words, and learned how to apply topic modeling for fraud detection\n",
        "* Learned how to effectively clean messy text data"
      ]
    },
    {
      "cell_type": "markdown",
      "metadata": {
        "id": "_qEWeoGaDGOn"
      },
      "source": [
        "### Future Works for fraud detection\n",
        "\n",
        "* Network analysis to detect fraud\n",
        "* Different supervised and unsupervised learning techniques (e.g. Neural Networks)\n",
        "* Working with very large data"
      ]
    }
  ]
}